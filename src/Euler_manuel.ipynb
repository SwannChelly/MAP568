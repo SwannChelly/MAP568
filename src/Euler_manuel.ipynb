{
 "cells": [
  {
   "cell_type": "code",
   "execution_count": null,
   "metadata": {},
   "outputs": [],
   "source": [
    "def euler_one_step(S,I_moins,I_plus,R_moins,R_plus_I,H,U,R_plus_H,D,D_R,i,constants,variables, deltaT):\n",
    "    S_1        = S-constants['tau'][i]*S*I_moins*deltaT\n",
    "    I_moins_1  = I_moins + (constants['tau'][i]*S*I_moins-variables['lambda_1']*I_moins-(constants['gamma_IR']+constants['gamma_IH']+constants['gamma_IU'])*I_moins)*deltaT\n",
    "    I_plus_1   = I_plus +(variables['lambda_1']*I_moins-(constants['gamma_IR']+constants['gamma_IH']+constants['gamma_IU'])*I_plus)*deltaT\n",
    "    R_moins_1  = R_moins +(constants['gamma_IR']*I_moins)*deltaT\n",
    "    R_plus_I_1 = R_plus_I + (constants['gamma_IR']*I_plus)*deltaT\n",
    "    H_1        = H + (constants['gamma_IH']*(I_moins + I_plus)-(constants['gamma_HR']+constants['gamma_HD']+constants['gamma_HU'])*H)*deltaT\n",
    "    U_1        = U + (constants['gamma_IU']*(I_moins + I_plus)+constants['gamma_HU']*H-(constants['gamma_UR'] + constants['gamma_UD'])*U)*deltaT\n",
    "    R_plus_H_1 = R_plus_H+ (constants['gamma_HR']*H+constants['gamma_UR']*U)*deltaT\n",
    "    D_1        = D + (constants['gamma_UD']*U+constants['gamma_HD']*H)*deltaT  \n",
    "    D_R_1      = D_R +((variables['lambda_1']+constants['gamma_IH']+constants['gamma_IU'])*I_moins-D_R)*deltaT\n",
    "    \n",
    "    \n",
    "    return(S_1,I_moins_1,I_plus_1,R_moins_1,R_plus_I_1,H_1,U_1,R_plus_H_1,D_1,D_R_1)\n",
    "\n",
    "\n",
    "def resolution_systeme(deltaT,constants, variables, set_size = global_constants['set_size']):\n",
    "    Res = np.zeros((10,set_size))\n",
    "    Res[0,0] = global_constants['S_0']\n",
    "    Res[1,0] = variables['I_moins_0']\n",
    "    \n",
    "    for i in range(1,set_size):\n",
    "        Res[:,i] = euler_one_step(Res[0,i-1],Res[1,i-1],Res[2,i-1],Res[3,i-1],Res[4,i-1],Res[5,i-1],Res[6,i-1],Res[7,i-1],Res[8,i-1],Res[9,i-1],i,constants, variables, deltaT)\n",
    " \n",
    "    return Res\n",
    "\n",
    "\n"
   ]
  }
 ],
 "metadata": {
  "kernelspec": {
   "display_name": "Python 3",
   "language": "python",
   "name": "python3"
  },
  "language_info": {
   "codemirror_mode": {
    "name": "ipython",
    "version": 3
   },
   "file_extension": ".py",
   "mimetype": "text/x-python",
   "name": "python",
   "nbconvert_exporter": "python",
   "pygments_lexer": "ipython3",
   "version": "3.8.5"
  }
 },
 "nbformat": 4,
 "nbformat_minor": 4
}
