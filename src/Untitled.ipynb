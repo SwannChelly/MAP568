{
 "cells": [
  {
   "cell_type": "code",
   "execution_count": 91,
   "metadata": {},
   "outputs": [],
   "source": [
    "import numpy as np\n",
    "from constant import *\n",
    "from utils import *\n",
    "import matplotlib.pyplot as plt\n"
   ]
  },
  {
   "cell_type": "code",
   "execution_count": 84,
   "metadata": {},
   "outputs": [],
   "source": [
    "def euler_one_step(S,I_moins,I_plus,R_moins,R_plus_I,H,U,R_plus_H,D,D_R,i,cst):\n",
    "    S_1        = S-cst['tau'][i]*S*I_moins*deltaT\n",
    "    I_moins_1  = I_moins + (cst['tau'][i]*S*I_moins-cst['lambda_1']*I_moins-(cst['gamma_IR']+cst['gamma_IH']+cst['gamma_IU'])*I_moins)*deltaT\n",
    "    I_plus_1   = I_plus +(cst['lambda_1']*I_moins-(cst['gamma_IR']+cst['gamma_IH']+cst['gamma_IU'])*I_plus)*deltaT\n",
    "    R_moins_1  = R_moins +(cst['gamma_IR']*I_moins-cst['lambda_2']*R_moins)*deltaT\n",
    "    R_plus_I_1 = R_plus_I + (cst['gamma_IR']*I_plus+cst['lambda_2']*R_moins)*deltaT\n",
    "    H_1        = H + (cst['gamma_IH']*(I_moins + I_plus)-(cst['gamma_HR']+cst['gamma_HD']+cst['gamma_HU'])*H)*deltaT\n",
    "    U_1        = U + (cst['gamma_IU']*(I_moins + I_plus)+cst['gamma_HU']*H-(cst['gamma_UR'] + cst['gamma_UD'])*U)*deltaT\n",
    "    R_plus_H_1 = R_plus_H+ (cst['gamma_HR']*H+cst['gamma_UR']*U)*deltaT\n",
    "    D_1        = D + (cst['gamma_UD']*U+cst['gamma_HD']*H)*deltaT  \n",
    "    D_R_1      = D_R +((cst['lambda_1']+cst['gamma_IH']+cst['gamma_IU'])*I_moins-D_R)*deltaT\n",
    "    \n",
    "    \n",
    "    return(S_1,I_moins_1,I_plus_1,R_moins_1,R_plus_I_1,H_1,U_1,R_plus_H_1,D_1,D_R_1)\n",
    "\n",
    "\n",
    "def resolution_systeme(set_size, deltaT,cst):\n",
    "    Res = np.zeros((N_VARIABLE,set_size))\n",
    "    Res[0,0] = cst['S_0'] - cst['I_moins_0']\n",
    "    Res[1,0] = cst['I_moins_0']\n",
    "    \n",
    "    for i in range(1,set_size):\n",
    "        Res[:,i] = euler_one_step(Res[0,i-1],Res[1,i-1],Res[2,i-1],Res[3,i-1],Res[4,i-1],Res[5,i-1],Res[6,i-1],Res[7,i-1],Res[8,i-1],Res[9,i-1],i,cst)\n",
    " \n",
    "    return Res\n"
   ]
  },
  {
   "cell_type": "code",
   "execution_count": 85,
   "metadata": {},
   "outputs": [],
   "source": [
    "def Monte_Carlo(M):\n",
    "    peak_value,peak_day = [],[]\n",
    "    \n",
    "    for i in range(M):\n",
    "        cst = init_constant()\n",
    "        try : \n",
    "            results = resolution_systeme(set_size,deltaT,cst)\n",
    "            peak_value.append(np.max(results[6,:]))\n",
    "            peak_day.append(int(np.argmax(list(results[6,:]))*deltaT))\n",
    "        except:\n",
    "            print(f\"Try n°{i} failed\")\n",
    "    return peak_value,peak_day\n",
    "    "
   ]
  },
  {
   "cell_type": "code",
   "execution_count": 89,
   "metadata": {},
   "outputs": [
    {
     "name": "stderr",
     "output_type": "stream",
     "text": [
      "<ipython-input-84-eec21e7d58d8>:2: RuntimeWarning: overflow encountered in double_scalars\n",
      "  S_1        = S-cst['tau'][i]*S*I_moins*deltaT\n",
      "<ipython-input-84-eec21e7d58d8>:3: RuntimeWarning: overflow encountered in double_scalars\n",
      "  I_moins_1  = I_moins + (cst['tau'][i]*S*I_moins-cst['lambda_1']*I_moins-(cst['gamma_IR']+cst['gamma_IH']+cst['gamma_IU'])*I_moins)*deltaT\n",
      "<ipython-input-84-eec21e7d58d8>:3: RuntimeWarning: invalid value encountered in double_scalars\n",
      "  I_moins_1  = I_moins + (cst['tau'][i]*S*I_moins-cst['lambda_1']*I_moins-(cst['gamma_IR']+cst['gamma_IH']+cst['gamma_IU'])*I_moins)*deltaT\n",
      "<ipython-input-84-eec21e7d58d8>:5: RuntimeWarning: invalid value encountered in double_scalars\n",
      "  R_moins_1  = R_moins +(cst['gamma_IR']*I_moins-cst['lambda_2']*R_moins)*deltaT\n",
      "<ipython-input-84-eec21e7d58d8>:6: RuntimeWarning: invalid value encountered in double_scalars\n",
      "  R_plus_I_1 = R_plus_I + (cst['gamma_IR']*I_plus+cst['lambda_2']*R_moins)*deltaT\n"
     ]
    }
   ],
   "source": [
    "a = Monte_Carlo(10000)"
   ]
  },
  {
   "cell_type": "code",
   "execution_count": 101,
   "metadata": {},
   "outputs": [],
   "source": [
    "peak_value,peak_day = a[0],a[1]"
   ]
  },
  {
   "cell_type": "code",
   "execution_count": 102,
   "metadata": {},
   "outputs": [],
   "source": [
    "peak_value=np.array(peak_value)\n",
    "peak_day  =np.array(peak_day)"
   ]
  },
  {
   "cell_type": "code",
   "execution_count": 106,
   "metadata": {},
   "outputs": [
    {
     "data": {
      "text/plain": [
       "(array([ 88.,  38.,  14.,  25.,  13.,  21.,  12.,   6.,  14.,   6.,   8.,\n",
       "          7.,  11.,  11.,   7.,   7.,   6.,   6.,   8.,  10.,   5.,   7.,\n",
       "         10.,   6.,   7.,   8.,  13.,   8.,   9.,   8.,   8.,   9.,   3.,\n",
       "          7.,  13.,  10.,   9.,  12.,   7.,  11.,  16.,   9.,   8.,  11.,\n",
       "         15.,  15.,  16.,  18.,  24.,  17.,  16.,  26.,  22.,  24.,  23.,\n",
       "         28.,  30.,  46.,  40.,  35.,  37.,  38.,  46.,  60.,  62.,  71.,\n",
       "         80.,  73.,  85.,  96., 108., 109., 145., 153., 193., 235., 247.,\n",
       "        265., 289., 305., 352., 323., 409., 465., 435., 429., 407., 417.,\n",
       "        471., 425., 410., 362., 347., 326., 245., 183., 176., 116.,  48.,\n",
       "         18.]),\n",
       " array([1.41975647e+03, 1.69630903e+05, 3.37842050e+05, 5.06053196e+05,\n",
       "        6.74264343e+05, 8.42475489e+05, 1.01068664e+06, 1.17889778e+06,\n",
       "        1.34710893e+06, 1.51532008e+06, 1.68353122e+06, 1.85174237e+06,\n",
       "        2.01995351e+06, 2.18816466e+06, 2.35637581e+06, 2.52458695e+06,\n",
       "        2.69279810e+06, 2.86100925e+06, 3.02922039e+06, 3.19743154e+06,\n",
       "        3.36564269e+06, 3.53385383e+06, 3.70206498e+06, 3.87027613e+06,\n",
       "        4.03848727e+06, 4.20669842e+06, 4.37490957e+06, 4.54312071e+06,\n",
       "        4.71133186e+06, 4.87954301e+06, 5.04775415e+06, 5.21596530e+06,\n",
       "        5.38417645e+06, 5.55238759e+06, 5.72059874e+06, 5.88880989e+06,\n",
       "        6.05702103e+06, 6.22523218e+06, 6.39344332e+06, 6.56165447e+06,\n",
       "        6.72986562e+06, 6.89807676e+06, 7.06628791e+06, 7.23449906e+06,\n",
       "        7.40271020e+06, 7.57092135e+06, 7.73913250e+06, 7.90734364e+06,\n",
       "        8.07555479e+06, 8.24376594e+06, 8.41197708e+06, 8.58018823e+06,\n",
       "        8.74839938e+06, 8.91661052e+06, 9.08482167e+06, 9.25303282e+06,\n",
       "        9.42124396e+06, 9.58945511e+06, 9.75766626e+06, 9.92587740e+06,\n",
       "        1.00940885e+07, 1.02622997e+07, 1.04305108e+07, 1.05987220e+07,\n",
       "        1.07669331e+07, 1.09351443e+07, 1.11033554e+07, 1.12715666e+07,\n",
       "        1.14397777e+07, 1.16079889e+07, 1.17762000e+07, 1.19444112e+07,\n",
       "        1.21126223e+07, 1.22808335e+07, 1.24490446e+07, 1.26172557e+07,\n",
       "        1.27854669e+07, 1.29536780e+07, 1.31218892e+07, 1.32901003e+07,\n",
       "        1.34583115e+07, 1.36265226e+07, 1.37947338e+07, 1.39629449e+07,\n",
       "        1.41311561e+07, 1.42993672e+07, 1.44675784e+07, 1.46357895e+07,\n",
       "        1.48040007e+07, 1.49722118e+07, 1.51404229e+07, 1.53086341e+07,\n",
       "        1.54768452e+07, 1.56450564e+07, 1.58132675e+07, 1.59814787e+07,\n",
       "        1.61496898e+07, 1.63179010e+07, 1.64861121e+07, 1.66543233e+07,\n",
       "        1.68225344e+07]),\n",
       " <BarContainer object of 100 artists>)"
      ]
     },
     "execution_count": 106,
     "metadata": {},
     "output_type": "execute_result"
    },
    {
     "data": {
      "image/png": "[encoded data removed]",
      "text/plain": [
       "<Figure size 432x288 with 1 Axes>"
      ]
     },
     "metadata": {
      "needs_background": "light"
     },
     "output_type": "display_data"
    }
   ],
   "source": [
    "plt.hist(peak_value,bins = 100)"
   ]
  },
  {
   "cell_type": "code",
   "execution_count": 107,
   "metadata": {},
   "outputs": [
    {
     "data": {
      "text/plain": [
       "(array([  1.,  11.,   0.,   0.,   0.,   0.,   0.,   0.,   0.,  78., 387.,\n",
       "          0., 744.,   0., 774.,   0., 781.,   0., 653.,   0., 540., 540.,\n",
       "          0., 522.,   0., 494.,   0., 435.,   0., 404., 374.,   0., 345.,\n",
       "          0., 328.,   0., 285.,   0., 290.,   0., 261., 209.,   0., 195.,\n",
       "          0., 197.,   0., 181.,   0., 153., 113.,   0., 106.,   0., 106.,\n",
       "          0.,  90.,   0.,  82.,   0.,  71.,  53.,   0.,  41.,   0.,  38.,\n",
       "          0.,  28.,   0.,  13.,  15.,   0.,  17.,   0.,  11.,   0.,   2.,\n",
       "          0.,  12.,   0.,   6.,   7.,   0.,   3.,   0.,   1.,   0.,   0.,\n",
       "          0.,   1.,   0.,   0.,   0.,   0.,   0.,   0.,   0.,   0.,   1.,\n",
       "          1.]),\n",
       " array([ 1.  ,  1.55,  2.1 ,  2.65,  3.2 ,  3.75,  4.3 ,  4.85,  5.4 ,\n",
       "         5.95,  6.5 ,  7.05,  7.6 ,  8.15,  8.7 ,  9.25,  9.8 , 10.35,\n",
       "        10.9 , 11.45, 12.  , 12.55, 13.1 , 13.65, 14.2 , 14.75, 15.3 ,\n",
       "        15.85, 16.4 , 16.95, 17.5 , 18.05, 18.6 , 19.15, 19.7 , 20.25,\n",
       "        20.8 , 21.35, 21.9 , 22.45, 23.  , 23.55, 24.1 , 24.65, 25.2 ,\n",
       "        25.75, 26.3 , 26.85, 27.4 , 27.95, 28.5 , 29.05, 29.6 , 30.15,\n",
       "        30.7 , 31.25, 31.8 , 32.35, 32.9 , 33.45, 34.  , 34.55, 35.1 ,\n",
       "        35.65, 36.2 , 36.75, 37.3 , 37.85, 38.4 , 38.95, 39.5 , 40.05,\n",
       "        40.6 , 41.15, 41.7 , 42.25, 42.8 , 43.35, 43.9 , 44.45, 45.  ,\n",
       "        45.55, 46.1 , 46.65, 47.2 , 47.75, 48.3 , 48.85, 49.4 , 49.95,\n",
       "        50.5 , 51.05, 51.6 , 52.15, 52.7 , 53.25, 53.8 , 54.35, 54.9 ,\n",
       "        55.45, 56.  ]),\n",
       " <BarContainer object of 100 artists>)"
      ]
     },
     "execution_count": 107,
     "metadata": {},
     "output_type": "execute_result"
    },
    {
     "data": {
      "image/png": "[encoded data removed]",
      "text/plain": [
       "<Figure size 432x288 with 1 Axes>"
      ]
     },
     "metadata": {
      "needs_background": "light"
     },
     "output_type": "display_data"
    }
   ],
   "source": [
    "\n",
    "plt.hist(peak_day,bins = 100)"
   ]
  },
  {
   "cell_type": "code",
   "execution_count": null,
   "metadata": {},
   "outputs": [],
   "source": []
  }
 ],
 "metadata": {
  "kernelspec": {
   "display_name": "Python 3",
   "language": "python",
   "name": "python3"
  },
  "language_info": {
   "codemirror_mode": {
    "name": "ipython",
    "version": 3
   },
   "file_extension": ".py",
   "mimetype": "text/x-python",
   "name": "python",
   "nbconvert_exporter": "python",
   "pygments_lexer": "ipython3",
   "version": "3.8.5"
  }
 },
 "nbformat": 4,
 "nbformat_minor": 4
}
