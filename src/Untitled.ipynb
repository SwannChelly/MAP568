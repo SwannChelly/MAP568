{
 "cells": [
  {
   "cell_type": "code",
   "execution_count": 17,
   "metadata": {},
   "outputs": [],
   "source": [
    "import numpy as np\n",
    "from constant import *\n",
    "from utils import *\n",
    "import matplotlib.pyplot as plt\n"
   ]
  },
  {
   "cell_type": "code",
   "execution_count": 18,
   "metadata": {},
   "outputs": [],
   "source": [
    "def euler_one_step(S,I_moins,I_plus,R_moins,R_plus_I,H,U,R_plus_H,D,D_R,i,cst):\n",
    "    S_1        = S-cst['tau'][i]*S*I_moins*deltaT\n",
    "    I_moins_1  = I_moins + (cst['tau'][i]*S*I_moins-cst['lambda_1']*I_moins-(cst['gamma_IR']+cst['gamma_IH']+cst['gamma_IU'])*I_moins)*deltaT\n",
    "    I_plus_1   = I_plus +(cst['lambda_1']*I_moins-(cst['gamma_IR']+cst['gamma_IH']+cst['gamma_IU'])*I_plus)*deltaT\n",
    "    R_moins_1  = R_moins +(cst['gamma_IR']*I_moins-cst['lambda_2']*R_moins)*deltaT\n",
    "    R_plus_I_1 = R_plus_I + (cst['gamma_IR']*I_plus+cst['lambda_2']*R_moins)*deltaT\n",
    "    H_1        = H + (cst['gamma_IH']*(I_moins + I_plus)-(cst['gamma_HR']+cst['gamma_HD']+cst['gamma_HU'])*H)*deltaT\n",
    "    U_1        = U + (cst['gamma_IU']*(I_moins + I_plus)+cst['gamma_HU']*H-(cst['gamma_UR'] + cst['gamma_UD'])*U)*deltaT\n",
    "    R_plus_H_1 = R_plus_H+ (cst['gamma_HR']*H+cst['gamma_UR']*U)*deltaT\n",
    "    D_1        = D + (cst['gamma_UD']*U+cst['gamma_HD']*H)*deltaT  \n",
    "    D_R_1      = D_R +((cst['lambda_1']+cst['gamma_IH']+cst['gamma_IU'])*I_moins-D_R)*deltaT\n",
    "    \n",
    "    \n",
    "    return(S_1,I_moins_1,I_plus_1,R_moins_1,R_plus_I_1,H_1,U_1,R_plus_H_1,D_1,D_R_1)\n",
    "\n",
    "\n",
    "def resolution_systeme(set_size, deltaT,cst):\n",
    "    Res = np.zeros((N_VARIABLE,set_size))\n",
    "    Res[0,0] = cst['S_0'] \n",
    "    Res[1,0] = cst['I_moins_0']\n",
    "    \n",
    "    for i in range(1,set_size):\n",
    "        Res[:,i] = euler_one_step(Res[0,i-1],Res[1,i-1],Res[2,i-1],Res[3,i-1],Res[4,i-1],Res[5,i-1],Res[6,i-1],Res[7,i-1],Res[8,i-1],Res[9,i-1],i,cst)\n",
    " \n",
    "    return Res\n"
   ]
  },
  {
   "cell_type": "code",
   "execution_count": 3,
   "metadata": {},
   "outputs": [],
   "source": [
    "def Monte_Carlo(M):\n",
    "    peak_value,peak_day, pos = [],[], []\n",
    "    \n",
    "    for i in range(M):\n",
    "        cst = init_constant()\n",
    "        try : \n",
    "            results = resolution_systeme(set_size,deltaT,cst)\n",
    "            peak_value.append(np.max(results[6,:]))\n",
    "            peak_day.append(int(np.argmax(list(results[6,:]))*deltaT))\n",
    "            pos.append(np.max(results[2,:]))\n",
    "        except:\n",
    "            print(f\"Try n°{i} failed\")\n",
    "    return peak_value,peak_day, pos\n",
    "    "
   ]
  },
  {
   "cell_type": "code",
   "execution_count": 4,
   "metadata": {},
   "outputs": [],
   "source": [
    "a = Monte_Carlo(10000)"
   ]
  },
  {
   "cell_type": "code",
   "execution_count": 5,
   "metadata": {},
   "outputs": [],
   "source": [
    "peak_value,peak_day, pos = a[0],a[1],a[2]"
   ]
  },
  {
   "cell_type": "code",
   "execution_count": 6,
   "metadata": {},
   "outputs": [],
   "source": [
    "peak_value=np.array(peak_value)\n",
    "peak_day  =np.array(peak_day)\n",
    "pos = np.array(pos)"
   ]
  },
  {
   "cell_type": "code",
   "execution_count": 7,
   "metadata": {},
   "outputs": [
    {
     "data": {
      "text/plain": [
       "(array([6.075e+03, 7.770e+02, 4.200e+02, 2.590e+02, 2.240e+02, 1.920e+02,\n",
       "        1.570e+02, 1.230e+02, 1.340e+02, 1.080e+02, 9.800e+01, 1.010e+02,\n",
       "        8.000e+01, 8.700e+01, 6.800e+01, 6.800e+01, 5.400e+01, 5.800e+01,\n",
       "        5.300e+01, 5.200e+01, 5.300e+01, 4.500e+01, 3.100e+01, 3.700e+01,\n",
       "        4.400e+01, 3.100e+01, 2.800e+01, 3.400e+01, 3.400e+01, 2.500e+01,\n",
       "        1.500e+01, 3.300e+01, 1.800e+01, 2.300e+01, 2.200e+01, 1.800e+01,\n",
       "        2.700e+01, 2.200e+01, 2.000e+01, 1.500e+01, 1.900e+01, 1.500e+01,\n",
       "        1.400e+01, 1.300e+01, 1.000e+01, 1.200e+01, 6.000e+00, 9.000e+00,\n",
       "        1.000e+01, 1.100e+01, 4.000e+00, 6.000e+00, 1.000e+01, 9.000e+00,\n",
       "        6.000e+00, 1.000e+00, 3.000e+00, 4.000e+00, 4.000e+00, 6.000e+00,\n",
       "        6.000e+00, 3.000e+00, 8.000e+00, 5.000e+00, 4.000e+00, 2.000e+00,\n",
       "        2.000e+00, 3.000e+00, 1.000e+00, 2.000e+00, 2.000e+00, 1.000e+00,\n",
       "        1.000e+00, 3.000e+00, 1.000e+00, 0.000e+00, 1.000e+00, 2.000e+00,\n",
       "        0.000e+00, 0.000e+00, 5.000e+00, 2.000e+00, 0.000e+00, 1.000e+00,\n",
       "        0.000e+00, 0.000e+00, 2.000e+00, 2.000e+00, 1.000e+00, 0.000e+00,\n",
       "        0.000e+00, 0.000e+00, 1.000e+00, 1.000e+00, 0.000e+00, 1.000e+00,\n",
       "        0.000e+00, 1.000e+00, 0.000e+00, 1.000e+00]),\n",
       " array([6.64166148e-02, 6.17451873e+03, 1.23489711e+04, 1.85234234e+04,\n",
       "        2.46978757e+04, 3.08723280e+04, 3.70467803e+04, 4.32212326e+04,\n",
       "        4.93956850e+04, 5.55701373e+04, 6.17445896e+04, 6.79190419e+04,\n",
       "        7.40934942e+04, 8.02679466e+04, 8.64423989e+04, 9.26168512e+04,\n",
       "        9.87913035e+04, 1.04965756e+05, 1.11140208e+05, 1.17314660e+05,\n",
       "        1.23489113e+05, 1.29663565e+05, 1.35838017e+05, 1.42012470e+05,\n",
       "        1.48186922e+05, 1.54361374e+05, 1.60535827e+05, 1.66710279e+05,\n",
       "        1.72884731e+05, 1.79059184e+05, 1.85233636e+05, 1.91408088e+05,\n",
       "        1.97582541e+05, 2.03756993e+05, 2.09931445e+05, 2.16105898e+05,\n",
       "        2.22280350e+05, 2.28454802e+05, 2.34629255e+05, 2.40803707e+05,\n",
       "        2.46978159e+05, 2.53152611e+05, 2.59327064e+05, 2.65501516e+05,\n",
       "        2.71675968e+05, 2.77850421e+05, 2.84024873e+05, 2.90199325e+05,\n",
       "        2.96373778e+05, 3.02548230e+05, 3.08722682e+05, 3.14897135e+05,\n",
       "        3.21071587e+05, 3.27246039e+05, 3.33420492e+05, 3.39594944e+05,\n",
       "        3.45769396e+05, 3.51943849e+05, 3.58118301e+05, 3.64292753e+05,\n",
       "        3.70467206e+05, 3.76641658e+05, 3.82816110e+05, 3.88990562e+05,\n",
       "        3.95165015e+05, 4.01339467e+05, 4.07513919e+05, 4.13688372e+05,\n",
       "        4.19862824e+05, 4.26037276e+05, 4.32211729e+05, 4.38386181e+05,\n",
       "        4.44560633e+05, 4.50735086e+05, 4.56909538e+05, 4.63083990e+05,\n",
       "        4.69258443e+05, 4.75432895e+05, 4.81607347e+05, 4.87781800e+05,\n",
       "        4.93956252e+05, 5.00130704e+05, 5.06305157e+05, 5.12479609e+05,\n",
       "        5.18654061e+05, 5.24828513e+05, 5.31002966e+05, 5.37177418e+05,\n",
       "        5.43351870e+05, 5.49526323e+05, 5.55700775e+05, 5.61875227e+05,\n",
       "        5.68049680e+05, 5.74224132e+05, 5.80398584e+05, 5.86573037e+05,\n",
       "        5.92747489e+05, 5.98921941e+05, 6.05096394e+05, 6.11270846e+05,\n",
       "        6.17445298e+05]),\n",
       " <BarContainer object of 100 artists>)"
      ]
     },
     "execution_count": 7,
     "metadata": {},
     "output_type": "execute_result"
    },
    {
     "data": {
      "image/png": "[encoded data removed]",
      "text/plain": [
       "<Figure size 432x288 with 1 Axes>"
      ]
     },
     "metadata": {
      "needs_background": "light"
     },
     "output_type": "display_data"
    }
   ],
   "source": [
    "plt.hist(peak_value,bins = 100)"
   ]
  },
  {
   "cell_type": "code",
   "execution_count": 8,
   "metadata": {},
   "outputs": [
    {
     "data": {
      "text/plain": [
       "(array([  1.,   1.,   4.,   0.,   2.,   4.,  12.,   0.,   9.,  13.,   0.,\n",
       "         30.,  25.,  35.,   0.,  39.,  51.,   0.,  62.,  62.,  61.,   0.,\n",
       "         96.,  95.,   0.,  92., 122., 118.,   0., 112., 143., 143.,   0.,\n",
       "        168., 170.,   0., 170., 176., 211.,   0., 174., 221.,   0., 211.,\n",
       "        185., 211.,   0., 206., 231.,   0., 254., 259., 260.,   0., 270.,\n",
       "        261., 242.,   0., 246., 235.,   0., 222., 209., 248.,   0., 218.,\n",
       "        190.,   0., 193., 181., 181.,   0., 193., 160.,   0., 166., 126.,\n",
       "        124.,   0., 145., 120., 122.,   0.,  92.,  89.,   0.,  84.,  93.,\n",
       "         81.,   0.,  63.,  74.,   0.,  67.,  58.,  58.,   0.,  58.,  59.,\n",
       "        633.]),\n",
       " array([27.  , 27.72, 28.44, 29.16, 29.88, 30.6 , 31.32, 32.04, 32.76,\n",
       "        33.48, 34.2 , 34.92, 35.64, 36.36, 37.08, 37.8 , 38.52, 39.24,\n",
       "        39.96, 40.68, 41.4 , 42.12, 42.84, 43.56, 44.28, 45.  , 45.72,\n",
       "        46.44, 47.16, 47.88, 48.6 , 49.32, 50.04, 50.76, 51.48, 52.2 ,\n",
       "        52.92, 53.64, 54.36, 55.08, 55.8 , 56.52, 57.24, 57.96, 58.68,\n",
       "        59.4 , 60.12, 60.84, 61.56, 62.28, 63.  , 63.72, 64.44, 65.16,\n",
       "        65.88, 66.6 , 67.32, 68.04, 68.76, 69.48, 70.2 , 70.92, 71.64,\n",
       "        72.36, 73.08, 73.8 , 74.52, 75.24, 75.96, 76.68, 77.4 , 78.12,\n",
       "        78.84, 79.56, 80.28, 81.  , 81.72, 82.44, 83.16, 83.88, 84.6 ,\n",
       "        85.32, 86.04, 86.76, 87.48, 88.2 , 88.92, 89.64, 90.36, 91.08,\n",
       "        91.8 , 92.52, 93.24, 93.96, 94.68, 95.4 , 96.12, 96.84, 97.56,\n",
       "        98.28, 99.  ]),\n",
       " <BarContainer object of 100 artists>)"
      ]
     },
     "execution_count": 8,
     "metadata": {},
     "output_type": "execute_result"
    },
    {
     "data": {
      "image/png": "[encoded data removed]",
      "text/plain": [
       "<Figure size 432x288 with 1 Axes>"
      ]
     },
     "metadata": {
      "needs_background": "light"
     },
     "output_type": "display_data"
    }
   ],
   "source": [
    "\n",
    "plt.hist(peak_day,bins = 100)"
   ]
  },
  {
   "cell_type": "code",
   "execution_count": 9,
   "metadata": {},
   "outputs": [
    {
     "data": {
      "text/plain": [
       "(array([5.795e+03, 7.810e+02, 4.420e+02, 3.020e+02, 2.520e+02, 1.820e+02,\n",
       "        1.850e+02, 1.500e+02, 1.220e+02, 1.040e+02, 8.900e+01, 8.500e+01,\n",
       "        7.900e+01, 8.400e+01, 6.900e+01, 6.100e+01, 5.800e+01, 5.700e+01,\n",
       "        5.100e+01, 6.200e+01, 5.000e+01, 5.700e+01, 4.000e+01, 3.000e+01,\n",
       "        3.100e+01, 3.300e+01, 2.700e+01, 2.300e+01, 3.500e+01, 2.400e+01,\n",
       "        2.900e+01, 3.000e+01, 2.200e+01, 2.800e+01, 3.000e+01, 2.700e+01,\n",
       "        2.800e+01, 1.800e+01, 1.800e+01, 2.000e+01, 2.100e+01, 1.800e+01,\n",
       "        1.700e+01, 2.700e+01, 1.600e+01, 1.400e+01, 1.400e+01, 1.400e+01,\n",
       "        2.200e+01, 1.800e+01, 1.200e+01, 1.200e+01, 1.200e+01, 1.000e+01,\n",
       "        6.000e+00, 1.200e+01, 6.000e+00, 4.000e+00, 1.200e+01, 1.000e+01,\n",
       "        1.000e+01, 3.000e+00, 7.000e+00, 4.000e+00, 1.000e+01, 5.000e+00,\n",
       "        1.000e+01, 7.000e+00, 4.000e+00, 6.000e+00, 3.000e+00, 2.000e+00,\n",
       "        2.000e+00, 2.000e+00, 2.000e+00, 7.000e+00, 7.000e+00, 3.000e+00,\n",
       "        0.000e+00, 3.000e+00, 1.000e+00, 2.000e+00, 1.000e+00, 4.000e+00,\n",
       "        3.000e+00, 0.000e+00, 0.000e+00, 0.000e+00, 0.000e+00, 3.000e+00,\n",
       "        0.000e+00, 0.000e+00, 1.000e+00, 0.000e+00, 0.000e+00, 0.000e+00,\n",
       "        0.000e+00, 0.000e+00, 0.000e+00, 1.000e+00]),\n",
       " array([1.50926246e-02, 1.43529798e+03, 2.87058087e+03, 4.30586376e+03,\n",
       "        5.74114664e+03, 7.17642953e+03, 8.61171242e+03, 1.00469953e+04,\n",
       "        1.14822782e+04, 1.29175611e+04, 1.43528440e+04, 1.57881269e+04,\n",
       "        1.72234097e+04, 1.86586926e+04, 2.00939755e+04, 2.15292584e+04,\n",
       "        2.29645413e+04, 2.43998242e+04, 2.58351071e+04, 2.72703900e+04,\n",
       "        2.87056728e+04, 3.01409557e+04, 3.15762386e+04, 3.30115215e+04,\n",
       "        3.44468044e+04, 3.58820873e+04, 3.73173702e+04, 3.87526531e+04,\n",
       "        4.01879359e+04, 4.16232188e+04, 4.30585017e+04, 4.44937846e+04,\n",
       "        4.59290675e+04, 4.73643504e+04, 4.87996333e+04, 5.02349162e+04,\n",
       "        5.16701990e+04, 5.31054819e+04, 5.45407648e+04, 5.59760477e+04,\n",
       "        5.74113306e+04, 5.88466135e+04, 6.02818964e+04, 6.17171793e+04,\n",
       "        6.31524621e+04, 6.45877450e+04, 6.60230279e+04, 6.74583108e+04,\n",
       "        6.88935937e+04, 7.03288766e+04, 7.17641595e+04, 7.31994424e+04,\n",
       "        7.46347252e+04, 7.60700081e+04, 7.75052910e+04, 7.89405739e+04,\n",
       "        8.03758568e+04, 8.18111397e+04, 8.32464226e+04, 8.46817055e+04,\n",
       "        8.61169883e+04, 8.75522712e+04, 8.89875541e+04, 9.04228370e+04,\n",
       "        9.18581199e+04, 9.32934028e+04, 9.47286857e+04, 9.61639686e+04,\n",
       "        9.75992514e+04, 9.90345343e+04, 1.00469817e+05, 1.01905100e+05,\n",
       "        1.03340383e+05, 1.04775666e+05, 1.06210949e+05, 1.07646232e+05,\n",
       "        1.09081515e+05, 1.10516797e+05, 1.11952080e+05, 1.13387363e+05,\n",
       "        1.14822646e+05, 1.16257929e+05, 1.17693212e+05, 1.19128495e+05,\n",
       "        1.20563778e+05, 1.21999061e+05, 1.23434343e+05, 1.24869626e+05,\n",
       "        1.26304909e+05, 1.27740192e+05, 1.29175475e+05, 1.30610758e+05,\n",
       "        1.32046041e+05, 1.33481324e+05, 1.34916607e+05, 1.36351889e+05,\n",
       "        1.37787172e+05, 1.39222455e+05, 1.40657738e+05, 1.42093021e+05,\n",
       "        1.43528304e+05]),\n",
       " <BarContainer object of 100 artists>)"
      ]
     },
     "execution_count": 9,
     "metadata": {},
     "output_type": "execute_result"
    },
    {
     "data": {
      "image/png": "[encoded data removed]",
      "text/plain": [
       "<Figure size 432x288 with 1 Axes>"
      ]
     },
     "metadata": {
      "needs_background": "light"
     },
     "output_type": "display_data"
    }
   ],
   "source": [
    "plt.hist(pos,bins = 100)"
   ]
  },
  {
   "cell_type": "code",
   "execution_count": 10,
   "metadata": {},
   "outputs": [
    {
     "data": {
      "text/plain": [
       "143528.30384607782"
      ]
     },
     "execution_count": 10,
     "metadata": {},
     "output_type": "execute_result"
    }
   ],
   "source": [
    "max(pos)"
   ]
  },
  {
   "cell_type": "code",
   "execution_count": 11,
   "metadata": {},
   "outputs": [
    {
     "data": {
      "text/plain": [
       "0.1"
      ]
     },
     "execution_count": 11,
     "metadata": {},
     "output_type": "execute_result"
    }
   ],
   "source": [
    "deltaT"
   ]
  },
  {
   "cell_type": "code",
   "execution_count": 12,
   "metadata": {},
   "outputs": [
    {
     "data": {
      "text/plain": [
       "[<matplotlib.lines.Line2D at 0x22a509565b0>]"
      ]
     },
     "execution_count": 12,
     "metadata": {},
     "output_type": "execute_result"
    },
    {
     "data": {
      "image/png": "[encoded data removed]",
      "text/plain": [
       "<Figure size 432x288 with 1 Axes>"
      ]
     },
     "metadata": {
      "needs_background": "light"
     },
     "output_type": "display_data"
    }
   ],
   "source": [
    "cst = init_constant()\n",
    "results = resolution_systeme(set_size,deltaT,cst)\n",
    "\n",
    "plt.plot(results[1,:])\n",
    "\n"
   ]
  },
  {
   "cell_type": "code",
   "execution_count": 16,
   "metadata": {},
   "outputs": [
    {
     "data": {
      "text/plain": [
       "30751.685706326418"
      ]
     },
     "execution_count": 16,
     "metadata": {},
     "output_type": "execute_result"
    }
   ],
   "source": [
    "peak_value.mean()"
   ]
  },
  {
   "cell_type": "code",
   "execution_count": null,
   "metadata": {},
   "outputs": [],
   "source": []
  }
 ],
 "metadata": {
  "kernelspec": {
   "display_name": "Python 3",
   "language": "python",
   "name": "python3"
  },
  "language_info": {
   "codemirror_mode": {
    "name": "ipython",
    "version": 3
   },
   "file_extension": ".py",
   "mimetype": "text/x-python",
   "name": "python",
   "nbconvert_exporter": "python",
   "pygments_lexer": "ipython3",
   "version": "3.8.5"
  }
 },
 "nbformat": 4,
 "nbformat_minor": 4
}
