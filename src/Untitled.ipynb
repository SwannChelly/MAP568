{
 "cells": [
  {
   "cell_type": "code",
   "execution_count": 24,
   "metadata": {},
   "outputs": [],
   "source": [
    "import numpy as np\n",
    "from constant import *\n",
    "from utils import *\n",
    "import matplotlib.pyplot as plt\n"
   ]
  },
  {
   "cell_type": "code",
   "execution_count": 25,
   "metadata": {},
   "outputs": [],
   "source": [
    "def euler_one_step(S,I_moins,I_plus,R_moins,R_plus_I,H,U,R_plus_H,D,D_R,i,cst):\n",
    "    S_1        = S-cst['tau'][i]*S*I_moins*deltaT\n",
    "    I_moins_1  = I_moins + (cst['tau'][i]*S*I_moins-cst['lambda_1']*I_moins-(cst['gamma_IR']+cst['gamma_IH']+cst['gamma_IU'])*I_moins)*deltaT\n",
    "    I_plus_1   = I_plus +(cst['lambda_1']*I_moins-(cst['gamma_IR']+cst['gamma_IH']+cst['gamma_IU'])*I_plus)*deltaT\n",
    "    R_moins_1  = R_moins +(cst['gamma_IR']*I_moins-cst['lambda_2']*R_moins)*deltaT\n",
    "    R_plus_I_1 = R_plus_I + (cst['gamma_IR']*I_plus+cst['lambda_2']*R_moins)*deltaT\n",
    "    H_1        = H + (cst['gamma_IH']*(I_moins + I_plus)-(cst['gamma_HR']+cst['gamma_HD']+cst['gamma_HU'])*H)*deltaT\n",
    "    U_1        = U + (cst['gamma_IU']*(I_moins + I_plus)+cst['gamma_HU']*H-(cst['gamma_UR'] + cst['gamma_UD'])*U)*deltaT\n",
    "    R_plus_H_1 = R_plus_H+ (cst['gamma_HR']*H+cst['gamma_UR']*U)*deltaT\n",
    "    D_1        = D + (cst['gamma_UD']*U+cst['gamma_HD']*H)*deltaT  \n",
    "    D_R_1      = D_R +((cst['lambda_1']+cst['gamma_IH']+cst['gamma_IU'])*I_moins-D_R)*deltaT\n",
    "    \n",
    "    \n",
    "    return(S_1,I_moins_1,I_plus_1,R_moins_1,R_plus_I_1,H_1,U_1,R_plus_H_1,D_1,D_R_1)\n",
    "\n",
    "\n",
    "def resolution_systeme(set_size, deltaT,cst):\n",
    "    Res = np.zeros((N_VARIABLE,set_size))\n",
    "    Res[0,0] = cst['S_0'] \n",
    "    Res[1,0] = cst['I_moins_0']\n",
    "    \n",
    "    for i in range(1,set_size):\n",
    "        Res[:,i] = euler_one_step(Res[0,i-1],Res[1,i-1],Res[2,i-1],Res[3,i-1],Res[4,i-1],Res[5,i-1],Res[6,i-1],Res[7,i-1],Res[8,i-1],Res[9,i-1],i,cst)\n",
    " \n",
    "    return Res\n"
   ]
  },
  {
   "cell_type": "code",
   "execution_count": 26,
   "metadata": {},
   "outputs": [],
   "source": [
    "def Monte_Carlo(M):\n",
    "    peak_value,peak_day, pos = [],[], []\n",
    "    \n",
    "    for i in range(M):\n",
    "        cst = init_constant()\n",
    "        try : \n",
    "            results = resolution_systeme(set_size,deltaT,cst)\n",
    "            peak_value.append(np.max(results[6,:]))\n",
    "            peak_day.append(int(np.argmax(list(results[6,:]))*deltaT))\n",
    "            pos.append(np.max(results[2,:]))\n",
    "        except:\n",
    "            print(f\"Try n°{i} failed\")\n",
    "    return peak_value,peak_day, pos\n",
    "    "
   ]
  },
  {
   "cell_type": "code",
   "execution_count": 27,
   "metadata": {},
   "outputs": [],
   "source": [
    "a = Monte_Carlo(10000)"
   ]
  },
  {
   "cell_type": "code",
   "execution_count": 30,
   "metadata": {},
   "outputs": [],
   "source": [
    "peak_value,peak_day, pos = a[0],a[1],a[2]"
   ]
  },
  {
   "cell_type": "code",
   "execution_count": 31,
   "metadata": {},
   "outputs": [],
   "source": [
    "peak_value=np.array(peak_value)\n",
    "peak_day  =np.array(peak_day)\n",
    "pos = np.array(pos)"
   ]
  },
  {
   "cell_type": "code",
   "execution_count": 32,
   "metadata": {},
   "outputs": [
    {
     "data": {
      "text/plain": [
       "(array([6.169e+03, 7.620e+02, 4.310e+02, 2.700e+02, 1.970e+02, 1.840e+02,\n",
       "        1.450e+02, 1.480e+02, 1.160e+02, 1.110e+02, 1.000e+02, 1.050e+02,\n",
       "        9.700e+01, 7.000e+01, 8.000e+01, 5.800e+01, 6.200e+01, 5.200e+01,\n",
       "        5.900e+01, 5.700e+01, 4.200e+01, 4.800e+01, 4.500e+01, 3.200e+01,\n",
       "        3.700e+01, 2.700e+01, 3.800e+01, 3.400e+01, 3.300e+01, 2.300e+01,\n",
       "        2.800e+01, 1.900e+01, 2.400e+01, 2.200e+01, 1.900e+01, 2.800e+01,\n",
       "        1.300e+01, 1.400e+01, 1.000e+01, 1.500e+01, 1.800e+01, 6.000e+00,\n",
       "        1.000e+01, 9.000e+00, 8.000e+00, 1.100e+01, 6.000e+00, 7.000e+00,\n",
       "        7.000e+00, 8.000e+00, 3.000e+00, 5.000e+00, 9.000e+00, 6.000e+00,\n",
       "        4.000e+00, 4.000e+00, 5.000e+00, 4.000e+00, 3.000e+00, 3.000e+00,\n",
       "        2.000e+00, 3.000e+00, 3.000e+00, 4.000e+00, 4.000e+00, 2.000e+00,\n",
       "        3.000e+00, 2.000e+00, 0.000e+00, 4.000e+00, 1.000e+00, 1.000e+00,\n",
       "        0.000e+00, 0.000e+00, 0.000e+00, 0.000e+00, 1.000e+00, 2.000e+00,\n",
       "        1.000e+00, 1.000e+00, 0.000e+00, 0.000e+00, 1.000e+00, 1.000e+00,\n",
       "        0.000e+00, 0.000e+00, 0.000e+00, 1.000e+00, 1.000e+00, 1.000e+00,\n",
       "        0.000e+00, 0.000e+00, 0.000e+00, 0.000e+00, 0.000e+00, 0.000e+00,\n",
       "        0.000e+00, 0.000e+00, 0.000e+00, 1.000e+00]),\n",
       " array([2.10993922e-01, 6.93205613e+03, 1.38639013e+04, 2.07957464e+04,\n",
       "        2.77275915e+04, 3.46594367e+04, 4.15912818e+04, 4.85231270e+04,\n",
       "        5.54549721e+04, 6.23868172e+04, 6.93186624e+04, 7.62505075e+04,\n",
       "        8.31823526e+04, 9.01141978e+04, 9.70460429e+04, 1.03977888e+05,\n",
       "        1.10909733e+05, 1.17841578e+05, 1.24773423e+05, 1.31705269e+05,\n",
       "        1.38637114e+05, 1.45568959e+05, 1.52500804e+05, 1.59432649e+05,\n",
       "        1.66364494e+05, 1.73296339e+05, 1.80228185e+05, 1.87160030e+05,\n",
       "        1.94091875e+05, 2.01023720e+05, 2.07955565e+05, 2.14887410e+05,\n",
       "        2.21819255e+05, 2.28751101e+05, 2.35682946e+05, 2.42614791e+05,\n",
       "        2.49546636e+05, 2.56478481e+05, 2.63410326e+05, 2.70342171e+05,\n",
       "        2.77274016e+05, 2.84205862e+05, 2.91137707e+05, 2.98069552e+05,\n",
       "        3.05001397e+05, 3.11933242e+05, 3.18865087e+05, 3.25796932e+05,\n",
       "        3.32728778e+05, 3.39660623e+05, 3.46592468e+05, 3.53524313e+05,\n",
       "        3.60456158e+05, 3.67388003e+05, 3.74319848e+05, 3.81251694e+05,\n",
       "        3.88183539e+05, 3.95115384e+05, 4.02047229e+05, 4.08979074e+05,\n",
       "        4.15910919e+05, 4.22842764e+05, 4.29774610e+05, 4.36706455e+05,\n",
       "        4.43638300e+05, 4.50570145e+05, 4.57501990e+05, 4.64433835e+05,\n",
       "        4.71365680e+05, 4.78297525e+05, 4.85229371e+05, 4.92161216e+05,\n",
       "        4.99093061e+05, 5.06024906e+05, 5.12956751e+05, 5.19888596e+05,\n",
       "        5.26820441e+05, 5.33752287e+05, 5.40684132e+05, 5.47615977e+05,\n",
       "        5.54547822e+05, 5.61479667e+05, 5.68411512e+05, 5.75343357e+05,\n",
       "        5.82275203e+05, 5.89207048e+05, 5.96138893e+05, 6.03070738e+05,\n",
       "        6.10002583e+05, 6.16934428e+05, 6.23866273e+05, 6.30798119e+05,\n",
       "        6.37729964e+05, 6.44661809e+05, 6.51593654e+05, 6.58525499e+05,\n",
       "        6.65457344e+05, 6.72389189e+05, 6.79321034e+05, 6.86252880e+05,\n",
       "        6.93184725e+05]),\n",
       " <BarContainer object of 100 artists>)"
      ]
     },
     "execution_count": 32,
     "metadata": {},
     "output_type": "execute_result"
    },
    {
     "data": {
      "image/png": "[encoded data removed]",
      "text/plain": [
       "<Figure size 432x288 with 1 Axes>"
      ]
     },
     "metadata": {
      "needs_background": "light"
     },
     "output_type": "display_data"
    }
   ],
   "source": [
    "plt.hist(peak_value,bins = 100)"
   ]
  },
  {
   "cell_type": "code",
   "execution_count": 8,
   "metadata": {},
   "outputs": [
    {
     "data": {
      "text/plain": [
       "(array([ 1.,  0.,  0.,  0.,  0.,  1.,  0.,  0.,  0.,  2.,  0.,  0.,  1.,\n",
       "         0.,  0.,  0.,  1.,  0.,  3.,  0.,  1.,  4.,  4.,  0.,  2.,  5.,\n",
       "         0.,  5.,  3.,  5.,  0.,  6.,  3.,  9.,  0.,  9., 12., 11.,  0.,\n",
       "         8., 10.,  8.,  0., 11.,  8., 11.,  0., 14., 11.,  0.,  9., 10.,\n",
       "         7.,  0., 21., 21., 12.,  0., 16., 15.,  8.,  0., 15., 14., 10.,\n",
       "         0., 17.,  8., 12.,  0., 12.,  9., 12.,  0.,  6.,  6.,  0.,  8.,\n",
       "         7.,  2.,  0.,  1.,  3.,  8.,  0.,  4.,  2.,  5.,  0.,  3.,  3.,\n",
       "         3.,  0.,  0.,  2.,  5.,  0.,  3.,  2., 30.]),\n",
       " array([25.  , 25.74, 26.48, 27.22, 27.96, 28.7 , 29.44, 30.18, 30.92,\n",
       "        31.66, 32.4 , 33.14, 33.88, 34.62, 35.36, 36.1 , 36.84, 37.58,\n",
       "        38.32, 39.06, 39.8 , 40.54, 41.28, 42.02, 42.76, 43.5 , 44.24,\n",
       "        44.98, 45.72, 46.46, 47.2 , 47.94, 48.68, 49.42, 50.16, 50.9 ,\n",
       "        51.64, 52.38, 53.12, 53.86, 54.6 , 55.34, 56.08, 56.82, 57.56,\n",
       "        58.3 , 59.04, 59.78, 60.52, 61.26, 62.  , 62.74, 63.48, 64.22,\n",
       "        64.96, 65.7 , 66.44, 67.18, 67.92, 68.66, 69.4 , 70.14, 70.88,\n",
       "        71.62, 72.36, 73.1 , 73.84, 74.58, 75.32, 76.06, 76.8 , 77.54,\n",
       "        78.28, 79.02, 79.76, 80.5 , 81.24, 81.98, 82.72, 83.46, 84.2 ,\n",
       "        84.94, 85.68, 86.42, 87.16, 87.9 , 88.64, 89.38, 90.12, 90.86,\n",
       "        91.6 , 92.34, 93.08, 93.82, 94.56, 95.3 , 96.04, 96.78, 97.52,\n",
       "        98.26, 99.  ]),\n",
       " <BarContainer object of 100 artists>)"
      ]
     },
     "execution_count": 8,
     "metadata": {},
     "output_type": "execute_result"
    },
    {
     "data": {
      "image/png": "[encoded data removed]",
      "text/plain": [
       "<Figure size 432x288 with 1 Axes>"
      ]
     },
     "metadata": {
      "needs_background": "light"
     },
     "output_type": "display_data"
    }
   ],
   "source": [
    "\n",
    "plt.hist(peak_day,bins = 100)"
   ]
  },
  {
   "cell_type": "code",
   "execution_count": 9,
   "metadata": {},
   "outputs": [
    {
     "data": {
      "text/plain": [
       "(array([276.,  55.,  28.,  11.,  13.,  10.,   8.,   1.,   4.,   9.,   4.,\n",
       "          3.,   4.,   8.,   2.,   2.,   2.,   1.,   3.,   3.,   0.,   0.,\n",
       "          3.,   2.,   1.,   1.,   2.,   1.,   4.,   0.,   2.,   1.,   4.,\n",
       "          0.,   2.,   2.,   1.,   2.,   1.,   0.,   3.,   2.,   1.,   0.,\n",
       "          1.,   0.,   3.,   0.,   1.,   0.,   0.,   1.,   1.,   0.,   0.,\n",
       "          0.,   0.,   1.,   0.,   2.,   0.,   0.,   0.,   1.,   0.,   1.,\n",
       "          0.,   1.,   0.,   0.,   0.,   0.,   1.,   0.,   0.,   0.,   0.,\n",
       "          0.,   0.,   0.,   0.,   0.,   0.,   1.,   0.,   1.,   1.,   0.,\n",
       "          0.,   0.,   0.,   0.,   0.,   0.,   0.,   0.,   0.,   0.,   0.,\n",
       "          1.]),\n",
       " array([1.56416119e-01, 1.26105792e+03, 2.52195943e+03, 3.78286094e+03,\n",
       "        5.04376245e+03, 6.30466395e+03, 7.56556546e+03, 8.82646697e+03,\n",
       "        1.00873685e+04, 1.13482700e+04, 1.26091715e+04, 1.38700730e+04,\n",
       "        1.51309745e+04, 1.63918760e+04, 1.76527775e+04, 1.89136790e+04,\n",
       "        2.01745805e+04, 2.14354820e+04, 2.26963835e+04, 2.39572851e+04,\n",
       "        2.52181866e+04, 2.64790881e+04, 2.77399896e+04, 2.90008911e+04,\n",
       "        3.02617926e+04, 3.15226941e+04, 3.27835956e+04, 3.40444971e+04,\n",
       "        3.53053986e+04, 3.65663001e+04, 3.78272016e+04, 3.90881031e+04,\n",
       "        4.03490047e+04, 4.16099062e+04, 4.28708077e+04, 4.41317092e+04,\n",
       "        4.53926107e+04, 4.66535122e+04, 4.79144137e+04, 4.91753152e+04,\n",
       "        5.04362167e+04, 5.16971182e+04, 5.29580197e+04, 5.42189212e+04,\n",
       "        5.54798227e+04, 5.67407242e+04, 5.80016258e+04, 5.92625273e+04,\n",
       "        6.05234288e+04, 6.17843303e+04, 6.30452318e+04, 6.43061333e+04,\n",
       "        6.55670348e+04, 6.68279363e+04, 6.80888378e+04, 6.93497393e+04,\n",
       "        7.06106408e+04, 7.18715423e+04, 7.31324438e+04, 7.43933453e+04,\n",
       "        7.56542469e+04, 7.69151484e+04, 7.81760499e+04, 7.94369514e+04,\n",
       "        8.06978529e+04, 8.19587544e+04, 8.32196559e+04, 8.44805574e+04,\n",
       "        8.57414589e+04, 8.70023604e+04, 8.82632619e+04, 8.95241634e+04,\n",
       "        9.07850649e+04, 9.20459665e+04, 9.33068680e+04, 9.45677695e+04,\n",
       "        9.58286710e+04, 9.70895725e+04, 9.83504740e+04, 9.96113755e+04,\n",
       "        1.00872277e+05, 1.02133179e+05, 1.03394080e+05, 1.04654982e+05,\n",
       "        1.05915883e+05, 1.07176785e+05, 1.08437686e+05, 1.09698588e+05,\n",
       "        1.10959489e+05, 1.12220391e+05, 1.13481292e+05, 1.14742194e+05,\n",
       "        1.16003095e+05, 1.17263997e+05, 1.18524898e+05, 1.19785800e+05,\n",
       "        1.21046701e+05, 1.22307603e+05, 1.23568504e+05, 1.24829406e+05,\n",
       "        1.26090307e+05]),\n",
       " <BarContainer object of 100 artists>)"
      ]
     },
     "execution_count": 9,
     "metadata": {},
     "output_type": "execute_result"
    },
    {
     "data": {
      "image/png": "[encoded data removed]",
      "text/plain": [
       "<Figure size 432x288 with 1 Axes>"
      ]
     },
     "metadata": {
      "needs_background": "light"
     },
     "output_type": "display_data"
    }
   ],
   "source": [
    "plt.hist(pos,bins = 100)"
   ]
  },
  {
   "cell_type": "code",
   "execution_count": 10,
   "metadata": {},
   "outputs": [
    {
     "data": {
      "text/plain": [
       "126090.30714767137"
      ]
     },
     "execution_count": 10,
     "metadata": {},
     "output_type": "execute_result"
    }
   ],
   "source": [
    "max(pos)"
   ]
  },
  {
   "cell_type": "code",
   "execution_count": 11,
   "metadata": {},
   "outputs": [
    {
     "data": {
      "text/plain": [
       "0.1"
      ]
     },
     "execution_count": 11,
     "metadata": {},
     "output_type": "execute_result"
    }
   ],
   "source": [
    "deltaT"
   ]
  },
  {
   "cell_type": "code",
   "execution_count": 72,
   "metadata": {},
   "outputs": [
    {
     "data": {
      "text/plain": [
       "[<matplotlib.lines.Line2D at 0x7fa843ece0d0>]"
      ]
     },
     "execution_count": 72,
     "metadata": {},
     "output_type": "execute_result"
    },
    {
     "data": {
      "image/png": "[encoded data removed]",
      "text/plain": [
       "<Figure size 432x288 with 1 Axes>"
      ]
     },
     "metadata": {
      "needs_background": "light"
     },
     "output_type": "display_data"
    }
   ],
   "source": [
    "cst = init_constant()\n",
    "results = resolution_systeme(set_size,deltaT,cst)\n",
    "\n",
    "plt.plot(results[1,:])\n",
    "\n"
   ]
  },
  {
   "cell_type": "code",
   "execution_count": 35,
   "metadata": {},
   "outputs": [
    {
     "name": "stdout",
     "output_type": "stream",
     "text": [
      "24\n",
      "48\n"
     ]
    }
   ],
   "source": [
    "print(cst['t_0'])\n",
    "print(cst['N'])"
   ]
  },
  {
   "cell_type": "code",
   "execution_count": 33,
   "metadata": {},
   "outputs": [
    {
     "data": {
      "text/plain": [
       "array([ 5231.55646966,   290.67343937, 14611.37789618, ...,\n",
       "       16243.80602498,    17.61202828,   914.17534922])"
      ]
     },
     "execution_count": 33,
     "metadata": {},
     "output_type": "execute_result"
    }
   ],
   "source": []
  },
  {
   "cell_type": "code",
   "execution_count": null,
   "metadata": {},
   "outputs": [],
   "source": []
  }
 ],
 "metadata": {
  "kernelspec": {
   "display_name": "Python 3",
   "language": "python",
   "name": "python3"
  },
  "language_info": {
   "codemirror_mode": {
    "name": "ipython",
    "version": 3
   },
   "file_extension": ".py",
   "mimetype": "text/x-python",
   "name": "python",
   "nbconvert_exporter": "python",
   "pygments_lexer": "ipython3",
   "version": "3.8.5"
  }
 },
 "nbformat": 4,
 "nbformat_minor": 4
}
