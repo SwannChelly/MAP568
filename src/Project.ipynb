{
 "cells": [
  {
   "cell_type": "markdown",
   "metadata": {},
   "source": [
    "# MAP 568 Project"
   ]
  },
  {
   "cell_type": "markdown",
   "metadata": {},
   "source": [
    "Maxime Vincent & Swann Chelly"
   ]
  },
  {
   "cell_type": "code",
   "execution_count": 1,
   "metadata": {},
   "outputs": [],
   "source": [
    "import numpy as np\n",
    "\n",
    "from constant import *\n",
    "from scipy import *\n",
    "from pylab import *     \n",
    "from scipy.integrate import odeint # Module de résolution des équations différentielles\n",
    "import plotly as po\n",
    "from progressbar import ProgressBar\n",
    "import matplotlib.pyplot as plt"
   ]
  },
  {
   "cell_type": "markdown",
   "metadata": {},
   "source": [
    "## Incertitudes en sortie\n",
    "\n",
    "1) **Programmer la résolution du système (1-10).**\n",
    "\n",
    "Dans le fichier constant nous définissons l'ensemble des constantes. La fonction `init_constant` de ce fichier renvoie un dictionnaire généré aléatoirement de constantes. "
   ]
  },
  {
   "cell_type": "code",
   "execution_count": 24,
   "metadata": {},
   "outputs": [],
   "source": [
    "## Résolution de l'équation différentielle. \n",
    "\n",
    "def equa_diff(syst,temps,variables,constants):\n",
    "    \n",
    "    \"\"\"\n",
    "    La résolution du système d'équation différentiel (1-10) se fait grace au module odeint de scipy.integrate.\n",
    "    \n",
    "    Paramètres :\n",
    "    ------------\n",
    "    \n",
    "    syst : \n",
    "    \n",
    "    temps : \n",
    "    \n",
    "    Sorties : \n",
    "    ---------\n",
    "    Ensemble des paramètres du système différentiel. \n",
    "    \n",
    "    \"\"\"\n",
    "    #temps = round(temps,1)\n",
    "    #if temps == 50:\n",
    "    #    temps = 50.1\n",
    "    #elif temps > 100.:\n",
    "    #    temps = 100.\n",
    "    #i = time.index(temps)\n",
    "    \n",
    "    if type(variables)!= dict:\n",
    "        variables = dict(zip(variables_keys,variables))\n",
    "        constants = dict(zip(constants_keys, constants))\n",
    "    else : \n",
    "        variables = variables\n",
    "        constants = constants    \n",
    "    \n",
    "    tau = constants['tau_0']*np.exp(-variables['mu']*max(temps-(variables['N']-variables['t_0']),0))\n",
    "    S = syst[0] \n",
    "    I_moins = syst[1] \n",
    "    I_plus = syst[2] \n",
    "    R_moins = syst[3] \n",
    "    R_plus_I = syst[4] \n",
    "    H = syst[5] \n",
    "    U = syst[6] \n",
    "    R_plus_H = syst[7] \n",
    "    D = syst[8] \n",
    "    D_R = syst[9]\n",
    "    # Dérivées des variables\n",
    "    DS = -tau*S*I_moins\n",
    "    DI_moins = tau*S*I_moins-variables['lambda_1']*I_moins-(constants['gamma_IR']+constants['gamma_IH']+constants['gamma_IU'])*I_moins\n",
    "    DI_plus = variables['lambda_1']*I_moins-(constants['gamma_IR']+constants['gamma_IH']+constants['gamma_IU'])*I_plus\n",
    "    DR_moins = constants['gamma_IR']*I_moins\n",
    "    DR_plus_I = constants['gamma_IR']*I_plus\n",
    "    DH = constants['gamma_IH']*(I_moins + I_plus)-(constants['gamma_HR']+constants['gamma_HD']+constants['gamma_HU'])*H\n",
    "    DU = constants['gamma_IU']*(I_moins + I_plus)+constants['gamma_HU']*H-(constants['gamma_UR'] + constants['gamma_UD'])*U\n",
    "    DR_plus_H = constants['gamma_HR']*H+constants['gamma_UR']*U\n",
    "    DD =constants['gamma_UD']*U+constants['gamma_HD']*H  \n",
    "    DD_R = (variables['lambda_1']+constants['gamma_IH']+constants['gamma_IU'])*I_moins-D_R\n",
    "    \n",
    "    \n",
    "    return(DS,DI_moins,DI_plus,DR_moins,DR_plus_I,DH,DU,DR_plus_H,DD,DD_R)\n"
   ]
  },
  {
   "cell_type": "code",
   "execution_count": 3,
   "metadata": {},
   "outputs": [
    {
     "data": {
      "text/plain": [
       "Text(0, 0.5, 'Nombre de personne en réanimation')"
      ]
     },
     "execution_count": 3,
     "metadata": {},
     "output_type": "execute_result"
    },
    {
     "data": {
      "image/png": "[encoded data removed]",
      "text/plain": [
       "<Figure size 432x288 with 1 Axes>"
      ]
     },
     "metadata": {
      "needs_background": "light"
     },
     "output_type": "display_data"
    }
   ],
   "source": [
    "# Analyse des résultats\n",
    "\n",
    "variables = init_variables()\n",
    "constants = compute_constants(variables)\n",
    "\n",
    "syst_CI=array([global_constants['S_0'],variables['I_moins_0'],0,0,0,0,0,0,0,0])\n",
    "simulation=odeint(equa_diff,syst_CI,constants['t'], args = (variables,constants))\n",
    "plt.plot(simulation[:,6])\n",
    "plt.title(f\"Evolution du nombre de personne en réanimation sur {global_constants['T_MAX']} jours\")\n",
    "plt.xlabel(f\"Temps en {global_constants['deltaT']} jour\")\n",
    "plt.ylabel(\"Nombre de personne en réanimation\")\n",
    "\n",
    "\n"
   ]
  },
  {
   "cell_type": "markdown",
   "metadata": {},
   "source": [
    "2) **Par échantillonnage Monte Carlo (en utilisant les lois des paramètres d'entrée de la table 1), donner :**\n",
    "- la loi du nombre maximal de patients présents en soins intensifs (histogramme, moyenne, quantiles à 10% et 90%),\n",
    "- la loi de la date du pic de l'épidémie."
   ]
  },
  {
   "cell_type": "code",
   "execution_count": 4,
   "metadata": {},
   "outputs": [
    {
     "name": "stderr",
     "output_type": "stream",
     "text": [
      "  1% |                                                                        |\r"
     ]
    },
    {
     "name": "stdout",
     "output_type": "stream",
     "text": [
      "Echantillonnage de Monte Carlo sur 10000 simulation\n"
     ]
    },
    {
     "name": "stderr",
     "output_type": "stream",
     "text": [
      "100% |########################################################################|\n"
     ]
    }
   ],
   "source": [
    "## Implémentation de la méthode de Monte Carlo classique pour la résolution du système différentiel. \n",
    "\n",
    "M = 1000\n",
    "\n",
    "def Monte_Carlo(M):\n",
    "    \"\"\"\n",
    "    Echantillonage de Monte Carlo \n",
    "    \n",
    "    Paramètres : \n",
    "    ------------\n",
    "    \n",
    "    M : int, \n",
    "        Taille de l'échantillon. \n",
    "    \n",
    "    Sorties : \n",
    "    ---------\n",
    "    peak_value  : list,\n",
    "        Nombre de cas en réanimation au pic de l'épidémie pour chaque simulation.\n",
    "    peak_day    : list, \n",
    "        Jour du pic pour chaque simulation.\n",
    "    pos         : list, \n",
    "        Nombre de cas au pic de l'épidémie pour chaque simulation.\n",
    "    \n",
    "    \"\"\"\n",
    "    \n",
    "    print(f\"Echantillonnage de Monte Carlo sur 10000 simulation\")\n",
    "    peak_value,peak_day, pos = [],[], []\n",
    "    pbar = ProgressBar()\n",
    "    for i in pbar(range(M)):\n",
    "        variables = init_variables()\n",
    "        constants = compute_constants(variables)\n",
    "        syst_CI=array([global_constants['S_0'],variables['I_moins_0'],0,0,0,0,0,0,0,0])\n",
    "        simulation=odeint(equa_diff,syst_CI,constants['t'], args = (variables,constants))      \n",
    "        peak_value.append(np.max(simulation[:,6]))\n",
    "        peak_day.append(int(np.argmax(list(simulation[:,6]))*global_constants['deltaT']))\n",
    "        pos.append(np.max(simulation[:,1]))\n",
    "        \n",
    "    return (peak_value,peak_day,pos)\n",
    "\n",
    "peak_value,peak_day,pos = Monte_Carlo(M)\n"
   ]
  },
  {
   "cell_type": "code",
   "execution_count": 5,
   "metadata": {},
   "outputs": [
    {
     "name": "stdout",
     "output_type": "stream",
     "text": [
      "La valeur moyenne du pic est de 19663.3 et appartient à l'intervalle de confiance à 95% suivant : [16326.53,23000.07] \n",
      " Le quantile à 10% du pic de réanimation est : 0.5510131411866986\n",
      " Le quantile à 90% du pic de réanimation est : 56506.78179231247\n"
     ]
    },
    {
     "data": {
      "image/png": "[encoded data removed]",
      "text/plain": [
       "<Figure size 432x288 with 2 Axes>"
      ]
     },
     "metadata": {
      "needs_background": "light"
     },
     "output_type": "display_data"
    }
   ],
   "source": [
    "mean_value = np.mean(peak_value)\n",
    "var_value  = np.var(peak_value)\n",
    "q_10 = np.quantile(peak_value, 0.1, axis = None)\n",
    "q_70 = np.quantile(peak_value, 0.7, axis = None)\n",
    "q_90 = np.quantile(peak_value, 0.9, axis = None)\n",
    "print(f\"La valeur moyenne du pic est de {round(mean_value,2)} et appartient à l'intervalle de confiance à 95% suivant : [{max(0,round(mean_value-1.96*np.sqrt(var_value/M),2))},{round(mean_value+1.96*np.sqrt(var_value/M),2)}] \")\n",
    "print(f\" Le quantile à 10% du pic de réanimation est : {q_10}\")\n",
    "print(f\" Le quantile à 90% du pic de réanimation est : {q_90}\")\n",
    "\n",
    "# Compte tenu de la valeur du quantile à 90% nous tronquons donc la liste par soucis de visibilité. \n",
    "\n",
    "\n",
    "fig, axs = plt.subplots(2)\n",
    "fig.suptitle(f\"Distribution du nombre de personnes en réanimation sur un échantillon de taille {M}\")\n",
    "axs[0].hist([value for value in peak_value if value < q_90], bins = 100)\n",
    "axs[0].set_title('Quantile à 90 %')\n",
    "axs[1].hist([value for value in peak_value if value < q_70], bins = 100)\n",
    "axs[1].set_title('Quantile à 70 %')\n",
    "plt.subplots_adjust(hspace=0.5)"
   ]
  },
  {
   "cell_type": "markdown",
   "metadata": {},
   "source": [
    "En supposant que la distribution du nombre de cas en réanimation au pic de l'épidémie suis une loie exponentielle, nous pouvons donner son paramètre $\\lambda = \\frac{1}{\\mathbb{\\hat{E}}(X)}$ où $X$ correspond à la variable aléatoire liée au nombre de cas en réanimation au pic de l'épidémie. Nous la notrons ici `lbd`.\n"
   ]
  },
  {
   "cell_type": "code",
   "execution_count": 6,
   "metadata": {},
   "outputs": [
    {
     "name": "stdout",
     "output_type": "stream",
     "text": [
      "5.085616156126624e-05\n"
     ]
    },
    {
     "data": {
      "text/plain": [
       "(array([18246.74821761, 17663.62976592, 15695.60499145, 14262.10546437,\n",
       "        13338.83458252, 12609.9365179 , 12075.41127051, 10641.91174343,\n",
       "         9135.52240988,  8090.76851726,  9524.26804435,  8333.7345388 ,\n",
       "         7677.72628065,  7021.71802249,  7313.27724834,  5661.10830187,\n",
       "         5393.84567818,  5102.28645233,  4713.54081787,  3911.75294679,\n",
       "         3814.56653817,  3425.82090371,  3037.07526924,  2745.5160434 ,\n",
       "         2016.61797878,  2842.70245201,  2405.36361324,  1797.94855939,\n",
       "         1797.94855939,  1992.32137662,  1822.24516155,  1457.79612924,\n",
       "         1336.31311847,  1554.98253785,  1506.38933354,  1214.8301077 ,\n",
       "          728.89806462,   801.78787108,   826.08447323,   850.38107539,\n",
       "          631.711656  ,   680.30486031,   461.63544092,   461.63544092,\n",
       "          388.74563446,   583.11845169,   291.55922585,   388.74563446,\n",
       "          242.96602154,   413.04223662,   315.855828  ,   145.77961292,\n",
       "          218.66941939,   194.37281723,   121.48301077,   388.74563446,\n",
       "          145.77961292,   267.26262369,    48.59320431,   121.48301077,\n",
       "          267.26262369,   267.26262369,    97.18640862,   170.07621508,\n",
       "           48.59320431,    24.29660215,    72.88980646,    97.18640862,\n",
       "           72.88980646,    72.88980646,    72.88980646,    72.88980646,\n",
       "           48.59320431,    24.29660215,    97.18640862,    24.29660215,\n",
       "           24.29660215,    97.18640862,     0.        ,    24.29660215,\n",
       "            0.        ,    24.29660215,    24.29660215,    24.29660215,\n",
       "            0.        ,    48.59320431,    48.59320431,     0.        ,\n",
       "           24.29660215,     0.        ,    24.29660215,    72.88980646,\n",
       "           24.29660215,    24.29660215,     0.        ,     0.        ,\n",
       "            0.        ,     0.        ,     0.        ,    48.59320431]),\n",
       " array([5.83546117e-09, 4.12163731e-06, 8.23743915e-06, 1.23532410e-05,\n",
       "        1.64690428e-05, 2.05848447e-05, 2.47006465e-05, 2.88164484e-05,\n",
       "        3.29322502e-05, 3.70480521e-05, 4.11638539e-05, 4.52796558e-05,\n",
       "        4.93954576e-05, 5.35112595e-05, 5.76270613e-05, 6.17428632e-05,\n",
       "        6.58586650e-05, 6.99744668e-05, 7.40902687e-05, 7.82060705e-05,\n",
       "        8.23218724e-05, 8.64376742e-05, 9.05534761e-05, 9.46692779e-05,\n",
       "        9.87850798e-05, 1.02900882e-04, 1.07016683e-04, 1.11132485e-04,\n",
       "        1.15248287e-04, 1.19364089e-04, 1.23479891e-04, 1.27595693e-04,\n",
       "        1.31711495e-04, 1.35827296e-04, 1.39943098e-04, 1.44058900e-04,\n",
       "        1.48174702e-04, 1.52290504e-04, 1.56406306e-04, 1.60522107e-04,\n",
       "        1.64637909e-04, 1.68753711e-04, 1.72869513e-04, 1.76985315e-04,\n",
       "        1.81101117e-04, 1.85216919e-04, 1.89332720e-04, 1.93448522e-04,\n",
       "        1.97564324e-04, 2.01680126e-04, 2.05795928e-04, 2.09911730e-04,\n",
       "        2.14027531e-04, 2.18143333e-04, 2.22259135e-04, 2.26374937e-04,\n",
       "        2.30490739e-04, 2.34606541e-04, 2.38722343e-04, 2.42838144e-04,\n",
       "        2.46953946e-04, 2.51069748e-04, 2.55185550e-04, 2.59301352e-04,\n",
       "        2.63417154e-04, 2.67532955e-04, 2.71648757e-04, 2.75764559e-04,\n",
       "        2.79880361e-04, 2.83996163e-04, 2.88111965e-04, 2.92227767e-04,\n",
       "        2.96343568e-04, 3.00459370e-04, 3.04575172e-04, 3.08690974e-04,\n",
       "        3.12806776e-04, 3.16922578e-04, 3.21038379e-04, 3.25154181e-04,\n",
       "        3.29269983e-04, 3.33385785e-04, 3.37501587e-04, 3.41617389e-04,\n",
       "        3.45733191e-04, 3.49848992e-04, 3.53964794e-04, 3.58080596e-04,\n",
       "        3.62196398e-04, 3.66312200e-04, 3.70428002e-04, 3.74543803e-04,\n",
       "        3.78659605e-04, 3.82775407e-04, 3.86891209e-04, 3.91007011e-04,\n",
       "        3.95122813e-04, 3.99238615e-04, 4.03354416e-04, 4.07470218e-04,\n",
       "        4.11586020e-04]),\n",
       " <BarContainer object of 100 artists>)"
      ]
     },
     "execution_count": 6,
     "metadata": {},
     "output_type": "execute_result"
    },
    {
     "data": {
      "image/png": "[encoded data removed]",
      "text/plain": [
       "<Figure size 432x288 with 1 Axes>"
      ]
     },
     "metadata": {
      "needs_background": "light"
     },
     "output_type": "display_data"
    }
   ],
   "source": [
    "lbd = 1/mean_value\n",
    "print(lbd)\n",
    "Y = np.random.exponential(lbd,10000)\n",
    "plt.hist(Y,bins = 100,density = True)"
   ]
  },
  {
   "cell_type": "code",
   "execution_count": 7,
   "metadata": {},
   "outputs": [
    {
     "name": "stdout",
     "output_type": "stream",
     "text": [
      "La valeur moyenne du pic est de 57.21 et appartient à l'intervalle de confiance à 95% suivant : [55.82,58.61] \n",
      " Le quantile à 10% du pic de réanimation est : 26.0\n",
      " Le quantile à 90% du pic de réanimation est : 89.0\n"
     ]
    },
    {
     "data": {
      "image/png": "[encoded data removed]",
      "text/plain": [
       "<Figure size 432x288 with 2 Axes>"
      ]
     },
     "metadata": {
      "needs_background": "light"
     },
     "output_type": "display_data"
    }
   ],
   "source": [
    "# Loi de la date de l'épidémie. \n",
    "\n",
    "mean_day = np.mean(peak_day)\n",
    "var_day  = np.var(peak_day)\n",
    "q_10_day = np.quantile(peak_day, 0.1, axis = None)\n",
    "q_70_day = np.quantile(peak_day, 0.7, axis = None)\n",
    "q_90_day = np.quantile(peak_day, 0.9, axis = None)\n",
    "print(f\"La valeur moyenne du pic est de {round(mean_day,2)} et appartient à l'intervalle de confiance à 95% suivant : [{max(0,round(mean_day-1.96*np.sqrt(var_day/M),2))},{round(mean_day+1.96*np.sqrt(var_day/M),2)}] \")\n",
    "print(f\" Le quantile à 10% du pic de réanimation est : {q_10_day}\")\n",
    "print(f\" Le quantile à 90% du pic de réanimation est : {q_90_day}\")\n",
    "\n",
    "# Compte tenu de la valeur du quantile à 90% nous tronquons donc la liste par soucis de visibilité. \n",
    "\n",
    "fig, axs = plt.subplots(2)\n",
    "fig.suptitle(f\"Distribution du jour du pic sur un échantillon de taille {M}\")\n",
    "axs[0].hist([day for day in peak_day if day < q_90_day], bins = 100)\n",
    "axs[0].set_title('Quantile à 90 %')\n",
    "axs[1].hist([day for day in peak_day if day < q_70_day], bins = 100)\n",
    "axs[1].set_title('Quantile à 70 %')\n",
    "plt.subplots_adjust(hspace=0.5)"
   ]
  },
  {
   "cell_type": "markdown",
   "metadata": {},
   "source": [
    "# Calibration"
   ]
  },
  {
   "cell_type": "code",
   "execution_count": 8,
   "metadata": {},
   "outputs": [],
   "source": [
    "import pandas as pd\n",
    "import matplotlib.dates as mdates\n",
    "from matplotlib import ticker"
   ]
  },
  {
   "cell_type": "code",
   "execution_count": 9,
   "metadata": {},
   "outputs": [
    {
     "data": {
      "text/html": [
       "<div>\n",
       "<style scoped>\n",
       "    .dataframe tbody tr th:only-of-type {\n",
       "        vertical-align: middle;\n",
       "    }\n",
       "\n",
       "    .dataframe tbody tr th {\n",
       "        vertical-align: top;\n",
       "    }\n",
       "\n",
       "    .dataframe thead th {\n",
       "        text-align: right;\n",
       "    }\n",
       "</style>\n",
       "<table border=\"1\" class=\"dataframe\">\n",
       "  <thead>\n",
       "    <tr style=\"text-align: right;\">\n",
       "      <th></th>\n",
       "      <th>jour</th>\n",
       "      <th>hosp</th>\n",
       "      <th>rea</th>\n",
       "      <th>rad</th>\n",
       "      <th>dc</th>\n",
       "      <th>detecte</th>\n",
       "    </tr>\n",
       "  </thead>\n",
       "  <tbody>\n",
       "    <tr>\n",
       "      <th>0</th>\n",
       "      <td>2020-03-18</td>\n",
       "      <td>5905</td>\n",
       "      <td>1535</td>\n",
       "      <td>1627</td>\n",
       "      <td>435</td>\n",
       "      <td>1404.0</td>\n",
       "    </tr>\n",
       "    <tr>\n",
       "      <th>1</th>\n",
       "      <td>2020-03-19</td>\n",
       "      <td>7961</td>\n",
       "      <td>1975</td>\n",
       "      <td>2322</td>\n",
       "      <td>642</td>\n",
       "      <td>1861.0</td>\n",
       "    </tr>\n",
       "    <tr>\n",
       "      <th>2</th>\n",
       "      <td>2020-03-20</td>\n",
       "      <td>10272</td>\n",
       "      <td>2564</td>\n",
       "      <td>3128</td>\n",
       "      <td>890</td>\n",
       "      <td>1617.0</td>\n",
       "    </tr>\n",
       "    <tr>\n",
       "      <th>3</th>\n",
       "      <td>2020-03-21</td>\n",
       "      <td>11599</td>\n",
       "      <td>2872</td>\n",
       "      <td>3580</td>\n",
       "      <td>1041</td>\n",
       "      <td>1847.0</td>\n",
       "    </tr>\n",
       "    <tr>\n",
       "      <th>4</th>\n",
       "      <td>2020-03-22</td>\n",
       "      <td>13675</td>\n",
       "      <td>3311</td>\n",
       "      <td>4188</td>\n",
       "      <td>1251</td>\n",
       "      <td>1559.0</td>\n",
       "    </tr>\n",
       "  </tbody>\n",
       "</table>\n",
       "</div>"
      ],
      "text/plain": [
       "        jour   hosp   rea   rad    dc  detecte\n",
       "0 2020-03-18   5905  1535  1627   435   1404.0\n",
       "1 2020-03-19   7961  1975  2322   642   1861.0\n",
       "2 2020-03-20  10272  2564  3128   890   1617.0\n",
       "3 2020-03-21  11599  2872  3580  1041   1847.0\n",
       "4 2020-03-22  13675  3311  4188  1251   1559.0"
      ]
     },
     "execution_count": 9,
     "metadata": {},
     "output_type": "execute_result"
    }
   ],
   "source": [
    "\n",
    "contamination = pd.read_csv('data_per_day.csv', sep = ';')\n",
    "contamination.columns = [jour,'detecte']\n",
    "contamination[jour] = pd.to_datetime(contamination[jour],infer_datetime_format = True)\n",
    "contamination = contamination[contamination[jour]<= '2020-05-11']\n",
    "contamination['detecte'] = contamination['detecte'].diff(periods = 1)\n",
    "\n",
    " \n",
    "hosp          = pd.read_csv('donnees_hospitalieres.csv', ';')\n",
    "hosp[jour]    = pd.to_datetime(hosp[jour])\n",
    "hosp          = hosp.groupby(jour).agg('sum').reset_index(False)[[jour,'hosp','rea','rad','dc']]\n",
    "big_table     = hosp.merge(contamination, left_on= jour, right_on = jour)\n",
    "big_table     = big_table[big_table[jour]<= '2020-05-11']\n",
    "big_table.head()   "
   ]
  },
  {
   "cell_type": "code",
   "execution_count": 10,
   "metadata": {},
   "outputs": [
    {
     "data": {
      "text/plain": [
       "Text(0.5, 1.0, 'Spread of the epidemic')"
      ]
     },
     "execution_count": 10,
     "metadata": {},
     "output_type": "execute_result"
    },
    {
     "data": {
      "image/png": "[encoded data removed]",
      "text/plain": [
       "<Figure size 576x360 with 1 Axes>"
      ]
     },
     "metadata": {
      "needs_background": "light"
     },
     "output_type": "display_data"
    }
   ],
   "source": [
    "columns = ['hosp','rea','rad','dc']\n",
    "titles  = {'hosp': 'hospitalises (H)', 'rea': 'soins intensifs (U)', 'dc' : 'decedes (D)', 'detecte' : 'detectes (DR)', 'rad' : 'gueris (R+)'}\n",
    "\n",
    "fig, axs = plt.subplots(figsize = (8,5), nrows = 1, ncols = 1)\n",
    "for i,col in enumerate(columns) : \n",
    "    axs.scatter(big_table[jour],big_table[col],marker = '.', label = titles[col])\n",
    "axs.scatter(contamination[jour],contamination['detecte'], marker = '.', label = titles['detecte'])\n",
    "axs.legend()\n",
    "locator = mdates.MonthLocator()\n",
    "fmt = mdates.DateFormatter('%b')\n",
    "X = plt.gca().xaxis\n",
    "X.set_major_locator(locator)\n",
    "# Specify formatter\n",
    "X.set_major_formatter(fmt)\n",
    "\n",
    "\n",
    "formatter = ticker.ScalarFormatter(useMathText=True)\n",
    "formatter.set_scientific(True) \n",
    "formatter.set_powerlimits((-1,1))\n",
    "axs.yaxis.set_major_formatter(formatter) \n",
    "axs.set_ylabel('nombre')\n",
    "axs.set_xlabel('date')\n",
    "axs.format_xdata = mdates.DateFormatter('%Y-%m-%d')\n",
    "axs.set_title('Spread of the epidemic')"
   ]
  },
  {
   "cell_type": "markdown",
   "metadata": {},
   "source": [
    "# Calibration déterministe"
   ]
  },
  {
   "cell_type": "code",
   "execution_count": 11,
   "metadata": {},
   "outputs": [],
   "source": [
    "from scipy.optimize import minimize\n"
   ]
  },
  {
   "cell_type": "code",
   "execution_count": 12,
   "metadata": {},
   "outputs": [],
   "source": [
    "# Table pre-processing\n",
    "contamination = contamination[('2020-02-25' <= contamination[jour])& (contamination[jour]<= '2020-03-31')]\n",
    "big_table     = big_table[big_table[jour]<= '2020-03-31']\n"
   ]
  },
  {
   "cell_type": "code",
   "execution_count": 35,
   "metadata": {
    "scrolled": true
   },
   "outputs": [],
   "source": [
    "\n",
    "\n",
    "def Epsilon(variables,constants,contamination= contamination,big_table=big_table,global_constants=global_constants):\n",
    "    \"\"\"\n",
    "    parameters will be a dictionnary similar to the one resulting from init_constant    \n",
    "    \"\"\"\n",
    "    syst_CI=array([global_constants['S_0'],variables[-1],0,0,0,0,0,0,0,0])\n",
    "    simulation=odeint(equa_diff,syst_CI,constants[-2],args = (variables,constants))[::10]\n",
    "    \n",
    "    DR = ((simulation[30:,-1]-contamination['detecte'].to_numpy())/np.sqrt(simulation[30:,-1]))**2\n",
    "    \n",
    "    H  = ((simulation[52:,5]-big_table['hosp'].to_numpy())/np.sqrt(simulation[52:,5]))**2\n",
    "    U  = ((simulation[52:,6]-big_table['rea'].to_numpy())/np.sqrt(simulation[52:,6]))**2\n",
    "    D  = ((simulation[52:,8]-big_table['dc'].to_numpy())/np.sqrt(simulation[52:,8]))**2\n",
    "    R  = ((simulation[52:,7]-big_table['rad'].to_numpy())/np.sqrt(simulation[52:,7]))**2\n",
    "    return np.sum(DR) + np.sum(H+U+D+R)\n",
    "\n"
   ]
  },
  {
   "cell_type": "code",
   "execution_count": 36,
   "metadata": {},
   "outputs": [],
   "source": [
    "\n",
    "variables = init_variables(T_MAX = 66)\n",
    "constants = compute_constants(variables, global_constants = global_constants)\n",
    "variables = list(variables.values())\n",
    "constants = list(constants.values())\n",
    "\n",
    "res = minimize(Epsilon,x0 = variables,bounds = bound, args = (constants))\n",
    "optimal_variables = dict(zip(variables_keys,res.x))"
   ]
  },
  {
   "cell_type": "code",
   "execution_count": 46,
   "metadata": {},
   "outputs": [],
   "source": [
    "constants   = compute_constants(optimal_variables)\n",
    "syst_CI    = array([global_constants['S_0'],optimal_variables['I_moins_0'],0,0,0,0,0,0,0,0])\n",
    "simulation = odeint(equa_diff,syst_CI,constants['t'], args = (optimal_variables,constants))[::10]"
   ]
  },
  {
   "cell_type": "code",
   "execution_count": 54,
   "metadata": {},
   "outputs": [
    {
     "data": {
      "text/plain": [
       "Text(0.5, 1.0, 'Spread of the epidemic')"
      ]
     },
     "execution_count": 54,
     "metadata": {},
     "output_type": "execute_result"
    },
    {
     "data": {
      "image/png": "[encoded data removed]",
      "text/plain": [
       "<Figure size 576x360 with 1 Axes>"
      ]
     },
     "metadata": {
      "needs_background": "light"
     },
     "output_type": "display_data"
    },
    {
     "data": {
      "image/png": "[encoded data removed]",
      "text/plain": [
       "<Figure size 576x360 with 1 Axes>"
      ]
     },
     "metadata": {
      "needs_background": "light"
     },
     "output_type": "display_data"
    }
   ],
   "source": [
    "fig, axs = plt.subplots(figsize = (8,5), nrows = 1, ncols = 1)\n",
    "columns  = [5,6,7,8,9]\n",
    "titles   = {'5':'hosp (H)','6': 'rea (U)','8':'decede (D)', '9':'detecte (DR)','7': 'gueris (R+)'}\n",
    "time     = pd.date_range(start =  '2020-01-26', end = '2020-03-31', freq = 'D')\n",
    "\n",
    "for i,col in enumerate(columns) : \n",
    "    axs.scatter(time,simulation[:,col],marker = '.', label = titles[f\"{col}\"])\n",
    "axs.legend()\n",
    "locator = mdates.MonthLocator()\n",
    "fmt = mdates.DateFormatter('%b')\n",
    "X = plt.gca().xaxis\n",
    "X.set_major_locator(locator)\n",
    "X.set_major_formatter(fmt)\n",
    "\n",
    "\n",
    "formatter = ticker.ScalarFormatter(useMathText=True)\n",
    "formatter.set_scientific(True) \n",
    "formatter.set_powerlimits((-1,1))\n",
    "axs.yaxis.set_major_formatter(formatter) \n",
    "axs.set_ylabel('nombre')\n",
    "axs.set_xlabel('date')\n",
    "axs.format_xdata = mdates.DateFormatter('%Y-%m-%d')\n",
    "axs.set_title('Spread of the epidemic')\n",
    "\n",
    "\n",
    "\n",
    "columns = ['hosp','rea','rad','dc']\n",
    "titles  = {'hosp': 'hospitalises (H)', 'rea': 'soins intensifs (U)', 'dc' : 'decedes (D)', 'detecte' : 'detectes (DR)', 'rad' : 'gueris (R+)'}\n",
    "\n",
    "fig, axs = plt.subplots(figsize = (8,5), nrows = 1, ncols = 1)\n",
    "for i,col in enumerate(columns) : \n",
    "    axs.scatter(big_table[jour],big_table[col],marker = '.', label = titles[col])\n",
    "axs.scatter(contamination[jour],contamination['detecte'], marker = '.', label = titles['detecte'])\n",
    "axs.legend()\n",
    "locator = mdates.MonthLocator()\n",
    "fmt = mdates.DateFormatter('%b')\n",
    "X = plt.gca().xaxis\n",
    "X.set_major_locator(locator)\n",
    "# Specify formatter\n",
    "X.set_major_formatter(fmt)\n",
    "\n",
    "\n",
    "formatter = ticker.ScalarFormatter(useMathText=True)\n",
    "formatter.set_scientific(True) \n",
    "formatter.set_powerlimits((-1,1))\n",
    "axs.yaxis.set_major_formatter(formatter) \n",
    "axs.set_ylabel('nombre')\n",
    "axs.set_xlabel('date')\n",
    "axs.format_xdata = mdates.DateFormatter('%Y-%m-%d')\n",
    "axs.set_title('Spread of the epidemic')"
   ]
  },
  {
   "cell_type": "code",
   "execution_count": null,
   "metadata": {},
   "outputs": [],
   "source": []
  }
 ],
 "metadata": {
  "kernelspec": {
   "display_name": "Python 3",
   "language": "python",
   "name": "python3"
  },
  "language_info": {
   "codemirror_mode": {
    "name": "ipython",
    "version": 3
   },
   "file_extension": ".py",
   "mimetype": "text/x-python",
   "name": "python",
   "nbconvert_exporter": "python",
   "pygments_lexer": "ipython3",
   "version": "3.8.5"
  }
 },
 "nbformat": 4,
 "nbformat_minor": 4
}
