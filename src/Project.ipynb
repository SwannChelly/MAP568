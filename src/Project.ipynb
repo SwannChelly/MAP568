{
 "cells": [
  {
   "cell_type": "markdown",
   "metadata": {},
   "source": [
    "# MAP 568 Project"
   ]
  },
  {
   "cell_type": "markdown",
   "metadata": {},
   "source": [
    "Maxime Vincent & Swann Chelly"
   ]
  },
  {
   "cell_type": "code",
   "execution_count": 4,
   "metadata": {},
   "outputs": [],
   "source": [
    "import numpy as np\n",
    "\n",
    "from constant import *\n",
    "from scipy import *\n",
    "from pylab import *     \n",
    "from scipy.integrate import odeint # Module de résolution des équations différentielles\n",
    "import plotly as po\n",
    "from progressbar import ProgressBar\n",
    "import matplotlib.pyplot as plt"
   ]
  },
  {
   "cell_type": "markdown",
   "metadata": {},
   "source": [
    "## Incertitudes en sortie\n",
    "\n",
    "1) **Programmer la résolution du système (1-10).**\n",
    "\n",
    "Dans le fichier constant nous définissons l'ensemble des constantes. La fonction `init_constant` de ce fichier renvoie un dictionnaire généré aléatoirement de constantes. "
   ]
  },
  {
   "cell_type": "code",
   "execution_count": 2,
   "metadata": {},
   "outputs": [],
   "source": [
    "## Résolution de l'équation différentielle. \n",
    "\n",
    "def equa_diff(syst,temps):\n",
    "    \n",
    "    \"\"\"\n",
    "    La résolution du système d'équation différentiel (1-10) se fait grace au module odeint de scipy.integrate.\n",
    "    \n",
    "    Paramètres :\n",
    "    ------------\n",
    "    \n",
    "    syst : \n",
    "    \n",
    "    temps : \n",
    "    \n",
    "    Sorties : \n",
    "    ---------\n",
    "    Ensemble des paramètres du système différentiel. \n",
    "    \n",
    "    \"\"\"\n",
    "    #temps = round(temps,1)\n",
    "    #if temps == 50:\n",
    "    #    temps = 50.1\n",
    "    #elif temps > 100.:\n",
    "    #    temps = 100.\n",
    "    #i = time.index(temps)\n",
    "    tau = cst['tau_0']*np.exp(-cst['mu']*max(temps-(cst['N']-cst['t_0']),0))\n",
    "    S = syst[0] \n",
    "    I_moins = syst[1] \n",
    "    I_plus = syst[2] \n",
    "    R_moins = syst[3] \n",
    "    R_plus_I = syst[4] \n",
    "    H = syst[5] \n",
    "    U = syst[6] \n",
    "    R_plus_H = syst[7] \n",
    "    D = syst[8] \n",
    "    D_R = syst[9]\n",
    "    # Dérivées des variables\n",
    "    DS = -tau*S*I_moins\n",
    "    DI_moins = tau*S*I_moins-cst['lambda_1']*I_moins-(cst['gamma_IR']+cst['gamma_IH']+cst['gamma_IU'])*I_moins\n",
    "    DI_plus = cst['lambda_1']*I_moins-(cst['gamma_IR']+cst['gamma_IH']+cst['gamma_IU'])*I_plus\n",
    "    DR_moins = cst['gamma_IR']*I_moins-cst['lambda_2']*R_moins\n",
    "    DR_plus_I = cst['gamma_IR']*I_plus+cst['lambda_2']*R_moins\n",
    "    DH = cst['gamma_IH']*(I_moins + I_plus)-(cst['gamma_HR']+cst['gamma_HD']+cst['gamma_HU'])*H\n",
    "    DU = cst['gamma_IU']*(I_moins + I_plus)+cst['gamma_HU']*H-(cst['gamma_UR'] + cst['gamma_UD'])*U\n",
    "    DR_plus_H = cst['gamma_HR']*H+cst['gamma_UR']*U\n",
    "    DD = cst['gamma_UD']*U+cst['gamma_HD']*H  \n",
    "    DD_R = (cst['lambda_1']+cst['gamma_IH']+cst['gamma_IU'])*I_moins-D_R\n",
    "    \n",
    "    \n",
    "    return(DS,DI_moins,DI_plus,DR_moins,DR_plus_I,DH,DU,DR_plus_H,DD,DD_R)\n"
   ]
  },
  {
   "cell_type": "code",
   "execution_count": 59,
   "metadata": {},
   "outputs": [
    {
     "data": {
      "text/plain": [
       "Text(0, 0.5, 'Nombre de personne en réanimation')"
      ]
     },
     "execution_count": 59,
     "metadata": {},
     "output_type": "execute_result"
    },
    {
     "data": {
      "image/png": "[encoded data removed]",
      "text/plain": [
       "<Figure size 432x288 with 1 Axes>"
      ]
     },
     "metadata": {
      "needs_background": "light"
     },
     "output_type": "display_data"
    }
   ],
   "source": [
    "# Analyse des résultats\n",
    "\n",
    "cst = init_constant()\n",
    "syst_CI=array([cst['S_0'],cst['I_moins_0'],0,0,0,0,0,0,0,0])\n",
    "simulation=odeint(equa_diff,syst_CI,t)\n",
    "plt.plot(simulation[:,6])\n",
    "plt.title(f\"Evolution du nombre de personne en réanimation sur {T_MAX} jours\")\n",
    "plt.xlabel(f\"Temps en {deltaT} jour\")\n",
    "plt.ylabel(\"Nombre de personne en réanimation\")\n",
    "\n",
    "\n"
   ]
  },
  {
   "cell_type": "markdown",
   "metadata": {},
   "source": [
    "2) **Par échantillonnage Monte Carlo (en utilisant les lois des paramètres d'entrée de la table 1), donner :**\n",
    "- la loi du nombre maximal de patients présents en soins intensifs (histogramme, moyenne, quantiles à 10% et 90%),\n",
    "- la loi de la date du pic de l'épidémie."
   ]
  },
  {
   "cell_type": "code",
   "execution_count": 84,
   "metadata": {},
   "outputs": [
    {
     "name": "stderr",
     "output_type": "stream",
     "text": [
      "  0% |                                                                        |\r"
     ]
    },
    {
     "name": "stdout",
     "output_type": "stream",
     "text": [
      "Echantillonnage de Monte Carlo sur 10000 simulation\n"
     ]
    },
    {
     "name": "stderr",
     "output_type": "stream",
     "text": [
      "100% |########################################################################|\n"
     ]
    }
   ],
   "source": [
    "## Implémentation de la méthode de Monte Carlo classique pour la résolution du système différentiel. \n",
    "\n",
    "M = 10000\n",
    "\n",
    "def Monte_Carlo(M):\n",
    "    \"\"\"\n",
    "    Echantillonage de Monte Carlo \n",
    "    \n",
    "    Paramètres : \n",
    "    ------------\n",
    "    \n",
    "    M : int, \n",
    "        Taille de l'échantillon. \n",
    "    \n",
    "    Sorties : \n",
    "    ---------\n",
    "    peak_value  : list,\n",
    "        Nombre de cas en réanimation au pic de l'épidémie pour chaque simulation.\n",
    "    peak_day    : list, \n",
    "        Jour du pic pour chaque simulation.\n",
    "    pos         : list, \n",
    "        Nombre de cas au pic de l'épidémie pour chaque simulation.\n",
    "    \n",
    "    \"\"\"\n",
    "    \n",
    "    print(f\"Echantillonnage de Monte Carlo sur 10000 simulation\")\n",
    "    peak_value,peak_day, pos = [],[], []\n",
    "    pbar = ProgressBar()\n",
    "    for i in pbar(range(M)):\n",
    "        cst = init_constant()\n",
    "        syst_CI=array([cst['S_0'],cst['I_moins_0'],0,0,0,0,0,0,0,0]) \n",
    "        simulation=odeint(equa_diff,syst_CI,t)           \n",
    "        peak_value.append(np.max(simulation[:,6]))\n",
    "        peak_day.append(int(np.argmax(list(simulation[:,6]))*deltaT))\n",
    "        pos.append(np.max(simulation[:,1]))\n",
    "        \n",
    "    return (peak_value,peak_day,pos)\n",
    "\n",
    "peak_value,peak_day,pos = Monte_Carlo(M)\n"
   ]
  },
  {
   "cell_type": "code",
   "execution_count": 88,
   "metadata": {},
   "outputs": [
    {
     "name": "stdout",
     "output_type": "stream",
     "text": [
      "La valeur moyenne du pic est de 1532.01 et appartient à l'intervalle de confiance à 95% suivant : [1300.75,1763.27] \n",
      " Le quantile à 10% du pic de réanimation est : 0.34180210365684405\n",
      " Le quantile à 90% du pic de réanimation est : 586.3361649443412\n"
     ]
    },
    {
     "data": {
      "image/png": "[encoded data removed]",
      "text/plain": [
       "<Figure size 432x288 with 2 Axes>"
      ]
     },
     "metadata": {
      "needs_background": "light"
     },
     "output_type": "display_data"
    }
   ],
   "source": [
    "mean_value = np.mean(peak_value)\n",
    "var_value  = np.var(peak_value)\n",
    "q_10 = np.quantile(peak_value, 0.1, axis = None)\n",
    "q_70 = np.quantile(peak_value, 0.7, axis = None)\n",
    "q_90 = np.quantile(peak_value, 0.9, axis = None)\n",
    "print(f\"La valeur moyenne du pic est de {round(mean_value,2)} et appartient à l'intervalle de confiance à 95% suivant : [{max(0,round(mean_value-1.96*np.sqrt(var_value/M),2))},{round(mean_value+1.96*np.sqrt(var_value/M),2)}] \")\n",
    "print(f\" Le quantile à 10% du pic de réanimation est : {q_10}\")\n",
    "print(f\" Le quantile à 90% du pic de réanimation est : {q_90}\")\n",
    "\n",
    "# Compte tenu de la valeur du quantile à 90% nous tronquons donc la liste par soucis de visibilité. \n",
    "\n",
    "\n",
    "fig, axs = plt.subplots(2)\n",
    "fig.suptitle(f\"Distribution du nombre de personnes en réanimation sur un échantillon de taille {M}\")\n",
    "axs[0].hist([value for value in peak_value if value < q_90], bins = 100)\n",
    "axs[0].set_title('Quantile à 90 %')\n",
    "axs[1].hist([value for value in peak_value if value < q_70], bins = 100)\n",
    "axs[1].set_title('Quantile à 70 %')\n",
    "plt.subplots_adjust(hspace=0.5)"
   ]
  },
  {
   "cell_type": "markdown",
   "metadata": {},
   "source": [
    "En supposant que la distribution du nombre de cas en réanimation au pic de l'épidémie suis une loie exponentielle, nous pouvons donner son paramètre $\\lambda = \\frac{1}{\\mathbb{\\hat{E}}(X)}$ où $X$ correspond à la variable aléatoire liée au nombre de cas en réanimation au pic de l'épidémie. Nous la notrons ici `lbd`.\n"
   ]
  },
  {
   "cell_type": "code",
   "execution_count": 98,
   "metadata": {},
   "outputs": [
    {
     "name": "stdout",
     "output_type": "stream",
     "text": [
      "0.000652738511655159\n"
     ]
    },
    {
     "data": {
      "text/plain": [
       "(array([1476.91498121, 1358.95052584, 1130.88591213, 1130.88591213,\n",
       "         940.56992414,  871.36411032,  888.66556377,  732.95248269,\n",
       "         619.70660553,  605.55087089,  556.79222934,  533.19933826,\n",
       "         426.24489873,  405.79772647,  386.92341361,  357.03908491,\n",
       "         311.42616217,  317.71759979,  275.25039586,  235.92891074,\n",
       "         196.60742561,  212.33601966,  155.71308109,  138.41162763,\n",
       "         133.69304942,  110.10015834,  117.96445537,  105.38158013,\n",
       "          92.79870489,   84.93440787,   77.07011084,   66.06009501,\n",
       "          55.05007917,   69.20581382,   59.76865739,   45.61292274,\n",
       "          39.32148512,   37.74862572,   34.60290691,   45.61292274,\n",
       "          34.60290691,   20.44717226,   14.15573464,   25.16575048,\n",
       "          22.02003167,   17.30145345,   14.15573464,    6.29143762,\n",
       "          14.15573464,    9.43715643,    9.43715643,    7.86429702,\n",
       "           7.86429702,    4.71857821,    7.86429702,    7.86429702,\n",
       "           9.43715643,    6.29143762,    4.71857821,   11.01001583,\n",
       "           1.5728594 ,    0.        ,    1.5728594 ,    4.71857821,\n",
       "           6.29143762,    1.5728594 ,    0.        ,    3.14571881,\n",
       "           0.        ,    3.14571881,    1.5728594 ,    0.        ,\n",
       "           0.        ,    0.        ,    0.        ,    0.        ,\n",
       "           0.        ,    0.        ,    3.14571881,    1.5728594 ,\n",
       "           1.5728594 ,    0.        ,    0.        ,    0.        ,\n",
       "           0.        ,    0.        ,    1.5728594 ,    0.        ,\n",
       "           0.        ,    0.        ,    0.        ,    0.        ,\n",
       "           0.        ,    0.        ,    0.        ,    0.        ,\n",
       "           0.        ,    0.        ,    0.        ,    1.5728594 ]),\n",
       " array([4.23101608e-09, 6.35827045e-05, 1.27161178e-04, 1.90739652e-04,\n",
       "        2.54318125e-04, 3.17896599e-04, 3.81475072e-04, 4.45053546e-04,\n",
       "        5.08632019e-04, 5.72210493e-04, 6.35788966e-04, 6.99367440e-04,\n",
       "        7.62945913e-04, 8.26524387e-04, 8.90102860e-04, 9.53681334e-04,\n",
       "        1.01725981e-03, 1.08083828e-03, 1.14441675e-03, 1.20799523e-03,\n",
       "        1.27157370e-03, 1.33515217e-03, 1.39873065e-03, 1.46230912e-03,\n",
       "        1.52588760e-03, 1.58946607e-03, 1.65304454e-03, 1.71662302e-03,\n",
       "        1.78020149e-03, 1.84377996e-03, 1.90735844e-03, 1.97093691e-03,\n",
       "        2.03451538e-03, 2.09809386e-03, 2.16167233e-03, 2.22525080e-03,\n",
       "        2.28882928e-03, 2.35240775e-03, 2.41598622e-03, 2.47956470e-03,\n",
       "        2.54314317e-03, 2.60672164e-03, 2.67030012e-03, 2.73387859e-03,\n",
       "        2.79745707e-03, 2.86103554e-03, 2.92461401e-03, 2.98819249e-03,\n",
       "        3.05177096e-03, 3.11534943e-03, 3.17892791e-03, 3.24250638e-03,\n",
       "        3.30608485e-03, 3.36966333e-03, 3.43324180e-03, 3.49682027e-03,\n",
       "        3.56039875e-03, 3.62397722e-03, 3.68755569e-03, 3.75113417e-03,\n",
       "        3.81471264e-03, 3.87829111e-03, 3.94186959e-03, 4.00544806e-03,\n",
       "        4.06902654e-03, 4.13260501e-03, 4.19618348e-03, 4.25976196e-03,\n",
       "        4.32334043e-03, 4.38691890e-03, 4.45049738e-03, 4.51407585e-03,\n",
       "        4.57765432e-03, 4.64123280e-03, 4.70481127e-03, 4.76838974e-03,\n",
       "        4.83196822e-03, 4.89554669e-03, 4.95912516e-03, 5.02270364e-03,\n",
       "        5.08628211e-03, 5.14986058e-03, 5.21343906e-03, 5.27701753e-03,\n",
       "        5.34059601e-03, 5.40417448e-03, 5.46775295e-03, 5.53133143e-03,\n",
       "        5.59490990e-03, 5.65848837e-03, 5.72206685e-03, 5.78564532e-03,\n",
       "        5.84922379e-03, 5.91280227e-03, 5.97638074e-03, 6.03995921e-03,\n",
       "        6.10353769e-03, 6.16711616e-03, 6.23069463e-03, 6.29427311e-03,\n",
       "        6.35785158e-03]),\n",
       " <BarContainer object of 100 artists>)"
      ]
     },
     "execution_count": 98,
     "metadata": {},
     "output_type": "execute_result"
    },
    {
     "data": {
      "image/png": "[encoded data removed]",
      "text/plain": [
       "<Figure size 432x288 with 1 Axes>"
      ]
     },
     "metadata": {
      "needs_background": "light"
     },
     "output_type": "display_data"
    }
   ],
   "source": [
    "lbd = 1/mean_value\n",
    "print(lbd)\n",
    "Y = np.random.exponential(lbd,10000)\n",
    "plt.hist(Y,bins = 100,density = True)"
   ]
  },
  {
   "cell_type": "code",
   "execution_count": 86,
   "metadata": {},
   "outputs": [
    {
     "name": "stdout",
     "output_type": "stream",
     "text": [
      "La valeur moyenne du pic est de 46.61 et appartient à l'intervalle de confiance à 95% suivant : [46.18,47.04] \n",
      " Le quantile à 10% du pic de réanimation est : 23.0\n",
      " Le quantile à 90% du pic de réanimation est : 83.0\n"
     ]
    },
    {
     "data": {
      "image/png": "[encoded data removed]",
      "text/plain": [
       "<Figure size 432x288 with 2 Axes>"
      ]
     },
     "metadata": {
      "needs_background": "light"
     },
     "output_type": "display_data"
    }
   ],
   "source": [
    "# Loi de la date de l'épidémie. \n",
    "\n",
    "mean_day = np.mean(peak_day)\n",
    "var_day  = np.var(peak_day)\n",
    "q_10_day = np.quantile(peak_day, 0.1, axis = None)\n",
    "q_70_day = np.quantile(peak_day, 0.7, axis = None)\n",
    "q_90_day = np.quantile(peak_day, 0.9, axis = None)\n",
    "print(f\"La valeur moyenne du pic est de {round(mean_day,2)} et appartient à l'intervalle de confiance à 95% suivant : [{max(0,round(mean_day-1.96*np.sqrt(var_day/M),2))},{round(mean_day+1.96*np.sqrt(var_day/M),2)}] \")\n",
    "print(f\" Le quantile à 10% du pic de réanimation est : {q_10_day}\")\n",
    "print(f\" Le quantile à 90% du pic de réanimation est : {q_90_day}\")\n",
    "\n",
    "# Compte tenu de la valeur du quantile à 90% nous tronquons donc la liste par soucis de visibilité. \n",
    "\n",
    "fig, axs = plt.subplots(2)\n",
    "fig.suptitle(f\"Distribution du jour du pic sur un échantillon de taille {M}\")\n",
    "axs[0].hist([day for day in peak_day if day < q_90_day], bins = 100)\n",
    "axs[0].set_title('Quantile à 90 %')\n",
    "axs[1].hist([day for day in peak_day if day < q_70_day], bins = 100)\n",
    "axs[1].set_title('Quantile à 70 %')\n",
    "plt.subplots_adjust(hspace=0.5)"
   ]
  },
  {
   "cell_type": "code",
   "execution_count": null,
   "metadata": {},
   "outputs": [],
   "source": []
  }
 ],
 "metadata": {
  "kernelspec": {
   "display_name": "Python 3",
   "language": "python",
   "name": "python3"
  },
  "language_info": {
   "codemirror_mode": {
    "name": "ipython",
    "version": 3
   },
   "file_extension": ".py",
   "mimetype": "text/x-python",
   "name": "python",
   "nbconvert_exporter": "python",
   "pygments_lexer": "ipython3",
   "version": "3.8.5"
  }
 },
 "nbformat": 4,
 "nbformat_minor": 4
}
