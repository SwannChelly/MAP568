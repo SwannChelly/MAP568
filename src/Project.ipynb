{
 "cells": [
  {
   "cell_type": "markdown",
   "metadata": {},
   "source": [
    "# MAP 568 Project"
   ]
  },
  {
   "cell_type": "markdown",
   "metadata": {},
   "source": [
    "Maxime Vincent & Swann Chelly"
   ]
  },
  {
   "cell_type": "code",
   "execution_count": 1,
   "metadata": {},
   "outputs": [],
   "source": [
    "import numpy as np\n",
    "\n",
    "from constant import *\n",
    "from scipy import *\n",
    "from scipy import stats\n",
    "from pylab import *     \n",
    "from scipy.integrate import odeint # Module de résolution des équations différentielles\n",
    "import plotly as po\n",
    "from progressbar import ProgressBar\n",
    "import matplotlib.pyplot as plt"
   ]
  },
  {
   "cell_type": "markdown",
   "metadata": {},
   "source": [
    "## Incertitudes en sortie\n",
    "\n",
    "1) **Programmer la résolution du système (1-10).**\n",
    "\n",
    "Dans le fichier constant nous définissons l'ensemble des constantes. La fonction `init_constant` de ce fichier renvoie un dictionnaire généré aléatoirement de constantes. "
   ]
  },
  {
   "cell_type": "code",
   "execution_count": 23,
   "metadata": {},
   "outputs": [],
   "source": [
    "## Résolution de l'équation différentielle. \n",
    "\n",
    "def equa_diff(syst,temps,variables, constants):\n",
    "    \n",
    "    \"\"\"\n",
    "    La résolution du système d'équation différentiel (1-10) se fait grace au module odeint de scipy.integrate.\n",
    "    \n",
    "    Paramètres :\n",
    "    ------------\n",
    "    \n",
    "    syst : \n",
    "    \n",
    "    temps : \n",
    "    \n",
    "    Sorties : \n",
    "    ---------\n",
    "    Ensemble des paramètres du système différentiel. \n",
    "    \n",
    "    \"\"\"\n",
    "    #temps = round(temps,1)\n",
    "    #if temps == 50:\n",
    "    #    temps = 50.1\n",
    "    #elif temps > 100.:\n",
    "    #    temps = 100.\n",
    "    #i = time.index(temps)\n",
    "    \n",
    "    if type(variables)!= dict:\n",
    "        variables = dict(zip(variables_keys,variables))\n",
    "        constants = dict(zip(constants_keys, constants))\n",
    "    else : \n",
    "        variables = variables\n",
    "        constants = constants\n",
    "    \n",
    "    \n",
    "    tau = constants['tau_0']*np.exp(-variables['mu']*max(temps-variables['N'],0))\n",
    "    S = syst[0] \n",
    "    I_moins = syst[1] \n",
    "    I_plus = syst[2] \n",
    "    R_moins = syst[3] \n",
    "    R_plus_I = syst[4] \n",
    "    H = syst[5] \n",
    "    U = syst[6] \n",
    "    R_plus_H = syst[7] \n",
    "    D = syst[8] \n",
    "    D_R = syst[9]\n",
    "    # Dérivées des variables\n",
    "    DS = -tau*S*I_moins\n",
    "    DI_moins = tau*S*I_moins-variables['lambda_1']*I_moins-(constants['gamma_IR']+constants['gamma_IH']+constants['gamma_IU'])*I_moins\n",
    "    DI_plus = variables['lambda_1']*I_moins-(constants['gamma_IR']+constants['gamma_IH']+constants['gamma_IU'])*I_plus\n",
    "    DR_moins = constants['gamma_IR']*I_moins\n",
    "    DR_plus_I = constants['gamma_IR']*I_plus\n",
    "    DH = constants['gamma_IH']*(I_moins + I_plus)-(constants['gamma_HR']+constants['gamma_HD']+constants['gamma_HU'])*H\n",
    "    DU = constants['gamma_IU']*(I_moins + I_plus)+constants['gamma_HU']*H-(constants['gamma_UR'] + constants['gamma_UD'])*U\n",
    "    DR_plus_H = constants['gamma_HR']*H+constants['gamma_UR']*U\n",
    "    DD =constants['gamma_UD']*U+constants['gamma_HD']*H  \n",
    "    DD_R = (variables['lambda_1']+constants['gamma_IH']+constants['gamma_IU'])*I_moins-D_R\n",
    "    \n",
    "    \n",
    "    return([DS,DI_moins,DI_plus,DR_moins,DR_plus_I,DH,DU,DR_plus_H,DD,DD_R])\n"
   ]
  },
  {
   "cell_type": "code",
   "execution_count": 3,
   "metadata": {},
   "outputs": [],
   "source": [
    "def euler_one_step(S,I_moins,I_plus,R_moins,R_plus_I,H,U,R_plus_H,D,D_R,i,constants,variables, deltaT):\n",
    "    S_1        = S-constants['tau'][i]*S*I_moins*deltaT\n",
    "    I_moins_1  = I_moins + (constants['tau'][i]*S*I_moins-variables['lambda_1']*I_moins-(constants['gamma_IR']+constants['gamma_IH']+constants['gamma_IU'])*I_moins)*deltaT\n",
    "    I_plus_1   = I_plus +(variables['lambda_1']*I_moins-(constants['gamma_IR']+constants['gamma_IH']+constants['gamma_IU'])*I_plus)*deltaT\n",
    "    R_moins_1  = R_moins +(constants['gamma_IR']*I_moins)*deltaT\n",
    "    R_plus_I_1 = R_plus_I + (constants['gamma_IR']*I_plus)*deltaT\n",
    "    H_1        = H + (constants['gamma_IH']*(I_moins + I_plus)-(constants['gamma_HR']+constants['gamma_HD']+constants['gamma_HU'])*H)*deltaT\n",
    "    U_1        = U + (constants['gamma_IU']*(I_moins + I_plus)+constants['gamma_HU']*H-(constants['gamma_UR'] + constants['gamma_UD'])*U)*deltaT\n",
    "    R_plus_H_1 = R_plus_H+ (constants['gamma_HR']*H+constants['gamma_UR']*U)*deltaT\n",
    "    D_1        = D + (constants['gamma_UD']*U+constants['gamma_HD']*H)*deltaT  \n",
    "    D_R_1      = D_R +((variables['lambda_1']+constants['gamma_IH']+constants['gamma_IU'])*I_moins-D_R)*deltaT\n",
    "    \n",
    "    \n",
    "    return(S_1,I_moins_1,I_plus_1,R_moins_1,R_plus_I_1,H_1,U_1,R_plus_H_1,D_1,D_R_1)\n",
    "\n",
    "\n",
    "def resolution_systeme(deltaT,constants, variables, set_size = global_constants['set_size']):\n",
    "    if type(variables)!= dict:\n",
    "        variables = dict(zip(variables_keys,variables))\n",
    "        constants = dict(zip(constants_keys, constants))\n",
    "    else : \n",
    "        variables = variables\n",
    "        constants = constants\n",
    "    Res = np.zeros((10,set_size))\n",
    "    Res[0,0] = global_constants['S_0']\n",
    "    Res[1,0] = variables['I_moins_0']\n",
    "    \n",
    "    for i in range(1,set_size):\n",
    "        Res[:,i] = euler_one_step(Res[0,i-1],Res[1,i-1],Res[2,i-1],Res[3,i-1],Res[4,i-1],Res[5,i-1],Res[6,i-1],Res[7,i-1],Res[8,i-1],Res[9,i-1],i,constants, variables, deltaT)\n",
    " \n",
    "    return Res\n",
    "\n"
   ]
  },
  {
   "cell_type": "code",
   "execution_count": 24,
   "metadata": {},
   "outputs": [
    {
     "name": "stdout",
     "output_type": "stream",
     "text": [
      "[  4   5   6   7   8   9  10  11  12  13  14  15  16  17  18  19  20  21\n",
      "  22  23  24  25  26  27  28  29  30  31  32  33  34  35  36  37  38  39\n",
      "  40  41  42  43  44  45  46  47  48  49  50  51  52  53  54  55  56  57\n",
      "  58  59  60  61  62  63  64  65  66  67  68  69  70  71  72  73  74  75\n",
      "  76  77  78  79  80  81  82  83  84  85  86  87  88  89  90  91  92  93\n",
      "  94  95  96  97  98  99 100 101 102 103]\n",
      "100\n"
     ]
    },
    {
     "data": {
      "text/plain": [
       "Text(0, 0.5, 'Nombre de personne en réanimation')"
      ]
     },
     "execution_count": 24,
     "metadata": {},
     "output_type": "execute_result"
    },
    {
     "data": {
      "image/png": "[encoded data removed]",
      "text/plain": [
       "<Figure size 432x288 with 1 Axes>"
      ]
     },
     "metadata": {
      "needs_background": "light"
     },
     "output_type": "display_data"
    }
   ],
   "source": [
    "# Analyse des résultats\n",
    "\n",
    "variables = init_variables()\n",
    "constants = compute_constants(variables)\n",
    "\n",
    "\n",
    "syst_CI=array([global_constants['S_0'],variables['I_moins_0'],0,0,0,0,0,0,0,0])\n",
    "simulation=odeint(equa_diff,syst_CI,constants['t'], args = (variables,constants))\n",
    "print(len(simulation))\n",
    "plt.plot(simulation[::int(1/global_constants['deltaT']),6])\n",
    "plt.title(f\"Evolution du nombre de personne en réanimation sur {global_constants['T_MAX']} jours\")\n",
    "plt.xlabel(f\"Temps en {global_constants['deltaT']} jour\")\n",
    "plt.ylabel(\"Nombre de personne en réanimation\")\n",
    "\n"
   ]
  },
  {
   "cell_type": "markdown",
   "metadata": {},
   "source": [
    "2) **Par échantillonnage Monte Carlo (en utilisant les lois des paramètres d'entrée de la table 1), donner :**\n",
    "- la loi du nombre maximal de patients présents en soins intensifs (histogramme, moyenne, quantiles à 10% et 90%),\n",
    "- la loi de la date du pic de l'épidémie."
   ]
  },
  {
   "cell_type": "code",
   "execution_count": 10,
   "metadata": {},
   "outputs": [
    {
     "name": "stderr",
     "output_type": "stream",
     "text": [
      "  0% (6 of 10000) |                      | Elapsed Time: 0:00:00 ETA:   0:03:04"
     ]
    },
    {
     "name": "stdout",
     "output_type": "stream",
     "text": [
      "Echantillonnage de Monte Carlo sur 10000 simulations\n"
     ]
    },
    {
     "name": "stderr",
     "output_type": "stream",
     "text": [
      "100% (10000 of 10000) |##################| Elapsed Time: 0:01:53 Time:  0:01:53\n"
     ]
    }
   ],
   "source": [
    "## Implémentation de la méthode de Monte Carlo classique pour la résolution du système différentiel. \n",
    "\n",
    "M = 10000\n",
    "\n",
    "def Monte_Carlo(M, methode):\n",
    "    \"\"\"\n",
    "    Echantillonage de Monte Carlo \n",
    "    \n",
    "    Paramètres : \n",
    "    ------------\n",
    "    \n",
    "    M : int, \n",
    "        Taille de l'échantillon. \n",
    "    \n",
    "    Sorties : \n",
    "    ---------\n",
    "    peak_value  : list,\n",
    "        Nombre de cas en réanimation au pic de l'épidémie pour chaque simulation.\n",
    "    peak_day    : list, \n",
    "        Jour du pic pour chaque simulation.\n",
    "    pos         : list, \n",
    "        Nombre de cas au pic de l'épidémie pour chaque simulation.\n",
    "    \n",
    "    \"\"\"\n",
    "    \n",
    "    print(f\"Echantillonnage de Monte Carlo sur {M} simulations\")\n",
    "    peak_value,peak_day, pos = [],[], []\n",
    "    pbar = ProgressBar()\n",
    "    for i in pbar(range(M)):\n",
    "        if methode == 'odeint':\n",
    "            variables = init_variables(deltaT=global_constants['deltaT'],global_constants = global_constants)\n",
    "            constants = compute_constants(variables)\n",
    "            syst_CI=array([global_constants['S_0'],variables['I_moins_0'],0,0,0,0,0,0,0,0])\n",
    "            simulation=odeint(equa_diff,syst_CI,constants['t'], args = (variables,constants))      \n",
    "            peak_value.append(np.max(simulation[:,6]))\n",
    "            peak_day.append(int(np.argmax(list(simulation[:,6]))*global_constants['deltaT']))\n",
    "            pos.append(np.max(simulation[:,1]))\n",
    "        if methode == 'euler' :\n",
    "            variables = init_variables(deltaT=global_constants['deltaT'],global_constants = global_constants)\n",
    "            constants = compute_constants(variables)\n",
    "            simulation = np.transpose(resolution_systeme(global_constants['deltaT'],constants, variables, set_size = global_constants['set_size']))\n",
    "            #peak_value.append(np.max(simulation[6]))\n",
    "            #peak_day.append(int(np.argmax(list(simulation[6]))*global_constants['deltaT']))\n",
    "            #pos.append(np.max(simulation[1]))\n",
    "            peak_value.append(np.max(simulation[:,6]))\n",
    "            peak_day.append(int(np.argmax(list(simulation[:,6]))*global_constants['deltaT']))\n",
    "            pos.append(np.max(simulation[:,1]))\n",
    "        \n",
    "    return (peak_value,peak_day,pos)\n",
    "\n",
    "peak_value,peak_day,pos = Monte_Carlo(M, methode = 'odeint')"
   ]
  },
  {
   "cell_type": "code",
   "execution_count": 22,
   "metadata": {},
   "outputs": [
    {
     "data": {
      "text/plain": [
       "10000"
      ]
     },
     "execution_count": 22,
     "metadata": {},
     "output_type": "execute_result"
    }
   ],
   "source": []
  },
  {
   "cell_type": "code",
   "execution_count": 12,
   "metadata": {},
   "outputs": [
    {
     "name": "stdout",
     "output_type": "stream",
     "text": [
      "La valeur moyenne du pic est de 31287.91 et appartient à l'intervalle de confiance à 95% suivant : [29922.82,32652.99] \n",
      " Le quantile à 10% du pic de réanimation est : 41.30475783322165\n",
      " Le quantile à 90% du pic de réanimation est : 99435.26376031176\n"
     ]
    },
    {
     "data": {
      "image/png": "[encoded data removed]",
      "text/plain": [
       "<Figure size 432x288 with 2 Axes>"
      ]
     },
     "metadata": {
      "needs_background": "light"
     },
     "output_type": "display_data"
    }
   ],
   "source": [
    "mean_value = np.mean(peak_value)\n",
    "var_value  = np.var(peak_value)\n",
    "q_10 = np.quantile(peak_value, 0.1, axis = None)\n",
    "q_70 = np.quantile(peak_value, 0.7, axis = None)\n",
    "q_90 = np.quantile(peak_value, 0.9, axis = None)\n",
    "print(f\"La valeur moyenne du pic est de {round(mean_value,2)} et appartient à l'intervalle de confiance à 95% suivant : [{max(0,round(mean_value-1.96*np.sqrt(var_value/M),2))},{round(mean_value+1.96*np.sqrt(var_value/M),2)}] \")\n",
    "print(f\" Le quantile à 10% du pic de réanimation est : {q_10}\")\n",
    "print(f\" Le quantile à 90% du pic de réanimation est : {q_90}\")\n",
    "\n",
    "# Compte tenu de la valeur du quantile à 90% nous tronquons donc la liste par soucis de visibilité. \n",
    "\n",
    "\n",
    "fig, axs = plt.subplots(2)\n",
    "fig.suptitle(f\"Distribution du nombre de personnes en réanimation sur un échantillon de taille {M}\")\n",
    "axs[0].hist([value for value in peak_value if value < q_90], bins = 100, density = 1)\n",
    "axs[0].set_title('Quantile à 90 %')\n",
    "axs[1].hist([value for value in peak_value if value < q_70], bins = 100, density = True)\n",
    "axs[1].set_title('Quantile à 70 %')\n",
    "x=np.arange(0,max([value for value in peak_value if (value < q_70)]), 0.01)\n",
    "Moy = np.mean([value for value in peak_value if ( value > q_10 and value < q_90)])\n",
    "Median = np.median([value for value in peak_value if (value < q_70)])\n",
    "axs[1].plot(x,stats.expon.pdf(x, scale=Moy), label=\"densité\") \n",
    "plt.subplots_adjust(hspace=0.5)"
   ]
  },
  {
   "cell_type": "markdown",
   "metadata": {},
   "source": [
    "En supposant que la distribution du nombre de cas en réanimation au pic de l'épidémie suis une loie exponentielle, nous pouvons donner son paramètre $\\lambda = \\frac{1}{\\mathbb{\\hat{E}}(X)}$ où $X$ correspond à la variable aléatoire liée au nombre de cas en réanimation au pic de l'épidémie. Nous la notrons ici `lbd`.\n"
   ]
  },
  {
   "cell_type": "code",
   "execution_count": 9,
   "metadata": {},
   "outputs": [
    {
     "name": "stdout",
     "output_type": "stream",
     "text": [
      "4.9527887785471895e-05\n"
     ]
    },
    {
     "data": {
      "text/plain": [
       "(array([1.92999195e+04, 1.70003546e+04, 1.47829170e+04, 1.43558550e+04,\n",
       "        1.14156971e+04, 1.02002128e+04, 9.26396135e+03, 7.55571316e+03,\n",
       "        6.63588721e+03, 6.24167609e+03, 5.40397745e+03, 5.46967931e+03,\n",
       "        3.90926029e+03, 3.90926029e+03, 3.18653990e+03, 2.85803063e+03,\n",
       "        2.71020146e+03, 2.74305239e+03, 2.26671395e+03, 1.85607736e+03,\n",
       "        1.79037551e+03, 1.44544078e+03, 1.24833522e+03, 8.70549559e+02,\n",
       "        9.36251413e+02, 9.03400486e+02, 7.06294926e+02, 7.39145852e+02,\n",
       "        4.27062048e+02, 5.25614828e+02, 3.94211121e+02, 4.10636585e+02,\n",
       "        4.27062048e+02, 1.80680097e+02, 2.79232878e+02, 2.79232878e+02,\n",
       "        2.46381951e+02, 1.97105561e+02, 6.57018535e+01, 1.14978244e+02,\n",
       "        1.80680097e+02, 6.57018535e+01, 6.57018535e+01, 4.92763902e+01,\n",
       "        6.57018535e+01, 3.28509268e+01, 8.21273169e+01, 6.57018535e+01,\n",
       "        6.57018535e+01, 6.57018535e+01, 0.00000000e+00, 1.64254634e+01,\n",
       "        4.92763902e+01, 1.64254634e+01, 0.00000000e+00, 1.64254634e+01,\n",
       "        3.28509268e+01, 1.64254634e+01, 0.00000000e+00, 0.00000000e+00,\n",
       "        0.00000000e+00, 0.00000000e+00, 1.64254634e+01, 0.00000000e+00,\n",
       "        0.00000000e+00, 3.28509268e+01, 0.00000000e+00, 0.00000000e+00,\n",
       "        1.64254634e+01, 0.00000000e+00, 0.00000000e+00, 0.00000000e+00,\n",
       "        0.00000000e+00, 0.00000000e+00, 1.64254634e+01, 0.00000000e+00,\n",
       "        0.00000000e+00, 0.00000000e+00, 0.00000000e+00, 0.00000000e+00,\n",
       "        1.64254634e+01, 0.00000000e+00, 0.00000000e+00, 0.00000000e+00,\n",
       "        0.00000000e+00, 0.00000000e+00, 0.00000000e+00, 0.00000000e+00,\n",
       "        0.00000000e+00, 0.00000000e+00, 0.00000000e+00, 0.00000000e+00,\n",
       "        0.00000000e+00, 0.00000000e+00, 0.00000000e+00, 0.00000000e+00,\n",
       "        0.00000000e+00, 0.00000000e+00, 0.00000000e+00, 1.64254634e+01]),\n",
       " array([1.78821240e-09, 6.08989651e-06, 1.21780048e-05, 1.82661131e-05,\n",
       "        2.43542214e-05, 3.04423297e-05, 3.65304380e-05, 4.26185463e-05,\n",
       "        4.87066546e-05, 5.47947629e-05, 6.08828712e-05, 6.69709795e-05,\n",
       "        7.30590878e-05, 7.91471961e-05, 8.52353044e-05, 9.13234127e-05,\n",
       "        9.74115210e-05, 1.03499629e-04, 1.09587738e-04, 1.15675846e-04,\n",
       "        1.21763954e-04, 1.27852063e-04, 1.33940171e-04, 1.40028279e-04,\n",
       "        1.46116387e-04, 1.52204496e-04, 1.58292604e-04, 1.64380712e-04,\n",
       "        1.70468821e-04, 1.76556929e-04, 1.82645037e-04, 1.88733146e-04,\n",
       "        1.94821254e-04, 2.00909362e-04, 2.06997470e-04, 2.13085579e-04,\n",
       "        2.19173687e-04, 2.25261795e-04, 2.31349904e-04, 2.37438012e-04,\n",
       "        2.43526120e-04, 2.49614229e-04, 2.55702337e-04, 2.61790445e-04,\n",
       "        2.67878553e-04, 2.73966662e-04, 2.80054770e-04, 2.86142878e-04,\n",
       "        2.92230987e-04, 2.98319095e-04, 3.04407203e-04, 3.10495312e-04,\n",
       "        3.16583420e-04, 3.22671528e-04, 3.28759637e-04, 3.34847745e-04,\n",
       "        3.40935853e-04, 3.47023961e-04, 3.53112070e-04, 3.59200178e-04,\n",
       "        3.65288286e-04, 3.71376395e-04, 3.77464503e-04, 3.83552611e-04,\n",
       "        3.89640720e-04, 3.95728828e-04, 4.01816936e-04, 4.07905044e-04,\n",
       "        4.13993153e-04, 4.20081261e-04, 4.26169369e-04, 4.32257478e-04,\n",
       "        4.38345586e-04, 4.44433694e-04, 4.50521803e-04, 4.56609911e-04,\n",
       "        4.62698019e-04, 4.68786127e-04, 4.74874236e-04, 4.80962344e-04,\n",
       "        4.87050452e-04, 4.93138561e-04, 4.99226669e-04, 5.05314777e-04,\n",
       "        5.11402886e-04, 5.17490994e-04, 5.23579102e-04, 5.29667210e-04,\n",
       "        5.35755319e-04, 5.41843427e-04, 5.47931535e-04, 5.54019644e-04,\n",
       "        5.60107752e-04, 5.66195860e-04, 5.72283969e-04, 5.78372077e-04,\n",
       "        5.84460185e-04, 5.90548293e-04, 5.96636402e-04, 6.02724510e-04,\n",
       "        6.08812618e-04]),\n",
       " <BarContainer object of 100 artists>)"
      ]
     },
     "execution_count": 9,
     "metadata": {},
     "output_type": "execute_result"
    },
    {
     "data": {
      "image/png": "[encoded data removed]",
      "text/plain": [
       "<Figure size 432x288 with 1 Axes>"
      ]
     },
     "metadata": {
      "needs_background": "light"
     },
     "output_type": "display_data"
    }
   ],
   "source": [
    "lbd = 1/mean_value\n",
    "print(lbd)\n",
    "Y = np.random.exponential(lbd,10000)\n",
    "plt.hist(Y,bins = 100,density = True)"
   ]
  },
  {
   "cell_type": "code",
   "execution_count": 13,
   "metadata": {},
   "outputs": [
    {
     "name": "stdout",
     "output_type": "stream",
     "text": [
      "La valeur moyenne du pic est de 9.0 et appartient à l'intervalle de confiance à 95% suivant : [9.0,9.0] \n",
      " Le quantile à 10% du pic de réanimation est : 9.0\n",
      " Le quantile à 90% du pic de réanimation est : 9.0\n"
     ]
    },
    {
     "data": {
      "image/png": "[encoded data removed]",
      "text/plain": [
       "<Figure size 432x288 with 2 Axes>"
      ]
     },
     "metadata": {
      "needs_background": "light"
     },
     "output_type": "display_data"
    }
   ],
   "source": [
    "# Loi de la date de l'épidémie. \n",
    "\n",
    "mean_day = np.mean(peak_day)\n",
    "var_day  = np.var(peak_day)\n",
    "q_10_day = np.quantile(peak_day, 0.1, axis = None)\n",
    "q_70_day = np.quantile(peak_day, 0.7, axis = None)\n",
    "q_90_day = np.quantile(peak_day, 0.9, axis = None)\n",
    "print(f\"La valeur moyenne du pic est de {round(mean_day,2)} et appartient à l'intervalle de confiance à 95% suivant : [{max(0,round(mean_day-1.96*np.sqrt(var_day/M),2))},{round(mean_day+1.96*np.sqrt(var_day/M),2)}] \")\n",
    "print(f\" Le quantile à 10% du pic de réanimation est : {q_10_day}\")\n",
    "print(f\" Le quantile à 90% du pic de réanimation est : {q_90_day}\")\n",
    "\n",
    "# Compte tenu de la valeur du quantile à 90% nous tronquons donc la liste par soucis de visibilité. \n",
    "\n",
    "fig, axs = plt.subplots(2)\n",
    "fig.suptitle(f\"Distribution du jour du pic sur un échantillon de taille {M}\")\n",
    "axs[0].hist([day for day in peak_day if day < q_90_day], bins = 30)\n",
    "axs[0].set_title('Quantile à 90 %')\n",
    "axs[1].hist([day for day in peak_day if day < q_70_day], bins = 30)\n",
    "axs[1].set_title('Quantile à 70 %')\n",
    "plt.subplots_adjust(hspace=0.5)"
   ]
  },
  {
   "cell_type": "markdown",
   "metadata": {},
   "source": [
    "# Analyse de sensibilité qualitative : Criblage"
   ]
  },
  {
   "cell_type": "code",
   "execution_count": 14,
   "metadata": {},
   "outputs": [
    {
     "name": "stderr",
     "output_type": "stream",
     "text": [
      "  0% |                                                                        |\r"
     ]
    },
    {
     "name": "stdout",
     "output_type": "stream",
     "text": [
      "Calcul de sensibilité\n"
     ]
    },
    {
     "name": "stderr",
     "output_type": "stream",
     "text": [
      "  3% |##                                                                      |\r"
     ]
    },
    {
     "ename": "KeyboardInterrupt",
     "evalue": "",
     "output_type": "error",
     "traceback": [
      "\u001b[1;31m---------------------------------------------------------------------------\u001b[0m",
      "\u001b[1;31mKeyboardInterrupt\u001b[0m                         Traceback (most recent call last)",
      "\u001b[1;32m<ipython-input-14-ab788c53b250>\u001b[0m in \u001b[0;36m<module>\u001b[1;34m\u001b[0m\n\u001b[0;32m     62\u001b[0m \u001b[0mR\u001b[0m\u001b[1;33m=\u001b[0m\u001b[1;36m100\u001b[0m\u001b[1;33m\u001b[0m\u001b[1;33m\u001b[0m\u001b[0m\n\u001b[0;32m     63\u001b[0m \u001b[0meps\u001b[0m \u001b[1;33m=\u001b[0m \u001b[1;36m10\u001b[0m\u001b[1;33m**\u001b[0m\u001b[1;33m(\u001b[0m\u001b[1;33m-\u001b[0m\u001b[1;36m4\u001b[0m\u001b[1;33m)\u001b[0m\u001b[1;33m\u001b[0m\u001b[1;33m\u001b[0m\u001b[0m\n\u001b[1;32m---> 64\u001b[1;33m \u001b[0mmoyenne_grad_peak_value\u001b[0m\u001b[1;33m,\u001b[0m  \u001b[0mmoyenne_grad_peak_day\u001b[0m\u001b[1;33m,\u001b[0m \u001b[0msigma_grad_peak_value\u001b[0m\u001b[1;33m,\u001b[0m \u001b[0msigma_grad_peak_day\u001b[0m \u001b[1;33m=\u001b[0m \u001b[0mMorris\u001b[0m\u001b[1;33m(\u001b[0m\u001b[0mR\u001b[0m\u001b[1;33m,\u001b[0m \u001b[0meps\u001b[0m\u001b[1;33m)\u001b[0m\u001b[1;33m\u001b[0m\u001b[1;33m\u001b[0m\u001b[0m\n\u001b[0m",
      "\u001b[1;32m<ipython-input-14-ab788c53b250>\u001b[0m in \u001b[0;36mMorris\u001b[1;34m(R, eps)\u001b[0m\n\u001b[0;32m     39\u001b[0m             \u001b[0msauvegarde\u001b[0m \u001b[1;33m=\u001b[0m \u001b[0mvariables\u001b[0m\u001b[1;33m[\u001b[0m\u001b[0mkey\u001b[0m\u001b[1;33m]\u001b[0m\u001b[1;33m\u001b[0m\u001b[1;33m\u001b[0m\u001b[0m\n\u001b[0;32m     40\u001b[0m             \u001b[0mvariables\u001b[0m\u001b[1;33m[\u001b[0m\u001b[0mkey\u001b[0m\u001b[1;33m]\u001b[0m \u001b[1;33m=\u001b[0m \u001b[0msauvegarde\u001b[0m \u001b[1;33m+\u001b[0m\u001b[0meps\u001b[0m\u001b[1;33m\u001b[0m\u001b[1;33m\u001b[0m\u001b[0m\n\u001b[1;32m---> 41\u001b[1;33m             \u001b[0mconstants\u001b[0m \u001b[1;33m=\u001b[0m \u001b[0mcompute_constants\u001b[0m\u001b[1;33m(\u001b[0m\u001b[0mvariables\u001b[0m\u001b[1;33m)\u001b[0m\u001b[1;33m\u001b[0m\u001b[1;33m\u001b[0m\u001b[0m\n\u001b[0m\u001b[0;32m     42\u001b[0m             \u001b[0msimulation\u001b[0m\u001b[1;33m=\u001b[0m \u001b[0modeint\u001b[0m\u001b[1;33m(\u001b[0m\u001b[0mequa_diff\u001b[0m\u001b[1;33m,\u001b[0m\u001b[0msyst_CI\u001b[0m\u001b[1;33m,\u001b[0m\u001b[0mconstants\u001b[0m\u001b[1;33m[\u001b[0m\u001b[1;34m't'\u001b[0m\u001b[1;33m]\u001b[0m\u001b[1;33m,\u001b[0m \u001b[0margs\u001b[0m \u001b[1;33m=\u001b[0m \u001b[1;33m(\u001b[0m\u001b[0mvariables\u001b[0m\u001b[1;33m,\u001b[0m\u001b[0mconstants\u001b[0m\u001b[1;33m)\u001b[0m\u001b[1;33m)\u001b[0m\u001b[1;33m\u001b[0m\u001b[1;33m\u001b[0m\u001b[0m\n\u001b[0;32m     43\u001b[0m             \u001b[0mpeak_value\u001b[0m \u001b[1;33m=\u001b[0m \u001b[0mnp\u001b[0m\u001b[1;33m.\u001b[0m\u001b[0mmax\u001b[0m\u001b[1;33m(\u001b[0m\u001b[0msimulation\u001b[0m\u001b[1;33m[\u001b[0m\u001b[1;33m:\u001b[0m\u001b[1;33m,\u001b[0m\u001b[1;36m6\u001b[0m\u001b[1;33m]\u001b[0m\u001b[1;33m)\u001b[0m\u001b[1;33m\u001b[0m\u001b[1;33m\u001b[0m\u001b[0m\n",
      "\u001b[1;32m~\\OneDrive\\Bureau\\X\\3A\\Cours\\MAP568\\Projet\\src\\constant.py\u001b[0m in \u001b[0;36mcompute_constants\u001b[1;34m(variables, global_constants)\u001b[0m\n\u001b[0;32m     87\u001b[0m     \u001b[0mconstants\u001b[0m\u001b[1;33m[\u001b[0m\u001b[1;34m'tau_0'\u001b[0m\u001b[1;33m]\u001b[0m       \u001b[1;33m=\u001b[0m \u001b[0mvariables\u001b[0m\u001b[1;33m[\u001b[0m\u001b[1;34m'R_0'\u001b[0m\u001b[1;33m]\u001b[0m\u001b[1;33m*\u001b[0m\u001b[1;33m(\u001b[0m\u001b[0mvariables\u001b[0m\u001b[1;33m[\u001b[0m\u001b[1;34m'lambda_1'\u001b[0m\u001b[1;33m]\u001b[0m\u001b[1;33m+\u001b[0m\u001b[0mconstants\u001b[0m\u001b[1;33m[\u001b[0m\u001b[1;34m'gamma_IR'\u001b[0m\u001b[1;33m]\u001b[0m \u001b[1;33m+\u001b[0m \u001b[0mconstants\u001b[0m\u001b[1;33m[\u001b[0m\u001b[1;34m'gamma_IH'\u001b[0m\u001b[1;33m]\u001b[0m \u001b[1;33m+\u001b[0m \u001b[0mconstants\u001b[0m\u001b[1;33m[\u001b[0m\u001b[1;34m'gamma_IU'\u001b[0m\u001b[1;33m]\u001b[0m\u001b[1;33m)\u001b[0m\u001b[1;33m/\u001b[0m\u001b[0mglobal_constants\u001b[0m\u001b[1;33m[\u001b[0m\u001b[1;34m'S_0'\u001b[0m\u001b[1;33m]\u001b[0m\u001b[1;33m\u001b[0m\u001b[1;33m\u001b[0m\u001b[0m\n\u001b[0;32m     88\u001b[0m     \u001b[0mconstants\u001b[0m\u001b[1;33m[\u001b[0m\u001b[1;34m't'\u001b[0m\u001b[1;33m]\u001b[0m           \u001b[1;33m=\u001b[0m \u001b[0mnp\u001b[0m\u001b[1;33m.\u001b[0m\u001b[0marray\u001b[0m\u001b[1;33m(\u001b[0m\u001b[1;33m[\u001b[0m\u001b[0mvariables\u001b[0m\u001b[1;33m[\u001b[0m\u001b[1;34m't_0'\u001b[0m\u001b[1;33m]\u001b[0m\u001b[1;33m+\u001b[0m\u001b[0mi\u001b[0m\u001b[1;33m*\u001b[0m\u001b[0mglobal_constants\u001b[0m\u001b[1;33m[\u001b[0m\u001b[1;34m'deltaT'\u001b[0m\u001b[1;33m]\u001b[0m \u001b[1;32mfor\u001b[0m \u001b[0mi\u001b[0m \u001b[1;32min\u001b[0m \u001b[0mrange\u001b[0m\u001b[1;33m(\u001b[0m\u001b[0mglobal_constants\u001b[0m\u001b[1;33m[\u001b[0m\u001b[1;34m'set_size'\u001b[0m\u001b[1;33m]\u001b[0m\u001b[1;33m)\u001b[0m\u001b[1;33m]\u001b[0m\u001b[1;33m)\u001b[0m\u001b[1;33m\u001b[0m\u001b[1;33m\u001b[0m\u001b[0m\n\u001b[1;32m---> 89\u001b[1;33m     \u001b[0mconstants\u001b[0m\u001b[1;33m[\u001b[0m\u001b[1;34m'tau'\u001b[0m\u001b[1;33m]\u001b[0m         \u001b[1;33m=\u001b[0m \u001b[1;33m[\u001b[0m\u001b[0mconstants\u001b[0m\u001b[1;33m[\u001b[0m\u001b[1;34m'tau_0'\u001b[0m\u001b[1;33m]\u001b[0m\u001b[1;33m*\u001b[0m\u001b[0mnp\u001b[0m\u001b[1;33m.\u001b[0m\u001b[0mexp\u001b[0m\u001b[1;33m(\u001b[0m\u001b[1;33m-\u001b[0m\u001b[0mvariables\u001b[0m\u001b[1;33m[\u001b[0m\u001b[1;34m'mu'\u001b[0m\u001b[1;33m]\u001b[0m\u001b[1;33m*\u001b[0m\u001b[0mmax\u001b[0m\u001b[1;33m(\u001b[0m\u001b[0mconstants\u001b[0m\u001b[1;33m[\u001b[0m\u001b[1;34m't'\u001b[0m\u001b[1;33m]\u001b[0m\u001b[1;33m[\u001b[0m\u001b[0mi\u001b[0m\u001b[1;33m]\u001b[0m\u001b[1;33m-\u001b[0m\u001b[0mvariables\u001b[0m\u001b[1;33m[\u001b[0m\u001b[1;34m'N'\u001b[0m\u001b[1;33m]\u001b[0m\u001b[1;33m,\u001b[0m\u001b[1;36m0\u001b[0m\u001b[1;33m)\u001b[0m\u001b[1;33m)\u001b[0m \u001b[1;32mfor\u001b[0m \u001b[0mi\u001b[0m \u001b[1;32min\u001b[0m \u001b[0mrange\u001b[0m\u001b[1;33m(\u001b[0m\u001b[0mglobal_constants\u001b[0m\u001b[1;33m[\u001b[0m\u001b[1;34m'set_size'\u001b[0m\u001b[1;33m]\u001b[0m\u001b[1;33m)\u001b[0m\u001b[1;33m]\u001b[0m\u001b[1;33m\u001b[0m\u001b[1;33m\u001b[0m\u001b[0m\n\u001b[0m\u001b[0;32m     90\u001b[0m \u001b[1;33m\u001b[0m\u001b[0m\n\u001b[0;32m     91\u001b[0m     \u001b[1;32mreturn\u001b[0m \u001b[0mconstants\u001b[0m\u001b[1;33m\u001b[0m\u001b[1;33m\u001b[0m\u001b[0m\n",
      "\u001b[1;32m~\\OneDrive\\Bureau\\X\\3A\\Cours\\MAP568\\Projet\\src\\constant.py\u001b[0m in \u001b[0;36m<listcomp>\u001b[1;34m(.0)\u001b[0m\n\u001b[0;32m     87\u001b[0m     \u001b[0mconstants\u001b[0m\u001b[1;33m[\u001b[0m\u001b[1;34m'tau_0'\u001b[0m\u001b[1;33m]\u001b[0m       \u001b[1;33m=\u001b[0m \u001b[0mvariables\u001b[0m\u001b[1;33m[\u001b[0m\u001b[1;34m'R_0'\u001b[0m\u001b[1;33m]\u001b[0m\u001b[1;33m*\u001b[0m\u001b[1;33m(\u001b[0m\u001b[0mvariables\u001b[0m\u001b[1;33m[\u001b[0m\u001b[1;34m'lambda_1'\u001b[0m\u001b[1;33m]\u001b[0m\u001b[1;33m+\u001b[0m\u001b[0mconstants\u001b[0m\u001b[1;33m[\u001b[0m\u001b[1;34m'gamma_IR'\u001b[0m\u001b[1;33m]\u001b[0m \u001b[1;33m+\u001b[0m \u001b[0mconstants\u001b[0m\u001b[1;33m[\u001b[0m\u001b[1;34m'gamma_IH'\u001b[0m\u001b[1;33m]\u001b[0m \u001b[1;33m+\u001b[0m \u001b[0mconstants\u001b[0m\u001b[1;33m[\u001b[0m\u001b[1;34m'gamma_IU'\u001b[0m\u001b[1;33m]\u001b[0m\u001b[1;33m)\u001b[0m\u001b[1;33m/\u001b[0m\u001b[0mglobal_constants\u001b[0m\u001b[1;33m[\u001b[0m\u001b[1;34m'S_0'\u001b[0m\u001b[1;33m]\u001b[0m\u001b[1;33m\u001b[0m\u001b[1;33m\u001b[0m\u001b[0m\n\u001b[0;32m     88\u001b[0m     \u001b[0mconstants\u001b[0m\u001b[1;33m[\u001b[0m\u001b[1;34m't'\u001b[0m\u001b[1;33m]\u001b[0m           \u001b[1;33m=\u001b[0m \u001b[0mnp\u001b[0m\u001b[1;33m.\u001b[0m\u001b[0marray\u001b[0m\u001b[1;33m(\u001b[0m\u001b[1;33m[\u001b[0m\u001b[0mvariables\u001b[0m\u001b[1;33m[\u001b[0m\u001b[1;34m't_0'\u001b[0m\u001b[1;33m]\u001b[0m\u001b[1;33m+\u001b[0m\u001b[0mi\u001b[0m\u001b[1;33m*\u001b[0m\u001b[0mglobal_constants\u001b[0m\u001b[1;33m[\u001b[0m\u001b[1;34m'deltaT'\u001b[0m\u001b[1;33m]\u001b[0m \u001b[1;32mfor\u001b[0m \u001b[0mi\u001b[0m \u001b[1;32min\u001b[0m \u001b[0mrange\u001b[0m\u001b[1;33m(\u001b[0m\u001b[0mglobal_constants\u001b[0m\u001b[1;33m[\u001b[0m\u001b[1;34m'set_size'\u001b[0m\u001b[1;33m]\u001b[0m\u001b[1;33m)\u001b[0m\u001b[1;33m]\u001b[0m\u001b[1;33m)\u001b[0m\u001b[1;33m\u001b[0m\u001b[1;33m\u001b[0m\u001b[0m\n\u001b[1;32m---> 89\u001b[1;33m     \u001b[0mconstants\u001b[0m\u001b[1;33m[\u001b[0m\u001b[1;34m'tau'\u001b[0m\u001b[1;33m]\u001b[0m         \u001b[1;33m=\u001b[0m \u001b[1;33m[\u001b[0m\u001b[0mconstants\u001b[0m\u001b[1;33m[\u001b[0m\u001b[1;34m'tau_0'\u001b[0m\u001b[1;33m]\u001b[0m\u001b[1;33m*\u001b[0m\u001b[0mnp\u001b[0m\u001b[1;33m.\u001b[0m\u001b[0mexp\u001b[0m\u001b[1;33m(\u001b[0m\u001b[1;33m-\u001b[0m\u001b[0mvariables\u001b[0m\u001b[1;33m[\u001b[0m\u001b[1;34m'mu'\u001b[0m\u001b[1;33m]\u001b[0m\u001b[1;33m*\u001b[0m\u001b[0mmax\u001b[0m\u001b[1;33m(\u001b[0m\u001b[0mconstants\u001b[0m\u001b[1;33m[\u001b[0m\u001b[1;34m't'\u001b[0m\u001b[1;33m]\u001b[0m\u001b[1;33m[\u001b[0m\u001b[0mi\u001b[0m\u001b[1;33m]\u001b[0m\u001b[1;33m-\u001b[0m\u001b[0mvariables\u001b[0m\u001b[1;33m[\u001b[0m\u001b[1;34m'N'\u001b[0m\u001b[1;33m]\u001b[0m\u001b[1;33m,\u001b[0m\u001b[1;36m0\u001b[0m\u001b[1;33m)\u001b[0m\u001b[1;33m)\u001b[0m \u001b[1;32mfor\u001b[0m \u001b[0mi\u001b[0m \u001b[1;32min\u001b[0m \u001b[0mrange\u001b[0m\u001b[1;33m(\u001b[0m\u001b[0mglobal_constants\u001b[0m\u001b[1;33m[\u001b[0m\u001b[1;34m'set_size'\u001b[0m\u001b[1;33m]\u001b[0m\u001b[1;33m)\u001b[0m\u001b[1;33m]\u001b[0m\u001b[1;33m\u001b[0m\u001b[1;33m\u001b[0m\u001b[0m\n\u001b[0m\u001b[0;32m     90\u001b[0m \u001b[1;33m\u001b[0m\u001b[0m\n\u001b[0;32m     91\u001b[0m     \u001b[1;32mreturn\u001b[0m \u001b[0mconstants\u001b[0m\u001b[1;33m\u001b[0m\u001b[1;33m\u001b[0m\u001b[0m\n",
      "\u001b[1;31mKeyboardInterrupt\u001b[0m: "
     ]
    }
   ],
   "source": [
    "def Morris(R,eps):\n",
    "    \"\"\"\n",
    "    Echantillonage de Monte Carlo \n",
    "    \n",
    "    Paramètres : \n",
    "    ------------\n",
    "    \n",
    "    R : int, \n",
    "        Taille de l'échantillon.\n",
    "    eps : float,\n",
    "        paramètre pour évaluer nos différences finies (f(x+eps)-f(x))/eps\n",
    "    \n",
    "    Sorties : \n",
    "    ---------\n",
    "    moyenne_grad_peak_value  : array,\n",
    "        Moyenne du gradient du nombre réanimation au pic de l'épidémie pour chaque simulation.\n",
    "    moyenne_grad_peak_day    : array, \n",
    "        Moyenne du gradient du Jour du pic pour chaque simulation.\n",
    "    sigma_grad_peak_value  : array,\n",
    "        Ecart-type du gradient du nombre réanimation au pic de l'épidémie pour chaque simulation.\n",
    "    sigma_Moyenne_grad_peak_day    : array, \n",
    "        Ecart-type du gradient du Jour du pic pour chaque simulation.\n",
    "    \n",
    "    \"\"\"\n",
    "    \n",
    "    print(f\"Calcul de sensibilité\")\n",
    "    grad_peak_value,grad_peak_day = [],[]\n",
    "    pbar = ProgressBar()\n",
    "    for i in pbar(range(R)):\n",
    "        variables = init_variables()\n",
    "        constants = compute_constants(variables)\n",
    "        syst_CI=array([global_constants['S_0'],variables['I_moins_0'],0,0,0,0,0,0,0,0])\n",
    "        simulation_ref=odeint(equa_diff,syst_CI,constants['t'], args = (variables,constants))\n",
    "        peak_value_ref = np.max(simulation_ref[:,6])\n",
    "        peak_day_ref = int(np.argmax(list(simulation_ref[:,6]))*global_constants['deltaT'])\n",
    "        d_peak_value, d_peak_day = [], []\n",
    "    \n",
    "        for key, value in variables.items():\n",
    "            sauvegarde = variables[key]\n",
    "            variables[key] = sauvegarde +eps\n",
    "            constants = compute_constants(variables)\n",
    "            simulation= odeint(equa_diff,syst_CI,constants['t'], args = (variables,constants))\n",
    "            peak_value = np.max(simulation[:,6])\n",
    "            peak_day = int(np.argmax(list(simulation[:,6]))*global_constants['deltaT'])\n",
    "            d_peak_value.append((peak_value-peak_value_ref)/eps)\n",
    "            d_peak_day.append((peak_day-peak_day_ref)/eps)\n",
    "            variables[key] = sauvegarde\n",
    "        \n",
    "        grad_peak_value += [d_peak_value]\n",
    "        grad_peak_day += [d_peak_day]\n",
    "        \n",
    "    grad_peak_value, grad_peak_day = np.abs(np.array(grad_peak_value)), np.abs(np.array(grad_peak_day))\n",
    "     \n",
    "    moyenne_grad_peak_value = np.mean(grad_peak_value, axis=0)\n",
    "    moyenne_grad_peak_day = np.mean(grad_peak_day, axis=0)\n",
    "    sigma_grad_peak_value = np.sqrt(np.var(grad_peak_value, axis=0))\n",
    "    sigma_grad_peak_day = np.sqrt(np.var(grad_peak_day, axis=0))\n",
    "    \n",
    "    return( moyenne_grad_peak_value,  moyenne_grad_peak_day, sigma_grad_peak_value, sigma_grad_peak_day )\n",
    "        \n",
    "\n",
    "R=100\n",
    "eps = 10**(-4)\n",
    "moyenne_grad_peak_value,  moyenne_grad_peak_day, sigma_grad_peak_value, sigma_grad_peak_day = Morris(R, eps)"
   ]
  },
  {
   "cell_type": "code",
   "execution_count": 9,
   "metadata": {},
   "outputs": [
    {
     "name": "stdout",
     "output_type": "stream",
     "text": [
      "[4.19905680e+04 6.54428652e+04 5.62246061e+05 2.14991970e-01\n",
      " 5.12549068e+04 2.64866143e-02 4.63938045e+04 1.26875692e+06\n",
      " 7.91285798e+05 3.52350880e+03 1.76222658e+03 1.06202455e+04\n",
      " 2.08075196e+02 9.26004823e+02 0.00000000e+00]\n",
      "[  0.   0. 200.   0.   0.   0.   0. 600.   0.   0.   0.   0.   0.   0.\n",
      "   0.]\n",
      "[1.15120797e+05 2.09462609e+05 1.65119525e+06 1.55317518e+00\n",
      " 1.70041629e+05 1.76690051e-01 1.13022113e+05 4.06201464e+06\n",
      " 1.92083228e+06 8.82828310e+03 4.41479737e+03 2.73288989e+04\n",
      " 7.42636394e+02 2.66952741e+03 0.00000000e+00]\n",
      "[   0.            0.         1400.            0.            0.\n",
      "    0.            0.         2374.86841741    0.            0.\n",
      "    0.            0.            0.            0.            0.        ]\n"
     ]
    }
   ],
   "source": [
    "print(moyenne_grad_peak_value)\n",
    "print(moyenne_grad_peak_day)\n",
    "print(sigma_grad_peak_value)\n",
    "print(sigma_grad_peak_day)"
   ]
  },
  {
   "cell_type": "markdown",
   "metadata": {},
   "source": [
    "#### analyse des résultats : ..."
   ]
  },
  {
   "cell_type": "markdown",
   "metadata": {},
   "source": [
    "## Criblage avec SALib"
   ]
  },
  {
   "cell_type": "code",
   "execution_count": 7,
   "metadata": {},
   "outputs": [],
   "source": [
    "from SALib.analyze import morris\n",
    "from SALib.sample import morris as sample_morris"
   ]
  },
  {
   "cell_type": "code",
   "execution_count": 14,
   "metadata": {},
   "outputs": [],
   "source": [
    "problem = {\n",
    "    'num_vars': 15,\n",
    "    'names': ['p_a','p_IH','p_IU','p_HD','p_HU','p_UD','R_0','mu','lambda_1','t_0','N','N_I','N_H','N_U','I_moins_0'],\n",
    "    'bounds': [[0.4,0.9],[0.05,0.2],[0.01,0.04],[0.1,0.2],[0.1,0.2],[0.2,0.4],[2.9,3.4],[0.01,0.08],[10**(-4),10**(-3)],[0,30],[30,50],\n",
    "[8,12],[15,25],[10,20],[1,100]]\n",
    "}\n",
    "\n",
    "\n",
    "def Resolution(parametres):\n",
    "    peak_value = np.zeros(len(parametres))\n",
    "    peak_day = np.zeros(len(parametres))\n",
    "    \n",
    "    for i, X in enumerate(parametres):\n",
    "    \n",
    "        if type(X)!= dict:\n",
    "            variables = dict(zip(variables_keys,X))\n",
    "            #constants = dict(zip(constants_keys, constants))\n",
    "        else : \n",
    "            variables = X\n",
    "        constants = compute_constants(variables)   \n",
    "        syst_CI=array([global_constants['S_0'],variables['I_moins_0'],0,0,0,0,0,0,0,0])\n",
    "        #solution=odeint(equa_diff,syst_CI,constants['t'], args = (variables,constants))\n",
    "        simulation = np.transpose(resolution_systeme(global_constants['deltaT'],constants, variables, set_size = global_constants['set_size']))\n",
    "        peak_value[i]=np.max(simulation[:,6])\n",
    "        peak_day[i]=int(np.argmax(list(simulation[:,6]))*global_constants['deltaT'])\n",
    "    return(peak_value, peak_day)\n",
    "\n"
   ]
  },
  {
   "cell_type": "code",
   "execution_count": 16,
   "metadata": {},
   "outputs": [
    {
     "name": "stdout",
     "output_type": "stream",
     "text": [
      "Parameter                         Mu_Star         Mu    Mu_Star_Conf      Sigma\n",
      "p_a                             52202.216 -52202.216       22007.431 117630.675\n",
      "p_IH                            14001.897  14001.897        5499.338  29219.938\n",
      "p_IU                            32288.187  32288.187       12264.156  66709.151\n",
      "p_HD                                0.000      0.000           0.000      0.000\n",
      "p_HU                             7799.560   7799.560        4310.155  23300.510\n",
      "p_UD                                0.000      0.000           0.000      0.000\n",
      "R_0                             29194.326  29194.326       13122.559  66955.032\n",
      "mu                              85561.301 -85561.301       28232.465 153636.210\n",
      "lambda_1                         1584.141   1584.141         660.162   3022.849\n",
      "t_0                             60349.061 -60349.061       18773.148 101808.060\n",
      "N                               42381.589  42381.589       14160.588  69483.097\n",
      "N_I                             64282.953 -64282.953       24675.773 125113.096\n",
      "N_H                              4494.046  -4494.046        2186.028  12574.751\n",
      "N_U                             20645.952  20645.952        9704.706  45879.557\n",
      "I_moins_0                       29827.859  29827.859       13587.707  66998.122\n",
      "Parameter                         Mu_Star         Mu    Mu_Star_Conf      Sigma\n",
      "p_a                                 0.000      0.000           0.000      0.000\n",
      "p_IH                                3.510      3.510           0.451      2.102\n",
      "p_IU                                3.780     -3.780           0.375      2.426\n",
      "p_HD                                0.000      0.000           0.000      0.000\n",
      "p_HU                                1.905      1.905           0.227      1.294\n",
      "p_UD                                0.000      0.000           0.000      0.000\n",
      "R_0                                 3.045      0.795           0.686      4.683\n",
      "mu                                 41.850    -41.850           4.128     21.676\n",
      "lambda_1                            0.135     -0.105           0.085      0.440\n",
      "t_0                                22.050    -19.410           2.452     15.633\n",
      "N                                  14.175     12.435           1.572     10.551\n",
      "N_I                                 6.195      6.195           1.927      9.650\n",
      "N_H                                 0.510      0.450           0.209      1.011\n",
      "N_U                                 4.380      4.380           0.489      2.686\n",
      "I_moins_0                           2.670     -2.670           1.425      6.707\n"
     ]
    }
   ],
   "source": [
    "X = sample_morris.sample(problem, 100, num_levels=4)\n",
    "peak_value, peak_day = Resolution(X)\n",
    "Smorris_value = morris.analyze(problem, X, peak_value, conf_level=0.95,print_to_console=True, num_levels=4)\n",
    "Smorris_day = morris.analyze(problem, X, peak_day, conf_level=0.95,print_to_console=True, num_levels=4)"
   ]
  },
  {
   "cell_type": "markdown",
   "metadata": {},
   "source": [
    "# Analyse de sensibilité quantitative : Sobol"
   ]
  },
  {
   "cell_type": "code",
   "execution_count": 18,
   "metadata": {},
   "outputs": [],
   "source": [
    "from SALib.sample import saltelli\n",
    "from SALib.analyze import sobol\n",
    "import numpy as np\n",
    "from pylab import *\n",
    "from scipy.integrate import odeint"
   ]
  },
  {
   "cell_type": "code",
   "execution_count": 19,
   "metadata": {},
   "outputs": [],
   "source": [
    "param_values = saltelli.sample(problem, 100, calc_second_order=True)\n",
    "peak_value, peak_day = Resolution(param_values)\n",
    "#Si_peak_value = sobol.analyze(problem, peak_value, print_to_console=True)\n",
    "#Si_peak_day = sobol.analyze(problem, peak_day, print_to_console=True)"
   ]
  },
  {
   "cell_type": "code",
   "execution_count": 21,
   "metadata": {},
   "outputs": [
    {
     "data": {
      "text/plain": [
       "array([  245.40462599,   207.75538072,   307.22349192, ...,\n",
       "       11310.95287985,  6146.93765399,  7439.68215734])"
      ]
     },
     "execution_count": 21,
     "metadata": {},
     "output_type": "execute_result"
    }
   ],
   "source": [
    "peak_value"
   ]
  },
  {
   "cell_type": "code",
   "execution_count": 20,
   "metadata": {},
   "outputs": [
    {
     "ename": "TypeError",
     "evalue": "object of type 'numpy.float64' has no len()",
     "output_type": "error",
     "traceback": [
      "\u001b[0;31m---------------------------------------------------------------------------\u001b[0m",
      "\u001b[0;31mTypeError\u001b[0m                                 Traceback (most recent call last)",
      "\u001b[0;32m<ipython-input-20-206516abf9ee>\u001b[0m in \u001b[0;36m<module>\u001b[0;34m\u001b[0m\n\u001b[1;32m     29\u001b[0m \u001b[0mI0moinst\u001b[0m \u001b[0;34m=\u001b[0m\u001b[0;34m[\u001b[0m\u001b[0;34m]\u001b[0m\u001b[0;34m\u001b[0m\u001b[0;34m\u001b[0m\u001b[0m\n\u001b[1;32m     30\u001b[0m \u001b[0mlambda1t\u001b[0m \u001b[0;34m=\u001b[0m\u001b[0;34m[\u001b[0m\u001b[0;34m]\u001b[0m\u001b[0;34m\u001b[0m\u001b[0;34m\u001b[0m\u001b[0m\n\u001b[0;32m---> 31\u001b[0;31m \u001b[0;32mfor\u001b[0m \u001b[0mi\u001b[0m \u001b[0;32min\u001b[0m \u001b[0mrange\u001b[0m\u001b[0;34m(\u001b[0m\u001b[0mlen\u001b[0m\u001b[0;34m(\u001b[0m\u001b[0mpeak_value\u001b[0m\u001b[0;34m[\u001b[0m\u001b[0;36m0\u001b[0m\u001b[0;34m]\u001b[0m\u001b[0;34m)\u001b[0m\u001b[0;34m)\u001b[0m\u001b[0;34m:\u001b[0m\u001b[0;34m\u001b[0m\u001b[0;34m\u001b[0m\u001b[0m\n\u001b[0m\u001b[1;32m     32\u001b[0m     \u001b[0;31m#h = H[:,i]\u001b[0m\u001b[0;34m\u001b[0m\u001b[0;34m\u001b[0m\u001b[0;34m\u001b[0m\u001b[0m\n\u001b[1;32m     33\u001b[0m     \u001b[0mh\u001b[0m\u001b[0;34m=\u001b[0m \u001b[0mpeak_value\u001b[0m\u001b[0;34m[\u001b[0m\u001b[0;34m:\u001b[0m\u001b[0;34m,\u001b[0m\u001b[0mi\u001b[0m\u001b[0;34m]\u001b[0m\u001b[0;34m\u001b[0m\u001b[0;34m\u001b[0m\u001b[0m\n",
      "\u001b[0;31mTypeError\u001b[0m: object of type 'numpy.float64' has no len()"
     ]
    }
   ],
   "source": [
    "pa =[]\n",
    "pih =[]\n",
    "piu =[]\n",
    "phd =[]\n",
    "phu =[]\n",
    "pud =[]\n",
    "Ni =[]\n",
    "Nh =[]\n",
    "Nu =[]\n",
    "R0 =[]\n",
    "mu =[]\n",
    "N =[]\n",
    "t0 =[]\n",
    "I0moins =[]\n",
    "lambda1 =[]\n",
    "pat =[]\n",
    "piht =[]\n",
    "piut =[]\n",
    "phdt =[]\n",
    "phut =[]\n",
    "pudt =[]\n",
    "Nit =[]\n",
    "Nht =[]\n",
    "Nut =[]\n",
    "R0t =[]\n",
    "mut =[]\n",
    "Nt =[]\n",
    "t0t =[]\n",
    "I0moinst =[]\n",
    "lambda1t =[]\n",
    "for i in range(len(H[0])):\n",
    "    h = H[:,i]\n",
    "    Si_H = sobol.analyze(problem,h)\n",
    "    pa.append(Si_H['S1'][0])\n",
    "    pih.append(Si_H['S1'][1])\n",
    "    piu.append(Si_H['S1'][2])\n",
    "    phd.append(Si_H['S1'][3])\n",
    "    phu.append(Si_H['S1'][4])\n",
    "    pud.append(Si_H['S1'][5])\n",
    "    Ni.append(Si_H['S1'][6])\n",
    "    Nh.append(Si_H['S1'][7])\n",
    "    Nu.append(Si_H['S1'][8])\n",
    "    R0.append(Si_H['S1'][9])\n",
    "    mu.append(Si_H['S1'][10])\n",
    "    N.append(Si_H['S1'][11])\n",
    "    t0.append(Si_H['S1'][12])\n",
    "    I0moins.append(Si_H['S1'][13])\n",
    "    lambda1.append(Si_H['S1'][14])"
   ]
  },
  {
   "cell_type": "code",
   "execution_count": null,
   "metadata": {},
   "outputs": [],
   "source": [
    "pat.append(Si_H['ST'][0])\n",
    "    piht.append(Si_H['ST'][1])\n",
    "    piut.append(Si_H['ST'][2])\n",
    "    phdt.append(Si_H['ST'][3])\n",
    "    phut.append(Si_H['ST'][4])\n",
    "    pudt.append(Si_H['ST'][5])\n",
    "    Nit.append(Si_H['ST'][6])\n",
    "    Nht.append(Si_H['ST'][7])\n",
    "    Nut.append(Si_H['ST'][8])\n",
    "    R0t.append(Si_H['ST'][9])\n",
    "    mut.append(Si_H['ST'][10])\n",
    "    Nt.append(Si_H['ST'][11])\n",
    "    t0t.append(Si_H['ST'][12])\n",
    "    I0moinst.append(Si_H['ST'][13])\n",
    "    lambda1t.append(Si_H['ST'][14])"
   ]
  },
  {
   "cell_type": "code",
   "execution_count": null,
   "metadata": {},
   "outputs": [],
   "source": [
    "plt.plot(periode,pa,label='pa')\n",
    "plt.plot(periode,pih,label='pih')\n",
    "plt.plot(periode,piu,label='piu')\n",
    "plt.plot(periode,phd,label='phd')\n",
    "plt.plot(periode,phu,label='phu')\n",
    "plt.plot(periode,pud,label='pud')\n",
    "plt.plot(periode,Ni,label='Ni')\n",
    "plt.plot(periode,Nh,label='Nh')\n",
    "plt.plot(periode,Nu,label='Nu')\n",
    "plt.plot(periode,R0,label='R0')\n",
    "plt.plot(periode,mu,label='mu')\n",
    "plt.plot(periode,N,label='N')\n",
    "plt.plot(periode,t0,label='t0')\n",
    "plt.plot(periode,I0moins,label='I0moins')\n",
    "plt.plot(periode,lambda1,label='lambda1')\n",
    "plt.title('Evolution pour H des indices de premier ordre sur la péride du jeu de données')\n",
    "plt.legend(loc='upper left', fontsize='x-small')\n",
    "plt.show()"
   ]
  },
  {
   "cell_type": "code",
   "execution_count": null,
   "metadata": {},
   "outputs": [],
   "source": [
    "plt.plot(periode,pat,label='pa')\n",
    "plt.plot(periode,piht,label='pih')\n",
    "plt.plot(periode,piut,label='piu')\n",
    "plt.plot(periode,phdt,label='phd')\n",
    "plt.plot(periode,phut,label='phu')\n",
    "plt.plot(periode,pudt,label='pud')\n",
    "plt.plot(periode,Nit,label='Ni')\n",
    "plt.plot(periode,Nht,label='Nh')\n",
    "plt.plot(periode,Nut,label='Nu')\n",
    "plt.plot(periode,R0t,label='R0')\n",
    "plt.plot(periode,mut,label='mu')\n",
    "plt.plot(periode,Nt,label='N')\n",
    "plt.plot(periode,t0t,label='t0')\n",
    "plt.plot(periode,I0moinst,label='I0moins')\n",
    "plt.plot(periode,lambda1t,label='lambda1')\n",
    "plt.title('Evolution pour H des indices totaux sur la péride du jeu de données')\n",
    "plt.legend(loc='upper left', fontsize='x-small')\n",
    "plt.show()"
   ]
  },
  {
   "cell_type": "markdown",
   "metadata": {},
   "source": [
    "# Calibration"
   ]
  },
  {
   "cell_type": "code",
   "execution_count": 5,
   "metadata": {},
   "outputs": [],
   "source": [
    "import pandas as pd\n",
    "import matplotlib.dates as mdates\n",
    "from matplotlib import ticker"
   ]
  },
  {
   "cell_type": "code",
   "execution_count": 6,
   "metadata": {},
   "outputs": [
    {
     "data": {
      "text/html": [
       "<div>\n",
       "<style scoped>\n",
       "    .dataframe tbody tr th:only-of-type {\n",
       "        vertical-align: middle;\n",
       "    }\n",
       "\n",
       "    .dataframe tbody tr th {\n",
       "        vertical-align: top;\n",
       "    }\n",
       "\n",
       "    .dataframe thead th {\n",
       "        text-align: right;\n",
       "    }\n",
       "</style>\n",
       "<table border=\"1\" class=\"dataframe\">\n",
       "  <thead>\n",
       "    <tr style=\"text-align: right;\">\n",
       "      <th></th>\n",
       "      <th>jour</th>\n",
       "      <th>hosp</th>\n",
       "      <th>rea</th>\n",
       "      <th>rad</th>\n",
       "      <th>dc</th>\n",
       "      <th>detecte</th>\n",
       "    </tr>\n",
       "  </thead>\n",
       "  <tbody>\n",
       "    <tr>\n",
       "      <th>0</th>\n",
       "      <td>2020-03-18</td>\n",
       "      <td>5905</td>\n",
       "      <td>1535</td>\n",
       "      <td>1627</td>\n",
       "      <td>435</td>\n",
       "      <td>1404.0</td>\n",
       "    </tr>\n",
       "    <tr>\n",
       "      <th>1</th>\n",
       "      <td>2020-03-19</td>\n",
       "      <td>7961</td>\n",
       "      <td>1975</td>\n",
       "      <td>2322</td>\n",
       "      <td>642</td>\n",
       "      <td>1861.0</td>\n",
       "    </tr>\n",
       "    <tr>\n",
       "      <th>2</th>\n",
       "      <td>2020-03-20</td>\n",
       "      <td>10272</td>\n",
       "      <td>2564</td>\n",
       "      <td>3128</td>\n",
       "      <td>890</td>\n",
       "      <td>1617.0</td>\n",
       "    </tr>\n",
       "    <tr>\n",
       "      <th>3</th>\n",
       "      <td>2020-03-21</td>\n",
       "      <td>11599</td>\n",
       "      <td>2872</td>\n",
       "      <td>3580</td>\n",
       "      <td>1041</td>\n",
       "      <td>1847.0</td>\n",
       "    </tr>\n",
       "    <tr>\n",
       "      <th>4</th>\n",
       "      <td>2020-03-22</td>\n",
       "      <td>13675</td>\n",
       "      <td>3311</td>\n",
       "      <td>4188</td>\n",
       "      <td>1251</td>\n",
       "      <td>1559.0</td>\n",
       "    </tr>\n",
       "  </tbody>\n",
       "</table>\n",
       "</div>"
      ],
      "text/plain": [
       "        jour   hosp   rea   rad    dc  detecte\n",
       "0 2020-03-18   5905  1535  1627   435   1404.0\n",
       "1 2020-03-19   7961  1975  2322   642   1861.0\n",
       "2 2020-03-20  10272  2564  3128   890   1617.0\n",
       "3 2020-03-21  11599  2872  3580  1041   1847.0\n",
       "4 2020-03-22  13675  3311  4188  1251   1559.0"
      ]
     },
     "execution_count": 6,
     "metadata": {},
     "output_type": "execute_result"
    }
   ],
   "source": [
    "\n",
    "contamination = pd.read_csv('data_per_day.csv', sep = ';')\n",
    "contamination.columns = [jour,'detecte']\n",
    "contamination[jour] = pd.to_datetime(contamination[jour],infer_datetime_format = True)\n",
    "contamination = contamination[contamination[jour]<= '2020-05-11']\n",
    "contamination['detecte'] = contamination['detecte'].diff(periods = 1)\n",
    "\n",
    " \n",
    "hosp          = pd.read_csv('donnees_hospitalieres.csv', ';')\n",
    "hosp[jour]    = pd.to_datetime(hosp[jour])\n",
    "hosp          = hosp.groupby(jour).agg('sum').reset_index(False)[[jour,'hosp','rea','rad','dc']]\n",
    "big_table     = hosp.merge(contamination, left_on= jour, right_on = jour)\n",
    "big_table     = big_table[big_table[jour]<= '2020-05-11']\n",
    "big_table.head()   "
   ]
  },
  {
   "cell_type": "code",
   "execution_count": 7,
   "metadata": {},
   "outputs": [
    {
     "data": {
      "text/plain": [
       "Text(0.5, 1.0, 'Spread of the epidemic')"
      ]
     },
     "execution_count": 7,
     "metadata": {},
     "output_type": "execute_result"
    },
    {
     "data": {
      "image/png": "[encoded data removed]",
      "text/plain": [
       "<Figure size 576x360 with 1 Axes>"
      ]
     },
     "metadata": {
      "needs_background": "light"
     },
     "output_type": "display_data"
    }
   ],
   "source": [
    "columns = ['hosp','rea','rad','dc']\n",
    "titles  = {'hosp': 'hospitalises (H)', 'rea': 'soins intensifs (U)', 'dc' : 'decedes (D)', 'detecte' : 'detectes (DR)', 'rad' : 'gueris (R+)'}\n",
    "\n",
    "fig, axs = plt.subplots(figsize = (8,5), nrows = 1, ncols = 1)\n",
    "for i,col in enumerate(columns) : \n",
    "    axs.scatter(big_table[jour],big_table[col],marker = '.', label = titles[col])\n",
    "axs.scatter(contamination[jour],contamination['detecte'], marker = '.', label = titles['detecte'])\n",
    "axs.legend()\n",
    "locator = mdates.MonthLocator()\n",
    "fmt = mdates.DateFormatter('%b')\n",
    "X = plt.gca().xaxis\n",
    "X.set_major_locator(locator)\n",
    "# Specify formatter\n",
    "X.set_major_formatter(fmt)\n",
    "\n",
    "\n",
    "formatter = ticker.ScalarFormatter(useMathText=True)\n",
    "formatter.set_scientific(True) \n",
    "formatter.set_powerlimits((-1,1))\n",
    "axs.yaxis.set_major_formatter(formatter) \n",
    "axs.set_ylabel('nombre')\n",
    "axs.set_xlabel('date')\n",
    "axs.format_xdata = mdates.DateFormatter('%Y-%m-%d')\n",
    "axs.set_title('Spread of the epidemic')"
   ]
  },
  {
   "cell_type": "markdown",
   "metadata": {},
   "source": [
    "# Calibration déterministe"
   ]
  },
  {
   "cell_type": "markdown",
   "metadata": {},
   "source": [
    "Pour répondre à cette question, nous lançons la fonction `minimize` de scipy.optimize 100 fois et nous gardons uniquement le 15-uplets de valeurs qui minimise le plus fortement la fonction objectif.\n",
    "\n",
    "Une telle démarche a nécessairement un coût de calcul assez fort et nous sauvons donc le tout dans un excel fournit avec le jupyter. Afin de pouvoir générer les variables veuillez mettre `generate_variables` à la valeur `True`. Autrement, les variables seront importées depuis le fichier CSV en question. "
   ]
  },
  {
   "cell_type": "code",
   "execution_count": 18,
   "metadata": {},
   "outputs": [],
   "source": [
    "from scipy.optimize import minimize\n",
    "generate_variables = False"
   ]
  },
  {
   "cell_type": "code",
   "execution_count": 19,
   "metadata": {},
   "outputs": [
    {
     "name": "stdout",
     "output_type": "stream",
     "text": [
      "0.1\n"
     ]
    }
   ],
   "source": [
    "# Table pre-processing\n",
    "contamination = contamination[('2020-02-25' <= contamination[jour])& (contamination[jour]<= '2020-03-31')]\n",
    "big_table     = big_table[big_table[jour]<= '2020-03-31']\n",
    "sigmas        = [1,1,1,1,1]\n",
    "print(global_constants['deltaT'])"
   ]
  },
  {
   "cell_type": "code",
   "execution_count": 44,
   "metadata": {
    "scrolled": true
   },
   "outputs": [],
   "source": [
    "\n",
    "def Epsilon(variables,constants,contamination = contamination,big_table=big_table,global_constants=global_constants, sigmas = sigmas,n_DR=n_DR,n_H=n_H):\n",
    "    \"\"\"\n",
    "    parameters will be a dictionnary similar to the one resulting from init_constant    \n",
    "    \"\"\"\n",
    "    \n",
    "    syst_CI=array([global_constants['S_0'],variables[-1],0,0,0,0,0,0,0,0])\n",
    "    #simulation=odeint(equa_diff,syst_CI,constants[-2],args = (variables,constants))[::int(1/global_constants['deltaT'])]\n",
    "    simulation = np.transpose(resolution_systeme(global_constants['deltaT'],constants, variables, set_size = global_constants['set_size']))[::int(1/global_constants['deltaT'])]\n",
    "            \n",
    "    \n",
    "    DR = ((simulation[n_DR:,-1]-contamination['detecte'].to_numpy())/np.sqrt(simulation[n_DR:,-1])/sigmas[0])**2\n",
    "    \n",
    "    H  = ((simulation[n_H:,5]-big_table['hosp'].to_numpy())/np.sqrt(simulation[n_H:,5])/sigmas[1])**2\n",
    "    U  = ((simulation[n_H:,6]-big_table['rea'].to_numpy())/np.sqrt(simulation[n_H:,6])/sigmas[2])**2\n",
    "    D  = ((simulation[n_H:,8]-big_table['dc'].to_numpy())/np.sqrt(simulation[n_H:,8])/sigmas[3])**2\n",
    "    R  = ((simulation[n_H:,7]-big_table['rad'].to_numpy())/np.sqrt(simulation[n_H:,7])/sigmas[4])**2\n",
    "    return np.sum(DR) + np.sum(H+U+D+R)\n",
    "\n"
   ]
  },
  {
   "cell_type": "code",
   "execution_count": 25,
   "metadata": {},
   "outputs": [],
   "source": [
    "\n",
    "\n",
    "def q_7_function():\n",
    "    \"\"\"\n",
    "    This function compute the minimization routine one time and return the 15-uplet and the value of the objectiv function.    \n",
    "    \"\"\"\n",
    "    variables = init_variables(T_MAX = 66)\n",
    "    constants = compute_constants(variables, global_constants = global_constants)\n",
    "    variables = list(variables.values())\n",
    "    constants = list(constants.values())\n",
    "\n",
    "    res = minimize(Epsilon,x0 = variables,bounds = bound, args = (constants))\n",
    "    optimal_variables = dict(zip(variables_keys,res.x))\n",
    "    return optimal_variables,res.fun\n",
    "\n",
    "if generate_variables :     \n",
    "    all_results = []\n",
    "    all_variables = []\n",
    "    pbar = ProgressBar()\n",
    "\n",
    "    for i in pbar(range(100)):\n",
    "        optimal_variables, res = q_7_function()\n",
    "        all_results.append(res)\n",
    "        all_variables.append(optimal_variables)\n",
    "    \n",
    "    best_variables = all_variables[np.argmin(all_results)]\n",
    "    with open('best_variables_q7.csv', 'w') as f:\n",
    "        f.write(\"%s,%s\\n\"%('variables','values'))\n",
    "        for key in best_variables.keys():\n",
    "            f.write(\"%s,%s\\n\"%(key,best_variables[key]))\n",
    "    \n",
    "    \n",
    "else : \n",
    "    best_variables = pd.read_csv('best_variables_q7.csv', ',')\n",
    "    best_variables = best_variables['values'].to_numpy()\n",
    "    best_variables = dict(zip(variables_keys,best_variables))\n",
    "    "
   ]
  },
  {
   "cell_type": "code",
   "execution_count": 26,
   "metadata": {},
   "outputs": [],
   "source": [
    "\n",
    "constants  = compute_constants(best_variables)\n",
    "syst_CI    = array([global_constants['S_0'],best_variables['I_moins_0'],0,0,0,0,0,0,0,0])\n",
    "#simulation = odeint(equa_diff,syst_CI,constants['t'], args = (best_variables,constants))[::10]\n",
    "simulation = np.transpose(resolution_systeme(global_constants['deltaT'],constants, variables, set_size = global_constants['set_size']))[::10]"
   ]
  },
  {
   "cell_type": "code",
   "execution_count": 27,
   "metadata": {},
   "outputs": [
    {
     "name": "stdout",
     "output_type": "stream",
     "text": [
      "100\n"
     ]
    },
    {
     "data": {
      "text/plain": [
       "Text(0.5, 1.0, 'Spread of the epidemic')"
      ]
     },
     "execution_count": 27,
     "metadata": {},
     "output_type": "execute_result"
    },
    {
     "data": {
      "image/png": "[encoded data removed]",
      "text/plain": [
       "<Figure size 576x360 with 1 Axes>"
      ]
     },
     "metadata": {
      "needs_background": "light"
     },
     "output_type": "display_data"
    },
    {
     "data": {
      "image/png": "[encoded data removed]",
      "text/plain": [
       "<Figure size 576x360 with 1 Axes>"
      ]
     },
     "metadata": {
      "needs_background": "light"
     },
     "output_type": "display_data"
    }
   ],
   "source": [
    "fig, axs = plt.subplots(figsize = (8,5), nrows = 1, ncols = 1)\n",
    "columns  = [5,6,7,8,9]\n",
    "titles   = {'5':'hosp (H)','6': 'rea (U)','8':'decede (D)', '9':'detecte (DR)','7': 'gueris (R+)'}\n",
    "time     = pd.date_range(start =  '2020-01-26', end = '2020-03-31', freq = 'D')\n",
    "\n",
    "print(len(simulation))\n",
    "for i,col in enumerate(columns) : \n",
    "    axs.scatter(time,simulation[:66,col],marker = '.', label = titles[f\"{col}\"])\n",
    "axs.legend()\n",
    "locator = mdates.MonthLocator()\n",
    "fmt = mdates.DateFormatter('%b')\n",
    "X = plt.gca().xaxis\n",
    "X.set_major_locator(locator)\n",
    "X.set_major_formatter(fmt)\n",
    "\n",
    "\n",
    "formatter = ticker.ScalarFormatter(useMathText=True)\n",
    "formatter.set_scientific(True) \n",
    "formatter.set_powerlimits((-1,1))\n",
    "axs.yaxis.set_major_formatter(formatter) \n",
    "axs.set_ylabel('nombre')\n",
    "axs.set_xlabel('date')\n",
    "axs.format_xdata = mdates.DateFormatter('%Y-%m-%d')\n",
    "axs.set_title('Spread of the epidemic')\n",
    "\n",
    "\n",
    "\n",
    "columns = ['hosp','rea','rad','dc']\n",
    "titles  = {'hosp': 'hospitalises (H)', 'rea': 'soins intensifs (U)', 'dc' : 'decedes (D)', 'detecte' : 'detectes (DR)', 'rad' : 'gueris (R+)'}\n",
    "\n",
    "fig, axs = plt.subplots(figsize = (8,5), nrows = 1, ncols = 1)\n",
    "for i,col in enumerate(columns) : \n",
    "    axs.scatter(big_table[jour],big_table[col],marker = '.', label = titles[col])\n",
    "axs.scatter(contamination[jour],contamination['detecte'], marker = '.', label = titles['detecte'])\n",
    "axs.legend()\n",
    "locator = mdates.MonthLocator()\n",
    "fmt = mdates.DateFormatter('%b')\n",
    "X = plt.gca().xaxis\n",
    "X.set_major_locator(locator)\n",
    "# Specify formatter\n",
    "X.set_major_formatter(fmt)\n",
    "\n",
    "\n",
    "formatter = ticker.ScalarFormatter(useMathText=True)\n",
    "formatter.set_scientific(True) \n",
    "formatter.set_powerlimits((-1,1))\n",
    "axs.yaxis.set_major_formatter(formatter) \n",
    "axs.set_ylabel('nombre')\n",
    "axs.set_xlabel('date')\n",
    "axs.format_xdata = mdates.DateFormatter('%Y-%m-%d')\n",
    "axs.set_title('Spread of the epidemic')"
   ]
  },
  {
   "cell_type": "markdown",
   "metadata": {},
   "source": [
    "8) **Donnez les valeurs de $\\sigma_C$ pour $C$ dans $\\{H,U,D,R\\}$**"
   ]
  },
  {
   "cell_type": "markdown",
   "metadata": {},
   "source": [
    "L'énoncé nous dit que : \n",
    "\n",
    "$\\begin{equation}\n",
    "p(data|x,\\sigma)=(2\\pi)^{-\\frac{n_{DR}}{2}-2n_{H}}\\sigma_{DR}^{-n_{DR}}\\sigma_{H}^{-n_{H}}\\sigma_{U}^{-n_{H}}\\sigma_{D}^{-n_{H}}\\sigma_{R}^{-n_{H}}\\times e^{-\\frac{1}{2}\\sum_{i=1}^{n_{DR}}\\frac{f_{DR}(x,s_{i})^{2}}{\\sigma_{DR}^{2}}-\\frac{1}{2}\\sum_{i=1}^{n_{H}}\\frac{f_{H}(x,s_{i})2}{\\sigma_{H}^{2}}+\\frac{f_{U}(x,s_{i})^{2}}{\\sigma_{U}^{2}}+\\frac{f_{D}(x,s_{i})^{2}}{\\sigma_{D}^{2}}+\\frac{f_{R}(x,s_{i})^{2}}{\\sigma_{R}^{2}}}\n",
    "\\end{equation}$\n",
    "\n",
    "Que l'on peut réécrire de la manière suivante afin de d'utiliser une optimisation sous log-vraisemblance par la suite : \n",
    "\n",
    "$\\begin{equation}\n",
    "p(data|x,\\sigma)=(2\\pi)^{-\\frac{n_{DR}}{2}-2n_{H}}\\sigma_{H}^{-n_{H}}\\sigma_{U}^{-n_{H}}\\sigma_{D}^{-n_{H}}\\sigma_{R}^{-n_{H}}\\times e^{-n_{DR}ln(\\sigma_{DR})-\\frac{1}{2}\\sum_{i=1}^{n_{DR}}\\frac{f_{DR}(x,s_{i})^{2}}{\\sigma_{DR}^{2}}-\\frac{1}{2}\\sum_{i=1}^{n_{H}}\\frac{f_{H}(x,s_{i})2}{\\sigma_{H}^{2}}+\\frac{f_{U}(x,s_{i})^{2}}{\\sigma_{U}^{2}}+\\frac{f_{D}(x,s_{i})^{2}}{\\sigma_{D}^{2}}+\\frac{f_{R}(x,s_{i})^{2}}{\\sigma_{R}^{2}}}\n",
    "\\end{equation}$\n",
    "\n",
    "\n",
    "On atteint un optimum pour l'expression suivante quand toutes les compostantes du gradient sont nulles. En raisonnant pour $\\sigma_{DR}$ on a : \n",
    "\n",
    "$\\begin{align}\n",
    "\\frac{\\partial}{\\sigma_{DR}}p(data|x,\\sigma)&=(2\\pi)^{-\\frac{n_{DR}}{2}-2n_{H}}\\sigma_{H}^{-n_{H}}\\sigma_{U}^{-n_{H}}\\sigma_{D}^{-n_{H}}\\sigma_{R}^{-n_{H}}\\times(-\\frac{n_{DR}}{\\sigma_{DR}}+\\sum_{i=1}^{n_{DR}}\\frac{f_{DR}(x,s_{i})^{2}}{\\sigma_{DR}^{3}})e^{-n_{DR}ln(\\sigma_{DR})-\\frac{1}{2}\\sum_{i=1}^{n_{DR}}\\frac{f_{DR}(x,s_{i})^{2}}{\\sigma_{DR}^{2}}-\\frac{1}{2}\\sum_{i=1}^{n_{H}}\\frac{f_{H}(x,s_{i})2}{\\sigma_{H}^{2}}+\\frac{f_{U}(x,s_{i})^{2}}{\\sigma_{U}^{2}}+\\frac{f_{D}(x,s_{i})^{2}}{\\sigma_{D}^{2}}+\\frac{f_{R}(x,s_{i})^{2}}{\\sigma_{R}^{2}}}\\\\\n",
    "&=0\n",
    "\\end{align}$\n",
    "Ce qui revient à écrire que : \n",
    "\n",
    "\n",
    "$\\begin{align}\n",
    "& \\ \\frac{n_{DR}}{\\sigma_{DR}}=\\sum_{i=1}^{n_{DR}}\\frac{f_{DR}(x,s_{i})^{2}}{\\sigma_{DR}^{3}}\\\\\n",
    "\\Leftrightarrow &  \\ \\sigma_{DR}^{2}=\\sum_{i=1}^{n_{DR}}\\frac{f_{DR}(x,s_{i})^{2}}{n_{DR}}\n",
    "\\end{align}$\n",
    "\n",
    "En raisonnant de même pour les autres sigmas, il vient que :\n",
    "\n",
    "$\\sigma_{C}^{2}=\\sum_{i=1}^{n_{H}}\\frac{f_{C}(x,s_{i})^{2}}{n_{H}}$\n",
    "\n"
   ]
  },
  {
   "cell_type": "markdown",
   "metadata": {},
   "source": [
    "9) **Donner une expression implicite de la loi a posteriori $p(x|data)$ des paramètres x.**\n",
    "\n",
    "Le théorème de Bayes nous donne que : $p(x|data) \\propto p(data|x)p_0(x)$.\n",
    "\n",
    "Pour l'approche plug-in, on fixe les valeurs de sigma tel que définis à la question 8. Dans ce cas, on a : \n",
    "\n",
    "$\\begin{equation}\n",
    "p(x|data)=p(data|x)p_0(x)\n",
    "\\end{equation}$\n",
    "\n",
    "Dans le cadre de l'approche full-bayésienne comme on a : $\\pi(\\sigma_C)=(\\sigma_C)^{-1}$ pour $C$ dans $\\{H,U,D,R\\}$ alors on peut écrire que : $\\begin{align}\n",
    "p(x|data) &\\propto \\int_{\\sigma}p(x,\\sigma|data)d\\sigma\\\\\n",
    "&\\propto \\int_{\\sigma}p(data|x,\\sigma)p(\\sigma)p_0(x)d\\sigma\n",
    "\\end{align}$\n",
    "\n",
    "En utilisant les expressions de chacun des $\\sigma$ on peut développer l'intégrale et donner une expression implicite de cette densité. \n"
   ]
  },
  {
   "cell_type": "markdown",
   "metadata": {},
   "source": [
    "10) **Dans le cas plug-in, puis dans le cas full-bayésien, comparer les lois a priori et a posteriori uni-dimensionnelles de chacun des paramètres (histogramme,moyenne, variance). Estimer la matrice de corrélation a posteriori des paramètres. Quels sont les paramètres pour lesquels l'incertitude a été fortement réduite ou au contraire très peu réduite ?**\n",
    "\n",
    "\n",
    "Nous connaissons les lois à postériori à une constante multiplicative près. De ce fait nous souhaitons donc simuler la distribution de $p(x|data)$ en utilisant un algorithme de Metropolis Hasting. \n",
    "\n",
    "A partir d'un point $X_0$, nous construisons la chaîne de Markov de la façon suivante : \n",
    "\n",
    "- On propose un déplacement vers $\\tilde{X}_{n+1}$ selon la loi $q(X_n,\\sigma^2I)$ supposée gaussienne. On améliorera la matrice de covariance de cette loi durant la procédure de burn-in. \n",
    "\n",
    "- On accepte le déplacement avec la probabilité $a(X_n,\\tilde{X}_{n+1})$. La fonction $a$ est définie comme suit : \n",
    "\n",
    "\\begin{align}\n",
    "a(X_n,\\tilde{X}_{n+1}) &= min\\{\\frac{p(\\tilde{X}_{n+1}|data)Q(X_n,\\tilde{X}_{n+1})}{p(X_n|data)Q(\\tilde{X}_{n+1},X_n)},1\\}\\\\\n",
    "&= min\\{\\frac{p(data|\\tilde{X}_{n+1})Q(X_n,\\tilde{X}_{n+1})}{p(data|X_n)Q(\\tilde{X}_{n+1},X_n)},1\\}\n",
    "\\end{align}\n",
    "\n"
   ]
  },
  {
   "cell_type": "code",
   "execution_count": 46,
   "metadata": {},
   "outputs": [
    {
     "name": "stdout",
     "output_type": "stream",
     "text": [
      "{'p_a': {'loc': 0.65, 'scale': 0.1}, 'p_IH': {'loc': 0.125, 'scale': 0.1}, 'p_IU': {'loc': 0.025, 'scale': 0.1}, 'p_HD': {'loc': 0.15, 'scale': 0.1}, 'p_HU': {'loc': 0.15, 'scale': 0.1}, 'p_UD': {'loc': 0.3, 'scale': 0.1}, 'N_I': {'loc': 10, 'scale': 1}, 'N_H': {'loc': 20, 'scale': 1}, 'N_U': {'loc': 15, 'scale': 1}, 'R_0': {'loc': 3.15, 'scale': 0.1}, 'mu': {'loc': 0.05, 'scale': 0.01}, 'N': {'loc': 40, 'scale': 1}, 't_0': {'loc': 15, 'scale': 1}, 'I_moins_0': {'loc': 50, 'scale': 1}, 'lambda_1': {'loc': 5e-05, 'scale': 1e-05}}\n"
     ]
    }
   ],
   "source": [
    "\n",
    "\n",
    "\n",
    "F = {'p_a': 'norm',\n",
    "    'p_IH': 'norm',\n",
    "    'p_IU': 'norm',\n",
    "    'p_HD': 'norm',\n",
    "    'p_HU': 'norm',\n",
    "    'p_UD': 'norm',\n",
    "    'N_I' : 'norm',\n",
    "    'N_H' : 'norm',\n",
    "    'N_U' : 'norm',\n",
    "    'R_0' : 'norm',\n",
    "    'mu'  : 'norm',\n",
    "    'N'   : 'norm',\n",
    "    't_0'   : 'norm',\n",
    "    'I_moins_0' : 'norm',\n",
    "    'lambda_1' : 'norm'\n",
    "}\n",
    "\n",
    "\n",
    "\n",
    "F_parameters = {'p_a': {'loc':0.65,'scale':0.1},\n",
    "    'p_IH': {'loc':0.125,'scale':0.1},\n",
    "    'p_IU': {'loc':0.025,'scale':0.1},\n",
    "    'p_HD': {'loc':0.15,'scale':0.1},\n",
    "    'p_HU': {'loc':0.15,'scale':0.1},\n",
    "    'p_UD': {'loc':0.3,'scale':0.1},\n",
    "    'N_I' : {'loc':10,'scale':1},\n",
    "    'N_H' : {'loc':20,'scale':1},\n",
    "    'N_U' : {'loc':15,'scale':1},\n",
    "    'R_0' : {'loc':3.15,'scale':0.1},\n",
    "    'mu'  : {'loc':0.05,'scale':0.01},\n",
    "    'N'   : {'loc':40,'scale':1},\n",
    "    't_0' : {'loc':15, 'scale':1},\n",
    "    'I_moins_0' : {'loc':50,'scale':1},\n",
    "    'lambda_1' : {'loc':0.5*10**(-4),'scale':10**(-5)}\n",
    "}\n",
    "\n",
    "\n",
    "print(F_parameters)\n"
   ]
  },
  {
   "cell_type": "code",
   "execution_count": 47,
   "metadata": {},
   "outputs": [
    {
     "name": "stderr",
     "output_type": "stream",
     "text": [
      "N/A% (0 of 100000) |                     | Elapsed Time: 0:00:00 ETA:  --:--:--"
     ]
    },
    {
     "name": "stdout",
     "output_type": "stream",
     "text": [
      "mu second\n",
      "rejected\n",
      "p_HD first\n",
      "rejected\n"
     ]
    },
    {
     "ename": "NameError",
     "evalue": "name 'F_current_parameters' is not defined",
     "output_type": "error",
     "traceback": [
      "\u001b[0;31m---------------------------------------------------------------------------\u001b[0m",
      "\u001b[0;31mNameError\u001b[0m                                 Traceback (most recent call last)",
      "\u001b[0;32m<ipython-input-47-e7eb4b19af7e>\u001b[0m in \u001b[0;36m<module>\u001b[0;34m\u001b[0m\n\u001b[1;32m    192\u001b[0m \u001b[0mvariables\u001b[0m \u001b[0;34m=\u001b[0m \u001b[0minit_variables\u001b[0m\u001b[0;34m(\u001b[0m\u001b[0mT_MAX\u001b[0m \u001b[0;34m=\u001b[0m \u001b[0;36m66\u001b[0m\u001b[0;34m)\u001b[0m\u001b[0;34m\u001b[0m\u001b[0;34m\u001b[0m\u001b[0m\n\u001b[1;32m    193\u001b[0m \u001b[0;34m\u001b[0m\u001b[0m\n\u001b[0;32m--> 194\u001b[0;31m \u001b[0mMetropolis_Hasting_plug_in\u001b[0m\u001b[0;34m(\u001b[0m\u001b[0mvariables\u001b[0m\u001b[0;34m,\u001b[0m \u001b[0mF_parameters\u001b[0m\u001b[0;34m)\u001b[0m\u001b[0;34m\u001b[0m\u001b[0;34m\u001b[0m\u001b[0m\n\u001b[0m\u001b[1;32m    195\u001b[0m \u001b[0;34m\u001b[0m\u001b[0m\n",
      "\u001b[0;32m<ipython-input-47-e7eb4b19af7e>\u001b[0m in \u001b[0;36mMetropolis_Hasting_plug_in\u001b[0;34m(X, F_parameters, n)\u001b[0m\n\u001b[1;32m    111\u001b[0m         \u001b[0mX\u001b[0m  \u001b[0;34m=\u001b[0m \u001b[0mchain\u001b[0m\u001b[0;34m[\u001b[0m\u001b[0;34m-\u001b[0m\u001b[0;36m1\u001b[0m\u001b[0;34m]\u001b[0m\u001b[0;34m\u001b[0m\u001b[0;34m\u001b[0m\u001b[0m\n\u001b[1;32m    112\u001b[0m         \u001b[0mX_\u001b[0m \u001b[0;34m=\u001b[0m \u001b[0mmove\u001b[0m\u001b[0;34m(\u001b[0m\u001b[0mX\u001b[0m\u001b[0;34m,\u001b[0m\u001b[0mF_parameters\u001b[0m\u001b[0;34m)\u001b[0m\u001b[0;34m\u001b[0m\u001b[0;34m\u001b[0m\u001b[0m\n\u001b[0;32m--> 113\u001b[0;31m         \u001b[0mtest\u001b[0m \u001b[0;34m=\u001b[0m \u001b[0ma_plug_in\u001b[0m\u001b[0;34m(\u001b[0m\u001b[0mX\u001b[0m\u001b[0;34m,\u001b[0m\u001b[0mX_\u001b[0m\u001b[0;34m,\u001b[0m\u001b[0msigmas\u001b[0m\u001b[0;34m)\u001b[0m\u001b[0;34m\u001b[0m\u001b[0;34m\u001b[0m\u001b[0m\n\u001b[0m\u001b[1;32m    114\u001b[0m         \u001b[0;32mif\u001b[0m \u001b[0mtest\u001b[0m \u001b[0;34m==\u001b[0m \u001b[0;36m1\u001b[0m \u001b[0;34m:\u001b[0m\u001b[0;34m\u001b[0m\u001b[0;34m\u001b[0m\u001b[0m\n\u001b[1;32m    115\u001b[0m             \u001b[0mchain\u001b[0m\u001b[0;34m.\u001b[0m\u001b[0mappend\u001b[0m\u001b[0;34m(\u001b[0m\u001b[0mX_\u001b[0m\u001b[0;34m)\u001b[0m\u001b[0;34m\u001b[0m\u001b[0;34m\u001b[0m\u001b[0m\n",
      "\u001b[0;32m<ipython-input-47-e7eb4b19af7e>\u001b[0m in \u001b[0;36ma_plug_in\u001b[0;34m(X, X_, sigmas)\u001b[0m\n\u001b[1;32m     85\u001b[0m         \u001b[0mprint\u001b[0m\u001b[0;34m(\u001b[0m\u001b[0;34m'rejected'\u001b[0m\u001b[0;34m)\u001b[0m\u001b[0;34m\u001b[0m\u001b[0;34m\u001b[0m\u001b[0m\n\u001b[1;32m     86\u001b[0m         \u001b[0;32mreturn\u001b[0m \u001b[0;36m0\u001b[0m\u001b[0;34m\u001b[0m\u001b[0;34m\u001b[0m\u001b[0m\n\u001b[0;32m---> 87\u001b[0;31m     \u001b[0mratio\u001b[0m \u001b[0;34m=\u001b[0m \u001b[0mplug_in\u001b[0m\u001b[0;34m(\u001b[0m\u001b[0mX_\u001b[0m\u001b[0;34m,\u001b[0m\u001b[0msigmas\u001b[0m\u001b[0;34m)\u001b[0m\u001b[0;34m*\u001b[0m\u001b[0mQ\u001b[0m\u001b[0;34m(\u001b[0m\u001b[0mX\u001b[0m\u001b[0;34m,\u001b[0m\u001b[0mX_\u001b[0m\u001b[0;34m)\u001b[0m\u001b[0;34m/\u001b[0m\u001b[0;34m(\u001b[0m\u001b[0mplug_in\u001b[0m\u001b[0;34m(\u001b[0m\u001b[0mX\u001b[0m\u001b[0;34m,\u001b[0m\u001b[0msigmas\u001b[0m\u001b[0;34m)\u001b[0m\u001b[0;34m*\u001b[0m\u001b[0mQ\u001b[0m\u001b[0;34m(\u001b[0m\u001b[0mX_\u001b[0m\u001b[0;34m,\u001b[0m\u001b[0mX\u001b[0m\u001b[0;34m)\u001b[0m\u001b[0;34m)\u001b[0m\u001b[0;34m\u001b[0m\u001b[0;34m\u001b[0m\u001b[0m\n\u001b[0m\u001b[1;32m     88\u001b[0m     \u001b[0mminimum\u001b[0m \u001b[0;34m=\u001b[0m \u001b[0mmin\u001b[0m\u001b[0;34m(\u001b[0m\u001b[0mratio\u001b[0m\u001b[0;34m,\u001b[0m\u001b[0;36m1\u001b[0m\u001b[0;34m)\u001b[0m\u001b[0;34m\u001b[0m\u001b[0;34m\u001b[0m\u001b[0m\n\u001b[1;32m     89\u001b[0m \u001b[0;34m\u001b[0m\u001b[0m\n",
      "\u001b[0;32m<ipython-input-47-e7eb4b19af7e>\u001b[0m in \u001b[0;36mQ\u001b[0;34m(X, X_)\u001b[0m\n\u001b[1;32m     65\u001b[0m             \u001b[0mprob\u001b[0m \u001b[0;34m=\u001b[0m \u001b[0mlognorm\u001b[0m\u001b[0;34m.\u001b[0m\u001b[0mpdf\u001b[0m\u001b[0;34m(\u001b[0m\u001b[0mvariables\u001b[0m\u001b[0;34m[\u001b[0m\u001b[0mkey\u001b[0m\u001b[0;34m]\u001b[0m\u001b[0;34m,\u001b[0m \u001b[0ms\u001b[0m \u001b[0;34m=\u001b[0m \u001b[0mvariables_\u001b[0m\u001b[0;34m[\u001b[0m\u001b[0mkey\u001b[0m\u001b[0;34m]\u001b[0m\u001b[0;34m,\u001b[0m \u001b[0mscale\u001b[0m \u001b[0;34m=\u001b[0m \u001b[0mF_current_parameters\u001b[0m\u001b[0;34m[\u001b[0m\u001b[0mkey\u001b[0m\u001b[0;34m]\u001b[0m\u001b[0;34m[\u001b[0m\u001b[0;34m'scale'\u001b[0m\u001b[0;34m]\u001b[0m\u001b[0;34m)\u001b[0m\u001b[0;34m\u001b[0m\u001b[0;34m\u001b[0m\u001b[0m\n\u001b[1;32m     66\u001b[0m         \u001b[0;32mif\u001b[0m \u001b[0mf\u001b[0m \u001b[0;34m==\u001b[0m \u001b[0;34m'norm'\u001b[0m   \u001b[0;34m:\u001b[0m\u001b[0;34m\u001b[0m\u001b[0;34m\u001b[0m\u001b[0m\n\u001b[0;32m---> 67\u001b[0;31m             \u001b[0mprob\u001b[0m \u001b[0;34m=\u001b[0m \u001b[0mnorm\u001b[0m\u001b[0;34m.\u001b[0m\u001b[0mpdf\u001b[0m\u001b[0;34m(\u001b[0m\u001b[0mvariables\u001b[0m\u001b[0;34m[\u001b[0m\u001b[0mkey\u001b[0m\u001b[0;34m]\u001b[0m\u001b[0;34m,\u001b[0m \u001b[0mloc\u001b[0m \u001b[0;34m=\u001b[0m \u001b[0mvariables_\u001b[0m\u001b[0;34m[\u001b[0m\u001b[0mkey\u001b[0m\u001b[0;34m]\u001b[0m\u001b[0;34m,\u001b[0m \u001b[0mscale\u001b[0m \u001b[0;34m=\u001b[0m \u001b[0mF_current_parameters\u001b[0m\u001b[0;34m[\u001b[0m\u001b[0mkey\u001b[0m\u001b[0;34m]\u001b[0m\u001b[0;34m[\u001b[0m\u001b[0;34m'scale'\u001b[0m\u001b[0;34m]\u001b[0m\u001b[0;34m)\u001b[0m\u001b[0;34m\u001b[0m\u001b[0;34m\u001b[0m\u001b[0m\n\u001b[0m\u001b[1;32m     68\u001b[0m         \u001b[0;32mif\u001b[0m \u001b[0mf\u001b[0m \u001b[0;34m==\u001b[0m \u001b[0;34m'uniform'\u001b[0m\u001b[0;34m:\u001b[0m\u001b[0;34m\u001b[0m\u001b[0;34m\u001b[0m\u001b[0m\n\u001b[1;32m     69\u001b[0m             \u001b[0mprob\u001b[0m \u001b[0;34m=\u001b[0m \u001b[0muniform\u001b[0m\u001b[0;34m.\u001b[0m\u001b[0mpdf\u001b[0m\u001b[0;34m(\u001b[0m\u001b[0mvariables\u001b[0m\u001b[0;34m[\u001b[0m\u001b[0mkey\u001b[0m\u001b[0;34m]\u001b[0m\u001b[0;34m,\u001b[0m \u001b[0mloc\u001b[0m \u001b[0;34m=\u001b[0m \u001b[0mvariables_\u001b[0m\u001b[0;34m[\u001b[0m\u001b[0mkey\u001b[0m\u001b[0;34m]\u001b[0m \u001b[0;34m-\u001b[0m \u001b[0mF_current_parameters\u001b[0m\u001b[0;34m[\u001b[0m\u001b[0mkey\u001b[0m\u001b[0;34m]\u001b[0m\u001b[0;34m[\u001b[0m\u001b[0;34m'scale'\u001b[0m\u001b[0;34m]\u001b[0m\u001b[0;34m/\u001b[0m\u001b[0;36m2\u001b[0m \u001b[0;34m,\u001b[0m\u001b[0mscale\u001b[0m \u001b[0;34m=\u001b[0m \u001b[0mF_current_parameters\u001b[0m\u001b[0;34m[\u001b[0m\u001b[0mkey\u001b[0m\u001b[0;34m]\u001b[0m\u001b[0;34m[\u001b[0m\u001b[0;34m'scale'\u001b[0m\u001b[0;34m]\u001b[0m \u001b[0;34m)\u001b[0m\u001b[0;34m\u001b[0m\u001b[0;34m\u001b[0m\u001b[0m\n",
      "\u001b[0;31mNameError\u001b[0m: name 'F_current_parameters' is not defined"
     ]
    }
   ],
   "source": [
    "from scipy.stats import lognorm\n",
    "from scipy.stats import norm\n",
    "from scipy.stats import uniform\n",
    "np.random.seed(4)\n",
    "def not_accepted_move(X_):\n",
    "    \n",
    "    variables = dict(zip(variables_keys,X_))\n",
    "    for key,value in variables.items():\n",
    "        if key in ['p_a','p_IH','p_IU','p_HD','p_HU','p_UD'] and not 0<=value<=1 :\n",
    "            print(key,'first')\n",
    "            return True \n",
    "        if key in ['N_I','N_H','N_U','R_0','mu','N','t_0','I_moins_0','lambda_1'] and value < 0 :\n",
    "            print(key,'second')\n",
    "            return True\n",
    "        if key == 'I_moins_0' and value < 1 : \n",
    "            print(key,'third')\n",
    "            print(value)\n",
    "            return True\n",
    "    \n",
    "    return False\n",
    "        \n",
    "    \n",
    "\n",
    "def move(X,F_current_parameters):\n",
    "    \"\"\"\n",
    "    Generate a possible movement for our scale\n",
    "    \"\"\"\n",
    "    variables = dict(zip(variables_keys,X))\n",
    "    X_ = []\n",
    "    for key,values in variables.items() :\n",
    "        f = F[key]\n",
    "        if f == 'lognorm':\n",
    "            x_ = lognorm.rvs(s = F_current_parameters[key]['s'], scale = values)\n",
    "        if f == 'norm'   : \n",
    "            x_ = norm.rvs(loc = values, scale = F_current_parameters[key]['scale'] )\n",
    "        if f == 'uniform' : \n",
    "            \n",
    "            if F_parameters[key]['constraint']=='one':\n",
    "                if values-F_current_parameters[key]['scale']/2 < F_parameters[key]['low'] :\n",
    "                    F_current_parameters[key]['scale'] = 2*(values-F_parameters[key]['low'])\n",
    "                    \n",
    "            if F_parameters[key]['constraint']=='two':\n",
    "                if values-F_current_parameters[key]['scale']/2 < F_parameters[key]['low'] or values+F_current_parameters[key]['scale']/2 > F_parameters[key]['high']:\n",
    "                    F_current_parameters[key]['scale'] = min(2*(values-F_parameters[key]['low']),2*(F_parameters[key]['high']-values))\n",
    "                    print('two',min(2*(values-F_parameters[key]['low']),2*(F_parameters[key]['high']-values)))\n",
    "            x_ = uniform.rvs(loc = values - F_current_parameters[key]['scale']/2, scale = F_current_parameters[key]['scale'])\n",
    "            \n",
    "        if f == 'beta' :\n",
    "            x_ = beta.rvs(loc = F_current_parameters[key]['loc'], scale = F_current_parameters[key]['scale'], a = 5, b = 5)\n",
    "        X_.append(x_)\n",
    "    return X_\n",
    "\n",
    "\n",
    "def Q(X,X_):\n",
    "    \"\"\"\n",
    "    Give the propability of the transition\n",
    "    \"\"\"\n",
    "    probs = []\n",
    "    \n",
    "    variables  = dict(zip(variables_keys,X))\n",
    "    variables_ = dict(zip(variables_keys,X_))  \n",
    "    for key in variables_keys : \n",
    "        f = F[key]\n",
    "        if f == 'lognorm':\n",
    "            prob = lognorm.pdf(variables[key], s = variables_[key], scale = F_current_parameters[key]['scale'])\n",
    "        if f == 'norm'   : \n",
    "            prob = norm.pdf(variables[key], loc = variables_[key], scale = F_current_parameters[key]['scale'])\n",
    "        if f == 'uniform':\n",
    "            prob = uniform.pdf(variables[key], loc = variables_[key] - F_current_parameters[key]['scale']/2 ,scale = F_current_parameters[key]['scale'] )\n",
    "        if f == 'beta' : \n",
    "            prob = beta.pdf(variables[key], loc = variables_[key], scale = F_current_parameters[key]['scale'], a = 5 , b = 5)\n",
    "        \n",
    "        probs.append(prob)\n",
    "\n",
    "        \n",
    "    probs = np.array(probs)\n",
    "    \n",
    "    return np.prod(probs)\n",
    "\n",
    "def a_plug_in(X,X_,sigmas):\n",
    "    \"\"\"\n",
    "    Given a former position X and a new position X_, return the new position\n",
    "    \"\"\"\n",
    "    if not_accepted_move(X_):\n",
    "        print('rejected')\n",
    "        return 0\n",
    "    ratio = plug_in(X_,sigmas)*Q(X,X_)/(plug_in(X,sigmas)*Q(X_,X))\n",
    "    minimum = min(ratio,1)\n",
    "   \n",
    "    U     = np.random.uniform()\n",
    "    if U> minimum : \n",
    "        return 0\n",
    "    else :\n",
    "        return 1\n",
    "    \n",
    "def Metropolis_Hasting_plug_in(X,F_parameters,n= 100000):\n",
    "    \"\"\"\n",
    "    Given a random point X, we return a sample of Metroplis Hasting of size n. \n",
    "    \"\"\"\n",
    "    \n",
    "    X = (list(X.values()))\n",
    "    chain = [X]\n",
    "    \n",
    "    burn_in = n//10\n",
    "    burn_in_period = burn_in//100\n",
    "    \n",
    "    acceptation_history = np.zeros(burn_in_period)\n",
    "    sigmas = compute_sigmas()\n",
    "    pbar   = ProgressBar()\n",
    "    for i in pbar(range(n)):\n",
    "        X  = chain[-1]\n",
    "        X_ = move(X,F_parameters)\n",
    "        test = a_plug_in(X,X_,sigmas)\n",
    "        if test == 1 :             \n",
    "            chain.append(X_)\n",
    "        acceptation_history[i%burn_in_period] = test\n",
    "        \n",
    "        if i % burn_in_period == 0 and 1< i < burn_in :\n",
    "            rate = np.mean(acceptation_history)\n",
    "            if rate < 0.25 : \n",
    "                update_F('down')\n",
    "                print('down',rate)\n",
    "            if rate > 0.50 : \n",
    "                update_F('up')\n",
    "                print('up',rate)\n",
    "            acceptation_history = np.zeros(burn_in_period)\n",
    "        if i == burn_in :\n",
    "            break\n",
    "    for X in chain : \n",
    "        print(dict(zip(variables_keys,X)))\n",
    "    \n",
    "    return 'youpi'\n",
    "\n",
    "def update_F(variation,F = F, F_parameters = F_parameters):\n",
    "    \n",
    "    for key in F_parameters.keys() : \n",
    "        if F[key] == 'lognormal':\n",
    "            if variation == 'up' : \n",
    "                F_parameters[key]['s']*= 1.1\n",
    "            if variation == 'down' :\n",
    "                F_parameters[key]['s']*= 0.9\n",
    "        if F[key] == 'norm':\n",
    "            if variation == 'up':\n",
    "                F_parameters[key]['scale']*= 1.1\n",
    "            if variation == 'down':\n",
    "                F_parameters[key]['scale']*= 0.9\n",
    "        if F[key] == 'uniform':\n",
    "            if variation == 'up':\n",
    "                F_parameters[key]['scale']*= 1.1\n",
    "            if variation == 'down':\n",
    "                F_parameters[key]['scale']*= 0.9\n",
    "        if F[key] == 'beta':\n",
    "            if variation == 'up':\n",
    "                F_parameters[key]['scale']*= 1.1\n",
    "            if variation == 'down':\n",
    "                F_parameters[key]['scale']*= 0.9\n",
    "        \n",
    "            \n",
    "    \n",
    "\n",
    "def plug_in(X,sigmas):\n",
    "    \n",
    "    \"\"\"\n",
    "    Given the set of best variables, return the plug in probability according to the data.\n",
    "    \"\"\"\n",
    "    variables = dict(zip(variables_keys,X))\n",
    "    constants = compute_constants(variables)\n",
    "   \n",
    "    constants = list(constants.values())\n",
    "    result =  np.log((2*np.pi))*(-n_DR/2-2*n_H)+np.log(sigmas[0])*(-n_DR)+np.log((np.prod(sigmas[1:])))*(-n_H)+(-0.5*Epsilon(X,constants,sigmas = sigmas))\n",
    "    \n",
    "    return np.exp(result)\n",
    "\n",
    "def compute_sigmas(best_variables = best_variables,n_DR=n_DR,n_H=n_H,contamination = contamination,big_table=big_table):\n",
    "    \n",
    "    constants  = compute_constants(best_variables)\n",
    "    syst_CI    = array([global_constants['S_0'],best_variables['I_moins_0'],0,0,0,0,0,0,0,0])\n",
    "    #simulation = odeint(equa_diff,syst_CI,constants['t'], args = (best_variables,constants))[::10]\n",
    "    simulation = np.transpose(resolution_systeme(global_constants['deltaT'],constants, variables, set_size = global_constants['set_size']))[::10]\n",
    "    \n",
    "    \n",
    "    sigma_DR = np.sqrt(np.mean(((simulation[n_DR:,-1]-contamination['detecte'].to_numpy())/np.sqrt(simulation[n_DR:,-1]))**2))\n",
    "    \n",
    "    sigma_H  = np.sqrt(np.mean(((simulation[n_H:,5]-big_table['hosp'].to_numpy())/np.sqrt(simulation[n_H:,5]))**2))\n",
    "    sigma_U  = np.sqrt(np.mean(((simulation[n_H:,6]-big_table['rea'].to_numpy())/np.sqrt(simulation[n_H:,6]))**2))\n",
    "    sigma_D  = np.sqrt(np.mean(((simulation[n_H:,8]-big_table['dc'].to_numpy())/np.sqrt(simulation[n_H:,8]))**2))\n",
    "    sigma_R  = np.sqrt(np.mean(((simulation[n_H:,7]-big_table['rad'].to_numpy())/np.sqrt(simulation[n_H:,7]))**2))\n",
    "    \n",
    "    sigmas = [sigma_DR,sigma_H,sigma_U,sigma_D,sigma_R]\n",
    "    return sigmas\n",
    "\n",
    "variables = init_variables(T_MAX = 66)\n",
    "\n",
    "Metropolis_Hasting_plug_in(variables, F_parameters)\n",
    "    "
   ]
  },
  {
   "cell_type": "code",
   "execution_count": 37,
   "metadata": {},
   "outputs": [
    {
     "ename": "NameError",
     "evalue": "name 'set_size' is not defined",
     "output_type": "error",
     "traceback": [
      "\u001b[0;31m---------------------------------------------------------------------------\u001b[0m",
      "\u001b[0;31mNameError\u001b[0m                                 Traceback (most recent call last)",
      "\u001b[0;32m<ipython-input-37-ac96d1775e7f>\u001b[0m in \u001b[0;36m<module>\u001b[0;34m\u001b[0m\n\u001b[1;32m      1\u001b[0m \u001b[0;31m#variables\u001b[0m\u001b[0;34m\u001b[0m\u001b[0;34m\u001b[0m\u001b[0;34m\u001b[0m\u001b[0m\n\u001b[1;32m      2\u001b[0m \u001b[0;31m#global_constants\u001b[0m\u001b[0;34m\u001b[0m\u001b[0;34m\u001b[0m\u001b[0;34m\u001b[0m\u001b[0m\n\u001b[0;32m----> 3\u001b[0;31m \u001b[0mset_size\u001b[0m\u001b[0;34m\u001b[0m\u001b[0;34m\u001b[0m\u001b[0m\n\u001b[0m",
      "\u001b[0;31mNameError\u001b[0m: name 'set_size' is not defined"
     ]
    }
   ],
   "source": [
    "#variables\n",
    "#global_constants\n"
   ]
  },
  {
   "cell_type": "code",
   "execution_count": null,
   "metadata": {},
   "outputs": [],
   "source": [
    "from scipy.stats import lognorm\n",
    "from scipy.stats import uniform\n",
    "from scipy.stats import beta"
   ]
  },
  {
   "cell_type": "code",
   "execution_count": 91,
   "metadata": {},
   "outputs": [
    {
     "data": {
      "text/plain": [
       "[<matplotlib.lines.Line2D at 0x257791a7f40>]"
      ]
     },
     "execution_count": 91,
     "metadata": {},
     "output_type": "execute_result"
    },
    {
     "data": {
      "image/png": "[encoded data removed]",
      "text/plain": [
       "<Figure size 432x288 with 1 Axes>"
      ]
     },
     "metadata": {
      "needs_background": "light"
     },
     "output_type": "display_data"
    }
   ],
   "source": [
    "X = np.arange(0,1,0.001)\n",
    "Y = beta.pdf(X,loc = 0.5 ,scale = 0.1, a = 5, b = 5)\n",
    "plt.plot(X,Y)"
   ]
  },
  {
   "cell_type": "code",
   "execution_count": null,
   "metadata": {},
   "outputs": [],
   "source": []
  },
  {
   "cell_type": "code",
   "execution_count": 17,
   "metadata": {},
   "outputs": [
    {
     "ename": "TypeError",
     "evalue": "'>' not supported between instances of 'numpy.ndarray' and 'int'",
     "output_type": "error",
     "traceback": [
      "\u001b[1;31m---------------------------------------------------------------------------\u001b[0m",
      "\u001b[1;31mTypeError\u001b[0m                                 Traceback (most recent call last)",
      "\u001b[1;32m<ipython-input-17-78e383c61bb5>\u001b[0m in \u001b[0;36m<module>\u001b[1;34m\u001b[0m\n\u001b[1;32m----> 1\u001b[1;33m \u001b[0mlognorm\u001b[0m\u001b[1;33m.\u001b[0m\u001b[0mpdf\u001b[0m\u001b[1;33m(\u001b[0m\u001b[0mX\u001b[0m\u001b[1;33m,\u001b[0m\u001b[0mlist\u001b[0m\u001b[1;33m(\u001b[0m\u001b[1;33m{\u001b[0m\u001b[1;34m'scale'\u001b[0m\u001b[1;33m:\u001b[0m\u001b[1;36m0.65\u001b[0m\u001b[1;33m,\u001b[0m\u001b[1;34m's'\u001b[0m\u001b[1;33m:\u001b[0m\u001b[1;36m0.25\u001b[0m\u001b[1;33m/\u001b[0m\u001b[1;36m3\u001b[0m\u001b[1;33m}\u001b[0m\u001b[1;33m)\u001b[0m\u001b[1;33m)\u001b[0m\u001b[1;33m\u001b[0m\u001b[1;33m\u001b[0m\u001b[0m\n\u001b[0m",
      "\u001b[1;32mc:\\users\\swann\\.virtualenvs\\cours-kd0f9zyv\\lib\\site-packages\\scipy\\stats\\_distn_infrastructure.py\u001b[0m in \u001b[0;36mpdf\u001b[1;34m(self, x, *args, **kwds)\u001b[0m\n\u001b[0;32m   1759\u001b[0m         \u001b[0mdtyp\u001b[0m \u001b[1;33m=\u001b[0m \u001b[0mnp\u001b[0m\u001b[1;33m.\u001b[0m\u001b[0mfind_common_type\u001b[0m\u001b[1;33m(\u001b[0m\u001b[1;33m[\u001b[0m\u001b[0mx\u001b[0m\u001b[1;33m.\u001b[0m\u001b[0mdtype\u001b[0m\u001b[1;33m,\u001b[0m \u001b[0mnp\u001b[0m\u001b[1;33m.\u001b[0m\u001b[0mfloat64\u001b[0m\u001b[1;33m]\u001b[0m\u001b[1;33m,\u001b[0m \u001b[1;33m[\u001b[0m\u001b[1;33m]\u001b[0m\u001b[1;33m)\u001b[0m\u001b[1;33m\u001b[0m\u001b[1;33m\u001b[0m\u001b[0m\n\u001b[0;32m   1760\u001b[0m         \u001b[0mx\u001b[0m \u001b[1;33m=\u001b[0m \u001b[0mnp\u001b[0m\u001b[1;33m.\u001b[0m\u001b[0masarray\u001b[0m\u001b[1;33m(\u001b[0m\u001b[1;33m(\u001b[0m\u001b[0mx\u001b[0m \u001b[1;33m-\u001b[0m \u001b[0mloc\u001b[0m\u001b[1;33m)\u001b[0m\u001b[1;33m/\u001b[0m\u001b[0mscale\u001b[0m\u001b[1;33m,\u001b[0m \u001b[0mdtype\u001b[0m\u001b[1;33m=\u001b[0m\u001b[0mdtyp\u001b[0m\u001b[1;33m)\u001b[0m\u001b[1;33m\u001b[0m\u001b[1;33m\u001b[0m\u001b[0m\n\u001b[1;32m-> 1761\u001b[1;33m         \u001b[0mcond0\u001b[0m \u001b[1;33m=\u001b[0m \u001b[0mself\u001b[0m\u001b[1;33m.\u001b[0m\u001b[0m_argcheck\u001b[0m\u001b[1;33m(\u001b[0m\u001b[1;33m*\u001b[0m\u001b[0margs\u001b[0m\u001b[1;33m)\u001b[0m \u001b[1;33m&\u001b[0m \u001b[1;33m(\u001b[0m\u001b[0mscale\u001b[0m \u001b[1;33m>\u001b[0m \u001b[1;36m0\u001b[0m\u001b[1;33m)\u001b[0m\u001b[1;33m\u001b[0m\u001b[1;33m\u001b[0m\u001b[0m\n\u001b[0m\u001b[0;32m   1762\u001b[0m         \u001b[0mcond1\u001b[0m \u001b[1;33m=\u001b[0m \u001b[0mself\u001b[0m\u001b[1;33m.\u001b[0m\u001b[0m_support_mask\u001b[0m\u001b[1;33m(\u001b[0m\u001b[0mx\u001b[0m\u001b[1;33m,\u001b[0m \u001b[1;33m*\u001b[0m\u001b[0margs\u001b[0m\u001b[1;33m)\u001b[0m \u001b[1;33m&\u001b[0m \u001b[1;33m(\u001b[0m\u001b[0mscale\u001b[0m \u001b[1;33m>\u001b[0m \u001b[1;36m0\u001b[0m\u001b[1;33m)\u001b[0m\u001b[1;33m\u001b[0m\u001b[1;33m\u001b[0m\u001b[0m\n\u001b[0;32m   1763\u001b[0m         \u001b[0mcond\u001b[0m \u001b[1;33m=\u001b[0m \u001b[0mcond0\u001b[0m \u001b[1;33m&\u001b[0m \u001b[0mcond1\u001b[0m\u001b[1;33m\u001b[0m\u001b[1;33m\u001b[0m\u001b[0m\n",
      "\u001b[1;32mc:\\users\\swann\\.virtualenvs\\cours-kd0f9zyv\\lib\\site-packages\\scipy\\stats\\_distn_infrastructure.py\u001b[0m in \u001b[0;36m_argcheck\u001b[1;34m(self, *args)\u001b[0m\n\u001b[0;32m    879\u001b[0m         \u001b[0mcond\u001b[0m \u001b[1;33m=\u001b[0m \u001b[1;36m1\u001b[0m\u001b[1;33m\u001b[0m\u001b[1;33m\u001b[0m\u001b[0m\n\u001b[0;32m    880\u001b[0m         \u001b[1;32mfor\u001b[0m \u001b[0marg\u001b[0m \u001b[1;32min\u001b[0m \u001b[0margs\u001b[0m\u001b[1;33m:\u001b[0m\u001b[1;33m\u001b[0m\u001b[1;33m\u001b[0m\u001b[0m\n\u001b[1;32m--> 881\u001b[1;33m             \u001b[0mcond\u001b[0m \u001b[1;33m=\u001b[0m \u001b[0mlogical_and\u001b[0m\u001b[1;33m(\u001b[0m\u001b[0mcond\u001b[0m\u001b[1;33m,\u001b[0m \u001b[1;33m(\u001b[0m\u001b[0masarray\u001b[0m\u001b[1;33m(\u001b[0m\u001b[0marg\u001b[0m\u001b[1;33m)\u001b[0m \u001b[1;33m>\u001b[0m \u001b[1;36m0\u001b[0m\u001b[1;33m)\u001b[0m\u001b[1;33m)\u001b[0m\u001b[1;33m\u001b[0m\u001b[1;33m\u001b[0m\u001b[0m\n\u001b[0m\u001b[0;32m    882\u001b[0m         \u001b[1;32mreturn\u001b[0m \u001b[0mcond\u001b[0m\u001b[1;33m\u001b[0m\u001b[1;33m\u001b[0m\u001b[0m\n\u001b[0;32m    883\u001b[0m \u001b[1;33m\u001b[0m\u001b[0m\n",
      "\u001b[1;31mTypeError\u001b[0m: '>' not supported between instances of 'numpy.ndarray' and 'int'"
     ]
    }
   ],
   "source": []
  },
  {
   "cell_type": "code",
   "execution_count": 92,
   "metadata": {},
   "outputs": [
    {
     "data": {
      "text/plain": [
       "True"
      ]
     },
     "execution_count": 92,
     "metadata": {},
     "output_type": "execute_result"
    }
   ],
   "source": [
    "lognorm == lognorm"
   ]
  },
  {
   "cell_type": "code",
   "execution_count": null,
   "metadata": {},
   "outputs": [],
   "source": []
  }
 ],
 "metadata": {
  "kernelspec": {
   "display_name": "Python 3",
   "language": "python",
   "name": "python3"
  },
  "language_info": {
   "codemirror_mode": {
    "name": "ipython",
    "version": 3
   },
   "file_extension": ".py",
   "mimetype": "text/x-python",
   "name": "python",
   "nbconvert_exporter": "python",
   "pygments_lexer": "ipython3",
   "version": "3.8.5"
  }
 },
 "nbformat": 4,
 "nbformat_minor": 4
}
