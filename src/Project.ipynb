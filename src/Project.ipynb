{
 "cells": [
  {
   "cell_type": "markdown",
   "metadata": {},
   "source": [
    "# MAP 568 Project"
   ]
  },
  {
   "cell_type": "markdown",
   "metadata": {},
   "source": [
    "Maxime Vincent & Swann Chelly"
   ]
  },
  {
   "cell_type": "code",
   "execution_count": 1,
   "metadata": {},
   "outputs": [],
   "source": [
    "import numpy as np\n",
    "\n",
    "from constant import *\n",
    "from scipy import *\n",
    "from pylab import *     \n",
    "from scipy.integrate import odeint # Module de résolution des équations différentielles\n",
    "import plotly as po\n",
    "from progressbar import ProgressBar\n",
    "import matplotlib.pyplot as plt"
   ]
  },
  {
   "cell_type": "markdown",
   "metadata": {},
   "source": [
    "## Incertitudes en sortie\n",
    "\n",
    "1) **Programmer la résolution du système (1-10).**\n",
    "\n",
    "Dans le fichier constant nous définissons l'ensemble des constantes. La fonction `init_constant` de ce fichier renvoie un dictionnaire généré aléatoirement de constantes. "
   ]
  },
  {
   "cell_type": "code",
   "execution_count": 2,
   "metadata": {},
   "outputs": [],
   "source": [
    "## Résolution de l'équation différentielle. \n",
    "\n",
    "def equa_diff(syst,temps,variables, constants):\n",
    "    \n",
    "    \"\"\"\n",
    "    La résolution du système d'équation différentiel (1-10) se fait grace au module odeint de scipy.integrate.\n",
    "    \n",
    "    Paramètres :\n",
    "    ------------\n",
    "    \n",
    "    syst : \n",
    "    \n",
    "    temps : \n",
    "    \n",
    "    Sorties : \n",
    "    ---------\n",
    "    Ensemble des paramètres du système différentiel. \n",
    "    \n",
    "    \"\"\"\n",
    "    #temps = round(temps,1)\n",
    "    #if temps == 50:\n",
    "    #    temps = 50.1\n",
    "    #elif temps > 100.:\n",
    "    #    temps = 100.\n",
    "    #i = time.index(temps)\n",
    "    \n",
    "    if type(variables)!= dict:\n",
    "        variables = dict(zip(variables_keys,variables))\n",
    "        constants = dict(zip(constants_keys, constants))\n",
    "    else : \n",
    "        variables = variables\n",
    "        constants = constants\n",
    "    \n",
    "    \n",
    "    tau = constants['tau_0']*np.exp(-variables['mu']*max(temps-variables['N'],0))\n",
    "    S = syst[0] \n",
    "    I_moins = syst[1] \n",
    "    I_plus = syst[2] \n",
    "    R_moins = syst[3] \n",
    "    R_plus_I = syst[4] \n",
    "    H = syst[5] \n",
    "    U = syst[6] \n",
    "    R_plus_H = syst[7] \n",
    "    D = syst[8] \n",
    "    D_R = syst[9]\n",
    "    # Dérivées des variables\n",
    "    DS = -tau*S*I_moins\n",
    "    DI_moins = tau*S*I_moins-variables['lambda_1']*I_moins-(constants['gamma_IR']+constants['gamma_IH']+constants['gamma_IU'])*I_moins\n",
    "    DI_plus = variables['lambda_1']*I_moins-(constants['gamma_IR']+constants['gamma_IH']+constants['gamma_IU'])*I_plus\n",
    "    DR_moins = constants['gamma_IR']*I_moins\n",
    "    DR_plus_I = constants['gamma_IR']*I_plus\n",
    "    DH = constants['gamma_IH']*(I_moins + I_plus)-(constants['gamma_HR']+constants['gamma_HD']+constants['gamma_HU'])*H\n",
    "    DU = constants['gamma_IU']*(I_moins + I_plus)+constants['gamma_HU']*H-(constants['gamma_UR'] + constants['gamma_UD'])*U\n",
    "    DR_plus_H = constants['gamma_HR']*H+constants['gamma_UR']*U\n",
    "    DD =constants['gamma_UD']*U+constants['gamma_HD']*H  \n",
    "    DD_R = (variables['lambda_1']+constants['gamma_IH']+constants['gamma_IU'])*I_moins-D_R\n",
    "    \n",
    "    \n",
    "    return(DS,DI_moins,DI_plus,DR_moins,DR_plus_I,DH,DU,DR_plus_H,DD,DD_R)\n"
   ]
  },
  {
   "cell_type": "code",
   "execution_count": 30,
   "metadata": {},
   "outputs": [
    {
     "data": {
      "text/plain": [
       "Text(0, 0.5, 'Nombre de personne en réanimation')"
      ]
     },
     "execution_count": 30,
     "metadata": {},
     "output_type": "execute_result"
    },
    {
     "data": {
      "image/png": "[encoded data removed]",
      "text/plain": [
       "<Figure size 432x288 with 1 Axes>"
      ]
     },
     "metadata": {
      "needs_background": "light"
     },
     "output_type": "display_data"
    }
   ],
   "source": [
    "# Analyse des résultats\n",
    "\n",
    "variables = init_variables()\n",
    "constants = compute_constants(variables)\n",
    "\n",
    "syst_CI=array([global_constants['S_0'],variables['I_moins_0'],0,0,0,0,0,0,0,0])\n",
    "simulation=odeint(equa_diff,syst_CI,constants['t'], args = (variables,constants))\n",
    "plt.plot(simulation[::int(1/global_constants['deltaT']),6])\n",
    "plt.title(f\"Evolution du nombre de personne en réanimation sur {global_constants['T_MAX']} jours\")\n",
    "plt.xlabel(f\"Temps en {global_constants['deltaT']} jour\")\n",
    "plt.ylabel(\"Nombre de personne en réanimation\")\n",
    "\n"
   ]
  },
  {
   "cell_type": "markdown",
   "metadata": {},
   "source": [
    "2) **Par échantillonnage Monte Carlo (en utilisant les lois des paramètres d'entrée de la table 1), donner :**\n",
    "- la loi du nombre maximal de patients présents en soins intensifs (histogramme, moyenne, quantiles à 10% et 90%),\n",
    "- la loi de la date du pic de l'épidémie."
   ]
  },
  {
   "cell_type": "code",
   "execution_count": 31,
   "metadata": {},
   "outputs": [
    {
     "name": "stderr",
     "output_type": "stream",
     "text": [
      "  0% |                                                                        |\r"
     ]
    },
    {
     "name": "stdout",
     "output_type": "stream",
     "text": [
      "Echantillonnage de Monte Carlo sur 10000 simulations\n"
     ]
    },
    {
     "name": "stderr",
     "output_type": "stream",
     "text": [
      "100% |########################################################################|\n"
     ]
    }
   ],
   "source": [
    "## Implémentation de la méthode de Monte Carlo classique pour la résolution du système différentiel. \n",
    "\n",
    "M = 10000\n",
    "\n",
    "def Monte_Carlo(M):\n",
    "    \"\"\"\n",
    "    Echantillonage de Monte Carlo \n",
    "    \n",
    "    Paramètres : \n",
    "    ------------\n",
    "    \n",
    "    M : int, \n",
    "        Taille de l'échantillon. \n",
    "    \n",
    "    Sorties : \n",
    "    ---------\n",
    "    peak_value  : list,\n",
    "        Nombre de cas en réanimation au pic de l'épidémie pour chaque simulation.\n",
    "    peak_day    : list, \n",
    "        Jour du pic pour chaque simulation.\n",
    "    pos         : list, \n",
    "        Nombre de cas au pic de l'épidémie pour chaque simulation.\n",
    "    \n",
    "    \"\"\"\n",
    "    \n",
    "    print(f\"Echantillonnage de Monte Carlo sur {M} simulations\")\n",
    "    peak_value,peak_day, pos = [],[], []\n",
    "    pbar = ProgressBar()\n",
    "    for i in pbar(range(M)):\n",
    "        variables = init_variables(deltaT=0.01,global_constants = global_constants)\n",
    "        constants = compute_constants(variables)\n",
    "        syst_CI=array([global_constants['S_0'],variables['I_moins_0'],0,0,0,0,0,0,0,0])\n",
    "        simulation=odeint(equa_diff,syst_CI,constants['t'], args = (variables,constants))      \n",
    "        peak_value.append(np.max(simulation[:,6]))\n",
    "        peak_day.append(int(np.argmax(list(simulation[:,6]))*global_constants['deltaT']))\n",
    "        pos.append(np.max(simulation[:,1]))\n",
    "        \n",
    "    return (peak_value,peak_day,pos)\n",
    "\n",
    "peak_value,peak_day,pos = Monte_Carlo(M)\n"
   ]
  },
  {
   "cell_type": "code",
   "execution_count": 33,
   "metadata": {},
   "outputs": [
    {
     "name": "stdout",
     "output_type": "stream",
     "text": [
      "La valeur moyenne du pic est de 33138.86 et appartient à l'intervalle de confiance à 95% suivant : [31739.21,34538.51] \n",
      " Le quantile à 10% du pic de réanimation est : 45.849598944789534\n",
      " Le quantile à 90% du pic de réanimation est : 109034.84325443533\n"
     ]
    },
    {
     "data": {
      "image/png": "[encoded data removed]",
      "text/plain": [
       "<Figure size 432x288 with 2 Axes>"
      ]
     },
     "metadata": {
      "needs_background": "light"
     },
     "output_type": "display_data"
    }
   ],
   "source": [
    "mean_value = np.mean(peak_value)\n",
    "var_value  = np.var(peak_value)\n",
    "q_10 = np.quantile(peak_value, 0.1, axis = None)\n",
    "q_70 = np.quantile(peak_value, 0.7, axis = None)\n",
    "q_90 = np.quantile(peak_value, 0.9, axis = None)\n",
    "print(f\"La valeur moyenne du pic est de {round(mean_value,2)} et appartient à l'intervalle de confiance à 95% suivant : [{max(0,round(mean_value-1.96*np.sqrt(var_value/M),2))},{round(mean_value+1.96*np.sqrt(var_value/M),2)}] \")\n",
    "print(f\" Le quantile à 10% du pic de réanimation est : {q_10}\")\n",
    "print(f\" Le quantile à 90% du pic de réanimation est : {q_90}\")\n",
    "\n",
    "# Compte tenu de la valeur du quantile à 90% nous tronquons donc la liste par soucis de visibilité. \n",
    "\n",
    "\n",
    "fig, axs = plt.subplots(2)\n",
    "fig.suptitle(f\"Distribution du nombre de personnes en réanimation sur un échantillon de taille {M}\")\n",
    "axs[0].hist([value for value in peak_value if value < q_90], bins = 100, density = 1)\n",
    "axs[0].set_title('Quantile à 90 %')\n",
    "axs[1].hist([value for value in peak_value if value < q_70], bins = 100)\n",
    "axs[1].set_title('Quantile à 70 %')\n",
    "plt.subplots_adjust(hspace=0.5)"
   ]
  },
  {
   "cell_type": "markdown",
   "metadata": {},
   "source": [
    "En supposant que la distribution du nombre de cas en réanimation au pic de l'épidémie suis une loie exponentielle, nous pouvons donner son paramètre $\\lambda = \\frac{1}{\\mathbb{\\hat{E}}(X)}$ où $X$ correspond à la variable aléatoire liée au nombre de cas en réanimation au pic de l'épidémie. Nous la notrons ici `lbd`.\n"
   ]
  },
  {
   "cell_type": "code",
   "execution_count": 12,
   "metadata": {},
   "outputs": [
    {
     "name": "stdout",
     "output_type": "stream",
     "text": [
      "0.5811767350727536\n"
     ]
    },
    {
     "data": {
      "text/plain": [
       "(array([1.57503958, 1.46926769, 1.43657457, 1.19041453, 1.15195203,\n",
       "        0.967332  , 0.93463887, 0.96348575, 0.85771386, 0.81732823,\n",
       "        0.68655572, 0.63078508, 0.60386133, 0.53655195, 0.46155006,\n",
       "        0.44231881, 0.3807788 , 0.33270067, 0.30193066, 0.3653938 ,\n",
       "        0.29231504, 0.24039066, 0.1826969 , 0.1980819 , 0.20000503,\n",
       "        0.20000503, 0.14038814, 0.12884939, 0.11923377, 0.11154126,\n",
       "        0.12308002, 0.08269439, 0.08269439, 0.07307876, 0.06923251,\n",
       "        0.09423314, 0.04615501, 0.06346313, 0.06154001, 0.04807813,\n",
       "        0.04615501, 0.04807813, 0.02692375, 0.05384751, 0.04230876,\n",
       "        0.02692375, 0.02692375, 0.02115438, 0.02500063, 0.01730813,\n",
       "        0.01923125, 0.0076925 , 0.01153875, 0.01153875, 0.02115438,\n",
       "        0.0076925 , 0.0230775 , 0.01730813, 0.0076925 , 0.01346188,\n",
       "        0.01346188, 0.00192313, 0.00961563, 0.00192313, 0.00192313,\n",
       "        0.00192313, 0.00384625, 0.00192313, 0.00384625, 0.00384625,\n",
       "        0.00576938, 0.00576938, 0.00192313, 0.00384625, 0.00384625,\n",
       "        0.00192313, 0.        , 0.00192313, 0.00384625, 0.        ,\n",
       "        0.00384625, 0.        , 0.        , 0.        , 0.00384625,\n",
       "        0.        , 0.00192313, 0.00192313, 0.00192313, 0.        ,\n",
       "        0.        , 0.        , 0.        , 0.00192313, 0.        ,\n",
       "        0.        , 0.00192313, 0.        , 0.        , 0.00192313]),\n",
       " array([9.44342184e-06, 5.20081366e-02, 1.04006830e-01, 1.56005523e-01,\n",
       "        2.08004216e-01, 2.60002909e-01, 3.12001602e-01, 3.64000295e-01,\n",
       "        4.15998989e-01, 4.67997682e-01, 5.19996375e-01, 5.71995068e-01,\n",
       "        6.23993761e-01, 6.75992454e-01, 7.27991147e-01, 7.79989841e-01,\n",
       "        8.31988534e-01, 8.83987227e-01, 9.35985920e-01, 9.87984613e-01,\n",
       "        1.03998331e+00, 1.09198200e+00, 1.14398069e+00, 1.19597939e+00,\n",
       "        1.24797808e+00, 1.29997677e+00, 1.35197547e+00, 1.40397416e+00,\n",
       "        1.45597285e+00, 1.50797154e+00, 1.55997024e+00, 1.61196893e+00,\n",
       "        1.66396762e+00, 1.71596632e+00, 1.76796501e+00, 1.81996370e+00,\n",
       "        1.87196240e+00, 1.92396109e+00, 1.97595978e+00, 2.02795848e+00,\n",
       "        2.07995717e+00, 2.13195586e+00, 2.18395456e+00, 2.23595325e+00,\n",
       "        2.28795194e+00, 2.33995063e+00, 2.39194933e+00, 2.44394802e+00,\n",
       "        2.49594671e+00, 2.54794541e+00, 2.59994410e+00, 2.65194279e+00,\n",
       "        2.70394149e+00, 2.75594018e+00, 2.80793887e+00, 2.85993757e+00,\n",
       "        2.91193626e+00, 2.96393495e+00, 3.01593365e+00, 3.06793234e+00,\n",
       "        3.11993103e+00, 3.17192973e+00, 3.22392842e+00, 3.27592711e+00,\n",
       "        3.32792580e+00, 3.37992450e+00, 3.43192319e+00, 3.48392188e+00,\n",
       "        3.53592058e+00, 3.58791927e+00, 3.63991796e+00, 3.69191666e+00,\n",
       "        3.74391535e+00, 3.79591404e+00, 3.84791274e+00, 3.89991143e+00,\n",
       "        3.95191012e+00, 4.00390882e+00, 4.05590751e+00, 4.10790620e+00,\n",
       "        4.15990490e+00, 4.21190359e+00, 4.26390228e+00, 4.31590097e+00,\n",
       "        4.36789967e+00, 4.41989836e+00, 4.47189705e+00, 4.52389575e+00,\n",
       "        4.57589444e+00, 4.62789313e+00, 4.67989183e+00, 4.73189052e+00,\n",
       "        4.78388921e+00, 4.83588791e+00, 4.88788660e+00, 4.93988529e+00,\n",
       "        4.99188399e+00, 5.04388268e+00, 5.09588137e+00, 5.14788006e+00,\n",
       "        5.19987876e+00]),\n",
       " <BarContainer object of 100 artists>)"
      ]
     },
     "execution_count": 12,
     "metadata": {},
     "output_type": "execute_result"
    },
    {
     "data": {
      "image/png": "[encoded data removed]",
      "text/plain": [
       "<Figure size 432x288 with 1 Axes>"
      ]
     },
     "metadata": {
      "needs_background": "light"
     },
     "output_type": "display_data"
    }
   ],
   "source": [
    "lbd = 1/mean_value\n",
    "print(lbd)\n",
    "Y = np.random.exponential(lbd,10000)\n",
    "plt.hist(Y,bins = 100,density = True)"
   ]
  },
  {
   "cell_type": "code",
   "execution_count": 13,
   "metadata": {},
   "outputs": [
    {
     "name": "stdout",
     "output_type": "stream",
     "text": [
      "La valeur moyenne du pic est de 9.0 et appartient à l'intervalle de confiance à 95% suivant : [9.0,9.0] \n",
      " Le quantile à 10% du pic de réanimation est : 9.0\n",
      " Le quantile à 90% du pic de réanimation est : 9.0\n"
     ]
    },
    {
     "data": {
      "image/png": "[encoded data removed]",
      "text/plain": [
       "<Figure size 432x288 with 2 Axes>"
      ]
     },
     "metadata": {
      "needs_background": "light"
     },
     "output_type": "display_data"
    }
   ],
   "source": [
    "# Loi de la date de l'épidémie. \n",
    "\n",
    "mean_day = np.mean(peak_day)\n",
    "var_day  = np.var(peak_day)\n",
    "q_10_day = np.quantile(peak_day, 0.1, axis = None)\n",
    "q_70_day = np.quantile(peak_day, 0.7, axis = None)\n",
    "q_90_day = np.quantile(peak_day, 0.9, axis = None)\n",
    "print(f\"La valeur moyenne du pic est de {round(mean_day,2)} et appartient à l'intervalle de confiance à 95% suivant : [{max(0,round(mean_day-1.96*np.sqrt(var_day/M),2))},{round(mean_day+1.96*np.sqrt(var_day/M),2)}] \")\n",
    "print(f\" Le quantile à 10% du pic de réanimation est : {q_10_day}\")\n",
    "print(f\" Le quantile à 90% du pic de réanimation est : {q_90_day}\")\n",
    "\n",
    "# Compte tenu de la valeur du quantile à 90% nous tronquons donc la liste par soucis de visibilité. \n",
    "\n",
    "fig, axs = plt.subplots(2)\n",
    "fig.suptitle(f\"Distribution du jour du pic sur un échantillon de taille {M}\")\n",
    "axs[0].hist([day for day in peak_day if day < q_90_day], bins = 30)\n",
    "axs[0].set_title('Quantile à 90 %')\n",
    "axs[1].hist([day for day in peak_day if day < q_70_day], bins = 30)\n",
    "axs[1].set_title('Quantile à 70 %')\n",
    "plt.subplots_adjust(hspace=0.5)"
   ]
  },
  {
   "cell_type": "markdown",
   "metadata": {},
   "source": [
    "# Analyse de sensibilité qualitative : Criblage"
   ]
  },
  {
   "cell_type": "code",
   "execution_count": 14,
   "metadata": {},
   "outputs": [
    {
     "name": "stderr",
     "output_type": "stream",
     "text": [
      "  0% |                                                                        |\r"
     ]
    },
    {
     "name": "stdout",
     "output_type": "stream",
     "text": [
      "Calcul de sensibilité\n"
     ]
    },
    {
     "name": "stderr",
     "output_type": "stream",
     "text": [
      "  3% |##                                                                      |\r"
     ]
    },
    {
     "ename": "KeyboardInterrupt",
     "evalue": "",
     "output_type": "error",
     "traceback": [
      "\u001b[1;31m---------------------------------------------------------------------------\u001b[0m",
      "\u001b[1;31mKeyboardInterrupt\u001b[0m                         Traceback (most recent call last)",
      "\u001b[1;32m<ipython-input-14-ab788c53b250>\u001b[0m in \u001b[0;36m<module>\u001b[1;34m\u001b[0m\n\u001b[0;32m     62\u001b[0m \u001b[0mR\u001b[0m\u001b[1;33m=\u001b[0m\u001b[1;36m100\u001b[0m\u001b[1;33m\u001b[0m\u001b[1;33m\u001b[0m\u001b[0m\n\u001b[0;32m     63\u001b[0m \u001b[0meps\u001b[0m \u001b[1;33m=\u001b[0m \u001b[1;36m10\u001b[0m\u001b[1;33m**\u001b[0m\u001b[1;33m(\u001b[0m\u001b[1;33m-\u001b[0m\u001b[1;36m4\u001b[0m\u001b[1;33m)\u001b[0m\u001b[1;33m\u001b[0m\u001b[1;33m\u001b[0m\u001b[0m\n\u001b[1;32m---> 64\u001b[1;33m \u001b[0mmoyenne_grad_peak_value\u001b[0m\u001b[1;33m,\u001b[0m  \u001b[0mmoyenne_grad_peak_day\u001b[0m\u001b[1;33m,\u001b[0m \u001b[0msigma_grad_peak_value\u001b[0m\u001b[1;33m,\u001b[0m \u001b[0msigma_grad_peak_day\u001b[0m \u001b[1;33m=\u001b[0m \u001b[0mMorris\u001b[0m\u001b[1;33m(\u001b[0m\u001b[0mR\u001b[0m\u001b[1;33m,\u001b[0m \u001b[0meps\u001b[0m\u001b[1;33m)\u001b[0m\u001b[1;33m\u001b[0m\u001b[1;33m\u001b[0m\u001b[0m\n\u001b[0m",
      "\u001b[1;32m<ipython-input-14-ab788c53b250>\u001b[0m in \u001b[0;36mMorris\u001b[1;34m(R, eps)\u001b[0m\n\u001b[0;32m     39\u001b[0m             \u001b[0msauvegarde\u001b[0m \u001b[1;33m=\u001b[0m \u001b[0mvariables\u001b[0m\u001b[1;33m[\u001b[0m\u001b[0mkey\u001b[0m\u001b[1;33m]\u001b[0m\u001b[1;33m\u001b[0m\u001b[1;33m\u001b[0m\u001b[0m\n\u001b[0;32m     40\u001b[0m             \u001b[0mvariables\u001b[0m\u001b[1;33m[\u001b[0m\u001b[0mkey\u001b[0m\u001b[1;33m]\u001b[0m \u001b[1;33m=\u001b[0m \u001b[0msauvegarde\u001b[0m \u001b[1;33m+\u001b[0m\u001b[0meps\u001b[0m\u001b[1;33m\u001b[0m\u001b[1;33m\u001b[0m\u001b[0m\n\u001b[1;32m---> 41\u001b[1;33m             \u001b[0mconstants\u001b[0m \u001b[1;33m=\u001b[0m \u001b[0mcompute_constants\u001b[0m\u001b[1;33m(\u001b[0m\u001b[0mvariables\u001b[0m\u001b[1;33m)\u001b[0m\u001b[1;33m\u001b[0m\u001b[1;33m\u001b[0m\u001b[0m\n\u001b[0m\u001b[0;32m     42\u001b[0m             \u001b[0msimulation\u001b[0m\u001b[1;33m=\u001b[0m \u001b[0modeint\u001b[0m\u001b[1;33m(\u001b[0m\u001b[0mequa_diff\u001b[0m\u001b[1;33m,\u001b[0m\u001b[0msyst_CI\u001b[0m\u001b[1;33m,\u001b[0m\u001b[0mconstants\u001b[0m\u001b[1;33m[\u001b[0m\u001b[1;34m't'\u001b[0m\u001b[1;33m]\u001b[0m\u001b[1;33m,\u001b[0m \u001b[0margs\u001b[0m \u001b[1;33m=\u001b[0m \u001b[1;33m(\u001b[0m\u001b[0mvariables\u001b[0m\u001b[1;33m,\u001b[0m\u001b[0mconstants\u001b[0m\u001b[1;33m)\u001b[0m\u001b[1;33m)\u001b[0m\u001b[1;33m\u001b[0m\u001b[1;33m\u001b[0m\u001b[0m\n\u001b[0;32m     43\u001b[0m             \u001b[0mpeak_value\u001b[0m \u001b[1;33m=\u001b[0m \u001b[0mnp\u001b[0m\u001b[1;33m.\u001b[0m\u001b[0mmax\u001b[0m\u001b[1;33m(\u001b[0m\u001b[0msimulation\u001b[0m\u001b[1;33m[\u001b[0m\u001b[1;33m:\u001b[0m\u001b[1;33m,\u001b[0m\u001b[1;36m6\u001b[0m\u001b[1;33m]\u001b[0m\u001b[1;33m)\u001b[0m\u001b[1;33m\u001b[0m\u001b[1;33m\u001b[0m\u001b[0m\n",
      "\u001b[1;32m~\\OneDrive\\Bureau\\X\\3A\\Cours\\MAP568\\Projet\\src\\constant.py\u001b[0m in \u001b[0;36mcompute_constants\u001b[1;34m(variables, global_constants)\u001b[0m\n\u001b[0;32m     87\u001b[0m     \u001b[0mconstants\u001b[0m\u001b[1;33m[\u001b[0m\u001b[1;34m'tau_0'\u001b[0m\u001b[1;33m]\u001b[0m       \u001b[1;33m=\u001b[0m \u001b[0mvariables\u001b[0m\u001b[1;33m[\u001b[0m\u001b[1;34m'R_0'\u001b[0m\u001b[1;33m]\u001b[0m\u001b[1;33m*\u001b[0m\u001b[1;33m(\u001b[0m\u001b[0mvariables\u001b[0m\u001b[1;33m[\u001b[0m\u001b[1;34m'lambda_1'\u001b[0m\u001b[1;33m]\u001b[0m\u001b[1;33m+\u001b[0m\u001b[0mconstants\u001b[0m\u001b[1;33m[\u001b[0m\u001b[1;34m'gamma_IR'\u001b[0m\u001b[1;33m]\u001b[0m \u001b[1;33m+\u001b[0m \u001b[0mconstants\u001b[0m\u001b[1;33m[\u001b[0m\u001b[1;34m'gamma_IH'\u001b[0m\u001b[1;33m]\u001b[0m \u001b[1;33m+\u001b[0m \u001b[0mconstants\u001b[0m\u001b[1;33m[\u001b[0m\u001b[1;34m'gamma_IU'\u001b[0m\u001b[1;33m]\u001b[0m\u001b[1;33m)\u001b[0m\u001b[1;33m/\u001b[0m\u001b[0mglobal_constants\u001b[0m\u001b[1;33m[\u001b[0m\u001b[1;34m'S_0'\u001b[0m\u001b[1;33m]\u001b[0m\u001b[1;33m\u001b[0m\u001b[1;33m\u001b[0m\u001b[0m\n\u001b[0;32m     88\u001b[0m     \u001b[0mconstants\u001b[0m\u001b[1;33m[\u001b[0m\u001b[1;34m't'\u001b[0m\u001b[1;33m]\u001b[0m           \u001b[1;33m=\u001b[0m \u001b[0mnp\u001b[0m\u001b[1;33m.\u001b[0m\u001b[0marray\u001b[0m\u001b[1;33m(\u001b[0m\u001b[1;33m[\u001b[0m\u001b[0mvariables\u001b[0m\u001b[1;33m[\u001b[0m\u001b[1;34m't_0'\u001b[0m\u001b[1;33m]\u001b[0m\u001b[1;33m+\u001b[0m\u001b[0mi\u001b[0m\u001b[1;33m*\u001b[0m\u001b[0mglobal_constants\u001b[0m\u001b[1;33m[\u001b[0m\u001b[1;34m'deltaT'\u001b[0m\u001b[1;33m]\u001b[0m \u001b[1;32mfor\u001b[0m \u001b[0mi\u001b[0m \u001b[1;32min\u001b[0m \u001b[0mrange\u001b[0m\u001b[1;33m(\u001b[0m\u001b[0mglobal_constants\u001b[0m\u001b[1;33m[\u001b[0m\u001b[1;34m'set_size'\u001b[0m\u001b[1;33m]\u001b[0m\u001b[1;33m)\u001b[0m\u001b[1;33m]\u001b[0m\u001b[1;33m)\u001b[0m\u001b[1;33m\u001b[0m\u001b[1;33m\u001b[0m\u001b[0m\n\u001b[1;32m---> 89\u001b[1;33m     \u001b[0mconstants\u001b[0m\u001b[1;33m[\u001b[0m\u001b[1;34m'tau'\u001b[0m\u001b[1;33m]\u001b[0m         \u001b[1;33m=\u001b[0m \u001b[1;33m[\u001b[0m\u001b[0mconstants\u001b[0m\u001b[1;33m[\u001b[0m\u001b[1;34m'tau_0'\u001b[0m\u001b[1;33m]\u001b[0m\u001b[1;33m*\u001b[0m\u001b[0mnp\u001b[0m\u001b[1;33m.\u001b[0m\u001b[0mexp\u001b[0m\u001b[1;33m(\u001b[0m\u001b[1;33m-\u001b[0m\u001b[0mvariables\u001b[0m\u001b[1;33m[\u001b[0m\u001b[1;34m'mu'\u001b[0m\u001b[1;33m]\u001b[0m\u001b[1;33m*\u001b[0m\u001b[0mmax\u001b[0m\u001b[1;33m(\u001b[0m\u001b[0mconstants\u001b[0m\u001b[1;33m[\u001b[0m\u001b[1;34m't'\u001b[0m\u001b[1;33m]\u001b[0m\u001b[1;33m[\u001b[0m\u001b[0mi\u001b[0m\u001b[1;33m]\u001b[0m\u001b[1;33m-\u001b[0m\u001b[0mvariables\u001b[0m\u001b[1;33m[\u001b[0m\u001b[1;34m'N'\u001b[0m\u001b[1;33m]\u001b[0m\u001b[1;33m,\u001b[0m\u001b[1;36m0\u001b[0m\u001b[1;33m)\u001b[0m\u001b[1;33m)\u001b[0m \u001b[1;32mfor\u001b[0m \u001b[0mi\u001b[0m \u001b[1;32min\u001b[0m \u001b[0mrange\u001b[0m\u001b[1;33m(\u001b[0m\u001b[0mglobal_constants\u001b[0m\u001b[1;33m[\u001b[0m\u001b[1;34m'set_size'\u001b[0m\u001b[1;33m]\u001b[0m\u001b[1;33m)\u001b[0m\u001b[1;33m]\u001b[0m\u001b[1;33m\u001b[0m\u001b[1;33m\u001b[0m\u001b[0m\n\u001b[0m\u001b[0;32m     90\u001b[0m \u001b[1;33m\u001b[0m\u001b[0m\n\u001b[0;32m     91\u001b[0m     \u001b[1;32mreturn\u001b[0m \u001b[0mconstants\u001b[0m\u001b[1;33m\u001b[0m\u001b[1;33m\u001b[0m\u001b[0m\n",
      "\u001b[1;32m~\\OneDrive\\Bureau\\X\\3A\\Cours\\MAP568\\Projet\\src\\constant.py\u001b[0m in \u001b[0;36m<listcomp>\u001b[1;34m(.0)\u001b[0m\n\u001b[0;32m     87\u001b[0m     \u001b[0mconstants\u001b[0m\u001b[1;33m[\u001b[0m\u001b[1;34m'tau_0'\u001b[0m\u001b[1;33m]\u001b[0m       \u001b[1;33m=\u001b[0m \u001b[0mvariables\u001b[0m\u001b[1;33m[\u001b[0m\u001b[1;34m'R_0'\u001b[0m\u001b[1;33m]\u001b[0m\u001b[1;33m*\u001b[0m\u001b[1;33m(\u001b[0m\u001b[0mvariables\u001b[0m\u001b[1;33m[\u001b[0m\u001b[1;34m'lambda_1'\u001b[0m\u001b[1;33m]\u001b[0m\u001b[1;33m+\u001b[0m\u001b[0mconstants\u001b[0m\u001b[1;33m[\u001b[0m\u001b[1;34m'gamma_IR'\u001b[0m\u001b[1;33m]\u001b[0m \u001b[1;33m+\u001b[0m \u001b[0mconstants\u001b[0m\u001b[1;33m[\u001b[0m\u001b[1;34m'gamma_IH'\u001b[0m\u001b[1;33m]\u001b[0m \u001b[1;33m+\u001b[0m \u001b[0mconstants\u001b[0m\u001b[1;33m[\u001b[0m\u001b[1;34m'gamma_IU'\u001b[0m\u001b[1;33m]\u001b[0m\u001b[1;33m)\u001b[0m\u001b[1;33m/\u001b[0m\u001b[0mglobal_constants\u001b[0m\u001b[1;33m[\u001b[0m\u001b[1;34m'S_0'\u001b[0m\u001b[1;33m]\u001b[0m\u001b[1;33m\u001b[0m\u001b[1;33m\u001b[0m\u001b[0m\n\u001b[0;32m     88\u001b[0m     \u001b[0mconstants\u001b[0m\u001b[1;33m[\u001b[0m\u001b[1;34m't'\u001b[0m\u001b[1;33m]\u001b[0m           \u001b[1;33m=\u001b[0m \u001b[0mnp\u001b[0m\u001b[1;33m.\u001b[0m\u001b[0marray\u001b[0m\u001b[1;33m(\u001b[0m\u001b[1;33m[\u001b[0m\u001b[0mvariables\u001b[0m\u001b[1;33m[\u001b[0m\u001b[1;34m't_0'\u001b[0m\u001b[1;33m]\u001b[0m\u001b[1;33m+\u001b[0m\u001b[0mi\u001b[0m\u001b[1;33m*\u001b[0m\u001b[0mglobal_constants\u001b[0m\u001b[1;33m[\u001b[0m\u001b[1;34m'deltaT'\u001b[0m\u001b[1;33m]\u001b[0m \u001b[1;32mfor\u001b[0m \u001b[0mi\u001b[0m \u001b[1;32min\u001b[0m \u001b[0mrange\u001b[0m\u001b[1;33m(\u001b[0m\u001b[0mglobal_constants\u001b[0m\u001b[1;33m[\u001b[0m\u001b[1;34m'set_size'\u001b[0m\u001b[1;33m]\u001b[0m\u001b[1;33m)\u001b[0m\u001b[1;33m]\u001b[0m\u001b[1;33m)\u001b[0m\u001b[1;33m\u001b[0m\u001b[1;33m\u001b[0m\u001b[0m\n\u001b[1;32m---> 89\u001b[1;33m     \u001b[0mconstants\u001b[0m\u001b[1;33m[\u001b[0m\u001b[1;34m'tau'\u001b[0m\u001b[1;33m]\u001b[0m         \u001b[1;33m=\u001b[0m \u001b[1;33m[\u001b[0m\u001b[0mconstants\u001b[0m\u001b[1;33m[\u001b[0m\u001b[1;34m'tau_0'\u001b[0m\u001b[1;33m]\u001b[0m\u001b[1;33m*\u001b[0m\u001b[0mnp\u001b[0m\u001b[1;33m.\u001b[0m\u001b[0mexp\u001b[0m\u001b[1;33m(\u001b[0m\u001b[1;33m-\u001b[0m\u001b[0mvariables\u001b[0m\u001b[1;33m[\u001b[0m\u001b[1;34m'mu'\u001b[0m\u001b[1;33m]\u001b[0m\u001b[1;33m*\u001b[0m\u001b[0mmax\u001b[0m\u001b[1;33m(\u001b[0m\u001b[0mconstants\u001b[0m\u001b[1;33m[\u001b[0m\u001b[1;34m't'\u001b[0m\u001b[1;33m]\u001b[0m\u001b[1;33m[\u001b[0m\u001b[0mi\u001b[0m\u001b[1;33m]\u001b[0m\u001b[1;33m-\u001b[0m\u001b[0mvariables\u001b[0m\u001b[1;33m[\u001b[0m\u001b[1;34m'N'\u001b[0m\u001b[1;33m]\u001b[0m\u001b[1;33m,\u001b[0m\u001b[1;36m0\u001b[0m\u001b[1;33m)\u001b[0m\u001b[1;33m)\u001b[0m \u001b[1;32mfor\u001b[0m \u001b[0mi\u001b[0m \u001b[1;32min\u001b[0m \u001b[0mrange\u001b[0m\u001b[1;33m(\u001b[0m\u001b[0mglobal_constants\u001b[0m\u001b[1;33m[\u001b[0m\u001b[1;34m'set_size'\u001b[0m\u001b[1;33m]\u001b[0m\u001b[1;33m)\u001b[0m\u001b[1;33m]\u001b[0m\u001b[1;33m\u001b[0m\u001b[1;33m\u001b[0m\u001b[0m\n\u001b[0m\u001b[0;32m     90\u001b[0m \u001b[1;33m\u001b[0m\u001b[0m\n\u001b[0;32m     91\u001b[0m     \u001b[1;32mreturn\u001b[0m \u001b[0mconstants\u001b[0m\u001b[1;33m\u001b[0m\u001b[1;33m\u001b[0m\u001b[0m\n",
      "\u001b[1;31mKeyboardInterrupt\u001b[0m: "
     ]
    }
   ],
   "source": [
    "def Morris(R,eps):\n",
    "    \"\"\"\n",
    "    Echantillonage de Monte Carlo \n",
    "    \n",
    "    Paramètres : \n",
    "    ------------\n",
    "    \n",
    "    R : int, \n",
    "        Taille de l'échantillon.\n",
    "    eps : float,\n",
    "        paramètre pour évaluer nos différences finies (f(x+eps)-f(x))/eps\n",
    "    \n",
    "    Sorties : \n",
    "    ---------\n",
    "    moyenne_grad_peak_value  : array,\n",
    "        Moyenne du gradient du nombre réanimation au pic de l'épidémie pour chaque simulation.\n",
    "    moyenne_grad_peak_day    : array, \n",
    "        Moyenne du gradient du Jour du pic pour chaque simulation.\n",
    "    sigma_grad_peak_value  : array,\n",
    "        Ecart-type du gradient du nombre réanimation au pic de l'épidémie pour chaque simulation.\n",
    "    sigma_Moyenne_grad_peak_day    : array, \n",
    "        Ecart-type du gradient du Jour du pic pour chaque simulation.\n",
    "    \n",
    "    \"\"\"\n",
    "    \n",
    "    print(f\"Calcul de sensibilité\")\n",
    "    grad_peak_value,grad_peak_day = [],[]\n",
    "    pbar = ProgressBar()\n",
    "    for i in pbar(range(R)):\n",
    "        variables = init_variables()\n",
    "        constants = compute_constants(variables)\n",
    "        syst_CI=array([global_constants['S_0'],variables['I_moins_0'],0,0,0,0,0,0,0,0])\n",
    "        simulation_ref=odeint(equa_diff,syst_CI,constants['t'], args = (variables,constants))\n",
    "        peak_value_ref = np.max(simulation_ref[:,6])\n",
    "        peak_day_ref = int(np.argmax(list(simulation_ref[:,6]))*global_constants['deltaT'])\n",
    "        d_peak_value, d_peak_day = [], []\n",
    "    \n",
    "        for key, value in variables.items():\n",
    "            sauvegarde = variables[key]\n",
    "            variables[key] = sauvegarde +eps\n",
    "            constants = compute_constants(variables)\n",
    "            simulation= odeint(equa_diff,syst_CI,constants['t'], args = (variables,constants))\n",
    "            peak_value = np.max(simulation[:,6])\n",
    "            peak_day = int(np.argmax(list(simulation[:,6]))*global_constants['deltaT'])\n",
    "            d_peak_value.append((peak_value-peak_value_ref)/eps)\n",
    "            d_peak_day.append((peak_day-peak_day_ref)/eps)\n",
    "            variables[key] = sauvegarde\n",
    "        \n",
    "        grad_peak_value += [d_peak_value]\n",
    "        grad_peak_day += [d_peak_day]\n",
    "        \n",
    "    grad_peak_value, grad_peak_day = np.abs(np.array(grad_peak_value)), np.abs(np.array(grad_peak_day))\n",
    "     \n",
    "    moyenne_grad_peak_value = np.mean(grad_peak_value, axis=0)\n",
    "    moyenne_grad_peak_day = np.mean(grad_peak_day, axis=0)\n",
    "    sigma_grad_peak_value = np.sqrt(np.var(grad_peak_value, axis=0))\n",
    "    sigma_grad_peak_day = np.sqrt(np.var(grad_peak_day, axis=0))\n",
    "    \n",
    "    return( moyenne_grad_peak_value,  moyenne_grad_peak_day, sigma_grad_peak_value, sigma_grad_peak_day )\n",
    "        \n",
    "\n",
    "R=100\n",
    "eps = 10**(-4)\n",
    "moyenne_grad_peak_value,  moyenne_grad_peak_day, sigma_grad_peak_value, sigma_grad_peak_day = Morris(R, eps)"
   ]
  },
  {
   "cell_type": "code",
   "execution_count": 9,
   "metadata": {},
   "outputs": [
    {
     "name": "stdout",
     "output_type": "stream",
     "text": [
      "[4.19905680e+04 6.54428652e+04 5.62246061e+05 2.14991970e-01\n",
      " 5.12549068e+04 2.64866143e-02 4.63938045e+04 1.26875692e+06\n",
      " 7.91285798e+05 3.52350880e+03 1.76222658e+03 1.06202455e+04\n",
      " 2.08075196e+02 9.26004823e+02 0.00000000e+00]\n",
      "[  0.   0. 200.   0.   0.   0.   0. 600.   0.   0.   0.   0.   0.   0.\n",
      "   0.]\n",
      "[1.15120797e+05 2.09462609e+05 1.65119525e+06 1.55317518e+00\n",
      " 1.70041629e+05 1.76690051e-01 1.13022113e+05 4.06201464e+06\n",
      " 1.92083228e+06 8.82828310e+03 4.41479737e+03 2.73288989e+04\n",
      " 7.42636394e+02 2.66952741e+03 0.00000000e+00]\n",
      "[   0.            0.         1400.            0.            0.\n",
      "    0.            0.         2374.86841741    0.            0.\n",
      "    0.            0.            0.            0.            0.        ]\n"
     ]
    }
   ],
   "source": [
    "print(moyenne_grad_peak_value)\n",
    "print(moyenne_grad_peak_day)\n",
    "print(sigma_grad_peak_value)\n",
    "print(sigma_grad_peak_day)"
   ]
  },
  {
   "cell_type": "markdown",
   "metadata": {},
   "source": [
    "#### analyse des résultats : ..."
   ]
  },
  {
   "cell_type": "markdown",
   "metadata": {},
   "source": [
    "## Criblage avec SALib"
   ]
  },
  {
   "cell_type": "code",
   "execution_count": 37,
   "metadata": {},
   "outputs": [],
   "source": [
    "from SALib.analyze import morris\n",
    "from SALib.sample import morris as sample_morris"
   ]
  },
  {
   "cell_type": "code",
   "execution_count": 38,
   "metadata": {},
   "outputs": [],
   "source": [
    "problem = {\n",
    "    'num_vars': 15,\n",
    "    'names': ['p_a','p_IH','p_IU','p_HD','p_HU','p_UD','R_0','mu','lambda_1','t_0','N','N_I','N_H','N_U','I_moins_0'],\n",
    "    'bounds': [[0.4,0.9],[0.05,0.2],[0.01,0.04],[0.1,0.2],[0.1,0.2],[0.2,0.4],[2.9,3.4],[0.01,0.08],[10**(-4),10**(-3)],[0,30],[30,50],\n",
    "[8,12],[15,25],[10,20],[1,100]]\n",
    "}\n",
    "\n",
    "\n",
    "def Resolution(parametres):\n",
    "    peak_value = np.zeros(len(parametres))\n",
    "    peak_day = np.zeros(len(parametres))\n",
    "    \n",
    "    for i, X in enumerate(parametres):\n",
    "    \n",
    "        if type(X)!= dict:\n",
    "            variables = dict(zip(variables_keys,X))\n",
    "            #constants = dict(zip(constants_keys, constants))\n",
    "        else : \n",
    "            variables = X\n",
    "        constants = compute_constants(variables)   \n",
    "        syst_CI=array([global_constants['S_0'],variables['I_moins_0'],0,0,0,0,0,0,0,0])\n",
    "        solution=odeint(equa_diff,syst_CI,constants['t'], args = (variables,constants))\n",
    "        peak_value[i]=np.max(solution[:,6])\n",
    "        peak_day[i]=int(np.argmax(list(simulation[:,6]))*global_constants['deltaT'])\n",
    "    return(peak_value, peak_day)\n",
    "\n"
   ]
  },
  {
   "cell_type": "code",
   "execution_count": 39,
   "metadata": {},
   "outputs": [
    {
     "name": "stdout",
     "output_type": "stream",
     "text": [
      "Parameter                         Mu_Star         Mu    Mu_Star_Conf      Sigma\n",
      "p_a                             59673.485 -59673.485       21012.742 116058.173\n",
      "p_IH                            11420.656  11420.656        4715.032  28455.496\n",
      "p_IU                            21361.295  21361.295        9051.091  49733.630\n",
      "p_HD                                0.000      0.000           0.000      0.002\n",
      "p_HU                             8538.400   8538.400        5344.272  27057.314\n",
      "p_UD                                0.000      0.000           0.000      0.001\n",
      "R_0                             23782.282  23782.282       11258.930  56569.593\n",
      "mu                              49810.551 -49810.551       22674.422 110893.147\n",
      "lambda_1                          909.838    909.838         378.715   2235.118\n",
      "t_0                             86275.465 -86275.465       34286.981 182527.360\n",
      "N                               43498.420  43498.420       18139.615  93789.235\n",
      "N_I                             40820.160 -40820.160       20489.367 100031.623\n",
      "N_H                              3296.621  -3296.621        1960.546   9348.109\n",
      "N_U                             11706.254  11706.254        7371.122  35298.995\n",
      "I_moins_0                       20979.425  20979.425       10058.412  53071.113\n",
      "Parameter                         Mu_Star         Mu    Mu_Star_Conf      Sigma\n",
      "p_a                                 0.000      0.000           0.000      0.000\n",
      "p_IH                                0.000      0.000           0.000      0.000\n",
      "p_IU                                0.000      0.000           0.000      0.000\n",
      "p_HD                                0.000      0.000           0.000      0.000\n",
      "p_HU                                0.000      0.000           0.000      0.000\n",
      "p_UD                                0.000      0.000           0.000      0.000\n",
      "R_0                                 0.000      0.000           0.000      0.000\n",
      "mu                                  0.000      0.000           0.000      0.000\n",
      "lambda_1                            0.000      0.000           0.000      0.000\n",
      "t_0                                 0.000      0.000           0.000      0.000\n",
      "N                                   0.000      0.000           0.000      0.000\n",
      "N_I                                 0.000      0.000           0.000      0.000\n",
      "N_H                                 0.000      0.000           0.000      0.000\n",
      "N_U                                 0.000      0.000           0.000      0.000\n",
      "I_moins_0                           0.000      0.000           0.000      0.000\n"
     ]
    }
   ],
   "source": [
    "X = sample_morris.sample(problem, 100, num_levels=4)\n",
    "peak_value, peak_day = Resolution(X)\n",
    "Smorris_value = morris.analyze(problem, X, peak_value, conf_level=0.95,print_to_console=True, num_levels=4)\n",
    "Smorris_day = morris.analyze(problem, X2, peak_day, conf_level=0.95,print_to_console=True, num_levels=4)"
   ]
  },
  {
   "cell_type": "markdown",
   "metadata": {},
   "source": [
    "# Analyse de sensibilité quantitative : Sobol"
   ]
  },
  {
   "cell_type": "code",
   "execution_count": 32,
   "metadata": {},
   "outputs": [],
   "source": [
    "from SALib.sample import saltelli\n",
    "from SALib.analyze import sobol\n",
    "import numpy as np\n",
    "from pylab import *\n",
    "from scipy.integrate import odeint"
   ]
  },
  {
   "cell_type": "code",
   "execution_count": 34,
   "metadata": {
    "collapsed": true,
    "jupyter": {
     "outputs_hidden": true
    }
   },
   "outputs": [
    {
     "name": "stdout",
     "output_type": "stream",
     "text": [
      "Group S1 S1_conf ST ST_conf\n",
      "p_a -0.000146 0.020678 0.037221 0.065862\n",
      "p_IH -0.002007 0.005740 0.002609 0.004675\n",
      "p_IU -0.003144 0.015213 0.018217 0.035263\n",
      "p_HD -0.000000 0.000000 0.000000 0.000000\n",
      "p_HU 0.000338 0.008289 0.005514 0.012261\n",
      "p_UD 0.000000 0.000000 0.000000 0.000000\n",
      "R_0 -0.013241 0.036366 0.056631 0.106677\n",
      "mu 0.033912 0.147302 0.249991 0.440106\n",
      "lambda_1 0.000033 0.000739 0.000046 0.000096\n",
      "t_0 0.132375 0.135238 0.187887 0.300740\n",
      "N 0.060586 0.123713 0.147749 0.295053\n",
      "N_I 0.002764 0.031315 0.073431 0.143127\n",
      "N_H 0.000368 0.002150 0.000425 0.000980\n",
      "N_U 0.003004 0.007093 0.002511 0.004568\n",
      "I_moins_0 0.001311 0.014525 0.011436 0.028778\n",
      "\n",
      "Group_1 Group_2 S2 S2_conf\n",
      "p_a p_IH 0.006083 0.032374\n",
      "p_a p_IU 0.005729 0.032162\n",
      "p_a p_HD 0.005829 0.033045\n",
      "p_a p_HU 0.005058 0.034163\n",
      "p_a p_UD 0.005829 0.033045\n",
      "p_a R_0 0.006293 0.032547\n",
      "p_a mu -0.008589 0.051503\n",
      "p_a lambda_1 0.005835 0.033003\n",
      "p_a t_0 -0.005270 0.030789\n",
      "p_a N -0.003412 0.045203\n",
      "p_a N_I 0.004408 0.034762\n",
      "p_a N_H 0.005837 0.033007\n",
      "p_a N_U 0.005561 0.032933\n",
      "p_a I_moins_0 0.005790 0.032801\n",
      "p_IH p_IU 0.011423 0.019738\n",
      "p_IH p_HD 0.012389 0.021474\n",
      "p_IH p_HU 0.013460 0.024136\n",
      "p_IH p_UD 0.012389 0.021474\n",
      "p_IH R_0 0.011782 0.019912\n",
      "p_IH mu 0.004213 0.018350\n",
      "p_IH lambda_1 0.012358 0.021391\n",
      "p_IH t_0 -0.003682 0.027719\n",
      "p_IH N 0.009169 0.029314\n",
      "p_IH N_I 0.014095 0.025252\n",
      "p_IH N_H 0.012328 0.021366\n",
      "p_IH N_U 0.012266 0.021344\n",
      "p_IH I_moins_0 0.012270 0.020948\n",
      "p_IU p_HD 0.019639 0.027369\n",
      "p_IU p_HU 0.020417 0.028444\n",
      "p_IU p_UD 0.019639 0.027369\n",
      "p_IU R_0 0.019111 0.026935\n",
      "p_IU mu 0.001363 0.043480\n",
      "p_IU lambda_1 0.019601 0.027326\n",
      "p_IU t_0 -0.011436 0.044934\n",
      "p_IU N 0.012244 0.037210\n",
      "p_IU N_I 0.020789 0.029005\n",
      "p_IU N_H 0.019558 0.027305\n",
      "p_IU N_U 0.019349 0.027250\n",
      "p_IU I_moins_0 0.019513 0.027205\n",
      "p_HD p_HU -0.000000 0.000000\n",
      "p_HD p_UD -0.000000 0.000000\n",
      "p_HD R_0 -0.000000 0.000000\n",
      "p_HD mu -0.000000 0.000000\n",
      "p_HD lambda_1 -0.000000 0.000000\n",
      "p_HD t_0 0.000000 0.000000\n",
      "p_HD N -0.000000 0.000000\n",
      "p_HD N_I -0.000000 0.000000\n",
      "p_HD N_H -0.000000 0.000000\n",
      "p_HD N_U -0.000000 0.000000\n",
      "p_HD I_moins_0 -0.000000 0.000000\n",
      "p_HU p_UD -0.004523 0.015220\n",
      "p_HU R_0 -0.003990 0.014215\n",
      "p_HU mu -0.001756 0.008985\n",
      "p_HU lambda_1 -0.004495 0.015169\n",
      "p_HU t_0 0.000741 0.016836\n",
      "p_HU N -0.009705 0.020638\n",
      "p_HU N_I -0.005270 0.017456\n",
      "p_HU N_H -0.004494 0.015157\n",
      "p_HU N_U -0.004448 0.015168\n",
      "p_HU I_moins_0 -0.004255 0.014903\n",
      "p_UD R_0 -0.000000 0.000000\n",
      "p_UD mu -0.000000 0.000000\n",
      "p_UD lambda_1 -0.000000 0.000000\n",
      "p_UD t_0 0.000000 0.000000\n",
      "p_UD N -0.000000 0.000000\n",
      "p_UD N_I -0.000000 0.000000\n",
      "p_UD N_H -0.000000 0.000000\n",
      "p_UD N_U -0.000000 0.000000\n",
      "p_UD I_moins_0 -0.000000 0.000000\n",
      "R_0 mu 0.041258 0.094372\n",
      "R_0 lambda_1 0.033157 0.073106\n",
      "R_0 t_0 -0.011059 0.091840\n",
      "R_0 N 0.052665 0.095660\n",
      "R_0 N_I 0.035272 0.075521\n",
      "R_0 N_H 0.033131 0.073062\n",
      "R_0 N_U 0.032875 0.072856\n",
      "R_0 I_moins_0 0.032685 0.072778\n",
      "mu lambda_1 0.207952 0.509613\n",
      "mu t_0 0.135804 0.385975\n",
      "mu N 0.307368 0.741180\n",
      "mu N_I 0.235337 0.642454\n",
      "mu N_H 0.203298 0.506671\n",
      "mu N_U 0.199048 0.504061\n",
      "mu I_moins_0 0.198881 0.497031\n",
      "lambda_1 t_0 0.000890 0.003051\n",
      "lambda_1 N 0.002449 0.006536\n",
      "lambda_1 N_I 0.000336 0.002420\n",
      "lambda_1 N_H 0.000255 0.002235\n",
      "lambda_1 N_U 0.000224 0.002223\n",
      "lambda_1 I_moins_0 0.000115 0.002180\n",
      "t_0 N 0.046262 0.399678\n",
      "t_0 N_I 0.033741 0.362069\n",
      "t_0 N_H 0.003318 0.282265\n",
      "t_0 N_U 0.006438 0.282547\n",
      "t_0 I_moins_0 0.000311 0.273059\n",
      "N N_I -0.109498 0.195404\n",
      "N N_H -0.103825 0.188362\n",
      "N N_U -0.104135 0.189212\n",
      "N I_moins_0 -0.099751 0.182770\n",
      "N_I N_H 0.012973 0.063420\n",
      "N_I N_U 0.013030 0.063416\n",
      "N_I I_moins_0 0.013579 0.062586\n",
      "N_H N_U -0.000224 0.003013\n",
      "N_H I_moins_0 -0.000090 0.003024\n",
      "N_U I_moins_0 -0.006122 0.015800\n",
      "Group S1 S1_conf ST ST_conf\n",
      "p_a nan nan nan nan\n",
      "p_IH nan nan nan nan\n",
      "p_IU nan nan nan nan\n",
      "p_HD nan nan nan nan\n",
      "p_HU nan nan nan nan\n",
      "p_UD nan nan nan nan\n",
      "R_0 nan nan nan nan\n",
      "mu nan nan nan nan\n",
      "lambda_1 nan nan nan nan\n",
      "t_0 nan nan nan nan\n",
      "N nan nan nan nan\n",
      "N_I nan nan nan nan\n",
      "N_H nan nan nan nan\n",
      "N_U nan nan nan nan\n",
      "I_moins_0 nan nan nan nan\n",
      "\n",
      "Group_1 Group_2 S2 S2_conf\n",
      "p_a p_IH nan nan\n",
      "p_a p_IU nan nan\n",
      "p_a p_HD nan nan\n",
      "p_a p_HU nan nan\n",
      "p_a p_UD nan nan\n",
      "p_a R_0 nan nan\n",
      "p_a mu nan nan\n",
      "p_a lambda_1 nan nan\n",
      "p_a t_0 nan nan\n",
      "p_a N nan nan\n",
      "p_a N_I nan nan\n",
      "p_a N_H nan nan\n",
      "p_a N_U nan nan\n",
      "p_a I_moins_0 nan nan\n",
      "p_IH p_IU nan nan\n",
      "p_IH p_HD nan nan\n",
      "p_IH p_HU nan nan\n",
      "p_IH p_UD nan nan\n",
      "p_IH R_0 nan nan\n",
      "p_IH mu nan nan\n",
      "p_IH lambda_1 nan nan\n",
      "p_IH t_0 nan nan\n",
      "p_IH N nan nan\n",
      "p_IH N_I nan nan\n",
      "p_IH N_H nan nan\n",
      "p_IH N_U nan nan\n",
      "p_IH I_moins_0 nan nan\n",
      "p_IU p_HD nan nan\n",
      "p_IU p_HU nan nan\n",
      "p_IU p_UD nan nan\n",
      "p_IU R_0 nan nan\n",
      "p_IU mu nan nan\n",
      "p_IU lambda_1 nan nan\n",
      "p_IU t_0 nan nan\n",
      "p_IU N nan nan\n",
      "p_IU N_I nan nan\n",
      "p_IU N_H nan nan\n",
      "p_IU N_U nan nan\n",
      "p_IU I_moins_0 nan nan\n",
      "p_HD p_HU nan nan\n",
      "p_HD p_UD nan nan\n",
      "p_HD R_0 nan nan\n",
      "p_HD mu nan nan\n",
      "p_HD lambda_1 nan nan\n",
      "p_HD t_0 nan nan\n",
      "p_HD N nan nan\n",
      "p_HD N_I nan nan\n",
      "p_HD N_H nan nan\n",
      "p_HD N_U nan nan\n",
      "p_HD I_moins_0 nan nan\n",
      "p_HU p_UD nan nan\n",
      "p_HU R_0 nan nan\n",
      "p_HU mu nan nan\n",
      "p_HU lambda_1 nan nan\n",
      "p_HU t_0 nan nan\n",
      "p_HU N nan nan\n",
      "p_HU N_I nan nan\n",
      "p_HU N_H nan nan\n",
      "p_HU N_U nan nan\n",
      "p_HU I_moins_0 nan nan\n",
      "p_UD R_0 nan nan\n",
      "p_UD mu nan nan\n",
      "p_UD lambda_1 nan nan\n",
      "p_UD t_0 nan nan\n",
      "p_UD N nan nan\n",
      "p_UD N_I nan nan\n",
      "p_UD N_H nan nan\n",
      "p_UD N_U nan nan\n",
      "p_UD I_moins_0 nan nan\n",
      "R_0 mu nan nan\n",
      "R_0 lambda_1 nan nan\n",
      "R_0 t_0 nan nan\n",
      "R_0 N nan nan\n",
      "R_0 N_I nan nan\n",
      "R_0 N_H nan nan\n",
      "R_0 N_U nan nan\n",
      "R_0 I_moins_0 nan nan\n",
      "mu lambda_1 nan nan\n",
      "mu t_0 nan nan\n",
      "mu N nan nan\n",
      "mu N_I nan nan\n",
      "mu N_H nan nan\n",
      "mu N_U nan nan\n",
      "mu I_moins_0 nan nan\n",
      "lambda_1 t_0 nan nan\n",
      "lambda_1 N nan nan\n",
      "lambda_1 N_I nan nan\n",
      "lambda_1 N_H nan nan\n",
      "lambda_1 N_U nan nan\n",
      "lambda_1 I_moins_0 nan nan\n",
      "t_0 N nan nan\n",
      "t_0 N_I nan nan\n",
      "t_0 N_H nan nan\n",
      "t_0 N_U nan nan\n",
      "t_0 I_moins_0 nan nan\n",
      "N N_I nan nan\n",
      "N N_H nan nan\n",
      "N N_U nan nan\n",
      "N I_moins_0 nan nan\n",
      "N_I N_H nan nan\n",
      "N_I N_U nan nan\n",
      "N_I I_moins_0 nan nan\n",
      "N_H N_U nan nan\n",
      "N_H I_moins_0 nan nan\n",
      "N_U I_moins_0 nan nan\n"
     ]
    }
   ],
   "source": [
    "param_values = saltelli.sample(problem, 100, calc_second_order=True)\n",
    "peak_value, peak_day = Resolution(param_values)\n",
    "Si_peak_value = sobol.analyze(problem, peak_value, print_to_console=True)\n",
    "Si_peak_day = sobol.analyze(problem, peak_day, print_to_console=True)"
   ]
  },
  {
   "cell_type": "markdown",
   "metadata": {},
   "source": [
    "# Calibration"
   ]
  },
  {
   "cell_type": "code",
   "execution_count": 15,
   "metadata": {},
   "outputs": [],
   "source": [
    "import pandas as pd\n",
    "import matplotlib.dates as mdates\n",
    "from matplotlib import ticker"
   ]
  },
  {
   "cell_type": "code",
   "execution_count": 16,
   "metadata": {},
   "outputs": [
    {
     "data": {
      "text/html": [
       "<div>\n",
       "<style scoped>\n",
       "    .dataframe tbody tr th:only-of-type {\n",
       "        vertical-align: middle;\n",
       "    }\n",
       "\n",
       "    .dataframe tbody tr th {\n",
       "        vertical-align: top;\n",
       "    }\n",
       "\n",
       "    .dataframe thead th {\n",
       "        text-align: right;\n",
       "    }\n",
       "</style>\n",
       "<table border=\"1\" class=\"dataframe\">\n",
       "  <thead>\n",
       "    <tr style=\"text-align: right;\">\n",
       "      <th></th>\n",
       "      <th>jour</th>\n",
       "      <th>hosp</th>\n",
       "      <th>rea</th>\n",
       "      <th>rad</th>\n",
       "      <th>dc</th>\n",
       "      <th>detecte</th>\n",
       "    </tr>\n",
       "  </thead>\n",
       "  <tbody>\n",
       "    <tr>\n",
       "      <th>0</th>\n",
       "      <td>2020-03-18</td>\n",
       "      <td>5905</td>\n",
       "      <td>1535</td>\n",
       "      <td>1627</td>\n",
       "      <td>435</td>\n",
       "      <td>1404.0</td>\n",
       "    </tr>\n",
       "    <tr>\n",
       "      <th>1</th>\n",
       "      <td>2020-03-19</td>\n",
       "      <td>7961</td>\n",
       "      <td>1975</td>\n",
       "      <td>2322</td>\n",
       "      <td>642</td>\n",
       "      <td>1861.0</td>\n",
       "    </tr>\n",
       "    <tr>\n",
       "      <th>2</th>\n",
       "      <td>2020-03-20</td>\n",
       "      <td>10272</td>\n",
       "      <td>2564</td>\n",
       "      <td>3128</td>\n",
       "      <td>890</td>\n",
       "      <td>1617.0</td>\n",
       "    </tr>\n",
       "    <tr>\n",
       "      <th>3</th>\n",
       "      <td>2020-03-21</td>\n",
       "      <td>11599</td>\n",
       "      <td>2872</td>\n",
       "      <td>3580</td>\n",
       "      <td>1041</td>\n",
       "      <td>1847.0</td>\n",
       "    </tr>\n",
       "    <tr>\n",
       "      <th>4</th>\n",
       "      <td>2020-03-22</td>\n",
       "      <td>13675</td>\n",
       "      <td>3311</td>\n",
       "      <td>4188</td>\n",
       "      <td>1251</td>\n",
       "      <td>1559.0</td>\n",
       "    </tr>\n",
       "  </tbody>\n",
       "</table>\n",
       "</div>"
      ],
      "text/plain": [
       "        jour   hosp   rea   rad    dc  detecte\n",
       "0 2020-03-18   5905  1535  1627   435   1404.0\n",
       "1 2020-03-19   7961  1975  2322   642   1861.0\n",
       "2 2020-03-20  10272  2564  3128   890   1617.0\n",
       "3 2020-03-21  11599  2872  3580  1041   1847.0\n",
       "4 2020-03-22  13675  3311  4188  1251   1559.0"
      ]
     },
     "execution_count": 16,
     "metadata": {},
     "output_type": "execute_result"
    }
   ],
   "source": [
    "\n",
    "contamination = pd.read_csv('data_per_day.csv', sep = ';')\n",
    "contamination.columns = [jour,'detecte']\n",
    "contamination[jour] = pd.to_datetime(contamination[jour],infer_datetime_format = True)\n",
    "contamination = contamination[contamination[jour]<= '2020-05-11']\n",
    "contamination['detecte'] = contamination['detecte'].diff(periods = 1)\n",
    "\n",
    " \n",
    "hosp          = pd.read_csv('donnees_hospitalieres.csv', ';')\n",
    "hosp[jour]    = pd.to_datetime(hosp[jour])\n",
    "hosp          = hosp.groupby(jour).agg('sum').reset_index(False)[[jour,'hosp','rea','rad','dc']]\n",
    "big_table     = hosp.merge(contamination, left_on= jour, right_on = jour)\n",
    "big_table     = big_table[big_table[jour]<= '2020-05-11']\n",
    "big_table.head()   "
   ]
  },
  {
   "cell_type": "code",
   "execution_count": 17,
   "metadata": {},
   "outputs": [
    {
     "data": {
      "text/plain": [
       "Text(0.5, 1.0, 'Spread of the epidemic')"
      ]
     },
     "execution_count": 17,
     "metadata": {},
     "output_type": "execute_result"
    },
    {
     "data": {
      "image/png": "[encoded data removed]",
      "text/plain": [
       "<Figure size 576x360 with 1 Axes>"
      ]
     },
     "metadata": {
      "needs_background": "light"
     },
     "output_type": "display_data"
    }
   ],
   "source": [
    "columns = ['hosp','rea','rad','dc']\n",
    "titles  = {'hosp': 'hospitalises (H)', 'rea': 'soins intensifs (U)', 'dc' : 'decedes (D)', 'detecte' : 'detectes (DR)', 'rad' : 'gueris (R+)'}\n",
    "\n",
    "fig, axs = plt.subplots(figsize = (8,5), nrows = 1, ncols = 1)\n",
    "for i,col in enumerate(columns) : \n",
    "    axs.scatter(big_table[jour],big_table[col],marker = '.', label = titles[col])\n",
    "axs.scatter(contamination[jour],contamination['detecte'], marker = '.', label = titles['detecte'])\n",
    "axs.legend()\n",
    "locator = mdates.MonthLocator()\n",
    "fmt = mdates.DateFormatter('%b')\n",
    "X = plt.gca().xaxis\n",
    "X.set_major_locator(locator)\n",
    "# Specify formatter\n",
    "X.set_major_formatter(fmt)\n",
    "\n",
    "\n",
    "formatter = ticker.ScalarFormatter(useMathText=True)\n",
    "formatter.set_scientific(True) \n",
    "formatter.set_powerlimits((-1,1))\n",
    "axs.yaxis.set_major_formatter(formatter) \n",
    "axs.set_ylabel('nombre')\n",
    "axs.set_xlabel('date')\n",
    "axs.format_xdata = mdates.DateFormatter('%Y-%m-%d')\n",
    "axs.set_title('Spread of the epidemic')"
   ]
  },
  {
   "cell_type": "markdown",
   "metadata": {},
   "source": [
    "# Calibration déterministe"
   ]
  },
  {
   "cell_type": "markdown",
   "metadata": {},
   "source": [
    "Pour répondre à cette question, nous lançons la fonction `minimize` de scipy.optimize 100 fois et nous gardons uniquement le 15-uplets de valeurs qui minimise le plus fortement la fonction objectif.\n",
    "\n",
    "Une telle démarche a nécessairement un coût de calcul assez fort et nous sauvons donc le tout dans un excel fournit avec le jupyter. Afin de pouvoir générer les variables veuillez mettre `generate_variables` à la valeur `True`. Autrement, les variables seront importées depuis le fichier CSV en question. "
   ]
  },
  {
   "cell_type": "code",
   "execution_count": 22,
   "metadata": {},
   "outputs": [],
   "source": [
    "from scipy.optimize import minimize\n",
    "generate_variables = False"
   ]
  },
  {
   "cell_type": "code",
   "execution_count": 19,
   "metadata": {},
   "outputs": [
    {
     "name": "stdout",
     "output_type": "stream",
     "text": [
      "0.01\n"
     ]
    }
   ],
   "source": [
    "# Table pre-processing\n",
    "contamination = contamination[('2020-02-25' <= contamination[jour])& (contamination[jour]<= '2020-03-31')]\n",
    "big_table     = big_table[big_table[jour]<= '2020-03-31']\n",
    "sigmas        = [1,1,1,1,1]\n",
    "print(global_constants['deltaT'])"
   ]
  },
  {
   "cell_type": "code",
   "execution_count": 20,
   "metadata": {
    "scrolled": true
   },
   "outputs": [],
   "source": [
    "\n",
    "def Epsilon(variables,constants,contamination = contamination,big_table=big_table,global_constants=global_constants, sigmas = sigmas,n_DR=n_DR,n_H=n_H):\n",
    "    \"\"\"\n",
    "    parameters will be a dictionnary similar to the one resulting from init_constant    \n",
    "    \"\"\"\n",
    "    \n",
    "    syst_CI=array([global_constants['S_0'],variables[-1],0,0,0,0,0,0,0,0])\n",
    "    simulation=odeint(equa_diff,syst_CI,constants[-2],args = (variables,constants))[::int(1/global_constants['deltaT'])]\n",
    "    \n",
    "    DR = ((simulation[n_DR:,-1]-contamination['detecte'].to_numpy())/np.sqrt(simulation[n_DR:,-1])/sigmas[0])**2\n",
    "    \n",
    "    H  = ((simulation[n_H:,5]-big_table['hosp'].to_numpy())/np.sqrt(simulation[n_H:,5])/sigmas[1])**2\n",
    "    U  = ((simulation[n_H:,6]-big_table['rea'].to_numpy())/np.sqrt(simulation[n_H:,6])/sigmas[2])**2\n",
    "    D  = ((simulation[n_H:,8]-big_table['dc'].to_numpy())/np.sqrt(simulation[n_H:,8])/sigmas[3])**2\n",
    "    R  = ((simulation[n_H:,7]-big_table['rad'].to_numpy())/np.sqrt(simulation[n_H:,7])/sigmas[4])**2\n",
    "    return np.sum(DR) + np.sum(H+U+D+R)\n",
    "\n"
   ]
  },
  {
   "cell_type": "code",
   "execution_count": 21,
   "metadata": {},
   "outputs": [
    {
     "name": "stderr",
     "output_type": "stream",
     "text": [
      "100% |########################################################################|\n"
     ]
    }
   ],
   "source": [
    "\n",
    "\n",
    "def q_7_function():\n",
    "    \"\"\"\n",
    "    This function compute the minimization routine one time and return the 15-uplet and the value of the objectiv function.    \n",
    "    \"\"\"\n",
    "    variables = init_variables(T_MAX = 66)\n",
    "    constants = compute_constants(variables, global_constants = global_constants)\n",
    "    variables = list(variables.values())\n",
    "    constants = list(constants.values())\n",
    "\n",
    "    res = minimize(Epsilon,x0 = variables,bounds = bound, args = (constants))\n",
    "    optimal_variables = dict(zip(variables_keys,res.x))\n",
    "    return optimal_variables,res.fun\n",
    "\n",
    "if generate_variables :     \n",
    "    all_results = []\n",
    "    all_variables = []\n",
    "    pbar = ProgressBar()\n",
    "\n",
    "    for i in pbar(range(100)):\n",
    "        optimal_variables, res = q_7_function()\n",
    "        all_results.append(res)\n",
    "        all_variables.append(optimal_variables)\n",
    "    \n",
    "    best_variables = all_variables[np.argmin(all_results)]\n",
    "    with open('best_variables_q7.csv', 'w') as f:\n",
    "        f.write(\"%s,%s\\n\"%('variables','values'))\n",
    "        for key in best_variables.keys():\n",
    "            f.write(\"%s,%s\\n\"%(key,best_variables[key]))\n",
    "    \n",
    "    \n",
    "else : \n",
    "    best_variables = pd.read_csv('best_variables_q7.csv', ',')\n",
    "    best_variables = best_variables['values'].to_numpy()\n",
    "    best_variables = dict(zip(variables_keys,best_variables))\n",
    "    "
   ]
  },
  {
   "cell_type": "code",
   "execution_count": 23,
   "metadata": {},
   "outputs": [],
   "source": [
    "\n",
    "constants  = compute_constants(best_variables)\n",
    "syst_CI    = array([global_constants['S_0'],best_variables['I_moins_0'],0,0,0,0,0,0,0,0])\n",
    "simulation = odeint(equa_diff,syst_CI,constants['t'], args = (best_variables,constants))[::10]"
   ]
  },
  {
   "cell_type": "code",
   "execution_count": 25,
   "metadata": {},
   "outputs": [
    {
     "name": "stdout",
     "output_type": "stream",
     "text": [
      "660\n"
     ]
    },
    {
     "data": {
      "text/plain": [
       "Text(0.5, 1.0, 'Spread of the epidemic')"
      ]
     },
     "execution_count": 25,
     "metadata": {},
     "output_type": "execute_result"
    },
    {
     "data": {
      "image/png": "[encoded data removed]",
      "text/plain": [
       "<Figure size 576x360 with 1 Axes>"
      ]
     },
     "metadata": {
      "needs_background": "light"
     },
     "output_type": "display_data"
    }
   ],
   "source": [
    "fig, axs = plt.subplots(figsize = (8,5), nrows = 1, ncols = 1)\n",
    "columns  = [5,6,7,8,9]\n",
    "titles   = {'5':'hosp (H)','6': 'rea (U)','8':'decede (D)', '9':'detecte (DR)','7': 'gueris (R+)'}\n",
    "time     = pd.date_range(start =  '2020-01-26', end = '2020-03-31', freq = 'D')\n",
    "\n",
    "print(len(simulation))\n",
    "for i,col in enumerate(columns) : \n",
    "    axs.scatter(time,simulation[:66,col],marker = '.', label = titles[f\"{col}\"])\n",
    "axs.legend()\n",
    "locator = mdates.MonthLocator()\n",
    "fmt = mdates.DateFormatter('%b')\n",
    "X = plt.gca().xaxis\n",
    "X.set_major_locator(locator)\n",
    "X.set_major_formatter(fmt)\n",
    "\n",
    "\n",
    "formatter = ticker.ScalarFormatter(useMathText=True)\n",
    "formatter.set_scientific(True) \n",
    "formatter.set_powerlimits((-1,1))\n",
    "axs.yaxis.set_major_formatter(formatter) \n",
    "axs.set_ylabel('nombre')\n",
    "axs.set_xlabel('date')\n",
    "axs.format_xdata = mdates.DateFormatter('%Y-%m-%d')\n",
    "axs.set_title('Spread of the epidemic')\n",
    "\n",
    "\n",
    "\n",
    "columns = ['hosp','rea','rad','dc']\n",
    "titles  = {'hosp': 'hospitalises (H)', 'rea': 'soins intensifs (U)', 'dc' : 'decedes (D)', 'detecte' : 'detectes (DR)', 'rad' : 'gueris (R+)'}\n",
    "\n",
    "fig, axs = plt.subplots(figsize = (8,5), nrows = 1, ncols = 1)\n",
    "for i,col in enumerate(columns) : \n",
    "    axs.scatter(big_table[jour],big_table[col],marker = '.', label = titles[col])\n",
    "axs.scatter(contamination[jour],contamination['detecte'], marker = '.', label = titles['detecte'])\n",
    "axs.legend()\n",
    "locator = mdates.MonthLocator()\n",
    "fmt = mdates.DateFormatter('%b')\n",
    "X = plt.gca().xaxis\n",
    "X.set_major_locator(locator)\n",
    "# Specify formatter\n",
    "X.set_major_formatter(fmt)\n",
    "\n",
    "\n",
    "formatter = ticker.ScalarFormatter(useMathText=True)\n",
    "formatter.set_scientific(True) \n",
    "formatter.set_powerlimits((-1,1))\n",
    "axs.yaxis.set_major_formatter(formatter) \n",
    "axs.set_ylabel('nombre')\n",
    "axs.set_xlabel('date')\n",
    "axs.format_xdata = mdates.DateFormatter('%Y-%m-%d')\n",
    "axs.set_title('Spread of the epidemic')"
   ]
  },
  {
   "cell_type": "markdown",
   "metadata": {},
   "source": [
    "8) **Donnez les valeurs de $\\sigma_C$ pour $C$ dans $\\{H,U,D,R\\}$**"
   ]
  },
  {
   "cell_type": "markdown",
   "metadata": {},
   "source": [
    "L'énoncé nous dit que : \n",
    "\n",
    "$\\begin{equation}\n",
    "p(data|x,\\sigma)=(2\\pi)^{-\\frac{n_{DR}}{2}-2n_{H}}\\sigma_{DR}^{-n_{DR}}\\sigma_{H}^{-n_{H}}\\sigma_{U}^{-n_{H}}\\sigma_{D}^{-n_{H}}\\sigma_{R}^{-n_{H}}\\times e^{-\\frac{1}{2}\\sum_{i=1}^{n_{DR}}\\frac{f_{DR}(x,s_{i})^{2}}{\\sigma_{DR}^{2}}-\\frac{1}{2}\\sum_{i=1}^{n_{H}}\\frac{f_{H}(x,s_{i})2}{\\sigma_{H}^{2}}+\\frac{f_{U}(x,s_{i})^{2}}{\\sigma_{U}^{2}}+\\frac{f_{D}(x,s_{i})^{2}}{\\sigma_{D}^{2}}+\\frac{f_{R}(x,s_{i})^{2}}{\\sigma_{R}^{2}}}\n",
    "\\end{equation}$\n",
    "\n",
    "Que l'on peut réécrire de la manière suivante afin de d'utiliser une optimisation sous log-vraisemblance par la suite : \n",
    "\n",
    "$\\begin{equation}\n",
    "p(data|x,\\sigma)=(2\\pi)^{-\\frac{n_{DR}}{2}-2n_{H}}\\sigma_{H}^{-n_{H}}\\sigma_{U}^{-n_{H}}\\sigma_{D}^{-n_{H}}\\sigma_{R}^{-n_{H}}\\times e^{-n_{DR}ln(\\sigma_{DR})-\\frac{1}{2}\\sum_{i=1}^{n_{DR}}\\frac{f_{DR}(x,s_{i})^{2}}{\\sigma_{DR}^{2}}-\\frac{1}{2}\\sum_{i=1}^{n_{H}}\\frac{f_{H}(x,s_{i})2}{\\sigma_{H}^{2}}+\\frac{f_{U}(x,s_{i})^{2}}{\\sigma_{U}^{2}}+\\frac{f_{D}(x,s_{i})^{2}}{\\sigma_{D}^{2}}+\\frac{f_{R}(x,s_{i})^{2}}{\\sigma_{R}^{2}}}\n",
    "\\end{equation}$\n",
    "\n",
    "\n",
    "On atteint un optimum pour l'expression suivante quand toutes les compostantes du gradient sont nulles. En raisonnant pour $\\sigma_{DR}$ on a : \n",
    "\n",
    "$\\begin{align}\n",
    "\\frac{\\partial}{\\sigma_{DR}}p(data|x,\\sigma)&=(2\\pi)^{-\\frac{n_{DR}}{2}-2n_{H}}\\sigma_{H}^{-n_{H}}\\sigma_{U}^{-n_{H}}\\sigma_{D}^{-n_{H}}\\sigma_{R}^{-n_{H}}\\times(-\\frac{n_{DR}}{\\sigma_{DR}}+\\sum_{i=1}^{n_{DR}}\\frac{f_{DR}(x,s_{i})^{2}}{\\sigma_{DR}^{3}})e^{-n_{DR}ln(\\sigma_{DR})-\\frac{1}{2}\\sum_{i=1}^{n_{DR}}\\frac{f_{DR}(x,s_{i})^{2}}{\\sigma_{DR}^{2}}-\\frac{1}{2}\\sum_{i=1}^{n_{H}}\\frac{f_{H}(x,s_{i})2}{\\sigma_{H}^{2}}+\\frac{f_{U}(x,s_{i})^{2}}{\\sigma_{U}^{2}}+\\frac{f_{D}(x,s_{i})^{2}}{\\sigma_{D}^{2}}+\\frac{f_{R}(x,s_{i})^{2}}{\\sigma_{R}^{2}}}\\\\\n",
    "&=0\n",
    "\\end{align}$\n",
    "Ce qui revient à écrire que : \n",
    "\n",
    "\n",
    "$\\begin{align}\n",
    "& \\ \\frac{n_{DR}}{\\sigma_{DR}}=\\sum_{i=1}^{n_{DR}}\\frac{f_{DR}(x,s_{i})^{2}}{\\sigma_{DR}^{3}}\\\\\n",
    "\\Leftrightarrow &  \\ \\sigma_{DR}^{2}=\\sum_{i=1}^{n_{DR}}\\frac{f_{DR}(x,s_{i})^{2}}{n_{DR}}\n",
    "\\end{align}$\n",
    "\n",
    "En raisonnant de même pour les autres sigmas, il vient que :\n",
    "\n",
    "$\\sigma_{C}^{2}=\\sum_{i=1}^{n_{H}}\\frac{f_{C}(x,s_{i})^{2}}{n_{H}}$\n",
    "\n"
   ]
  },
  {
   "cell_type": "markdown",
   "metadata": {},
   "source": [
    "9) **Donner une expression implicite de la loi a posteriori $p(x|data)$ des paramètres x.**\n",
    "\n",
    "Le théorème de Bayes nous donne que : $p(x|data) \\propto p(data|x)p_0(x)$.\n",
    "\n",
    "Pour l'approche plug-in, on fixe les valeurs de sigma tel que définis à la question 8. Dans ce cas, on a : \n",
    "\n",
    "$\\begin{equation}\n",
    "p(x|data)=p(data|x)p_0(x)\n",
    "\\end{equation}$\n",
    "\n",
    "Dans le cadre de l'approche full-bayésienne comme on a : $\\pi(\\sigma_C)=(\\sigma_C)^{-1}$ pour $C$ dans $\\{H,U,D,R\\}$ alors on peut écrire que : $\\begin{align}\n",
    "p(x|data) &\\propto \\int_{\\sigma}p(x,\\sigma|data)d\\sigma\\\\\n",
    "&\\propto \\int_{\\sigma}p(data|x,\\sigma)p(\\sigma)p_0(x)d\\sigma\n",
    "\\end{align}$\n",
    "\n",
    "En utilisant les expressions de chacun des $\\sigma$ on peut développer l'intégrale et donner une expression implicite de cette densité. \n"
   ]
  },
  {
   "cell_type": "markdown",
   "metadata": {},
   "source": [
    "10) **Dans le cas plug-in, puis dans le cas full-bayésien, comparer les lois a priori et a posteriori uni-dimensionnelles de chacun des paramètres (histogramme,moyenne, variance). Estimer la matrice de corrélation a posteriori des paramètres. Quels sont les paramètres pour lesquels l'incertitude a été fortement réduite ou au contraire très peu réduite ?**\n",
    "\n",
    "\n",
    "Nous connaissons les lois à postériori à une constante multiplicative près. De ce fait nous souhaitons donc simuler la distribution de $p(x|data)$ en utilisant un algorithme de Metropolis Hasting. \n",
    "\n",
    "A partir d'un point $X_0$, nous construisons la chaîne de Markov de la façon suivante : \n",
    "\n",
    "- On propose un déplacement vers $\\tilde{X}_{n+1}$ selon la loi $q(X_n,\\sigma^2I)$ supposée gaussienne. On améliorera la matrice de covariance de cette loi durant la procédure de burn-in. \n",
    "\n",
    "- On accepte le déplacement avec la probabilité $a(X_n,\\tilde{X}_{n+1})$. La fonction $a$ est définie comme suit : \n",
    "\n",
    "\\begin{align}\n",
    "a(X_n,\\tilde{X}_{n+1}) &= min\\{\\frac{p(\\tilde{X}_{n+1}|data)Q(X_n,\\tilde{X}_{n+1})}{p(X_n|data)Q(\\tilde{X}_{n+1},X_n)},1\\}\\\\\n",
    "&= min\\{\\frac{p(data|\\tilde{X}_{n+1})Q(X_n,\\tilde{X}_{n+1})}{p(data|X_n)Q(\\tilde{X}_{n+1},X_n)},1\\}\n",
    "\\end{align}\n",
    "\n"
   ]
  },
  {
   "cell_type": "code",
   "execution_count": 110,
   "metadata": {},
   "outputs": [
    {
     "name": "stdout",
     "output_type": "stream",
     "text": [
      "{'p_a': {'loc': 0.65, 'scale': 0.1}, 'p_IH': {'loc': 0.125, 'scale': 0.1}, 'p_IU': {'loc': 0.025, 'scale': 0.1}, 'p_HD': {'loc': 0.15, 'scale': 0.1}, 'p_HU': {'loc': 0.15, 'scale': 0.1}, 'p_UD': {'loc': 0.3, 'scale': 0.1}, 'N_I': {'loc': 10, 'scale': 1}, 'N_H': {'loc': 20, 'scale': 1}, 'N_U': {'loc': 15, 'scale': 1}, 'R_0': {'loc': 3.15, 'scale': 0.1}, 'mu': {'loc': 0.05, 'scale': 0.01}, 'N': {'loc': 40, 'scale': 1}, 't_0': {'loc': 15, 'scale': 1}, 'I_moins_0': {'loc': 50, 'scale': 1}, 'lambda_1': {'loc': 5e-05, 'scale': 1e-05}}\n"
     ]
    }
   ],
   "source": [
    "\n",
    "\n",
    "\n",
    "F = {'p_a': 'norm',\n",
    "    'p_IH': 'norm',\n",
    "    'p_IU': 'norm',\n",
    "    'p_HD': 'norm',\n",
    "    'p_HU': 'norm',\n",
    "    'p_UD': 'norm',\n",
    "    'N_I' : 'norm',\n",
    "    'N_H' : 'norm',\n",
    "    'N_U' : 'norm',\n",
    "    'R_0' : 'norm',\n",
    "    'mu'  : 'norm',\n",
    "    'N'   : 'norm',\n",
    "    't_0'   : 'norm',\n",
    "    'I_moins_0' : 'norm',\n",
    "    'lambda_1' : 'norm'\n",
    "}\n",
    "\n",
    "\n",
    "\n",
    "F_parameters = {'p_a': {'loc':0.65,'scale':0.1},\n",
    "    'p_IH': {'loc':0.125,'scale':0.1},\n",
    "    'p_IU': {'loc':0.025,'scale':0.1},\n",
    "    'p_HD': {'loc':0.15,'scale':0.1},\n",
    "    'p_HU': {'loc':0.15,'scale':0.1},\n",
    "    'p_UD': {'loc':0.3,'scale':0.1},\n",
    "    'N_I' : {'loc':10,'scale':1},\n",
    "    'N_H' : {'loc':20,'scale':1},\n",
    "    'N_U' : {'loc':15,'scale':1},\n",
    "    'R_0' : {'loc':3.15,'scale':0.1},\n",
    "    'mu'  : {'loc':0.05,'scale':0.01},\n",
    "    'N'   : {'loc':40,'scale':1},\n",
    "    't_0' : {'loc':15, 'scale':1},\n",
    "    'I_moins_0' : {'loc':50,'scale':1},\n",
    "    'lambda_1' : {'loc':0.5*10**(-4),'scale':10**(-5)}\n",
    "}\n",
    "\n",
    "\n",
    "print(F_parameters)\n"
   ]
  },
  {
   "cell_type": "code",
   "execution_count": 167,
   "metadata": {},
   "outputs": [
    {
     "name": "stderr",
     "output_type": "stream",
     "text": [
      "<ipython-input-167-0aad98349ef2>:87: RuntimeWarning: invalid value encountered in double_scalars\n",
      "  ratio = plug_in(X_,sigmas)*Q(X,X_)/(plug_in(X,sigmas)*Q(X_,X))\n"
     ]
    },
    {
     "name": "stdout",
     "output_type": "stream",
     "text": [
      "p_IU first\n",
      "rejected\n",
      "p_IU first\n",
      "rejected\n",
      "p_IU first\n",
      "rejected\n",
      "p_IU first\n",
      "rejected\n",
      "p_IU first\n",
      "rejected\n",
      "p_IU first\n",
      "rejected\n",
      "p_IU first\n",
      "rejected\n",
      "p_IU first\n",
      "rejected\n",
      "up 0.92\n",
      "p_IU first\n",
      "rejected\n",
      "p_IU first\n",
      "rejected\n",
      "mu second\n",
      "rejected\n",
      "mu second\n",
      "rejected\n",
      "mu second\n",
      "rejected\n",
      "mu second\n",
      "rejected\n",
      "p_IU first\n",
      "rejected\n",
      "p_IU first\n",
      "rejected\n",
      "mu second\n",
      "rejected\n",
      "up 0.91\n",
      "mu second\n",
      "rejected\n",
      "mu second\n",
      "rejected\n",
      "p_IU first\n",
      "rejected\n",
      "p_IU first\n",
      "rejected\n",
      "p_IU first\n",
      "rejected\n",
      "p_IU first\n",
      "rejected\n",
      "p_IU first\n",
      "rejected\n",
      "p_IU first\n",
      "rejected\n",
      "p_IU first\n",
      "rejected\n",
      "p_IU first\n",
      "rejected\n",
      "up 0.9\n",
      "mu second\n",
      "rejected\n",
      "mu second\n",
      "rejected\n",
      "mu second\n",
      "rejected\n",
      "mu second\n",
      "rejected\n",
      "mu second\n",
      "rejected\n",
      "mu second\n",
      "rejected\n",
      "mu second\n",
      "rejected\n",
      "mu second\n",
      "rejected\n",
      "mu second\n",
      "rejected\n",
      "mu second\n",
      "rejected\n",
      "up 0.9\n",
      "p_IU first\n",
      "rejected\n",
      "p_IU first\n",
      "rejected\n",
      "mu second\n",
      "rejected\n",
      "mu second\n",
      "rejected\n",
      "mu second\n",
      "rejected\n",
      "mu second\n",
      "rejected\n",
      "mu second\n",
      "rejected\n",
      "mu second\n",
      "rejected\n",
      "mu second\n",
      "rejected\n",
      "mu second\n",
      "rejected\n",
      "mu second\n",
      "rejected\n",
      "mu second\n",
      "rejected\n",
      "mu second\n",
      "rejected\n",
      "mu second\n",
      "rejected\n",
      "mu second\n",
      "rejected\n",
      "mu second\n",
      "rejected\n",
      "up 0.84\n",
      "p_IH first\n",
      "rejected\n",
      "p_IH first\n",
      "rejected\n",
      "p_IH first\n",
      "rejected\n"
     ]
    },
    {
     "ename": "KeyboardInterrupt",
     "evalue": "",
     "output_type": "error",
     "traceback": [
      "\u001b[1;31m---------------------------------------------------------------------------\u001b[0m",
      "\u001b[1;31mKeyboardInterrupt\u001b[0m                         Traceback (most recent call last)",
      "\u001b[1;32m<ipython-input-167-0aad98349ef2>\u001b[0m in \u001b[0;36m<module>\u001b[1;34m\u001b[0m\n\u001b[0;32m    190\u001b[0m \u001b[0mvariables\u001b[0m \u001b[1;33m=\u001b[0m \u001b[0minit_variables\u001b[0m\u001b[1;33m(\u001b[0m\u001b[0mT_MAX\u001b[0m \u001b[1;33m=\u001b[0m \u001b[1;36m66\u001b[0m\u001b[1;33m)\u001b[0m\u001b[1;33m\u001b[0m\u001b[1;33m\u001b[0m\u001b[0m\n\u001b[0;32m    191\u001b[0m \u001b[1;33m\u001b[0m\u001b[0m\n\u001b[1;32m--> 192\u001b[1;33m \u001b[0mMetropolis_Hasting_plug_in\u001b[0m\u001b[1;33m(\u001b[0m\u001b[0mvariables\u001b[0m\u001b[1;33m,\u001b[0m \u001b[0mF_parameters\u001b[0m\u001b[1;33m)\u001b[0m\u001b[1;33m\u001b[0m\u001b[1;33m\u001b[0m\u001b[0m\n\u001b[0m\u001b[0;32m    193\u001b[0m \u001b[1;33m\u001b[0m\u001b[0m\n",
      "\u001b[1;32m<ipython-input-167-0aad98349ef2>\u001b[0m in \u001b[0;36mMetropolis_Hasting_plug_in\u001b[1;34m(X, F_parameters, n)\u001b[0m\n\u001b[0;32m    111\u001b[0m         \u001b[0mX\u001b[0m  \u001b[1;33m=\u001b[0m \u001b[0mchain\u001b[0m\u001b[1;33m[\u001b[0m\u001b[1;33m-\u001b[0m\u001b[1;36m1\u001b[0m\u001b[1;33m]\u001b[0m\u001b[1;33m\u001b[0m\u001b[1;33m\u001b[0m\u001b[0m\n\u001b[0;32m    112\u001b[0m         \u001b[0mX_\u001b[0m \u001b[1;33m=\u001b[0m \u001b[0mmove\u001b[0m\u001b[1;33m(\u001b[0m\u001b[0mX\u001b[0m\u001b[1;33m,\u001b[0m\u001b[0mF_parameters\u001b[0m\u001b[1;33m)\u001b[0m\u001b[1;33m\u001b[0m\u001b[1;33m\u001b[0m\u001b[0m\n\u001b[1;32m--> 113\u001b[1;33m         \u001b[0mtest\u001b[0m \u001b[1;33m=\u001b[0m \u001b[0ma_plug_in\u001b[0m\u001b[1;33m(\u001b[0m\u001b[0mX\u001b[0m\u001b[1;33m,\u001b[0m\u001b[0mX_\u001b[0m\u001b[1;33m,\u001b[0m\u001b[0msigmas\u001b[0m\u001b[1;33m)\u001b[0m\u001b[1;33m\u001b[0m\u001b[1;33m\u001b[0m\u001b[0m\n\u001b[0m\u001b[0;32m    114\u001b[0m         \u001b[1;32mif\u001b[0m \u001b[0mtest\u001b[0m \u001b[1;33m==\u001b[0m \u001b[1;36m1\u001b[0m \u001b[1;33m:\u001b[0m\u001b[1;33m\u001b[0m\u001b[1;33m\u001b[0m\u001b[0m\n\u001b[0;32m    115\u001b[0m             \u001b[0mchain\u001b[0m\u001b[1;33m.\u001b[0m\u001b[0mappend\u001b[0m\u001b[1;33m(\u001b[0m\u001b[0mX_\u001b[0m\u001b[1;33m)\u001b[0m\u001b[1;33m\u001b[0m\u001b[1;33m\u001b[0m\u001b[0m\n",
      "\u001b[1;32m<ipython-input-167-0aad98349ef2>\u001b[0m in \u001b[0;36ma_plug_in\u001b[1;34m(X, X_, sigmas)\u001b[0m\n\u001b[0;32m     85\u001b[0m         \u001b[0mprint\u001b[0m\u001b[1;33m(\u001b[0m\u001b[1;34m'rejected'\u001b[0m\u001b[1;33m)\u001b[0m\u001b[1;33m\u001b[0m\u001b[1;33m\u001b[0m\u001b[0m\n\u001b[0;32m     86\u001b[0m         \u001b[1;32mreturn\u001b[0m \u001b[1;36m0\u001b[0m\u001b[1;33m\u001b[0m\u001b[1;33m\u001b[0m\u001b[0m\n\u001b[1;32m---> 87\u001b[1;33m     \u001b[0mratio\u001b[0m \u001b[1;33m=\u001b[0m \u001b[0mplug_in\u001b[0m\u001b[1;33m(\u001b[0m\u001b[0mX_\u001b[0m\u001b[1;33m,\u001b[0m\u001b[0msigmas\u001b[0m\u001b[1;33m)\u001b[0m\u001b[1;33m*\u001b[0m\u001b[0mQ\u001b[0m\u001b[1;33m(\u001b[0m\u001b[0mX\u001b[0m\u001b[1;33m,\u001b[0m\u001b[0mX_\u001b[0m\u001b[1;33m)\u001b[0m\u001b[1;33m/\u001b[0m\u001b[1;33m(\u001b[0m\u001b[0mplug_in\u001b[0m\u001b[1;33m(\u001b[0m\u001b[0mX\u001b[0m\u001b[1;33m,\u001b[0m\u001b[0msigmas\u001b[0m\u001b[1;33m)\u001b[0m\u001b[1;33m*\u001b[0m\u001b[0mQ\u001b[0m\u001b[1;33m(\u001b[0m\u001b[0mX_\u001b[0m\u001b[1;33m,\u001b[0m\u001b[0mX\u001b[0m\u001b[1;33m)\u001b[0m\u001b[1;33m)\u001b[0m\u001b[1;33m\u001b[0m\u001b[1;33m\u001b[0m\u001b[0m\n\u001b[0m\u001b[0;32m     88\u001b[0m     \u001b[0mminimum\u001b[0m \u001b[1;33m=\u001b[0m \u001b[0mmin\u001b[0m\u001b[1;33m(\u001b[0m\u001b[0mratio\u001b[0m\u001b[1;33m,\u001b[0m\u001b[1;36m1\u001b[0m\u001b[1;33m)\u001b[0m\u001b[1;33m\u001b[0m\u001b[1;33m\u001b[0m\u001b[0m\n\u001b[0;32m     89\u001b[0m \u001b[1;33m\u001b[0m\u001b[0m\n",
      "\u001b[1;32m<ipython-input-167-0aad98349ef2>\u001b[0m in \u001b[0;36mplug_in\u001b[1;34m(X, sigmas)\u001b[0m\n\u001b[0;32m    168\u001b[0m \u001b[1;33m\u001b[0m\u001b[0m\n\u001b[0;32m    169\u001b[0m     \u001b[0mconstants\u001b[0m \u001b[1;33m=\u001b[0m \u001b[0mlist\u001b[0m\u001b[1;33m(\u001b[0m\u001b[0mconstants\u001b[0m\u001b[1;33m.\u001b[0m\u001b[0mvalues\u001b[0m\u001b[1;33m(\u001b[0m\u001b[1;33m)\u001b[0m\u001b[1;33m)\u001b[0m\u001b[1;33m\u001b[0m\u001b[1;33m\u001b[0m\u001b[0m\n\u001b[1;32m--> 170\u001b[1;33m     \u001b[0mresult\u001b[0m \u001b[1;33m=\u001b[0m  \u001b[0mnp\u001b[0m\u001b[1;33m.\u001b[0m\u001b[0mlog\u001b[0m\u001b[1;33m(\u001b[0m\u001b[1;33m(\u001b[0m\u001b[1;36m2\u001b[0m\u001b[1;33m*\u001b[0m\u001b[0mnp\u001b[0m\u001b[1;33m.\u001b[0m\u001b[0mpi\u001b[0m\u001b[1;33m)\u001b[0m\u001b[1;33m)\u001b[0m\u001b[1;33m*\u001b[0m\u001b[1;33m(\u001b[0m\u001b[1;33m-\u001b[0m\u001b[0mn_DR\u001b[0m\u001b[1;33m/\u001b[0m\u001b[1;36m2\u001b[0m\u001b[1;33m-\u001b[0m\u001b[1;36m2\u001b[0m\u001b[1;33m*\u001b[0m\u001b[0mn_H\u001b[0m\u001b[1;33m)\u001b[0m\u001b[1;33m+\u001b[0m\u001b[0mnp\u001b[0m\u001b[1;33m.\u001b[0m\u001b[0mlog\u001b[0m\u001b[1;33m(\u001b[0m\u001b[0msigmas\u001b[0m\u001b[1;33m[\u001b[0m\u001b[1;36m0\u001b[0m\u001b[1;33m]\u001b[0m\u001b[1;33m)\u001b[0m\u001b[1;33m*\u001b[0m\u001b[1;33m(\u001b[0m\u001b[1;33m-\u001b[0m\u001b[0mn_DR\u001b[0m\u001b[1;33m)\u001b[0m\u001b[1;33m+\u001b[0m\u001b[0mnp\u001b[0m\u001b[1;33m.\u001b[0m\u001b[0mlog\u001b[0m\u001b[1;33m(\u001b[0m\u001b[1;33m(\u001b[0m\u001b[0mnp\u001b[0m\u001b[1;33m.\u001b[0m\u001b[0mprod\u001b[0m\u001b[1;33m(\u001b[0m\u001b[0msigmas\u001b[0m\u001b[1;33m[\u001b[0m\u001b[1;36m1\u001b[0m\u001b[1;33m:\u001b[0m\u001b[1;33m]\u001b[0m\u001b[1;33m)\u001b[0m\u001b[1;33m)\u001b[0m\u001b[1;33m)\u001b[0m\u001b[1;33m*\u001b[0m\u001b[1;33m(\u001b[0m\u001b[1;33m-\u001b[0m\u001b[0mn_H\u001b[0m\u001b[1;33m)\u001b[0m\u001b[1;33m+\u001b[0m\u001b[1;33m(\u001b[0m\u001b[1;33m-\u001b[0m\u001b[1;36m0.5\u001b[0m\u001b[1;33m*\u001b[0m\u001b[0mEpsilon\u001b[0m\u001b[1;33m(\u001b[0m\u001b[0mX\u001b[0m\u001b[1;33m,\u001b[0m\u001b[0mconstants\u001b[0m\u001b[1;33m,\u001b[0m\u001b[0msigmas\u001b[0m \u001b[1;33m=\u001b[0m \u001b[0msigmas\u001b[0m\u001b[1;33m)\u001b[0m\u001b[1;33m)\u001b[0m\u001b[1;33m\u001b[0m\u001b[1;33m\u001b[0m\u001b[0m\n\u001b[0m\u001b[0;32m    171\u001b[0m \u001b[1;33m\u001b[0m\u001b[0m\n\u001b[0;32m    172\u001b[0m     \u001b[1;32mreturn\u001b[0m \u001b[0mnp\u001b[0m\u001b[1;33m.\u001b[0m\u001b[0mexp\u001b[0m\u001b[1;33m(\u001b[0m\u001b[0mresult\u001b[0m\u001b[1;33m)\u001b[0m\u001b[1;33m\u001b[0m\u001b[1;33m\u001b[0m\u001b[0m\n",
      "\u001b[1;32m<ipython-input-159-d76f38c9df81>\u001b[0m in \u001b[0;36mEpsilon\u001b[1;34m(variables, constants, contamination, big_table, global_constants, sigmas, n_DR, n_H)\u001b[0m\n\u001b[0;32m      5\u001b[0m \u001b[1;33m\u001b[0m\u001b[0m\n\u001b[0;32m      6\u001b[0m     \u001b[0msyst_CI\u001b[0m\u001b[1;33m=\u001b[0m\u001b[0marray\u001b[0m\u001b[1;33m(\u001b[0m\u001b[1;33m[\u001b[0m\u001b[0mglobal_constants\u001b[0m\u001b[1;33m[\u001b[0m\u001b[1;34m'S_0'\u001b[0m\u001b[1;33m]\u001b[0m\u001b[1;33m,\u001b[0m\u001b[0mvariables\u001b[0m\u001b[1;33m[\u001b[0m\u001b[1;33m-\u001b[0m\u001b[1;36m1\u001b[0m\u001b[1;33m]\u001b[0m\u001b[1;33m,\u001b[0m\u001b[1;36m0\u001b[0m\u001b[1;33m,\u001b[0m\u001b[1;36m0\u001b[0m\u001b[1;33m,\u001b[0m\u001b[1;36m0\u001b[0m\u001b[1;33m,\u001b[0m\u001b[1;36m0\u001b[0m\u001b[1;33m,\u001b[0m\u001b[1;36m0\u001b[0m\u001b[1;33m,\u001b[0m\u001b[1;36m0\u001b[0m\u001b[1;33m,\u001b[0m\u001b[1;36m0\u001b[0m\u001b[1;33m,\u001b[0m\u001b[1;36m0\u001b[0m\u001b[1;33m]\u001b[0m\u001b[1;33m)\u001b[0m\u001b[1;33m\u001b[0m\u001b[1;33m\u001b[0m\u001b[0m\n\u001b[1;32m----> 7\u001b[1;33m     \u001b[0msimulation\u001b[0m\u001b[1;33m=\u001b[0m\u001b[0modeint\u001b[0m\u001b[1;33m(\u001b[0m\u001b[0mequa_diff\u001b[0m\u001b[1;33m,\u001b[0m\u001b[0msyst_CI\u001b[0m\u001b[1;33m,\u001b[0m\u001b[0mconstants\u001b[0m\u001b[1;33m[\u001b[0m\u001b[1;33m-\u001b[0m\u001b[1;36m2\u001b[0m\u001b[1;33m]\u001b[0m\u001b[1;33m,\u001b[0m\u001b[0margs\u001b[0m \u001b[1;33m=\u001b[0m \u001b[1;33m(\u001b[0m\u001b[0mvariables\u001b[0m\u001b[1;33m,\u001b[0m\u001b[0mconstants\u001b[0m\u001b[1;33m)\u001b[0m\u001b[1;33m)\u001b[0m\u001b[1;33m[\u001b[0m\u001b[1;33m:\u001b[0m\u001b[1;33m:\u001b[0m\u001b[1;36m10\u001b[0m\u001b[1;33m]\u001b[0m\u001b[1;33m\u001b[0m\u001b[1;33m\u001b[0m\u001b[0m\n\u001b[0m\u001b[0;32m      8\u001b[0m \u001b[1;33m\u001b[0m\u001b[0m\n\u001b[0;32m      9\u001b[0m     \u001b[0mDR\u001b[0m \u001b[1;33m=\u001b[0m \u001b[1;33m(\u001b[0m\u001b[1;33m(\u001b[0m\u001b[0msimulation\u001b[0m\u001b[1;33m[\u001b[0m\u001b[0mn_DR\u001b[0m\u001b[1;33m:\u001b[0m\u001b[1;33m,\u001b[0m\u001b[1;33m-\u001b[0m\u001b[1;36m1\u001b[0m\u001b[1;33m]\u001b[0m\u001b[1;33m-\u001b[0m\u001b[0mcontamination\u001b[0m\u001b[1;33m[\u001b[0m\u001b[1;34m'detecte'\u001b[0m\u001b[1;33m]\u001b[0m\u001b[1;33m.\u001b[0m\u001b[0mto_numpy\u001b[0m\u001b[1;33m(\u001b[0m\u001b[1;33m)\u001b[0m\u001b[1;33m)\u001b[0m\u001b[1;33m/\u001b[0m\u001b[0mnp\u001b[0m\u001b[1;33m.\u001b[0m\u001b[0msqrt\u001b[0m\u001b[1;33m(\u001b[0m\u001b[0msimulation\u001b[0m\u001b[1;33m[\u001b[0m\u001b[0mn_DR\u001b[0m\u001b[1;33m:\u001b[0m\u001b[1;33m,\u001b[0m\u001b[1;33m-\u001b[0m\u001b[1;36m1\u001b[0m\u001b[1;33m]\u001b[0m\u001b[1;33m)\u001b[0m\u001b[1;33m/\u001b[0m\u001b[0msigmas\u001b[0m\u001b[1;33m[\u001b[0m\u001b[1;36m0\u001b[0m\u001b[1;33m]\u001b[0m\u001b[1;33m)\u001b[0m\u001b[1;33m**\u001b[0m\u001b[1;36m2\u001b[0m\u001b[1;33m\u001b[0m\u001b[1;33m\u001b[0m\u001b[0m\n",
      "\u001b[1;32mc:\\users\\swann\\.virtualenvs\\cours-kd0f9zyv\\lib\\site-packages\\scipy\\integrate\\odepack.py\u001b[0m in \u001b[0;36modeint\u001b[1;34m(func, y0, t, args, Dfun, col_deriv, full_output, ml, mu, rtol, atol, tcrit, h0, hmax, hmin, ixpr, mxstep, mxhnil, mxordn, mxords, printmessg, tfirst)\u001b[0m\n\u001b[0;32m    239\u001b[0m     \u001b[0mt\u001b[0m \u001b[1;33m=\u001b[0m \u001b[0mcopy\u001b[0m\u001b[1;33m(\u001b[0m\u001b[0mt\u001b[0m\u001b[1;33m)\u001b[0m\u001b[1;33m\u001b[0m\u001b[1;33m\u001b[0m\u001b[0m\n\u001b[0;32m    240\u001b[0m     \u001b[0my0\u001b[0m \u001b[1;33m=\u001b[0m \u001b[0mcopy\u001b[0m\u001b[1;33m(\u001b[0m\u001b[0my0\u001b[0m\u001b[1;33m)\u001b[0m\u001b[1;33m\u001b[0m\u001b[1;33m\u001b[0m\u001b[0m\n\u001b[1;32m--> 241\u001b[1;33m     output = _odepack.odeint(func, y0, t, args, Dfun, col_deriv, ml, mu,\n\u001b[0m\u001b[0;32m    242\u001b[0m                              \u001b[0mfull_output\u001b[0m\u001b[1;33m,\u001b[0m \u001b[0mrtol\u001b[0m\u001b[1;33m,\u001b[0m \u001b[0matol\u001b[0m\u001b[1;33m,\u001b[0m \u001b[0mtcrit\u001b[0m\u001b[1;33m,\u001b[0m \u001b[0mh0\u001b[0m\u001b[1;33m,\u001b[0m \u001b[0mhmax\u001b[0m\u001b[1;33m,\u001b[0m \u001b[0mhmin\u001b[0m\u001b[1;33m,\u001b[0m\u001b[1;33m\u001b[0m\u001b[1;33m\u001b[0m\u001b[0m\n\u001b[0;32m    243\u001b[0m                              \u001b[0mixpr\u001b[0m\u001b[1;33m,\u001b[0m \u001b[0mmxstep\u001b[0m\u001b[1;33m,\u001b[0m \u001b[0mmxhnil\u001b[0m\u001b[1;33m,\u001b[0m \u001b[0mmxordn\u001b[0m\u001b[1;33m,\u001b[0m \u001b[0mmxords\u001b[0m\u001b[1;33m,\u001b[0m\u001b[1;33m\u001b[0m\u001b[1;33m\u001b[0m\u001b[0m\n",
      "\u001b[1;32m<ipython-input-2-217ff2cff488>\u001b[0m in \u001b[0;36mequa_diff\u001b[1;34m(syst, temps, variables, constants)\u001b[0m\n\u001b[0;32m     25\u001b[0m     \u001b[1;31m#i = time.index(temps)\u001b[0m\u001b[1;33m\u001b[0m\u001b[1;33m\u001b[0m\u001b[1;33m\u001b[0m\u001b[0m\n\u001b[0;32m     26\u001b[0m \u001b[1;33m\u001b[0m\u001b[0m\n\u001b[1;32m---> 27\u001b[1;33m     \u001b[1;32mif\u001b[0m \u001b[0mtype\u001b[0m\u001b[1;33m(\u001b[0m\u001b[0mvariables\u001b[0m\u001b[1;33m)\u001b[0m\u001b[1;33m!=\u001b[0m \u001b[0mdict\u001b[0m\u001b[1;33m:\u001b[0m\u001b[1;33m\u001b[0m\u001b[1;33m\u001b[0m\u001b[0m\n\u001b[0m\u001b[0;32m     28\u001b[0m         \u001b[0mvariables\u001b[0m \u001b[1;33m=\u001b[0m \u001b[0mdict\u001b[0m\u001b[1;33m(\u001b[0m\u001b[0mzip\u001b[0m\u001b[1;33m(\u001b[0m\u001b[0mvariables_keys\u001b[0m\u001b[1;33m,\u001b[0m\u001b[0mvariables\u001b[0m\u001b[1;33m)\u001b[0m\u001b[1;33m)\u001b[0m\u001b[1;33m\u001b[0m\u001b[1;33m\u001b[0m\u001b[0m\n\u001b[0;32m     29\u001b[0m         \u001b[0mconstants\u001b[0m \u001b[1;33m=\u001b[0m \u001b[0mdict\u001b[0m\u001b[1;33m(\u001b[0m\u001b[0mzip\u001b[0m\u001b[1;33m(\u001b[0m\u001b[0mconstants_keys\u001b[0m\u001b[1;33m,\u001b[0m \u001b[0mconstants\u001b[0m\u001b[1;33m)\u001b[0m\u001b[1;33m)\u001b[0m\u001b[1;33m\u001b[0m\u001b[1;33m\u001b[0m\u001b[0m\n",
      "\u001b[1;31mKeyboardInterrupt\u001b[0m: "
     ]
    }
   ],
   "source": [
    "from scipy.stats import lognorm\n",
    "from scipy.stats import norm\n",
    "from scipy.stats import uniform\n",
    "np.random.seed(4)\n",
    "def not_accepted_move(X_):\n",
    "    \n",
    "    variables = dict(zip(variables_keys,X_))\n",
    "    for key,value in variables.items():\n",
    "        if key in ['p_a','p_IH','p_IU','p_HD','p_HU','p_UD'] and not 0<=value<=1 :\n",
    "            print(key,'first')\n",
    "            return True \n",
    "        if key in ['N_I','N_H','N_U','R_0','mu','N','t_0','I_moins_0','lambda_1'] and value < 0 :\n",
    "            print(key,'second')\n",
    "            return True\n",
    "        if key == 'I_moins_0' and value < 1 : \n",
    "            print(key,'third')\n",
    "            print(value)\n",
    "            return True\n",
    "    \n",
    "    return False\n",
    "        \n",
    "    \n",
    "\n",
    "def move(X,F_current_parameters):\n",
    "    \"\"\"\n",
    "    Generate a possible movement for our scale\n",
    "    \"\"\"\n",
    "    variables = dict(zip(variables_keys,X))\n",
    "    X_ = []\n",
    "    for key,values in variables.items() :\n",
    "        f = F[key]\n",
    "        if f == 'lognorm':\n",
    "            x_ = lognorm.rvs(s = F_current_parameters[key]['s'], scale = values)\n",
    "        if f == 'norm'   : \n",
    "            x_ = norm.rvs(loc = values, scale = F_current_parameters[key]['scale'] )\n",
    "        if f == 'uniform' : \n",
    "            \n",
    "            if F_parameters[key]['constraint']=='one':\n",
    "                if values-F_current_parameters[key]['scale']/2 < F_parameters[key]['low'] :\n",
    "                    F_current_parameters[key]['scale'] = 2*(values-F_parameters[key]['low'])\n",
    "                    \n",
    "            if F_parameters[key]['constraint']=='two':\n",
    "                if values-F_current_parameters[key]['scale']/2 < F_parameters[key]['low'] or values+F_current_parameters[key]['scale']/2 > F_parameters[key]['high']:\n",
    "                    F_current_parameters[key]['scale'] = min(2*(values-F_parameters[key]['low']),2*(F_parameters[key]['high']-values))\n",
    "                    print('two',min(2*(values-F_parameters[key]['low']),2*(F_parameters[key]['high']-values)))\n",
    "            x_ = uniform.rvs(loc = values - F_current_parameters[key]['scale']/2, scale = F_current_parameters[key]['scale'])\n",
    "            \n",
    "        if f == 'beta' :\n",
    "            x_ = beta.rvs(loc = F_current_parameters[key]['loc'], scale = F_current_parameters[key]['scale'], a = 5, b = 5)\n",
    "        X_.append(x_)\n",
    "    return X_\n",
    "\n",
    "\n",
    "def Q(X,X_):\n",
    "    \"\"\"\n",
    "    Give the propability of the transition\n",
    "    \"\"\"\n",
    "    probs = []\n",
    "    \n",
    "    variables  = dict(zip(variables_keys,X))\n",
    "    variables_ = dict(zip(variables_keys,X_))  \n",
    "    for key in variables_keys : \n",
    "        f = F[key]\n",
    "        if f == 'lognorm':\n",
    "            prob = lognorm.pdf(variables[key], s = variables_[key], scale = F_current_parameters[key]['scale'])\n",
    "        if f == 'norm'   : \n",
    "            prob = norm.pdf(variables[key], loc = variables_[key], scale = F_current_parameters[key]['scale'])\n",
    "        if f == 'uniform':\n",
    "            prob = uniform.pdf(variables[key], loc = variables_[key] - F_current_parameters[key]['scale']/2 ,scale = F_current_parameters[key]['scale'] )\n",
    "        if f == 'beta' : \n",
    "            prob = beta.pdf(variables[key], loc = variables_[key], scale = F_current_parameters[key]['scale'], a = 5 , b = 5)\n",
    "        \n",
    "        probs.append(prob)\n",
    "\n",
    "        \n",
    "    probs = np.array(probs)\n",
    "    \n",
    "    return np.prod(probs)\n",
    "\n",
    "def a_plug_in(X,X_,sigmas):\n",
    "    \"\"\"\n",
    "    Given a former position X and a new position X_, return the new position\n",
    "    \"\"\"\n",
    "    if not_accepted_move(X_):\n",
    "        print('rejected')\n",
    "        return 0\n",
    "    ratio = plug_in(X_,sigmas)*Q(X,X_)/(plug_in(X,sigmas)*Q(X_,X))\n",
    "    minimum = min(ratio,1)\n",
    "   \n",
    "    U     = np.random.uniform()\n",
    "    if U> minimum : \n",
    "        return 0\n",
    "    else :\n",
    "        return 1\n",
    "    \n",
    "def Metropolis_Hasting_plug_in(X,F_parameters,n= 100000):\n",
    "    \"\"\"\n",
    "    Given a random point X, we return a sample of Metroplis Hasting of size n. \n",
    "    \"\"\"\n",
    "    \n",
    "    X = (list(X.values()))\n",
    "    chain = [X]\n",
    "    \n",
    "    burn_in = n//10\n",
    "    burn_in_period = burn_in//100\n",
    "    \n",
    "    acceptation_history = np.zeros(burn_in_period)\n",
    "    sigmas = compute_sigmas()\n",
    "    pbar   = ProgressBar()\n",
    "    for i in pbar(range(n)):\n",
    "        X  = chain[-1]\n",
    "        X_ = move(X,F_parameters)\n",
    "        test = a_plug_in(X,X_,sigmas)\n",
    "        if test == 1 :             \n",
    "            chain.append(X_)\n",
    "        acceptation_history[i%burn_in_period] = test\n",
    "        \n",
    "        if i % burn_in_period == 0 and 1< i < burn_in :\n",
    "            rate = np.mean(acceptation_history)\n",
    "            if rate < 0.25 : \n",
    "                update_F('down')\n",
    "                print('down',rate)\n",
    "            if rate > 0.50 : \n",
    "                update_F('up')\n",
    "                print('up',rate)\n",
    "            acceptation_history = np.zeros(burn_in_period)\n",
    "        if i == burn_in :\n",
    "            break\n",
    "    for X in chain : \n",
    "        print(dict(zip(variables_keys,X)))\n",
    "    \n",
    "    return 'youpi'\n",
    "\n",
    "def update_F(variation,F = F, F_parameters = F_parameters):\n",
    "    \n",
    "    for key in F_parameters.keys() : \n",
    "        if F[key] == 'lognormal':\n",
    "            if variation == 'up' : \n",
    "                F_parameters[key]['s']*= 1.1\n",
    "            if variation == 'down' :\n",
    "                F_parameters[key]['s']*= 0.9\n",
    "        if F[key] == 'norm':\n",
    "            if variation == 'up':\n",
    "                F_parameters[key]['scale']*= 1.1\n",
    "            if variation == 'down':\n",
    "                F_parameters[key]['scale']*= 0.9\n",
    "        if F[key] == 'uniform':\n",
    "            if variation == 'up':\n",
    "                F_parameters[key]['scale']*= 1.1\n",
    "            if variation == 'down':\n",
    "                F_parameters[key]['scale']*= 0.9\n",
    "        if F[key] == 'beta':\n",
    "            if variation == 'up':\n",
    "                F_parameters[key]['scale']*= 1.1\n",
    "            if variation == 'down':\n",
    "                F_parameters[key]['scale']*= 0.9\n",
    "        \n",
    "            \n",
    "    \n",
    "\n",
    "def plug_in(X,sigmas):\n",
    "    \n",
    "    \"\"\"\n",
    "    Given the set of best variables, return the plug in probability according to the data.\n",
    "    \"\"\"\n",
    "    variables = dict(zip(variables_keys,X))\n",
    "    constants = compute_constants(variables)\n",
    "   \n",
    "    constants = list(constants.values())\n",
    "    result =  np.log((2*np.pi))*(-n_DR/2-2*n_H)+np.log(sigmas[0])*(-n_DR)+np.log((np.prod(sigmas[1:])))*(-n_H)+(-0.5*Epsilon(X,constants,sigmas = sigmas))\n",
    "    \n",
    "    return np.exp(result)\n",
    "\n",
    "def compute_sigmas(best_variables = best_variables,n_DR=n_DR,n_H=n_H,contamination = contamination,big_table=big_table):\n",
    "    \n",
    "    constants  = compute_constants(best_variables)\n",
    "    syst_CI    = array([global_constants['S_0'],best_variables['I_moins_0'],0,0,0,0,0,0,0,0])\n",
    "    simulation = odeint(equa_diff,syst_CI,constants['t'], args = (best_variables,constants))[::10]\n",
    "    \n",
    "    sigma_DR = np.sqrt(np.mean(((simulation[n_DR:,-1]-contamination['detecte'].to_numpy())/np.sqrt(simulation[n_DR:,-1]))**2))\n",
    "    \n",
    "    sigma_H  = np.sqrt(np.mean(((simulation[n_H:,5]-big_table['hosp'].to_numpy())/np.sqrt(simulation[n_H:,5]))**2))\n",
    "    sigma_U  = np.sqrt(np.mean(((simulation[n_H:,6]-big_table['rea'].to_numpy())/np.sqrt(simulation[n_H:,6]))**2))\n",
    "    sigma_D  = np.sqrt(np.mean(((simulation[n_H:,8]-big_table['dc'].to_numpy())/np.sqrt(simulation[n_H:,8]))**2))\n",
    "    sigma_R  = np.sqrt(np.mean(((simulation[n_H:,7]-big_table['rad'].to_numpy())/np.sqrt(simulation[n_H:,7]))**2))\n",
    "    \n",
    "    sigmas = [sigma_DR,sigma_H,sigma_U,sigma_D,sigma_R]\n",
    "    return sigmas\n",
    "\n",
    "variables = init_variables(T_MAX = 66)\n",
    "\n",
    "Metropolis_Hasting_plug_in(variables, F_parameters)\n",
    "    "
   ]
  },
  {
   "cell_type": "code",
   "execution_count": null,
   "metadata": {},
   "outputs": [],
   "source": [
    "from scipy.stats import lognorm\n",
    "from scipy.stats import uniform\n",
    "from scipy.stats import beta"
   ]
  },
  {
   "cell_type": "code",
   "execution_count": 91,
   "metadata": {},
   "outputs": [
    {
     "data": {
      "text/plain": [
       "[<matplotlib.lines.Line2D at 0x257791a7f40>]"
      ]
     },
     "execution_count": 91,
     "metadata": {},
     "output_type": "execute_result"
    },
    {
     "data": {
      "image/png": "[encoded data removed]",
      "text/plain": [
       "<Figure size 432x288 with 1 Axes>"
      ]
     },
     "metadata": {
      "needs_background": "light"
     },
     "output_type": "display_data"
    }
   ],
   "source": [
    "X = np.arange(0,1,0.001)\n",
    "Y = beta.pdf(X,loc = 0.5 ,scale = 0.1, a = 5, b = 5)\n",
    "plt.plot(X,Y)"
   ]
  },
  {
   "cell_type": "code",
   "execution_count": null,
   "metadata": {},
   "outputs": [],
   "source": []
  },
  {
   "cell_type": "code",
   "execution_count": 17,
   "metadata": {},
   "outputs": [
    {
     "ename": "TypeError",
     "evalue": "'>' not supported between instances of 'numpy.ndarray' and 'int'",
     "output_type": "error",
     "traceback": [
      "\u001b[1;31m---------------------------------------------------------------------------\u001b[0m",
      "\u001b[1;31mTypeError\u001b[0m                                 Traceback (most recent call last)",
      "\u001b[1;32m<ipython-input-17-78e383c61bb5>\u001b[0m in \u001b[0;36m<module>\u001b[1;34m\u001b[0m\n\u001b[1;32m----> 1\u001b[1;33m \u001b[0mlognorm\u001b[0m\u001b[1;33m.\u001b[0m\u001b[0mpdf\u001b[0m\u001b[1;33m(\u001b[0m\u001b[0mX\u001b[0m\u001b[1;33m,\u001b[0m\u001b[0mlist\u001b[0m\u001b[1;33m(\u001b[0m\u001b[1;33m{\u001b[0m\u001b[1;34m'scale'\u001b[0m\u001b[1;33m:\u001b[0m\u001b[1;36m0.65\u001b[0m\u001b[1;33m,\u001b[0m\u001b[1;34m's'\u001b[0m\u001b[1;33m:\u001b[0m\u001b[1;36m0.25\u001b[0m\u001b[1;33m/\u001b[0m\u001b[1;36m3\u001b[0m\u001b[1;33m}\u001b[0m\u001b[1;33m)\u001b[0m\u001b[1;33m)\u001b[0m\u001b[1;33m\u001b[0m\u001b[1;33m\u001b[0m\u001b[0m\n\u001b[0m",
      "\u001b[1;32mc:\\users\\swann\\.virtualenvs\\cours-kd0f9zyv\\lib\\site-packages\\scipy\\stats\\_distn_infrastructure.py\u001b[0m in \u001b[0;36mpdf\u001b[1;34m(self, x, *args, **kwds)\u001b[0m\n\u001b[0;32m   1759\u001b[0m         \u001b[0mdtyp\u001b[0m \u001b[1;33m=\u001b[0m \u001b[0mnp\u001b[0m\u001b[1;33m.\u001b[0m\u001b[0mfind_common_type\u001b[0m\u001b[1;33m(\u001b[0m\u001b[1;33m[\u001b[0m\u001b[0mx\u001b[0m\u001b[1;33m.\u001b[0m\u001b[0mdtype\u001b[0m\u001b[1;33m,\u001b[0m \u001b[0mnp\u001b[0m\u001b[1;33m.\u001b[0m\u001b[0mfloat64\u001b[0m\u001b[1;33m]\u001b[0m\u001b[1;33m,\u001b[0m \u001b[1;33m[\u001b[0m\u001b[1;33m]\u001b[0m\u001b[1;33m)\u001b[0m\u001b[1;33m\u001b[0m\u001b[1;33m\u001b[0m\u001b[0m\n\u001b[0;32m   1760\u001b[0m         \u001b[0mx\u001b[0m \u001b[1;33m=\u001b[0m \u001b[0mnp\u001b[0m\u001b[1;33m.\u001b[0m\u001b[0masarray\u001b[0m\u001b[1;33m(\u001b[0m\u001b[1;33m(\u001b[0m\u001b[0mx\u001b[0m \u001b[1;33m-\u001b[0m \u001b[0mloc\u001b[0m\u001b[1;33m)\u001b[0m\u001b[1;33m/\u001b[0m\u001b[0mscale\u001b[0m\u001b[1;33m,\u001b[0m \u001b[0mdtype\u001b[0m\u001b[1;33m=\u001b[0m\u001b[0mdtyp\u001b[0m\u001b[1;33m)\u001b[0m\u001b[1;33m\u001b[0m\u001b[1;33m\u001b[0m\u001b[0m\n\u001b[1;32m-> 1761\u001b[1;33m         \u001b[0mcond0\u001b[0m \u001b[1;33m=\u001b[0m \u001b[0mself\u001b[0m\u001b[1;33m.\u001b[0m\u001b[0m_argcheck\u001b[0m\u001b[1;33m(\u001b[0m\u001b[1;33m*\u001b[0m\u001b[0margs\u001b[0m\u001b[1;33m)\u001b[0m \u001b[1;33m&\u001b[0m \u001b[1;33m(\u001b[0m\u001b[0mscale\u001b[0m \u001b[1;33m>\u001b[0m \u001b[1;36m0\u001b[0m\u001b[1;33m)\u001b[0m\u001b[1;33m\u001b[0m\u001b[1;33m\u001b[0m\u001b[0m\n\u001b[0m\u001b[0;32m   1762\u001b[0m         \u001b[0mcond1\u001b[0m \u001b[1;33m=\u001b[0m \u001b[0mself\u001b[0m\u001b[1;33m.\u001b[0m\u001b[0m_support_mask\u001b[0m\u001b[1;33m(\u001b[0m\u001b[0mx\u001b[0m\u001b[1;33m,\u001b[0m \u001b[1;33m*\u001b[0m\u001b[0margs\u001b[0m\u001b[1;33m)\u001b[0m \u001b[1;33m&\u001b[0m \u001b[1;33m(\u001b[0m\u001b[0mscale\u001b[0m \u001b[1;33m>\u001b[0m \u001b[1;36m0\u001b[0m\u001b[1;33m)\u001b[0m\u001b[1;33m\u001b[0m\u001b[1;33m\u001b[0m\u001b[0m\n\u001b[0;32m   1763\u001b[0m         \u001b[0mcond\u001b[0m \u001b[1;33m=\u001b[0m \u001b[0mcond0\u001b[0m \u001b[1;33m&\u001b[0m \u001b[0mcond1\u001b[0m\u001b[1;33m\u001b[0m\u001b[1;33m\u001b[0m\u001b[0m\n",
      "\u001b[1;32mc:\\users\\swann\\.virtualenvs\\cours-kd0f9zyv\\lib\\site-packages\\scipy\\stats\\_distn_infrastructure.py\u001b[0m in \u001b[0;36m_argcheck\u001b[1;34m(self, *args)\u001b[0m\n\u001b[0;32m    879\u001b[0m         \u001b[0mcond\u001b[0m \u001b[1;33m=\u001b[0m \u001b[1;36m1\u001b[0m\u001b[1;33m\u001b[0m\u001b[1;33m\u001b[0m\u001b[0m\n\u001b[0;32m    880\u001b[0m         \u001b[1;32mfor\u001b[0m \u001b[0marg\u001b[0m \u001b[1;32min\u001b[0m \u001b[0margs\u001b[0m\u001b[1;33m:\u001b[0m\u001b[1;33m\u001b[0m\u001b[1;33m\u001b[0m\u001b[0m\n\u001b[1;32m--> 881\u001b[1;33m             \u001b[0mcond\u001b[0m \u001b[1;33m=\u001b[0m \u001b[0mlogical_and\u001b[0m\u001b[1;33m(\u001b[0m\u001b[0mcond\u001b[0m\u001b[1;33m,\u001b[0m \u001b[1;33m(\u001b[0m\u001b[0masarray\u001b[0m\u001b[1;33m(\u001b[0m\u001b[0marg\u001b[0m\u001b[1;33m)\u001b[0m \u001b[1;33m>\u001b[0m \u001b[1;36m0\u001b[0m\u001b[1;33m)\u001b[0m\u001b[1;33m)\u001b[0m\u001b[1;33m\u001b[0m\u001b[1;33m\u001b[0m\u001b[0m\n\u001b[0m\u001b[0;32m    882\u001b[0m         \u001b[1;32mreturn\u001b[0m \u001b[0mcond\u001b[0m\u001b[1;33m\u001b[0m\u001b[1;33m\u001b[0m\u001b[0m\n\u001b[0;32m    883\u001b[0m \u001b[1;33m\u001b[0m\u001b[0m\n",
      "\u001b[1;31mTypeError\u001b[0m: '>' not supported between instances of 'numpy.ndarray' and 'int'"
     ]
    }
   ],
   "source": []
  },
  {
   "cell_type": "code",
   "execution_count": 92,
   "metadata": {},
   "outputs": [
    {
     "data": {
      "text/plain": [
       "True"
      ]
     },
     "execution_count": 92,
     "metadata": {},
     "output_type": "execute_result"
    }
   ],
   "source": [
    "lognorm == lognorm"
   ]
  },
  {
   "cell_type": "code",
   "execution_count": null,
   "metadata": {},
   "outputs": [],
   "source": []
  }
 ],
 "metadata": {
  "kernelspec": {
   "display_name": "Python 3",
   "language": "python",
   "name": "python3"
  },
  "language_info": {
   "codemirror_mode": {
    "name": "ipython",
    "version": 3
   },
   "file_extension": ".py",
   "mimetype": "text/x-python",
   "name": "python",
   "nbconvert_exporter": "python",
   "pygments_lexer": "ipython3",
   "version": "3.8.5"
  }
 },
 "nbformat": 4,
 "nbformat_minor": 4
}
