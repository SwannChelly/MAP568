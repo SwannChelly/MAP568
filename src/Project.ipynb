{
 "cells": [
  {
   "cell_type": "markdown",
   "metadata": {},
   "source": [
    "# MAP 568 Project"
   ]
  },
  {
   "cell_type": "markdown",
   "metadata": {},
   "source": [
    "Maxime Vincent & Swann Chelly"
   ]
  },
  {
   "cell_type": "code",
   "execution_count": 1,
   "metadata": {},
   "outputs": [],
   "source": [
    "import numpy as np\n",
    "\n",
    "from constant import *\n",
    "from scipy import *\n",
    "from pylab import *     \n",
    "from scipy.integrate import odeint # Module de résolution des équations différentielles\n",
    "import plotly as po\n",
    "from progressbar import ProgressBar\n",
    "import matplotlib.pyplot as plt"
   ]
  },
  {
   "cell_type": "markdown",
   "metadata": {},
   "source": [
    "## Incertitudes en sortie\n",
    "\n",
    "1) **Programmer la résolution du système (1-10).**\n",
    "\n",
    "Dans le fichier constant nous définissons l'ensemble des constantes. La fonction `init_constant` de ce fichier renvoie un dictionnaire généré aléatoirement de constantes. "
   ]
  },
  {
   "cell_type": "code",
   "execution_count": 2,
   "metadata": {},
   "outputs": [],
   "source": [
    "## Résolution de l'équation différentielle. \n",
    "\n",
    "def equa_diff(syst,temps):\n",
    "    \n",
    "    \"\"\"\n",
    "    La résolution du système d'équation différentiel (1-10) se fait grace au module odeint de scipy.integrate.\n",
    "    \n",
    "    Paramètres :\n",
    "    ------------\n",
    "    \n",
    "    syst : \n",
    "    \n",
    "    temps : \n",
    "    \n",
    "    Sorties : \n",
    "    ---------\n",
    "    Ensemble des paramètres du système différentiel. \n",
    "    \n",
    "    \"\"\"\n",
    "    #temps = round(temps,1)\n",
    "    #if temps == 50:\n",
    "    #    temps = 50.1\n",
    "    #elif temps > 100.:\n",
    "    #    temps = 100.\n",
    "    #i = time.index(temps)\n",
    "    tau = cst['tau_0']*np.exp(-cst['mu']*max(temps-(cst['N']-cst['t_0']),0))\n",
    "    S = syst[0] \n",
    "    I_moins = syst[1] \n",
    "    I_plus = syst[2] \n",
    "    R_moins = syst[3] \n",
    "    R_plus_I = syst[4] \n",
    "    H = syst[5] \n",
    "    U = syst[6] \n",
    "    R_plus_H = syst[7] \n",
    "    D = syst[8] \n",
    "    D_R = syst[9]\n",
    "    # Dérivées des variables\n",
    "    DS = -tau*S*I_moins\n",
    "    DI_moins = tau*S*I_moins-cst['lambda_1']*I_moins-(cst['gamma_IR']+cst['gamma_IH']+cst['gamma_IU'])*I_moins\n",
    "    DI_plus = cst['lambda_1']*I_moins-(cst['gamma_IR']+cst['gamma_IH']+cst['gamma_IU'])*I_plus\n",
    "    DR_moins = cst['gamma_IR']*I_moins-cst['lambda_2']*R_moins\n",
    "    DR_plus_I = cst['gamma_IR']*I_plus+cst['lambda_2']*R_moins\n",
    "    DH = cst['gamma_IH']*(I_moins + I_plus)-(cst['gamma_HR']+cst['gamma_HD']+cst['gamma_HU'])*H\n",
    "    DU = cst['gamma_IU']*(I_moins + I_plus)+cst['gamma_HU']*H-(cst['gamma_UR'] + cst['gamma_UD'])*U\n",
    "    DR_plus_H = cst['gamma_HR']*H+cst['gamma_UR']*U\n",
    "    DD = cst['gamma_UD']*U+cst['gamma_HD']*H  \n",
    "    DD_R = (cst['lambda_1']+cst['gamma_IH']+cst['gamma_IU'])*I_moins-D_R\n",
    "    \n",
    "    \n",
    "    return(DS,DI_moins,DI_plus,DR_moins,DR_plus_I,DH,DU,DR_plus_H,DD,DD_R)\n"
   ]
  },
  {
   "cell_type": "code",
   "execution_count": 3,
   "metadata": {},
   "outputs": [
    {
     "data": {
      "text/plain": [
       "Text(0, 0.5, 'Nombre de personne en réanimation')"
      ]
     },
     "execution_count": 3,
     "metadata": {},
     "output_type": "execute_result"
    },
    {
     "data": {
      "image/png": "[encoded data removed]",
      "text/plain": [
       "<Figure size 432x288 with 1 Axes>"
      ]
     },
     "metadata": {
      "needs_background": "light"
     },
     "output_type": "display_data"
    }
   ],
   "source": [
    "# Analyse des résultats\n",
    "\n",
    "cst = init_constant()\n",
    "syst_CI=array([cst['S_0'],cst['I_moins_0'],0,0,0,0,0,0,0,0])\n",
    "simulation=odeint(equa_diff,syst_CI,t)\n",
    "plt.plot(simulation[:,6])\n",
    "plt.title(f\"Evolution du nombre de personne en réanimation sur {T_MAX} jours\")\n",
    "plt.xlabel(f\"Temps en {deltaT} jour\")\n",
    "plt.ylabel(\"Nombre de personne en réanimation\")\n",
    "\n",
    "\n"
   ]
  },
  {
   "cell_type": "markdown",
   "metadata": {},
   "source": [
    "2) **Par échantillonnage Monte Carlo (en utilisant les lois des paramètres d'entrée de la table 1), donner :**\n",
    "- la loi du nombre maximal de patients présents en soins intensifs (histogramme, moyenne, quantiles à 10% et 90%),\n",
    "- la loi de la date du pic de l'épidémie."
   ]
  },
  {
   "cell_type": "code",
   "execution_count": 4,
   "metadata": {},
   "outputs": [
    {
     "name": "stderr",
     "output_type": "stream",
     "text": [
      "  0% |                                                                        |\r"
     ]
    },
    {
     "name": "stdout",
     "output_type": "stream",
     "text": [
      "Echantillonnage de Monte Carlo sur 10000 simulation\n"
     ]
    },
    {
     "name": "stderr",
     "output_type": "stream",
     "text": [
      "100% |########################################################################|\n"
     ]
    }
   ],
   "source": [
    "## Implémentation de la méthode de Monte Carlo classique pour la résolution du système différentiel. \n",
    "\n",
    "M = 10000\n",
    "\n",
    "def Monte_Carlo(M):\n",
    "    \"\"\"\n",
    "    Echantillonage de Monte Carlo \n",
    "    \n",
    "    Paramètres : \n",
    "    ------------\n",
    "    \n",
    "    M : int, \n",
    "        Taille de l'échantillon. \n",
    "    \n",
    "    Sorties : \n",
    "    ---------\n",
    "    peak_value  : list,\n",
    "        Nombre de cas en réanimation au pic de l'épidémie pour chaque simulation.\n",
    "    peak_day    : list, \n",
    "        Jour du pic pour chaque simulation.\n",
    "    pos         : list, \n",
    "        Nombre de cas au pic de l'épidémie pour chaque simulation.\n",
    "    \n",
    "    \"\"\"\n",
    "    \n",
    "    print(f\"Echantillonnage de Monte Carlo sur 10000 simulation\")\n",
    "    peak_value,peak_day, pos = [],[], []\n",
    "    pbar = ProgressBar()\n",
    "    for i in pbar(range(M)):\n",
    "        cst = init_constant()\n",
    "        syst_CI=array([cst['S_0'],cst['I_moins_0'],0,0,0,0,0,0,0,0]) \n",
    "        simulation=odeint(equa_diff,syst_CI,t)           \n",
    "        peak_value.append(np.max(simulation[:,6]))\n",
    "        peak_day.append(int(np.argmax(list(simulation[:,6]))*deltaT))\n",
    "        pos.append(np.max(simulation[:,1]))\n",
    "        \n",
    "    return (peak_value,peak_day,pos)\n",
    "\n",
    "peak_value,peak_day,pos = Monte_Carlo(M)\n"
   ]
  },
  {
   "cell_type": "code",
   "execution_count": 11,
   "metadata": {},
   "outputs": [
    {
     "name": "stdout",
     "output_type": "stream",
     "text": [
      "La valeur moyenne du pic est de 3502.82 et appartient à l'intervalle de confiance à 95% suivant : [3103.95,3901.7] \n",
      " Le quantile à 10% du pic de réanimation est : 0.7837154822556396\n",
      " Le quantile à 90% du pic de réanimation est : 2842.5791446469875\n"
     ]
    },
    {
     "data": {
      "image/png": "[encoded data removed]",
      "text/plain": [
       "<Figure size 432x288 with 2 Axes>"
      ]
     },
     "metadata": {
      "needs_background": "light"
     },
     "output_type": "display_data"
    }
   ],
   "source": [
    "mean_value = np.mean(peak_value)\n",
    "var_value  = np.var(peak_value)\n",
    "q_10 = np.quantile(peak_value, 0.1, axis = None)\n",
    "q_70 = np.quantile(peak_value, 0.7, axis = None)\n",
    "q_90 = np.quantile(peak_value, 0.9, axis = None)\n",
    "print(f\"La valeur moyenne du pic est de {round(mean_value,2)} et appartient à l'intervalle de confiance à 95% suivant : [{max(0,round(mean_value-1.96*np.sqrt(var_value/M),2))},{round(mean_value+1.96*np.sqrt(var_value/M),2)}] \")\n",
    "print(f\" Le quantile à 10% du pic de réanimation est : {q_10}\")\n",
    "print(f\" Le quantile à 90% du pic de réanimation est : {q_90}\")\n",
    "\n",
    "# Compte tenu de la valeur du quantile à 90% nous tronquons donc la liste par soucis de visibilité. \n",
    "\n",
    "\n",
    "fig, axs = plt.subplots(2)\n",
    "fig.suptitle(f\"Distribution du nombre de personnes en réanimation sur un échantillon de taille {M}\")\n",
    "axs[0].hist([value for value in peak_value if value < q_90], bins = 100)\n",
    "axs[0].set_title('Quantile à 90 %')\n",
    "axs[1].hist([value for value in peak_value if value < q_70], bins = 100)\n",
    "axs[1].set_title('Quantile à 70 %')\n",
    "plt.subplots_adjust(hspace=0.5)"
   ]
  },
  {
   "cell_type": "markdown",
   "metadata": {},
   "source": [
    "En supposant que la distribution du nombre de cas en réanimation au pic de l'épidémie suis une loie exponentielle, nous pouvons donner son paramètre $\\lambda = \\frac{1}{\\mathbb{\\hat{E}}(X)}$ où $X$ correspond à la variable aléatoire liée au nombre de cas en réanimation au pic de l'épidémie. Nous la notrons ici `lbd`.\n"
   ]
  },
  {
   "cell_type": "code",
   "execution_count": 12,
   "metadata": {},
   "outputs": [
    {
     "name": "stdout",
     "output_type": "stream",
     "text": [
      "0.00028548404763550786\n"
     ]
    },
    {
     "data": {
      "text/plain": [
       "(array([3277.42907211, 3090.94097721, 2892.54938689, 2436.24872915,\n",
       "        2376.73125205, 2158.5005027 , 2055.33687573, 1995.81939864,\n",
       "        1535.55090909, 1626.81104064, 1301.44883251, 1273.67400986,\n",
       "        1055.44326051, 1011.79711064,  968.15096077,  801.5020249 ,\n",
       "         892.76215645,  753.88804322,  726.11322058,  634.85308903,\n",
       "         591.20693916,  519.78596664,  515.81813484,  452.33282593,\n",
       "         353.13703077,  357.10486258,  376.94402161,  337.26570355,\n",
       "         269.81256284,  261.87689922,  190.45592671,  230.13424477,\n",
       "         230.13424477,  138.87411323,  194.42375852,  142.84194503,\n",
       "         150.77760864,  162.68110406,  103.16362697,   79.35663613,\n",
       "         130.93844961,   99.19579516,   95.22796335,   75.38880432,\n",
       "          83.32446794,   83.32446794,   27.77482265,   59.5174771 ,\n",
       "          43.64614987,   35.71048626,   35.71048626,   27.77482265,\n",
       "          31.74265445,   23.80699084,   23.80699084,   27.77482265,\n",
       "          35.71048626,   23.80699084,    7.93566361,   15.87132723,\n",
       "          27.77482265,   27.77482265,    3.96783181,    3.96783181,\n",
       "           3.96783181,    0.        ,    7.93566361,    7.93566361,\n",
       "           7.93566361,    0.        ,    3.96783181,    3.96783181,\n",
       "           7.93566361,   11.90349542,    3.96783181,    0.        ,\n",
       "           3.96783181,    0.        ,    7.93566361,    0.        ,\n",
       "           0.        ,    0.        ,    0.        ,    0.        ,\n",
       "           3.96783181,    7.93566361,    7.93566361,    0.        ,\n",
       "           0.        ,    3.96783181,    0.        ,    0.        ,\n",
       "           3.96783181,    0.        ,    0.        ,    0.        ,\n",
       "           0.        ,    0.        ,    0.        ,    3.96783181]),\n",
       " array([9.55488801e-09, 2.52122361e-05, 5.04149173e-05, 7.56175984e-05,\n",
       "        1.00820280e-04, 1.26022961e-04, 1.51225642e-04, 1.76428323e-04,\n",
       "        2.01631004e-04, 2.26833686e-04, 2.52036367e-04, 2.77239048e-04,\n",
       "        3.02441729e-04, 3.27644410e-04, 3.52847091e-04, 3.78049773e-04,\n",
       "        4.03252454e-04, 4.28455135e-04, 4.53657816e-04, 4.78860497e-04,\n",
       "        5.04063179e-04, 5.29265860e-04, 5.54468541e-04, 5.79671222e-04,\n",
       "        6.04873903e-04, 6.30076584e-04, 6.55279266e-04, 6.80481947e-04,\n",
       "        7.05684628e-04, 7.30887309e-04, 7.56089990e-04, 7.81292672e-04,\n",
       "        8.06495353e-04, 8.31698034e-04, 8.56900715e-04, 8.82103396e-04,\n",
       "        9.07306077e-04, 9.32508759e-04, 9.57711440e-04, 9.82914121e-04,\n",
       "        1.00811680e-03, 1.03331948e-03, 1.05852216e-03, 1.08372485e-03,\n",
       "        1.10892753e-03, 1.13413021e-03, 1.15933289e-03, 1.18453557e-03,\n",
       "        1.20973825e-03, 1.23494093e-03, 1.26014361e-03, 1.28534630e-03,\n",
       "        1.31054898e-03, 1.33575166e-03, 1.36095434e-03, 1.38615702e-03,\n",
       "        1.41135970e-03, 1.43656238e-03, 1.46176506e-03, 1.48696774e-03,\n",
       "        1.51217043e-03, 1.53737311e-03, 1.56257579e-03, 1.58777847e-03,\n",
       "        1.61298115e-03, 1.63818383e-03, 1.66338651e-03, 1.68858919e-03,\n",
       "        1.71379188e-03, 1.73899456e-03, 1.76419724e-03, 1.78939992e-03,\n",
       "        1.81460260e-03, 1.83980528e-03, 1.86500796e-03, 1.89021064e-03,\n",
       "        1.91541332e-03, 1.94061601e-03, 1.96581869e-03, 1.99102137e-03,\n",
       "        2.01622405e-03, 2.04142673e-03, 2.06662941e-03, 2.09183209e-03,\n",
       "        2.11703477e-03, 2.14223746e-03, 2.16744014e-03, 2.19264282e-03,\n",
       "        2.21784550e-03, 2.24304818e-03, 2.26825086e-03, 2.29345354e-03,\n",
       "        2.31865622e-03, 2.34385890e-03, 2.36906159e-03, 2.39426427e-03,\n",
       "        2.41946695e-03, 2.44466963e-03, 2.46987231e-03, 2.49507499e-03,\n",
       "        2.52027767e-03]),\n",
       " <BarContainer object of 100 artists>)"
      ]
     },
     "execution_count": 12,
     "metadata": {},
     "output_type": "execute_result"
    },
    {
     "data": {
      "image/png": "[encoded data removed]",
      "text/plain": [
       "<Figure size 432x288 with 1 Axes>"
      ]
     },
     "metadata": {
      "needs_background": "light"
     },
     "output_type": "display_data"
    }
   ],
   "source": [
    "lbd = 1/mean_value\n",
    "print(lbd)\n",
    "Y = np.random.exponential(lbd,10000)\n",
    "plt.hist(Y,bins = 100,density = True)"
   ]
  },
  {
   "cell_type": "code",
   "execution_count": 13,
   "metadata": {},
   "outputs": [
    {
     "name": "stdout",
     "output_type": "stream",
     "text": [
      "La valeur moyenne du pic est de 52.43 et appartient à l'intervalle de confiance à 95% suivant : [52.01,52.85] \n",
      " Le quantile à 10% du pic de réanimation est : 28.0\n",
      " Le quantile à 90% du pic de réanimation est : 87.0\n"
     ]
    },
    {
     "data": {
      "image/png": "[encoded data removed]",
      "text/plain": [
       "<Figure size 432x288 with 2 Axes>"
      ]
     },
     "metadata": {
      "needs_background": "light"
     },
     "output_type": "display_data"
    }
   ],
   "source": [
    "# Loi de la date de l'épidémie. \n",
    "\n",
    "mean_day = np.mean(peak_day)\n",
    "var_day  = np.var(peak_day)\n",
    "q_10_day = np.quantile(peak_day, 0.1, axis = None)\n",
    "q_70_day = np.quantile(peak_day, 0.7, axis = None)\n",
    "q_90_day = np.quantile(peak_day, 0.9, axis = None)\n",
    "print(f\"La valeur moyenne du pic est de {round(mean_day,2)} et appartient à l'intervalle de confiance à 95% suivant : [{max(0,round(mean_day-1.96*np.sqrt(var_day/M),2))},{round(mean_day+1.96*np.sqrt(var_day/M),2)}] \")\n",
    "print(f\" Le quantile à 10% du pic de réanimation est : {q_10_day}\")\n",
    "print(f\" Le quantile à 90% du pic de réanimation est : {q_90_day}\")\n",
    "\n",
    "# Compte tenu de la valeur du quantile à 90% nous tronquons donc la liste par soucis de visibilité. \n",
    "\n",
    "fig, axs = plt.subplots(2)\n",
    "fig.suptitle(f\"Distribution du jour du pic sur un échantillon de taille {M}\")\n",
    "axs[0].hist([day for day in peak_day if day < q_90_day], bins = 100)\n",
    "axs[0].set_title('Quantile à 90 %')\n",
    "axs[1].hist([day for day in peak_day if day < q_70_day], bins = 100)\n",
    "axs[1].set_title('Quantile à 70 %')\n",
    "plt.subplots_adjust(hspace=0.5)"
   ]
  },
  {
   "cell_type": "markdown",
   "metadata": {},
   "source": [
    "# Calibration"
   ]
  },
  {
   "cell_type": "code",
   "execution_count": 138,
   "metadata": {},
   "outputs": [],
   "source": [
    "import pandas as pd\n",
    "import matplotlib.dates as mdates\n",
    "from matplotlib import ticker"
   ]
  },
  {
   "cell_type": "code",
   "execution_count": 125,
   "metadata": {},
   "outputs": [
    {
     "data": {
      "text/html": [
       "<div>\n",
       "<style scoped>\n",
       "    .dataframe tbody tr th:only-of-type {\n",
       "        vertical-align: middle;\n",
       "    }\n",
       "\n",
       "    .dataframe tbody tr th {\n",
       "        vertical-align: top;\n",
       "    }\n",
       "\n",
       "    .dataframe thead th {\n",
       "        text-align: right;\n",
       "    }\n",
       "</style>\n",
       "<table border=\"1\" class=\"dataframe\">\n",
       "  <thead>\n",
       "    <tr style=\"text-align: right;\">\n",
       "      <th></th>\n",
       "      <th>jour</th>\n",
       "      <th>hosp</th>\n",
       "      <th>rea</th>\n",
       "      <th>rad</th>\n",
       "      <th>dc</th>\n",
       "      <th>detecte</th>\n",
       "    </tr>\n",
       "  </thead>\n",
       "  <tbody>\n",
       "    <tr>\n",
       "      <th>0</th>\n",
       "      <td>2020-03-18</td>\n",
       "      <td>5905</td>\n",
       "      <td>1535</td>\n",
       "      <td>1627</td>\n",
       "      <td>435</td>\n",
       "      <td>1404.0</td>\n",
       "    </tr>\n",
       "    <tr>\n",
       "      <th>1</th>\n",
       "      <td>2020-03-19</td>\n",
       "      <td>7961</td>\n",
       "      <td>1975</td>\n",
       "      <td>2322</td>\n",
       "      <td>642</td>\n",
       "      <td>1861.0</td>\n",
       "    </tr>\n",
       "    <tr>\n",
       "      <th>2</th>\n",
       "      <td>2020-03-20</td>\n",
       "      <td>10272</td>\n",
       "      <td>2564</td>\n",
       "      <td>3128</td>\n",
       "      <td>890</td>\n",
       "      <td>1617.0</td>\n",
       "    </tr>\n",
       "    <tr>\n",
       "      <th>3</th>\n",
       "      <td>2020-03-21</td>\n",
       "      <td>11599</td>\n",
       "      <td>2872</td>\n",
       "      <td>3580</td>\n",
       "      <td>1041</td>\n",
       "      <td>1847.0</td>\n",
       "    </tr>\n",
       "    <tr>\n",
       "      <th>4</th>\n",
       "      <td>2020-03-22</td>\n",
       "      <td>13675</td>\n",
       "      <td>3311</td>\n",
       "      <td>4188</td>\n",
       "      <td>1251</td>\n",
       "      <td>1559.0</td>\n",
       "    </tr>\n",
       "  </tbody>\n",
       "</table>\n",
       "</div>"
      ],
      "text/plain": [
       "        jour   hosp   rea   rad    dc  detecte\n",
       "0 2020-03-18   5905  1535  1627   435   1404.0\n",
       "1 2020-03-19   7961  1975  2322   642   1861.0\n",
       "2 2020-03-20  10272  2564  3128   890   1617.0\n",
       "3 2020-03-21  11599  2872  3580  1041   1847.0\n",
       "4 2020-03-22  13675  3311  4188  1251   1559.0"
      ]
     },
     "execution_count": 125,
     "metadata": {},
     "output_type": "execute_result"
    }
   ],
   "source": [
    "\n",
    "contamination = pd.read_csv('data_per_day.csv', sep = ';')\n",
    "contamination['date'] = pd.to_datetime(contamination['date'],infer_datetime_format = True)\n",
    "contamination = contamination[contamination['date']<= '2020-05-11']\n",
    "contamination.columns = [jour,'detecte']\n",
    "contamination['detecte'] = contamination['detecte'].diff(periods = 1)\n",
    "\n",
    " \n",
    "hosp          = pd.read_csv('donnees_hospitalieres.csv', ';')\n",
    "hosp[jour]    = pd.to_datetime(hosp[jour])\n",
    "hosp          = hosp.groupby(jour).agg('sum').reset_index(False)[[jour,'hosp','rea','rad','dc']]\n",
    "big_table     = hosp.merge(contamination, left_on= jour, right_on = jour)\n",
    "big_table     = big_table[big_table[jour]<= '2020-05-11']\n",
    "big_table.head()   "
   ]
  },
  {
   "cell_type": "code",
   "execution_count": 139,
   "metadata": {},
   "outputs": [
    {
     "data": {
      "text/plain": [
       "Text(0.5, 1.0, 'Spread of the epidemic')"
      ]
     },
     "execution_count": 139,
     "metadata": {},
     "output_type": "execute_result"
    },
    {
     "data": {
      "image/png": "[encoded data removed]",
      "text/plain": [
       "<Figure size 576x360 with 1 Axes>"
      ]
     },
     "metadata": {
      "needs_background": "light"
     },
     "output_type": "display_data"
    }
   ],
   "source": [
    "columns = ['hosp','rea','rad','dc']\n",
    "titles  = {'hosp': 'hospitalises (H)', 'rea': 'soins intensifs (U)', 'dc' : 'decedes (D)', 'detecte' : 'detectes (DR)', 'rad' : 'gueris (R+)'}\n",
    "\n",
    "fig, axs = plt.subplots(figsize = (8,5), nrows = 1, ncols = 1)\n",
    "for i,col in enumerate(columns) : \n",
    "    axs.scatter(big_table[jour],big_table[col],marker = '.', label = titles[col])\n",
    "axs.scatter(contamination[jour],contamination['detecte'], marker = '.', label = titles['detecte'])\n",
    "axs.legend()\n",
    "locator = mdates.MonthLocator()\n",
    "fmt = mdates.DateFormatter('%b')\n",
    "X = plt.gca().xaxis\n",
    "X.set_major_locator(locator)\n",
    "# Specify formatter\n",
    "X.set_major_formatter(fmt)\n",
    "\n",
    "\n",
    "formatter = ticker.ScalarFormatter(useMathText=True)\n",
    "formatter.set_scientific(True) \n",
    "formatter.set_powerlimits((-1,1))\n",
    "axs.yaxis.set_major_formatter(formatter) \n",
    "axs.set_ylabel('nombre')\n",
    "axs.set_xlabel('date')\n",
    "axs.format_xdata = mdates.DateFormatter('%Y-%m-%d')\n",
    "axs.set_title('Spread of the epidemic')"
   ]
  }
 ],
 "metadata": {
  "kernelspec": {
   "display_name": "Python 3",
   "language": "python",
   "name": "python3"
  },
  "language_info": {
   "codemirror_mode": {
    "name": "ipython",
    "version": 3
   },
   "file_extension": ".py",
   "mimetype": "text/x-python",
   "name": "python",
   "nbconvert_exporter": "python",
   "pygments_lexer": "ipython3",
   "version": "3.8.5"
  }
 },
 "nbformat": 4,
 "nbformat_minor": 4
}
