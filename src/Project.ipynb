{
 "cells": [
  {
   "cell_type": "markdown",
   "metadata": {},
   "source": [
    "# MAP 568 Project"
   ]
  },
  {
   "cell_type": "markdown",
   "metadata": {},
   "source": [
    "Maxime Vincent & Swann Chelly"
   ]
  },
  {
   "cell_type": "code",
   "execution_count": 35,
   "metadata": {},
   "outputs": [],
   "source": [
    "import numpy as np\n",
    "\n",
    "from constant import *\n",
    "from scipy import *\n",
    "from pylab import *     \n",
    "from scipy.integrate import odeint # Module de résolution des équations différentielles\n",
    "import plotly as po\n",
    "from progressbar import ProgressBar\n",
    "import matplotlib.pyplot as plt"
   ]
  },
  {
   "cell_type": "markdown",
   "metadata": {},
   "source": [
    "## Incertitudes en sortie\n",
    "\n",
    "1) **Programmer la résolution du système (1-10).**\n",
    "\n",
    "Dans le fichier constant nous définissons l'ensemble des constantes. La fonction `init_constant` de ce fichier renvoie un dictionnaire généré aléatoirement de constantes. "
   ]
  },
  {
   "cell_type": "code",
   "execution_count": 36,
   "metadata": {},
   "outputs": [],
   "source": [
    "## Résolution de l'équation différentielle. \n",
    "\n",
    "def equa_diff(syst,temps,variables, constants):\n",
    "    \n",
    "    \"\"\"\n",
    "    La résolution du système d'équation différentiel (1-10) se fait grace au module odeint de scipy.integrate.\n",
    "    \n",
    "    Paramètres :\n",
    "    ------------\n",
    "    \n",
    "    syst : \n",
    "    \n",
    "    temps : \n",
    "    \n",
    "    Sorties : \n",
    "    ---------\n",
    "    Ensemble des paramètres du système différentiel. \n",
    "    \n",
    "    \"\"\"\n",
    "    #temps = round(temps,1)\n",
    "    #if temps == 50:\n",
    "    #    temps = 50.1\n",
    "    #elif temps > 100.:\n",
    "    #    temps = 100.\n",
    "    #i = time.index(temps)\n",
    "    \n",
    "    if type(variables)!= dict:\n",
    "        variables = dict(zip(variables_keys,variables))\n",
    "        constants = dict(zip(constants_keys, constants))\n",
    "    else : \n",
    "        variables = variables\n",
    "        constants = constants\n",
    "    \n",
    "    \n",
    "    tau = constants['tau_0']*np.exp(-variables['mu']*max(temps-(variables['N']-variables['t_0']),0))\n",
    "    S = syst[0] \n",
    "    I_moins = syst[1] \n",
    "    I_plus = syst[2] \n",
    "    R_moins = syst[3] \n",
    "    R_plus_I = syst[4] \n",
    "    H = syst[5] \n",
    "    U = syst[6] \n",
    "    R_plus_H = syst[7] \n",
    "    D = syst[8] \n",
    "    D_R = syst[9]\n",
    "    # Dérivées des variables\n",
    "    DS = -tau*S*I_moins\n",
    "    DI_moins = tau*S*I_moins-variables['lambda_1']*I_moins-(constants['gamma_IR']+constants['gamma_IH']+constants['gamma_IU'])*I_moins\n",
    "    DI_plus = variables['lambda_1']*I_moins-(constants['gamma_IR']+constants['gamma_IH']+constants['gamma_IU'])*I_plus\n",
    "    DR_moins = constants['gamma_IR']*I_moins\n",
    "    DR_plus_I = constants['gamma_IR']*I_plus\n",
    "    DH = constants['gamma_IH']*(I_moins + I_plus)-(constants['gamma_HR']+constants['gamma_HD']+constants['gamma_HU'])*H\n",
    "    DU = constants['gamma_IU']*(I_moins + I_plus)+constants['gamma_HU']*H-(constants['gamma_UR'] + constants['gamma_UD'])*U\n",
    "    DR_plus_H = constants['gamma_HR']*H+constants['gamma_UR']*U\n",
    "    DD =constants['gamma_UD']*U+constants['gamma_HD']*H  \n",
    "    DD_R = (variables['lambda_1']+constants['gamma_IH']+constants['gamma_IU'])*I_moins-D_R\n",
    "    \n",
    "    \n",
    "    return(DS,DI_moins,DI_plus,DR_moins,DR_plus_I,DH,DU,DR_plus_H,DD,DD_R)\n"
   ]
  },
  {
   "cell_type": "code",
   "execution_count": 20,
   "metadata": {},
   "outputs": [
    {
     "data": {
      "text/plain": [
       "Text(0, 0.5, 'Nombre de personne en réanimation')"
      ]
     },
     "execution_count": 20,
     "metadata": {},
     "output_type": "execute_result"
    },
    {
     "data": {
      "image/png": "[encoded data removed]",
      "text/plain": [
       "<Figure size 432x288 with 1 Axes>"
      ]
     },
     "metadata": {
      "needs_background": "light"
     },
     "output_type": "display_data"
    }
   ],
   "source": [
    "# Analyse des résultats\n",
    "\n",
    "variables = init_variables()\n",
    "constants = compute_constants(variables)\n",
    "\n",
    "syst_CI=array([global_constants['S_0'],variables['I_moins_0'],0,0,0,0,0,0,0,0])\n",
    "simulation=odeint(equa_diff,syst_CI,constants['t'], args = (variables,constants))\n",
    "plt.plot(simulation[:,6])\n",
    "plt.title(f\"Evolution du nombre de personne en réanimation sur {global_constants['T_MAX']} jours\")\n",
    "plt.xlabel(f\"Temps en {global_constants['deltaT']} jour\")\n",
    "plt.ylabel(\"Nombre de personne en réanimation\")\n",
    "\n"
   ]
  },
  {
   "cell_type": "markdown",
   "metadata": {},
   "source": [
    "2) **Par échantillonnage Monte Carlo (en utilisant les lois des paramètres d'entrée de la table 1), donner :**\n",
    "- la loi du nombre maximal de patients présents en soins intensifs (histogramme, moyenne, quantiles à 10% et 90%),\n",
    "- la loi de la date du pic de l'épidémie."
   ]
  },
  {
   "cell_type": "code",
   "execution_count": 159,
   "metadata": {},
   "outputs": [
    {
     "name": "stderr",
     "output_type": "stream",
     "text": [
      "  0% (3 of 1000) |                       | Elapsed Time: 0:00:00 ETA:   0:00:55"
     ]
    },
    {
     "name": "stdout",
     "output_type": "stream",
     "text": [
      "Echantillonnage de Monte Carlo sur 10000 simulation\n"
     ]
    },
    {
     "name": "stderr",
     "output_type": "stream",
     "text": [
      "100% (1000 of 1000) |####################| Elapsed Time: 0:00:30 Time:  0:00:30\n"
     ]
    }
   ],
   "source": [
    "## Implémentation de la méthode de Monte Carlo classique pour la résolution du système différentiel. \n",
    "\n",
    "M = 1000\n",
    "\n",
    "def Monte_Carlo(M):\n",
    "    \"\"\"\n",
    "    Echantillonage de Monte Carlo \n",
    "    \n",
    "    Paramètres : \n",
    "    ------------\n",
    "    \n",
    "    M : int, \n",
    "        Taille de l'échantillon. \n",
    "    \n",
    "    Sorties : \n",
    "    ---------\n",
    "    peak_value  : list,\n",
    "        Nombre de cas en réanimation au pic de l'épidémie pour chaque simulation.\n",
    "    peak_day    : list, \n",
    "        Jour du pic pour chaque simulation.\n",
    "    pos         : list, \n",
    "        Nombre de cas au pic de l'épidémie pour chaque simulation.\n",
    "    \n",
    "    \"\"\"\n",
    "    \n",
    "    print(f\"Echantillonnage de Monte Carlo sur 10000 simulation\")\n",
    "    peak_value,peak_day, pos = [],[], []\n",
    "    pbar = ProgressBar()\n",
    "    for i in pbar(range(M)):\n",
    "        variables = init_variables()\n",
    "        constants = compute_constants(variables)\n",
    "        syst_CI=array([global_constants['S_0'],variables['I_moins_0'],0,0,0,0,0,0,0,0])\n",
    "        simulation=odeint(equa_diff,syst_CI,constants['t'], args = (variables,constants))      \n",
    "        peak_value.append(np.max(simulation[:,6]))\n",
    "        peak_day.append(int(np.argmax(list(simulation[:,6]))*global_constants['deltaT']))\n",
    "        pos.append(np.max(simulation[:,1]))\n",
    "        \n",
    "    return (peak_value,peak_day,pos)\n",
    "\n",
    "peak_value,peak_day,pos = Monte_Carlo(M)\n"
   ]
  },
  {
   "cell_type": "code",
   "execution_count": 160,
   "metadata": {},
   "outputs": [
    {
     "name": "stdout",
     "output_type": "stream",
     "text": [
      "La valeur moyenne du pic est de 17142.37 et appartient à l'intervalle de confiance à 95% suivant : [13779.3,20505.44] \n",
      " Le quantile à 10% du pic de réanimation est : 0.6552963523636909\n",
      " Le quantile à 90% du pic de réanimation est : 49496.97226885954\n"
     ]
    },
    {
     "data": {
      "image/png": "[encoded data removed]",
      "text/plain": [
       "<Figure size 432x288 with 2 Axes>"
      ]
     },
     "metadata": {
      "needs_background": "light"
     },
     "output_type": "display_data"
    }
   ],
   "source": [
    "mean_value = np.mean(peak_value)\n",
    "var_value  = np.var(peak_value)\n",
    "q_10 = np.quantile(peak_value, 0.1, axis = None)\n",
    "q_70 = np.quantile(peak_value, 0.7, axis = None)\n",
    "q_90 = np.quantile(peak_value, 0.9, axis = None)\n",
    "print(f\"La valeur moyenne du pic est de {round(mean_value,2)} et appartient à l'intervalle de confiance à 95% suivant : [{max(0,round(mean_value-1.96*np.sqrt(var_value/M),2))},{round(mean_value+1.96*np.sqrt(var_value/M),2)}] \")\n",
    "print(f\" Le quantile à 10% du pic de réanimation est : {q_10}\")\n",
    "print(f\" Le quantile à 90% du pic de réanimation est : {q_90}\")\n",
    "\n",
    "# Compte tenu de la valeur du quantile à 90% nous tronquons donc la liste par soucis de visibilité. \n",
    "\n",
    "\n",
    "fig, axs = plt.subplots(2)\n",
    "fig.suptitle(f\"Distribution du nombre de personnes en réanimation sur un échantillon de taille {M}\")\n",
    "axs[0].hist([value for value in peak_value if value < q_90], bins = 100)\n",
    "axs[0].set_title('Quantile à 90 %')\n",
    "axs[1].hist([value for value in peak_value if value < q_70], bins = 100)\n",
    "axs[1].set_title('Quantile à 70 %')\n",
    "plt.subplots_adjust(hspace=0.5)"
   ]
  },
  {
   "cell_type": "markdown",
   "metadata": {},
   "source": [
    "En supposant que la distribution du nombre de cas en réanimation au pic de l'épidémie suis une loie exponentielle, nous pouvons donner son paramètre $\\lambda = \\frac{1}{\\mathbb{\\hat{E}}(X)}$ où $X$ correspond à la variable aléatoire liée au nombre de cas en réanimation au pic de l'épidémie. Nous la notrons ici `lbd`.\n"
   ]
  },
  {
   "cell_type": "code",
   "execution_count": 161,
   "metadata": {},
   "outputs": [
    {
     "name": "stdout",
     "output_type": "stream",
     "text": [
      "5.8334999602744214e-05\n"
     ]
    },
    {
     "data": {
      "text/plain": [
       "(array([16679.49910055, 15081.57076907, 12819.33515371, 12621.83839364,\n",
       "        11903.66835702, 10251.87727278,  9623.47849074,  7971.68740651,\n",
       "         7774.19064644,  6714.88984242,  6319.89632228,  5655.5890384 ,\n",
       "         5350.36677284,  4596.28823438,  4003.79795417,  3375.39917213,\n",
       "         3572.8959322 ,  3536.98743037,  2944.49715015,  2531.54937909,\n",
       "         2280.18986628,  2280.18986628,  2208.37286261,  1957.0133498 ,\n",
       "         1633.83683332,  1526.11132782,  1184.98056043,  1059.30080402,\n",
       "          987.48380036,   915.66679669,   915.66679669,   682.26153479,\n",
       "          987.48380036,   807.9412912 ,   718.17003662,   484.76477472,\n",
       "          538.62752747,   484.76477472,   341.1307674 ,   323.17651648,\n",
       "          287.26801465,   341.1307674 ,   341.1307674 ,   269.31376373,\n",
       "          125.67975641,   233.4052619 ,    89.77125458,   215.45101099,\n",
       "          161.58825824,   125.67975641,   251.35951282,   161.58825824,\n",
       "          125.67975641,    71.81700366,   125.67975641,   143.63400732,\n",
       "           53.86275275,     0.        ,    71.81700366,    71.81700366,\n",
       "          107.72550549,    71.81700366,    17.95425092,    35.90850183,\n",
       "           17.95425092,    71.81700366,    17.95425092,    35.90850183,\n",
       "           71.81700366,    17.95425092,    17.95425092,     0.        ,\n",
       "           17.95425092,    17.95425092,     0.        ,    17.95425092,\n",
       "            0.        ,     0.        ,    17.95425092,     0.        ,\n",
       "            0.        ,     0.        ,     0.        ,     0.        ,\n",
       "            0.        ,     0.        ,     0.        ,     0.        ,\n",
       "            0.        ,     0.        ,     0.        ,    17.95425092,\n",
       "            0.        ,    17.95425092,     0.        ,     0.        ,\n",
       "            0.        ,     0.        ,     0.        ,    35.90850183]),\n",
       " array([3.68667350e-09, 5.57339830e-06, 1.11431099e-05, 1.67128215e-05,\n",
       "        2.22825332e-05, 2.78522448e-05, 3.34219564e-05, 3.89916680e-05,\n",
       "        4.45613797e-05, 5.01310913e-05, 5.57008029e-05, 6.12705145e-05,\n",
       "        6.68402261e-05, 7.24099378e-05, 7.79796494e-05, 8.35493610e-05,\n",
       "        8.91190726e-05, 9.46887843e-05, 1.00258496e-04, 1.05828208e-04,\n",
       "        1.11397919e-04, 1.16967631e-04, 1.22537342e-04, 1.28107054e-04,\n",
       "        1.33676766e-04, 1.39246477e-04, 1.44816189e-04, 1.50385900e-04,\n",
       "        1.55955612e-04, 1.61525324e-04, 1.67095035e-04, 1.72664747e-04,\n",
       "        1.78234459e-04, 1.83804170e-04, 1.89373882e-04, 1.94943593e-04,\n",
       "        2.00513305e-04, 2.06083017e-04, 2.11652728e-04, 2.17222440e-04,\n",
       "        2.22792152e-04, 2.28361863e-04, 2.33931575e-04, 2.39501286e-04,\n",
       "        2.45070998e-04, 2.50640710e-04, 2.56210421e-04, 2.61780133e-04,\n",
       "        2.67349845e-04, 2.72919556e-04, 2.78489268e-04, 2.84058979e-04,\n",
       "        2.89628691e-04, 2.95198403e-04, 3.00768114e-04, 3.06337826e-04,\n",
       "        3.11907538e-04, 3.17477249e-04, 3.23046961e-04, 3.28616672e-04,\n",
       "        3.34186384e-04, 3.39756096e-04, 3.45325807e-04, 3.50895519e-04,\n",
       "        3.56465231e-04, 3.62034942e-04, 3.67604654e-04, 3.73174365e-04,\n",
       "        3.78744077e-04, 3.84313789e-04, 3.89883500e-04, 3.95453212e-04,\n",
       "        4.01022924e-04, 4.06592635e-04, 4.12162347e-04, 4.17732058e-04,\n",
       "        4.23301770e-04, 4.28871482e-04, 4.34441193e-04, 4.40010905e-04,\n",
       "        4.45580616e-04, 4.51150328e-04, 4.56720040e-04, 4.62289751e-04,\n",
       "        4.67859463e-04, 4.73429175e-04, 4.78998886e-04, 4.84568598e-04,\n",
       "        4.90138309e-04, 4.95708021e-04, 5.01277733e-04, 5.06847444e-04,\n",
       "        5.12417156e-04, 5.17986868e-04, 5.23556579e-04, 5.29126291e-04,\n",
       "        5.34696002e-04, 5.40265714e-04, 5.45835426e-04, 5.51405137e-04,\n",
       "        5.56974849e-04]),\n",
       " <BarContainer object of 100 artists>)"
      ]
     },
     "execution_count": 161,
     "metadata": {},
     "output_type": "execute_result"
    },
    {
     "data": {
      "image/png": "[encoded data removed]",
      "text/plain": [
       "<Figure size 432x288 with 1 Axes>"
      ]
     },
     "metadata": {
      "needs_background": "light"
     },
     "output_type": "display_data"
    }
   ],
   "source": [
    "lbd = 1/mean_value\n",
    "print(lbd)\n",
    "Y = np.random.exponential(lbd,10000)\n",
    "plt.hist(Y,bins = 100,density = True)"
   ]
  },
  {
   "cell_type": "code",
   "execution_count": 162,
   "metadata": {},
   "outputs": [
    {
     "name": "stdout",
     "output_type": "stream",
     "text": [
      "La valeur moyenne du pic est de 57.44 et appartient à l'intervalle de confiance à 95% suivant : [56.03,58.85] \n",
      " Le quantile à 10% du pic de réanimation est : 26.0\n",
      " Le quantile à 90% du pic de réanimation est : 90.10000000000002\n"
     ]
    },
    {
     "data": {
      "image/png": "[encoded data removed]",
      "text/plain": [
       "<Figure size 432x288 with 2 Axes>"
      ]
     },
     "metadata": {
      "needs_background": "light"
     },
     "output_type": "display_data"
    }
   ],
   "source": [
    "# Loi de la date de l'épidémie. \n",
    "\n",
    "mean_day = np.mean(peak_day)\n",
    "var_day  = np.var(peak_day)\n",
    "q_10_day = np.quantile(peak_day, 0.1, axis = None)\n",
    "q_70_day = np.quantile(peak_day, 0.7, axis = None)\n",
    "q_90_day = np.quantile(peak_day, 0.9, axis = None)\n",
    "print(f\"La valeur moyenne du pic est de {round(mean_day,2)} et appartient à l'intervalle de confiance à 95% suivant : [{max(0,round(mean_day-1.96*np.sqrt(var_day/M),2))},{round(mean_day+1.96*np.sqrt(var_day/M),2)}] \")\n",
    "print(f\" Le quantile à 10% du pic de réanimation est : {q_10_day}\")\n",
    "print(f\" Le quantile à 90% du pic de réanimation est : {q_90_day}\")\n",
    "\n",
    "# Compte tenu de la valeur du quantile à 90% nous tronquons donc la liste par soucis de visibilité. \n",
    "\n",
    "fig, axs = plt.subplots(2)\n",
    "fig.suptitle(f\"Distribution du jour du pic sur un échantillon de taille {M}\")\n",
    "axs[0].hist([day for day in peak_day if day < q_90_day], bins = 100)\n",
    "axs[0].set_title('Quantile à 90 %')\n",
    "axs[1].hist([day for day in peak_day if day < q_70_day], bins = 100)\n",
    "axs[1].set_title('Quantile à 70 %')\n",
    "plt.subplots_adjust(hspace=0.5)"
   ]
  },
  {
   "cell_type": "markdown",
   "metadata": {},
   "source": [
    "# Analyse de sensibilité qualitative : Criblage"
   ]
  },
  {
   "cell_type": "code",
   "execution_count": 8,
   "metadata": {},
   "outputs": [
    {
     "name": "stderr",
     "output_type": "stream",
     "text": [
      "N/A% (0 of 100) |                        | Elapsed Time: 0:00:00 ETA:  --:--:--"
     ]
    },
    {
     "name": "stdout",
     "output_type": "stream",
     "text": [
      "Calcul de sensibilité\n"
     ]
    },
    {
     "name": "stderr",
     "output_type": "stream",
     "text": [
      "100% (100 of 100) |######################| Elapsed Time: 0:00:29 Time:  0:00:29\n"
     ]
    }
   ],
   "source": [
    "def Morris(R,eps):\n",
    "    \"\"\"\n",
    "    Echantillonage de Monte Carlo \n",
    "    \n",
    "    Paramètres : \n",
    "    ------------\n",
    "    \n",
    "    R : int, \n",
    "        Taille de l'échantillon.\n",
    "    eps : float,\n",
    "        paramètre pour évaluer nos différences finies (f(x+eps)-f(x))/eps\n",
    "    \n",
    "    Sorties : \n",
    "    ---------\n",
    "    moyenne_grad_peak_value  : array,\n",
    "        Moyenne du gradient du nombre réanimation au pic de l'épidémie pour chaque simulation.\n",
    "    moyenne_grad_peak_day    : array, \n",
    "        Moyenne du gradient du Jour du pic pour chaque simulation.\n",
    "    sigma_grad_peak_value  : array,\n",
    "        Ecart-type du gradient du nombre réanimation au pic de l'épidémie pour chaque simulation.\n",
    "    sigma_Moyenne_grad_peak_day    : array, \n",
    "        Ecart-type du gradient du Jour du pic pour chaque simulation.\n",
    "    \n",
    "    \"\"\"\n",
    "    \n",
    "    print(f\"Calcul de sensibilité\")\n",
    "    grad_peak_value,grad_peak_day = [],[]\n",
    "    pbar = ProgressBar()\n",
    "    for i in pbar(range(R)):\n",
    "        variables = init_variables()\n",
    "        constants = compute_constants(variables)\n",
    "        syst_CI=array([global_constants['S_0'],variables['I_moins_0'],0,0,0,0,0,0,0,0])\n",
    "        simulation_ref=odeint(equa_diff,syst_CI,constants['t'], args = (variables,constants))\n",
    "        peak_value_ref = np.max(simulation_ref[:,6])\n",
    "        peak_day_ref = int(np.argmax(list(simulation_ref[:,6]))*global_constants['deltaT'])\n",
    "        d_peak_value, d_peak_day = [], []\n",
    "    \n",
    "        for key, value in variables.items():\n",
    "            sauvegarde = variables[key]\n",
    "            variables[key] = sauvegarde +eps\n",
    "            constants = compute_constants(variables)\n",
    "            simulation= odeint(equa_diff,syst_CI,constants['t'], args = (variables,constants))\n",
    "            peak_value = np.max(simulation[:,6])\n",
    "            peak_day = int(np.argmax(list(simulation[:,6]))*global_constants['deltaT'])\n",
    "            d_peak_value.append((peak_value-peak_value_ref)/eps)\n",
    "            d_peak_day.append((peak_day-peak_day_ref)/eps)\n",
    "            variables[key] = sauvegarde\n",
    "        \n",
    "        grad_peak_value += [d_peak_value]\n",
    "        grad_peak_day += [d_peak_day]\n",
    "        \n",
    "    grad_peak_value, grad_peak_day = np.abs(np.array(grad_peak_value)), np.abs(np.array(grad_peak_day))\n",
    "     \n",
    "    moyenne_grad_peak_value = np.mean(grad_peak_value, axis=0)\n",
    "    moyenne_grad_peak_day = np.mean(grad_peak_day, axis=0)\n",
    "    sigma_grad_peak_value = np.sqrt(np.var(grad_peak_value, axis=0))\n",
    "    sigma_grad_peak_day = np.sqrt(np.var(grad_peak_day, axis=0))\n",
    "    \n",
    "    return( moyenne_grad_peak_value,  moyenne_grad_peak_day, sigma_grad_peak_value, sigma_grad_peak_day )\n",
    "        \n",
    "\n",
    "R=100\n",
    "eps = 10**(-4)\n",
    "moyenne_grad_peak_value,  moyenne_grad_peak_day, sigma_grad_peak_value, sigma_grad_peak_day = Morris(R, eps)"
   ]
  },
  {
   "cell_type": "code",
   "execution_count": 9,
   "metadata": {},
   "outputs": [
    {
     "name": "stdout",
     "output_type": "stream",
     "text": [
      "[4.19905680e+04 6.54428652e+04 5.62246061e+05 2.14991970e-01\n",
      " 5.12549068e+04 2.64866143e-02 4.63938045e+04 1.26875692e+06\n",
      " 7.91285798e+05 3.52350880e+03 1.76222658e+03 1.06202455e+04\n",
      " 2.08075196e+02 9.26004823e+02 0.00000000e+00]\n",
      "[  0.   0. 200.   0.   0.   0.   0. 600.   0.   0.   0.   0.   0.   0.\n",
      "   0.]\n",
      "[1.15120797e+05 2.09462609e+05 1.65119525e+06 1.55317518e+00\n",
      " 1.70041629e+05 1.76690051e-01 1.13022113e+05 4.06201464e+06\n",
      " 1.92083228e+06 8.82828310e+03 4.41479737e+03 2.73288989e+04\n",
      " 7.42636394e+02 2.66952741e+03 0.00000000e+00]\n",
      "[   0.            0.         1400.            0.            0.\n",
      "    0.            0.         2374.86841741    0.            0.\n",
      "    0.            0.            0.            0.            0.        ]\n"
     ]
    }
   ],
   "source": [
    "print(moyenne_grad_peak_value)\n",
    "print(moyenne_grad_peak_day)\n",
    "print(sigma_grad_peak_value)\n",
    "print(sigma_grad_peak_day)"
   ]
  },
  {
   "cell_type": "markdown",
   "metadata": {},
   "source": [
    "#### analyse des résultats : ..."
   ]
  },
  {
   "cell_type": "markdown",
   "metadata": {},
   "source": [
    "## Criblage avec SALib"
   ]
  },
  {
   "cell_type": "code",
   "execution_count": 37,
   "metadata": {},
   "outputs": [],
   "source": [
    "from SALib.analyze import morris\n",
    "from SALib.sample import morris as sample_morris"
   ]
  },
  {
   "cell_type": "code",
   "execution_count": 38,
   "metadata": {},
   "outputs": [],
   "source": [
    "problem = {\n",
    "    'num_vars': 15,\n",
    "    'names': ['p_a','p_IH','p_IU','p_HD','p_HU','p_UD','R_0','mu','lambda_1','t_0','N','N_I','N_H','N_U','I_moins_0'],\n",
    "    'bounds': [[0.4,0.9],[0.05,0.2],[0.01,0.04],[0.1,0.2],[0.1,0.2],[0.2,0.4],[2.9,3.4],[0.01,0.08],[10**(-4),10**(-3)],[0,30],[30,50],\n",
    "[8,12],[15,25],[10,20],[1,100]]\n",
    "}\n",
    "\n",
    "\n",
    "def Resolution(parametres):\n",
    "    peak_value = np.zeros(len(parametres))\n",
    "    peak_day = np.zeros(len(parametres))\n",
    "    \n",
    "    for i, X in enumerate(parametres):\n",
    "    \n",
    "        if type(X)!= dict:\n",
    "            variables = dict(zip(variables_keys,X))\n",
    "            #constants = dict(zip(constants_keys, constants))\n",
    "        else : \n",
    "            variables = X\n",
    "        constants = compute_constants(variables)   \n",
    "        syst_CI=array([global_constants['S_0'],variables['I_moins_0'],0,0,0,0,0,0,0,0])\n",
    "        solution=odeint(equa_diff,syst_CI,constants['t'], args = (variables,constants))\n",
    "        peak_value[i]=np.max(solution[:,6])\n",
    "        peak_day[i]=int(np.argmax(list(simulation[:,6]))*global_constants['deltaT'])\n",
    "    return(peak_value, peak_day)\n",
    "\n"
   ]
  },
  {
   "cell_type": "code",
   "execution_count": 39,
   "metadata": {},
   "outputs": [
    {
     "name": "stdout",
     "output_type": "stream",
     "text": [
      "Parameter                         Mu_Star         Mu    Mu_Star_Conf      Sigma\n",
      "p_a                             59673.485 -59673.485       21012.742 116058.173\n",
      "p_IH                            11420.656  11420.656        4715.032  28455.496\n",
      "p_IU                            21361.295  21361.295        9051.091  49733.630\n",
      "p_HD                                0.000      0.000           0.000      0.002\n",
      "p_HU                             8538.400   8538.400        5344.272  27057.314\n",
      "p_UD                                0.000      0.000           0.000      0.001\n",
      "R_0                             23782.282  23782.282       11258.930  56569.593\n",
      "mu                              49810.551 -49810.551       22674.422 110893.147\n",
      "lambda_1                          909.838    909.838         378.715   2235.118\n",
      "t_0                             86275.465 -86275.465       34286.981 182527.360\n",
      "N                               43498.420  43498.420       18139.615  93789.235\n",
      "N_I                             40820.160 -40820.160       20489.367 100031.623\n",
      "N_H                              3296.621  -3296.621        1960.546   9348.109\n",
      "N_U                             11706.254  11706.254        7371.122  35298.995\n",
      "I_moins_0                       20979.425  20979.425       10058.412  53071.113\n",
      "Parameter                         Mu_Star         Mu    Mu_Star_Conf      Sigma\n",
      "p_a                                 0.000      0.000           0.000      0.000\n",
      "p_IH                                0.000      0.000           0.000      0.000\n",
      "p_IU                                0.000      0.000           0.000      0.000\n",
      "p_HD                                0.000      0.000           0.000      0.000\n",
      "p_HU                                0.000      0.000           0.000      0.000\n",
      "p_UD                                0.000      0.000           0.000      0.000\n",
      "R_0                                 0.000      0.000           0.000      0.000\n",
      "mu                                  0.000      0.000           0.000      0.000\n",
      "lambda_1                            0.000      0.000           0.000      0.000\n",
      "t_0                                 0.000      0.000           0.000      0.000\n",
      "N                                   0.000      0.000           0.000      0.000\n",
      "N_I                                 0.000      0.000           0.000      0.000\n",
      "N_H                                 0.000      0.000           0.000      0.000\n",
      "N_U                                 0.000      0.000           0.000      0.000\n",
      "I_moins_0                           0.000      0.000           0.000      0.000\n"
     ]
    }
   ],
   "source": [
    "X = sample_morris.sample(problem, 100, num_levels=4)\n",
    "peak_value, peak_day = Resolution(X)\n",
    "Smorris_value = morris.analyze(problem, X, peak_value, conf_level=0.95,print_to_console=True, num_levels=4)\n",
    "Smorris_day = morris.analyze(problem, X2, peak_day, conf_level=0.95,print_to_console=True, num_levels=4)"
   ]
  },
  {
   "cell_type": "markdown",
   "metadata": {},
   "source": [
    "# Analyse de sensibilité quantitative : Sobol"
   ]
  },
  {
   "cell_type": "code",
   "execution_count": 32,
   "metadata": {},
   "outputs": [],
   "source": [
    "from SALib.sample import saltelli\n",
    "from SALib.analyze import sobol\n",
    "import numpy as np\n",
    "from pylab import *\n",
    "from scipy.integrate import odeint"
   ]
  },
  {
   "cell_type": "code",
   "execution_count": 34,
   "metadata": {},
   "outputs": [
    {
     "name": "stdout",
     "output_type": "stream",
     "text": [
      "Group S1 S1_conf ST ST_conf\n",
      "p_a -0.000146 0.020678 0.037221 0.065862\n",
      "p_IH -0.002007 0.005740 0.002609 0.004675\n",
      "p_IU -0.003144 0.015213 0.018217 0.035263\n",
      "p_HD -0.000000 0.000000 0.000000 0.000000\n",
      "p_HU 0.000338 0.008289 0.005514 0.012261\n",
      "p_UD 0.000000 0.000000 0.000000 0.000000\n",
      "R_0 -0.013241 0.036366 0.056631 0.106677\n",
      "mu 0.033912 0.147302 0.249991 0.440106\n",
      "lambda_1 0.000033 0.000739 0.000046 0.000096\n",
      "t_0 0.132375 0.135238 0.187887 0.300740\n",
      "N 0.060586 0.123713 0.147749 0.295053\n",
      "N_I 0.002764 0.031315 0.073431 0.143127\n",
      "N_H 0.000368 0.002150 0.000425 0.000980\n",
      "N_U 0.003004 0.007093 0.002511 0.004568\n",
      "I_moins_0 0.001311 0.014525 0.011436 0.028778\n",
      "\n",
      "Group_1 Group_2 S2 S2_conf\n",
      "p_a p_IH 0.006083 0.032374\n",
      "p_a p_IU 0.005729 0.032162\n",
      "p_a p_HD 0.005829 0.033045\n",
      "p_a p_HU 0.005058 0.034163\n",
      "p_a p_UD 0.005829 0.033045\n",
      "p_a R_0 0.006293 0.032547\n",
      "p_a mu -0.008589 0.051503\n",
      "p_a lambda_1 0.005835 0.033003\n",
      "p_a t_0 -0.005270 0.030789\n",
      "p_a N -0.003412 0.045203\n",
      "p_a N_I 0.004408 0.034762\n",
      "p_a N_H 0.005837 0.033007\n",
      "p_a N_U 0.005561 0.032933\n",
      "p_a I_moins_0 0.005790 0.032801\n",
      "p_IH p_IU 0.011423 0.019738\n",
      "p_IH p_HD 0.012389 0.021474\n",
      "p_IH p_HU 0.013460 0.024136\n",
      "p_IH p_UD 0.012389 0.021474\n",
      "p_IH R_0 0.011782 0.019912\n",
      "p_IH mu 0.004213 0.018350\n",
      "p_IH lambda_1 0.012358 0.021391\n",
      "p_IH t_0 -0.003682 0.027719\n",
      "p_IH N 0.009169 0.029314\n",
      "p_IH N_I 0.014095 0.025252\n",
      "p_IH N_H 0.012328 0.021366\n",
      "p_IH N_U 0.012266 0.021344\n",
      "p_IH I_moins_0 0.012270 0.020948\n",
      "p_IU p_HD 0.019639 0.027369\n",
      "p_IU p_HU 0.020417 0.028444\n",
      "p_IU p_UD 0.019639 0.027369\n",
      "p_IU R_0 0.019111 0.026935\n",
      "p_IU mu 0.001363 0.043480\n",
      "p_IU lambda_1 0.019601 0.027326\n",
      "p_IU t_0 -0.011436 0.044934\n",
      "p_IU N 0.012244 0.037210\n",
      "p_IU N_I 0.020789 0.029005\n",
      "p_IU N_H 0.019558 0.027305\n",
      "p_IU N_U 0.019349 0.027250\n",
      "p_IU I_moins_0 0.019513 0.027205\n",
      "p_HD p_HU -0.000000 0.000000\n",
      "p_HD p_UD -0.000000 0.000000\n",
      "p_HD R_0 -0.000000 0.000000\n",
      "p_HD mu -0.000000 0.000000\n",
      "p_HD lambda_1 -0.000000 0.000000\n",
      "p_HD t_0 0.000000 0.000000\n",
      "p_HD N -0.000000 0.000000\n",
      "p_HD N_I -0.000000 0.000000\n",
      "p_HD N_H -0.000000 0.000000\n",
      "p_HD N_U -0.000000 0.000000\n",
      "p_HD I_moins_0 -0.000000 0.000000\n",
      "p_HU p_UD -0.004523 0.015220\n",
      "p_HU R_0 -0.003990 0.014215\n",
      "p_HU mu -0.001756 0.008985\n",
      "p_HU lambda_1 -0.004495 0.015169\n",
      "p_HU t_0 0.000741 0.016836\n",
      "p_HU N -0.009705 0.020638\n",
      "p_HU N_I -0.005270 0.017456\n",
      "p_HU N_H -0.004494 0.015157\n",
      "p_HU N_U -0.004448 0.015168\n",
      "p_HU I_moins_0 -0.004255 0.014903\n",
      "p_UD R_0 -0.000000 0.000000\n",
      "p_UD mu -0.000000 0.000000\n",
      "p_UD lambda_1 -0.000000 0.000000\n",
      "p_UD t_0 0.000000 0.000000\n",
      "p_UD N -0.000000 0.000000\n",
      "p_UD N_I -0.000000 0.000000\n",
      "p_UD N_H -0.000000 0.000000\n",
      "p_UD N_U -0.000000 0.000000\n",
      "p_UD I_moins_0 -0.000000 0.000000\n",
      "R_0 mu 0.041258 0.094372\n",
      "R_0 lambda_1 0.033157 0.073106\n",
      "R_0 t_0 -0.011059 0.091840\n",
      "R_0 N 0.052665 0.095660\n",
      "R_0 N_I 0.035272 0.075521\n",
      "R_0 N_H 0.033131 0.073062\n",
      "R_0 N_U 0.032875 0.072856\n",
      "R_0 I_moins_0 0.032685 0.072778\n",
      "mu lambda_1 0.207952 0.509613\n",
      "mu t_0 0.135804 0.385975\n",
      "mu N 0.307368 0.741180\n",
      "mu N_I 0.235337 0.642454\n",
      "mu N_H 0.203298 0.506671\n",
      "mu N_U 0.199048 0.504061\n",
      "mu I_moins_0 0.198881 0.497031\n",
      "lambda_1 t_0 0.000890 0.003051\n",
      "lambda_1 N 0.002449 0.006536\n",
      "lambda_1 N_I 0.000336 0.002420\n",
      "lambda_1 N_H 0.000255 0.002235\n",
      "lambda_1 N_U 0.000224 0.002223\n",
      "lambda_1 I_moins_0 0.000115 0.002180\n",
      "t_0 N 0.046262 0.399678\n",
      "t_0 N_I 0.033741 0.362069\n",
      "t_0 N_H 0.003318 0.282265\n",
      "t_0 N_U 0.006438 0.282547\n",
      "t_0 I_moins_0 0.000311 0.273059\n",
      "N N_I -0.109498 0.195404\n",
      "N N_H -0.103825 0.188362\n",
      "N N_U -0.104135 0.189212\n",
      "N I_moins_0 -0.099751 0.182770\n",
      "N_I N_H 0.012973 0.063420\n",
      "N_I N_U 0.013030 0.063416\n",
      "N_I I_moins_0 0.013579 0.062586\n",
      "N_H N_U -0.000224 0.003013\n",
      "N_H I_moins_0 -0.000090 0.003024\n",
      "N_U I_moins_0 -0.006122 0.015800\n",
      "Group S1 S1_conf ST ST_conf\n",
      "p_a nan nan nan nan\n",
      "p_IH nan nan nan nan\n",
      "p_IU nan nan nan nan\n",
      "p_HD nan nan nan nan\n",
      "p_HU nan nan nan nan\n",
      "p_UD nan nan nan nan\n",
      "R_0 nan nan nan nan\n",
      "mu nan nan nan nan\n",
      "lambda_1 nan nan nan nan\n",
      "t_0 nan nan nan nan\n",
      "N nan nan nan nan\n",
      "N_I nan nan nan nan\n",
      "N_H nan nan nan nan\n",
      "N_U nan nan nan nan\n",
      "I_moins_0 nan nan nan nan\n",
      "\n",
      "Group_1 Group_2 S2 S2_conf\n",
      "p_a p_IH nan nan\n",
      "p_a p_IU nan nan\n",
      "p_a p_HD nan nan\n",
      "p_a p_HU nan nan\n",
      "p_a p_UD nan nan\n",
      "p_a R_0 nan nan\n",
      "p_a mu nan nan\n",
      "p_a lambda_1 nan nan\n",
      "p_a t_0 nan nan\n",
      "p_a N nan nan\n",
      "p_a N_I nan nan\n",
      "p_a N_H nan nan\n",
      "p_a N_U nan nan\n",
      "p_a I_moins_0 nan nan\n",
      "p_IH p_IU nan nan\n",
      "p_IH p_HD nan nan\n",
      "p_IH p_HU nan nan\n",
      "p_IH p_UD nan nan\n",
      "p_IH R_0 nan nan\n",
      "p_IH mu nan nan\n",
      "p_IH lambda_1 nan nan\n",
      "p_IH t_0 nan nan\n",
      "p_IH N nan nan\n",
      "p_IH N_I nan nan\n",
      "p_IH N_H nan nan\n",
      "p_IH N_U nan nan\n",
      "p_IH I_moins_0 nan nan\n",
      "p_IU p_HD nan nan\n",
      "p_IU p_HU nan nan\n",
      "p_IU p_UD nan nan\n",
      "p_IU R_0 nan nan\n",
      "p_IU mu nan nan\n",
      "p_IU lambda_1 nan nan\n",
      "p_IU t_0 nan nan\n",
      "p_IU N nan nan\n",
      "p_IU N_I nan nan\n",
      "p_IU N_H nan nan\n",
      "p_IU N_U nan nan\n",
      "p_IU I_moins_0 nan nan\n",
      "p_HD p_HU nan nan\n",
      "p_HD p_UD nan nan\n",
      "p_HD R_0 nan nan\n",
      "p_HD mu nan nan\n",
      "p_HD lambda_1 nan nan\n",
      "p_HD t_0 nan nan\n",
      "p_HD N nan nan\n",
      "p_HD N_I nan nan\n",
      "p_HD N_H nan nan\n",
      "p_HD N_U nan nan\n",
      "p_HD I_moins_0 nan nan\n",
      "p_HU p_UD nan nan\n",
      "p_HU R_0 nan nan\n",
      "p_HU mu nan nan\n",
      "p_HU lambda_1 nan nan\n",
      "p_HU t_0 nan nan\n",
      "p_HU N nan nan\n",
      "p_HU N_I nan nan\n",
      "p_HU N_H nan nan\n",
      "p_HU N_U nan nan\n",
      "p_HU I_moins_0 nan nan\n",
      "p_UD R_0 nan nan\n",
      "p_UD mu nan nan\n",
      "p_UD lambda_1 nan nan\n",
      "p_UD t_0 nan nan\n",
      "p_UD N nan nan\n",
      "p_UD N_I nan nan\n",
      "p_UD N_H nan nan\n",
      "p_UD N_U nan nan\n",
      "p_UD I_moins_0 nan nan\n",
      "R_0 mu nan nan\n",
      "R_0 lambda_1 nan nan\n",
      "R_0 t_0 nan nan\n",
      "R_0 N nan nan\n",
      "R_0 N_I nan nan\n",
      "R_0 N_H nan nan\n",
      "R_0 N_U nan nan\n",
      "R_0 I_moins_0 nan nan\n",
      "mu lambda_1 nan nan\n",
      "mu t_0 nan nan\n",
      "mu N nan nan\n",
      "mu N_I nan nan\n",
      "mu N_H nan nan\n",
      "mu N_U nan nan\n",
      "mu I_moins_0 nan nan\n",
      "lambda_1 t_0 nan nan\n",
      "lambda_1 N nan nan\n",
      "lambda_1 N_I nan nan\n",
      "lambda_1 N_H nan nan\n",
      "lambda_1 N_U nan nan\n",
      "lambda_1 I_moins_0 nan nan\n",
      "t_0 N nan nan\n",
      "t_0 N_I nan nan\n",
      "t_0 N_H nan nan\n",
      "t_0 N_U nan nan\n",
      "t_0 I_moins_0 nan nan\n",
      "N N_I nan nan\n",
      "N N_H nan nan\n",
      "N N_U nan nan\n",
      "N I_moins_0 nan nan\n",
      "N_I N_H nan nan\n",
      "N_I N_U nan nan\n",
      "N_I I_moins_0 nan nan\n",
      "N_H N_U nan nan\n",
      "N_H I_moins_0 nan nan\n",
      "N_U I_moins_0 nan nan\n"
     ]
    }
   ],
   "source": [
    "param_values = saltelli.sample(problem, 100, calc_second_order=True)\n",
    "peak_value, peak_day = Resolution(param_values)\n",
    "Si_peak_value = sobol.analyze(problem, peak_value, print_to_console=True)\n",
    "Si_peak_day = sobol.analyze(problem, peak_day, print_to_console=True)"
   ]
  },
  {
   "cell_type": "code",
   "execution_count": null,
   "metadata": {},
   "outputs": [],
   "source": []
  },
  {
   "cell_type": "code",
   "execution_count": null,
   "metadata": {},
   "outputs": [],
   "source": []
  },
  {
   "cell_type": "code",
   "execution_count": null,
   "metadata": {},
   "outputs": [],
   "source": []
  },
  {
   "cell_type": "markdown",
   "metadata": {},
   "source": [
    "# Calibration"
   ]
  },
  {
   "cell_type": "code",
   "execution_count": 2,
   "metadata": {},
   "outputs": [],
   "source": [
    "import pandas as pd\n",
    "import matplotlib.dates as mdates\n",
    "from matplotlib import ticker"
   ]
  },
  {
   "cell_type": "code",
   "execution_count": 3,
   "metadata": {},
   "outputs": [
    {
     "data": {
      "text/html": [
       "<div>\n",
       "<style scoped>\n",
       "    .dataframe tbody tr th:only-of-type {\n",
       "        vertical-align: middle;\n",
       "    }\n",
       "\n",
       "    .dataframe tbody tr th {\n",
       "        vertical-align: top;\n",
       "    }\n",
       "\n",
       "    .dataframe thead th {\n",
       "        text-align: right;\n",
       "    }\n",
       "</style>\n",
       "<table border=\"1\" class=\"dataframe\">\n",
       "  <thead>\n",
       "    <tr style=\"text-align: right;\">\n",
       "      <th></th>\n",
       "      <th>jour</th>\n",
       "      <th>hosp</th>\n",
       "      <th>rea</th>\n",
       "      <th>rad</th>\n",
       "      <th>dc</th>\n",
       "      <th>detecte</th>\n",
       "    </tr>\n",
       "  </thead>\n",
       "  <tbody>\n",
       "    <tr>\n",
       "      <th>0</th>\n",
       "      <td>2020-03-18</td>\n",
       "      <td>5905</td>\n",
       "      <td>1535</td>\n",
       "      <td>1627</td>\n",
       "      <td>435</td>\n",
       "      <td>1404.0</td>\n",
       "    </tr>\n",
       "    <tr>\n",
       "      <th>1</th>\n",
       "      <td>2020-03-19</td>\n",
       "      <td>7961</td>\n",
       "      <td>1975</td>\n",
       "      <td>2322</td>\n",
       "      <td>642</td>\n",
       "      <td>1861.0</td>\n",
       "    </tr>\n",
       "    <tr>\n",
       "      <th>2</th>\n",
       "      <td>2020-03-20</td>\n",
       "      <td>10272</td>\n",
       "      <td>2564</td>\n",
       "      <td>3128</td>\n",
       "      <td>890</td>\n",
       "      <td>1617.0</td>\n",
       "    </tr>\n",
       "    <tr>\n",
       "      <th>3</th>\n",
       "      <td>2020-03-21</td>\n",
       "      <td>11599</td>\n",
       "      <td>2872</td>\n",
       "      <td>3580</td>\n",
       "      <td>1041</td>\n",
       "      <td>1847.0</td>\n",
       "    </tr>\n",
       "    <tr>\n",
       "      <th>4</th>\n",
       "      <td>2020-03-22</td>\n",
       "      <td>13675</td>\n",
       "      <td>3311</td>\n",
       "      <td>4188</td>\n",
       "      <td>1251</td>\n",
       "      <td>1559.0</td>\n",
       "    </tr>\n",
       "  </tbody>\n",
       "</table>\n",
       "</div>"
      ],
      "text/plain": [
       "        jour   hosp   rea   rad    dc  detecte\n",
       "0 2020-03-18   5905  1535  1627   435   1404.0\n",
       "1 2020-03-19   7961  1975  2322   642   1861.0\n",
       "2 2020-03-20  10272  2564  3128   890   1617.0\n",
       "3 2020-03-21  11599  2872  3580  1041   1847.0\n",
       "4 2020-03-22  13675  3311  4188  1251   1559.0"
      ]
     },
     "execution_count": 3,
     "metadata": {},
     "output_type": "execute_result"
    }
   ],
   "source": [
    "\n",
    "contamination = pd.read_csv('data_per_day.csv', sep = ';')\n",
    "contamination.columns = [jour,'detecte']\n",
    "contamination[jour] = pd.to_datetime(contamination[jour],infer_datetime_format = True)\n",
    "contamination = contamination[contamination[jour]<= '2020-05-11']\n",
    "contamination['detecte'] = contamination['detecte'].diff(periods = 1)\n",
    "\n",
    " \n",
    "hosp          = pd.read_csv('donnees_hospitalieres.csv', ';')\n",
    "hosp[jour]    = pd.to_datetime(hosp[jour])\n",
    "hosp          = hosp.groupby(jour).agg('sum').reset_index(False)[[jour,'hosp','rea','rad','dc']]\n",
    "big_table     = hosp.merge(contamination, left_on= jour, right_on = jour)\n",
    "big_table     = big_table[big_table[jour]<= '2020-05-11']\n",
    "big_table.head()   "
   ]
  },
  {
   "cell_type": "code",
   "execution_count": 4,
   "metadata": {},
   "outputs": [
    {
     "data": {
      "text/plain": [
       "Text(0.5, 1.0, 'Spread of the epidemic')"
      ]
     },
     "execution_count": 4,
     "metadata": {},
     "output_type": "execute_result"
    },
    {
     "data": {
      "image/png": "[encoded data removed]",
      "text/plain": [
       "<Figure size 576x360 with 1 Axes>"
      ]
     },
     "metadata": {
      "needs_background": "light"
     },
     "output_type": "display_data"
    }
   ],
   "source": [
    "columns = ['hosp','rea','rad','dc']\n",
    "titles  = {'hosp': 'hospitalises (H)', 'rea': 'soins intensifs (U)', 'dc' : 'decedes (D)', 'detecte' : 'detectes (DR)', 'rad' : 'gueris (R+)'}\n",
    "\n",
    "fig, axs = plt.subplots(figsize = (8,5), nrows = 1, ncols = 1)\n",
    "for i,col in enumerate(columns) : \n",
    "    axs.scatter(big_table[jour],big_table[col],marker = '.', label = titles[col])\n",
    "axs.scatter(contamination[jour],contamination['detecte'], marker = '.', label = titles['detecte'])\n",
    "axs.legend()\n",
    "locator = mdates.MonthLocator()\n",
    "fmt = mdates.DateFormatter('%b')\n",
    "X = plt.gca().xaxis\n",
    "X.set_major_locator(locator)\n",
    "# Specify formatter\n",
    "X.set_major_formatter(fmt)\n",
    "\n",
    "\n",
    "formatter = ticker.ScalarFormatter(useMathText=True)\n",
    "formatter.set_scientific(True) \n",
    "formatter.set_powerlimits((-1,1))\n",
    "axs.yaxis.set_major_formatter(formatter) \n",
    "axs.set_ylabel('nombre')\n",
    "axs.set_xlabel('date')\n",
    "axs.format_xdata = mdates.DateFormatter('%Y-%m-%d')\n",
    "axs.set_title('Spread of the epidemic')"
   ]
  },
  {
   "cell_type": "markdown",
   "metadata": {},
   "source": [
    "# Calibration déterministe"
   ]
  },
  {
   "cell_type": "code",
   "execution_count": 5,
   "metadata": {},
   "outputs": [],
   "source": [
    "from scipy.optimize import minimize\n"
   ]
  },
  {
   "cell_type": "code",
   "execution_count": 6,
   "metadata": {},
   "outputs": [],
   "source": [
    "# Table pre-processing\n",
    "contamination = contamination[('2020-02-25' <= contamination[jour])& (contamination[jour]<= '2020-03-31')]\n",
    "big_table     = big_table[big_table[jour]<= '2020-03-31']\n"
   ]
  },
  {
   "cell_type": "code",
   "execution_count": 10,
   "metadata": {
    "scrolled": true
   },
   "outputs": [],
   "source": [
    "\n",
    "\n",
    "def Epsilon(variables,constants,contamination= contamination,big_table=big_table,global_constants=global_constants):\n",
    "    \"\"\"\n",
    "    parameters will be a dictionnary similar to the one resulting from init_constant    \n",
    "    \"\"\"\n",
    "    syst_CI=array([global_constants['S_0'],variables[-1],0,0,0,0,0,0,0,0])\n",
    "    simulation=odeint(equa_diff,syst_CI,constants[-2],args = (variables,constants))[::10]\n",
    "    \n",
    "    DR = ((simulation[30:,-1]-contamination['detecte'].to_numpy())/np.sqrt(simulation[30:,-1]))**2\n",
    "    \n",
    "    H  = ((simulation[52:,5]-big_table['hosp'].to_numpy())/np.sqrt(simulation[52:,5]))**2\n",
    "    U  = ((simulation[52:,6]-big_table['rea'].to_numpy())/np.sqrt(simulation[52:,6]))**2\n",
    "    D  = ((simulation[52:,8]-big_table['dc'].to_numpy())/np.sqrt(simulation[52:,8]))**2\n",
    "    R  = ((simulation[52:,7]-big_table['rad'].to_numpy())/np.sqrt(simulation[52:,7]))**2\n",
    "    return np.sum(DR) + np.sum(H+U+D+R)\n",
    "\n"
   ]
  },
  {
   "cell_type": "code",
   "execution_count": 14,
   "metadata": {},
   "outputs": [],
   "source": [
    "variables = init_variables(T_MAX = 66)\n",
    "constants = compute_constants(variables, global_constants = global_constants)\n",
    "variables = list(variables.values())\n",
    "constants = list(constants.values())\n",
    "\n",
    "res = minimize(Epsilon,x0 = variables,bounds = bound, args = (constants))\n",
    "optimal_variables = dict(zip(variables_keys,res.x))"
   ]
  },
  {
   "cell_type": "code",
   "execution_count": 15,
   "metadata": {},
   "outputs": [],
   "source": [
    "constants   = compute_constants(optimal_variables)\n",
    "syst_CI    = array([global_constants['S_0'],optimal_variables['I_moins_0'],0,0,0,0,0,0,0,0])\n",
    "simulation = odeint(equa_diff,syst_CI,constants['t'], args = (optimal_variables,constants))[::10]"
   ]
  },
  {
   "cell_type": "code",
   "execution_count": 16,
   "metadata": {},
   "outputs": [
    {
     "data": {
      "text/plain": [
       "Text(0.5, 1.0, 'Spread of the epidemic')"
      ]
     },
     "execution_count": 16,
     "metadata": {},
     "output_type": "execute_result"
    },
    {
     "data": {
      "image/png": "[encoded data removed]",
      "text/plain": [
       "<Figure size 576x360 with 1 Axes>"
      ]
     },
     "metadata": {
      "needs_background": "light"
     },
     "output_type": "display_data"
    },
    {
     "data": {
      "image/png": "[encoded data removed]",
      "text/plain": [
       "<Figure size 576x360 with 1 Axes>"
      ]
     },
     "metadata": {
      "needs_background": "light"
     },
     "output_type": "display_data"
    }
   ],
   "source": [
    "fig, axs = plt.subplots(figsize = (8,5), nrows = 1, ncols = 1)\n",
    "columns  = [5,6,7,8,9]\n",
    "titles   = {'5':'hosp (H)','6': 'rea (U)','8':'decede (D)', '9':'detecte (DR)','7': 'gueris (R+)'}\n",
    "time     = pd.date_range(start =  '2020-01-26', end = '2020-03-31', freq = 'D')\n",
    "\n",
    "for i,col in enumerate(columns) : \n",
    "    axs.scatter(time,simulation[:,col],marker = '.', label = titles[f\"{col}\"])\n",
    "axs.legend()\n",
    "locator = mdates.MonthLocator()\n",
    "fmt = mdates.DateFormatter('%b')\n",
    "X = plt.gca().xaxis\n",
    "X.set_major_locator(locator)\n",
    "X.set_major_formatter(fmt)\n",
    "\n",
    "\n",
    "formatter = ticker.ScalarFormatter(useMathText=True)\n",
    "formatter.set_scientific(True) \n",
    "formatter.set_powerlimits((-1,1))\n",
    "axs.yaxis.set_major_formatter(formatter) \n",
    "axs.set_ylabel('nombre')\n",
    "axs.set_xlabel('date')\n",
    "axs.format_xdata = mdates.DateFormatter('%Y-%m-%d')\n",
    "axs.set_title('Spread of the epidemic')\n",
    "\n",
    "\n",
    "\n",
    "columns = ['hosp','rea','rad','dc']\n",
    "titles  = {'hosp': 'hospitalises (H)', 'rea': 'soins intensifs (U)', 'dc' : 'decedes (D)', 'detecte' : 'detectes (DR)', 'rad' : 'gueris (R+)'}\n",
    "\n",
    "fig, axs = plt.subplots(figsize = (8,5), nrows = 1, ncols = 1)\n",
    "for i,col in enumerate(columns) : \n",
    "    axs.scatter(big_table[jour],big_table[col],marker = '.', label = titles[col])\n",
    "axs.scatter(contamination[jour],contamination['detecte'], marker = '.', label = titles['detecte'])\n",
    "axs.legend()\n",
    "locator = mdates.MonthLocator()\n",
    "fmt = mdates.DateFormatter('%b')\n",
    "X = plt.gca().xaxis\n",
    "X.set_major_locator(locator)\n",
    "# Specify formatter\n",
    "X.set_major_formatter(fmt)\n",
    "\n",
    "\n",
    "formatter = ticker.ScalarFormatter(useMathText=True)\n",
    "formatter.set_scientific(True) \n",
    "formatter.set_powerlimits((-1,1))\n",
    "axs.yaxis.set_major_formatter(formatter) \n",
    "axs.set_ylabel('nombre')\n",
    "axs.set_xlabel('date')\n",
    "axs.format_xdata = mdates.DateFormatter('%Y-%m-%d')\n",
    "axs.set_title('Spread of the epidemic')"
   ]
  },
  {
   "cell_type": "markdown",
   "metadata": {},
   "source": [
    "# Question 8"
   ]
  },
  {
   "cell_type": "markdown",
   "metadata": {},
   "source": [
    "\n",
    "### $p(data|x,\\sigma)=(2\\pi)^{-\\frac{n_{DR}}{2}-2n_{H}}\\sigma_{DR}^{-n_{DR}}\\sigma_{H}^{-n_{H}}\\sigma_{U}^{-n_{H}}\\sigma_{D}^{-n_{H}}\\sigma_{R}^{-n_{H}}\\times e^{-\\frac{1}{2}\\sum_{i=1}^{n_{DR}}\\frac{f_{DR}(x,s_{i})^{2}}{\\sigma_{DR}^{2}}-\\frac{1}{2}\\sum_{i=1}^{n_{H}}\\frac{f_{H}(x,s_{i})2}{\\sigma_{H}^{2}}+\\frac{f_{U}(x,s_{i})^{2}}{\\sigma_{U}^{2}}+\\frac{f_{D}(x,s_{i})^{2}}{\\sigma_{D}^{2}}+\\frac{f_{R}(x,s_{i})^{2}}{\\sigma_{R}^{2}}}$\n",
    "\n",
    "### Que l'on peut réécrire de la manière suivante :\n",
    "\n",
    "### $p(data|x,\\sigma)=(2\\pi)^{-\\frac{n_{DR}}{2}-2n_{H}}\\sigma_{H}^{-n_{H}}\\sigma_{U}^{-n_{H}}\\sigma_{D}^{-n_{H}}\\sigma_{R}^{-n_{H}}\\times e^{-n_{DR}ln(\\sigma_{DR})-\\frac{1}{2}\\sum_{i=1}^{n_{DR}}\\frac{f_{DR}(x,s_{i})^{2}}{\\sigma_{DR}^{2}}-\\frac{1}{2}\\sum_{i=1}^{n_{H}}\\frac{f_{H}(x,s_{i})2}{\\sigma_{H}^{2}}+\\frac{f_{U}(x,s_{i})^{2}}{\\sigma_{U}^{2}}+\\frac{f_{D}(x,s_{i})^{2}}{\\sigma_{D}^{2}}+\\frac{f_{R}(x,s_{i})^{2}}{\\sigma_{R}^{2}}}$\n",
    "\n",
    "\n",
    "### Ainsi, on a : \n",
    "\n",
    "### $\\frac{\\partial}{\\sigma_{DR}}p(data|x,\\sigma)=(2\\pi)^{-\\frac{n_{DR}}{2}-2n_{H}}\\sigma_{H}^{-n_{H}}\\sigma_{U}^{-n_{H}}\\sigma_{D}^{-n_{H}}\\sigma_{R}^{-n_{H}}\\times(-\\frac{n_{DR}}{\\sigma_{DR}}+\\sum_{i=1}^{n_{DR}}\\frac{f_{DR}(x,s_{i})^{2}}{\\sigma_{DR}^{3}})e^{-n_{DR}ln(\\sigma_{DR})-\\frac{1}{2}\\sum_{i=1}^{n_{DR}}\\frac{f_{DR}(x,s_{i})^{2}}{\\sigma_{DR}^{2}}-\\frac{1}{2}\\sum_{i=1}^{n_{H}}\\frac{f_{H}(x,s_{i})2}{\\sigma_{H}^{2}}+\\frac{f_{U}(x,s_{i})^{2}}{\\sigma_{U}^{2}}+\\frac{f_{D}(x,s_{i})^{2}}{\\sigma_{D}^{2}}+\\frac{f_{R}(x,s_{i})^{2}}{\\sigma_{R}^{2}}}$\n",
    "\n",
    "\n",
    "### et, \n",
    "\n",
    "### $\\frac{\\partial}{\\sigma_{DR}}p(data|x,\\sigma)=0$ ssi :\n",
    "\n",
    "\n",
    "\n",
    "### $\\frac{n_{DR}}{\\sigma_{DR}}=\\sum_{i=1}^{n_{DR}}\\frac{f_{DR}(x,s_{i})^{2}}{\\sigma_{DR}^{3}}$\n",
    "\n",
    "\n",
    "### soit, \n",
    "\n",
    "### $\\sigma_{DR}^{2}=\\sum_{i=1}^{n_{DR}}\\frac{f_{DR}(x,s_{i})^{2}}{n_{DR}}$\n",
    "\n",
    "\n",
    "### En raisonnant de même pour les autres sigmas, il vient que :\n",
    "\n",
    "### $\\sigma_{C}^{2}=\\sum_{i=1}^{n_{H}}\\frac{f_{C}(x,s_{i})^{2}}{n_{H}}$\n",
    "\n"
   ]
  },
  {
   "cell_type": "code",
   "execution_count": null,
   "metadata": {},
   "outputs": [],
   "source": []
  },
  {
   "cell_type": "code",
   "execution_count": null,
   "metadata": {},
   "outputs": [],
   "source": [
    "type(variables)"
   ]
  },
  {
   "cell_type": "code",
   "execution_count": null,
   "metadata": {},
   "outputs": [],
   "source": [
    "variables"
   ]
  },
  {
   "cell_type": "code",
   "execution_count": null,
   "metadata": {},
   "outputs": [],
   "source": []
  }
 ],
 "metadata": {
  "kernelspec": {
   "display_name": "Python 3",
   "language": "python",
   "name": "python3"
  },
  "language_info": {
   "codemirror_mode": {
    "name": "ipython",
    "version": 3
   },
   "file_extension": ".py",
   "mimetype": "text/x-python",
   "name": "python",
   "nbconvert_exporter": "python",
   "pygments_lexer": "ipython3",
   "version": "3.8.5"
  }
 },
 "nbformat": 4,
 "nbformat_minor": 4
}
