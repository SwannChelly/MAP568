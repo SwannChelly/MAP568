{
 "cells": [
  {
   "cell_type": "markdown",
   "metadata": {},
   "source": [
    "# MAP 568 Project"
   ]
  },
  {
   "cell_type": "markdown",
   "metadata": {},
   "source": [
    "Maxime Vincent & Swann Chelly"
   ]
  },
  {
   "cell_type": "code",
   "execution_count": 1,
   "metadata": {},
   "outputs": [],
   "source": [
    "import numpy as np\n",
    "\n",
    "from constant import *\n",
    "from scipy import *\n",
    "from scipy import stats\n",
    "from pylab import *     \n",
    "from scipy.integrate import odeint # Module de résolution des équations différentielles\n",
    "import plotly as po\n",
    "from progressbar import ProgressBar\n",
    "import matplotlib.pyplot as plt"
   ]
  },
  {
   "cell_type": "code",
   "execution_count": 2,
   "metadata": {},
   "outputs": [],
   "source": [
    "def euler_one_step(S,I_moins,I_plus,R_moins,R_plus_I,H,U,R_plus_H,D,D_R,i,constants,variables, deltaT):\n",
    "    S_1        = S-constants['tau'][i]*S*I_moins*deltaT\n",
    "    I_moins_1  = I_moins + (constants['tau'][i]*S*I_moins-variables['lambda_1']*I_moins-(constants['gamma_IR']+constants['gamma_IH']+constants['gamma_IU'])*I_moins)*deltaT\n",
    "    I_plus_1   = I_plus +(variables['lambda_1']*I_moins-(constants['gamma_IR']+constants['gamma_IH']+constants['gamma_IU'])*I_plus)*deltaT\n",
    "    R_moins_1  = R_moins +(constants['gamma_IR']*I_moins)*deltaT\n",
    "    R_plus_I_1 = R_plus_I + (constants['gamma_IR']*I_plus)*deltaT\n",
    "    H_1        = H + (constants['gamma_IH']*(I_moins + I_plus)-(constants['gamma_HR']+constants['gamma_HD']+constants['gamma_HU'])*H)*deltaT\n",
    "    U_1        = U + (constants['gamma_IU']*(I_moins + I_plus)+constants['gamma_HU']*H-(constants['gamma_UR'] + constants['gamma_UD'])*U)*deltaT\n",
    "    R_plus_H_1 = R_plus_H+ (constants['gamma_HR']*H+constants['gamma_UR']*U)*deltaT\n",
    "    D_1        = D + (constants['gamma_UD']*U+constants['gamma_HD']*H)*deltaT  \n",
    "    D_R_1      = D_R +((variables['lambda_1']+constants['gamma_IH']+constants['gamma_IU'])*I_moins-D_R)*deltaT\n",
    "    \n",
    "    \n",
    "    return(S_1,I_moins_1,I_plus_1,R_moins_1,R_plus_I_1,H_1,U_1,R_plus_H_1,D_1,D_R_1)\n",
    "\n",
    "\n",
    "def resolution_systeme(deltaT,constants, variables, set_size = global_constants['set_size']):\n",
    "    Res = np.zeros((10,set_size))\n",
    "    Res[0,0] = global_constants['S_0']\n",
    "    Res[1,0] = variables['I_moins_0']\n",
    "    \n",
    "    for i in range(1,set_size):\n",
    "        Res[:,i] = euler_one_step(Res[0,i-1],Res[1,i-1],Res[2,i-1],Res[3,i-1],Res[4,i-1],Res[5,i-1],Res[6,i-1],Res[7,i-1],Res[8,i-1],Res[9,i-1],i,constants, variables, deltaT)\n",
    " \n",
    "    return Res\n",
    "\n"
   ]
  },
  {
   "cell_type": "markdown",
   "metadata": {},
   "source": [
    "## Incertitudes en sortie\n",
    "\n",
    "1) **Programmer la résolution du système (1-10).**\n",
    "\n",
    "Dans le fichier constant nous définissons l'ensemble des constantes. La fonction `init_constant` de ce fichier renvoie un dictionnaire généré aléatoirement de constantes. "
   ]
  },
  {
   "cell_type": "code",
   "execution_count": 3,
   "metadata": {},
   "outputs": [],
   "source": [
    "## Résolution de l'équation différentielle. \n",
    "\n",
    "def equa_diff(syst,temps):\n",
    "    \n",
    "    \"\"\"\n",
    "    La résolution du système d'équation différentiel (1-10) se fait grace au module odeint de scipy.integrate.\n",
    "    \n",
    "    Paramètres :\n",
    "    ------------\n",
    "    \n",
    "    syst : tableau, \n",
    "        Conditions initiales.\n",
    "    \n",
    "    temps : float,\n",
    "        \n",
    "    \n",
    "    Sorties : \n",
    "    ---------\n",
    "    Ensemble des paramètres du système différentiel. \n",
    "    \n",
    "    \"\"\"\n",
    "    tau = cst['tau_0']*np.exp(-cst['mu']*max(temps-cst['N'],0))\n",
    "    S = syst[0] \n",
    "    I_moins = syst[1] \n",
    "    I_plus = syst[2] \n",
    "    R_moins = syst[3] \n",
    "    R_plus_I = syst[4] \n",
    "    H = syst[5] \n",
    "    U = syst[6] \n",
    "    R_plus_H = syst[7] \n",
    "    D = syst[8] \n",
    "    D_R = syst[9]\n",
    "    # Dérivées des variables\n",
    "    DS = -tau*S*I_moins\n",
    "    DI_moins = tau*S*I_moins-cst['lambda_1']*I_moins-(cst['gamma_IR']+cst['gamma_IH']+cst['gamma_IU'])*I_moins\n",
    "    DI_plus = cst['lambda_1']*I_moins-(cst['gamma_IR']+cst['gamma_IH']+cst['gamma_IU'])*I_plus\n",
    "    DR_moins = cst['gamma_IR']*I_moins-cst['lambda_2']*R_moins\n",
    "    DR_plus_I = cst['gamma_IR']*I_plus+cst['lambda_2']*R_moins\n",
    "    DH = cst['gamma_IH']*(I_moins + I_plus)-(cst['gamma_HR']+cst['gamma_HD']+cst['gamma_HU'])*H\n",
    "    DU = cst['gamma_IU']*(I_moins + I_plus)+cst['gamma_HU']*H-(cst['gamma_UR'] + cst['gamma_UD'])*U\n",
    "    DR_plus_H = cst['gamma_HR']*H+cst['gamma_UR']*U\n",
    "    DD = cst['gamma_UD']*U+cst['gamma_HD']*H  \n",
    "    DD_R = (cst['lambda_1']+cst['gamma_IH']+cst['gamma_IU'])*I_moins-D_R\n",
    "    \n",
    "    \n",
    "    return(DS,DI_moins,DI_plus,DR_moins,DR_plus_I,DH,DU,DR_plus_H,DD,DD_R)\n"
   ]
  },
  {
   "cell_type": "code",
   "execution_count": 3,
   "metadata": {},
   "outputs": [
    {
     "name": "stdout",
     "output_type": "stream",
     "text": [
      "1\n"
     ]
    },
    {
     "data": {
      "text/plain": [
       "Text(0, 0.5, 'Nombre de personne en réanimation')"
      ]
     },
     "execution_count": 3,
     "metadata": {},
     "output_type": "execute_result"
    },
    {
     "data": {
      "image/png": "[encoded data removed]",
      "text/plain": [
       "<Figure size 432x288 with 1 Axes>"
      ]
     },
     "metadata": {
      "needs_background": "light"
     },
     "output_type": "display_data"
    }
   ],
   "source": [
    "# Analyse des résultats\n",
    "\n",
    "#cst = init_constant()\n",
    "#syst_CI=array([cst['S_0'],cst['I_moins_0'],0,0,0,0,0,0,0,0])\n",
    "#simulation=odeint(equa_diff,syst_CI,t)\n",
    "variables = init_variables(deltaT=global_constants['deltaT'],global_constants = global_constants)\n",
    "constants = compute_constants(variables)\n",
    "#syst_CI=array([global_constants['S_0'],variables['I_moins_0'],0,0,0,0,0,0,0,0])\n",
    "#print(global_constants['deltaT'])\n",
    "simulation = resolution_systeme(global_constants['deltaT'],constants, variables, set_size = global_constants['set_size'])\n",
    "\n",
    "plt.plot(simulation[6])\n",
    "plt.title(f\"Evolution du nombre de personne en réanimation sur {global_constants['T_MAX']} jours\")\n",
    "plt.xlabel(f\"Temps en {global_constants['deltaT']} jour\")\n",
    "plt.ylabel(\"Nombre de personne en réanimation\")\n",
    "\n",
    "\n"
   ]
  },
  {
   "cell_type": "markdown",
   "metadata": {},
   "source": [
    "2) **Par échantillonnage Monte Carlo (en utilisant les lois des paramètres d'entrée de la table 1), donner :**\n",
    "- la loi du nombre maximal de patients présents en soins intensifs (histogramme, moyenne, quantiles à 10% et 90%),\n",
    "- la loi de la date du pic de l'épidémie."
   ]
  },
  {
   "cell_type": "code",
   "execution_count": 7,
   "metadata": {},
   "outputs": [
    {
     "name": "stderr",
     "output_type": "stream",
     "text": [
      "  0% (42 of 10000) |                     | Elapsed Time: 0:00:00 ETA:   0:00:47"
     ]
    },
    {
     "name": "stdout",
     "output_type": "stream",
     "text": [
      "Echantillonnage de Monte Carlo sur 10000 simulation\n"
     ]
    },
    {
     "name": "stderr",
     "output_type": "stream",
     "text": [
      "100% (10000 of 10000) |##################| Elapsed Time: 0:00:36 Time:  0:00:36\n"
     ]
    }
   ],
   "source": [
    "## Implémentation de la méthode de Monte Carlo classique pour la résolution du système différentiel. \n",
    "\n",
    "M = 10000\n",
    "#deltaT=1\n",
    "\n",
    "def Monte_Carlo(M):\n",
    "    \"\"\"\n",
    "    Echantillonage de Monte Carlo \n",
    "    \n",
    "    Paramètres : \n",
    "    ------------\n",
    "    \n",
    "    M : int, \n",
    "        Taille de l'échantillon. \n",
    "    \n",
    "    Sorties : \n",
    "    ---------\n",
    "    peak_value  : list,\n",
    "        Nombre de cas en réanimation au pic de l'épidémie pour chaque simulation.\n",
    "    peak_day    : list, \n",
    "        Jour du pic pour chaque simulation.\n",
    "    pos         : list, \n",
    "        Nombre de cas au pic de l'épidémie pour chaque simulation.\n",
    "    \n",
    "    \"\"\"\n",
    "    \n",
    "    print(f\"Echantillonnage de Monte Carlo sur 10000 simulation\")\n",
    "    peak_value,peak_day, pos = [],[], []\n",
    "    pbar = ProgressBar()\n",
    "    for i in pbar(range(M)):\n",
    "        #cst = init_constant()\n",
    "        #syst_CI=array([cst['S_0'],cst['I_moins_0'],0,0,0,0,0,0,0,0]) \n",
    "        variables = init_variables(deltaT=1,global_constants = global_constants)\n",
    "        constants = compute_constants(variables)\n",
    "        syst_CI=array([global_constants['S_0'],variables['I_moins_0'],0,0,0,0,0,0,0,0])\n",
    "        #simulation=odeint(equa_diff,syst_CI,constants['t'], args = (variables,constants))   \n",
    "        #simulation=odeint(equa_diff,syst_CI,t) \n",
    "        simulation = resolution_systeme(global_constants['deltaT'],constants, variables, set_size = global_constants['set_size'])\n",
    "        peak_value.append(np.max(simulation[6]))\n",
    "        peak_day.append(int(np.argmax(list(simulation[6]))*global_constants['deltaT']))\n",
    "        pos.append(np.max(simulation[1]))\n",
    "        \n",
    "    return (peak_value,peak_day,pos)\n",
    "\n",
    "peak_value,peak_day,pos = Monte_Carlo(M)\n"
   ]
  },
  {
   "cell_type": "code",
   "execution_count": 8,
   "metadata": {},
   "outputs": [
    {
     "name": "stdout",
     "output_type": "stream",
     "text": [
      "La valeur moyenne du pic est de 20796.02 et appartient à l'intervalle de confiance à 95% suivant : [19734.13,21857.92] \n",
      " Le quantile à 10% du pic de réanimation est : 26.687890416615694\n",
      " Le quantile à 90% du pic de réanimation est : 61171.511771934376\n"
     ]
    },
    {
     "data": {
      "image/png": "[encoded data removed]",
      "text/plain": [
       "<Figure size 432x288 with 2 Axes>"
      ]
     },
     "metadata": {
      "needs_background": "light"
     },
     "output_type": "display_data"
    }
   ],
   "source": [
    "mean_value = np.mean(peak_value)\n",
    "var_value  = np.var(peak_value)\n",
    "q_10 = np.quantile(peak_value, 0.1, axis = None)\n",
    "q_30 = np.quantile(peak_value, 0.3, axis = None)\n",
    "q_50 = np.quantile(peak_value, 0.5, axis = None)\n",
    "q_70 = np.quantile(peak_value, 0.7, axis = None)\n",
    "q_90 = np.quantile(peak_value, 0.9, axis = None)\n",
    "print(f\"La valeur moyenne du pic est de {round(mean_value,2)} et appartient à l'intervalle de confiance à 95% suivant : [{max(0,round(mean_value-1.96*np.sqrt(var_value/M),2))},{round(mean_value+1.96*np.sqrt(var_value/M),2)}] \")\n",
    "print(f\" Le quantile à 10% du pic de réanimation est : {q_10}\")\n",
    "print(f\" Le quantile à 90% du pic de réanimation est : {q_90}\")\n",
    "\n",
    "# Compte tenu de la valeur du quantile à 90% nous tronquons donc la liste par soucis de visibilité. \n",
    "\n",
    "\n",
    "fig, axs = plt.subplots(2)\n",
    "fig.suptitle(f\"Distribution du nombre de personnes en réanimation sur un échantillon de taille {M}\")\n",
    "axs[0].hist([value for value in peak_value if value < q_90], bins = 100)\n",
    "axs[0].set_title('Quantile à 90 %')\n",
    "axs[1].hist([value for value in peak_value if (value > q_30 and value < q_70)], bins = 100, density = True)\n",
    "axs[1].set_title('Quantile à 70 %')\n",
    "x=np.arange(0,max([value for value in peak_value if (value < q_70)]), 0.01)\n",
    "Moy = np.mean([value for value in peak_value if (value < q_70)])\n",
    "axs[1].plot(x,stats.expon.pdf(x, scale=Moy), label=\"densité\") \n",
    "plt.subplots_adjust(hspace=0.5)"
   ]
  },
  {
   "cell_type": "code",
   "execution_count": 15,
   "metadata": {},
   "outputs": [
    {
     "data": {
      "text/plain": [
       "3385.951154334534"
      ]
     },
     "execution_count": 15,
     "metadata": {},
     "output_type": "execute_result"
    }
   ],
   "source": []
  },
  {
   "cell_type": "code",
   "execution_count": 10,
   "metadata": {},
   "outputs": [
    {
     "name": "stdout",
     "output_type": "stream",
     "text": [
      "7000 6000\n"
     ]
    }
   ],
   "source": [
    "lol = [value for value in peak_value if value < q_70]\n",
    "lol2 = [value for value in peak_value if (value < q_70 and value > q_10)]\n",
    "print(len(lol), len(lol2))\n",
    "                                          "
   ]
  },
  {
   "cell_type": "markdown",
   "metadata": {},
   "source": [
    "En supposant que la distribution du nombre de cas en réanimation au pic de l'épidémie suis une loie exponentielle, nous pouvons donner son paramètre $\\lambda = \\frac{1}{\\mathbb{\\hat{E}}(X)}$ où $X$ correspond à la variable aléatoire liée au nombre de cas en réanimation au pic de l'épidémie. Nous la notrons ici `lbd`.\n"
   ]
  },
  {
   "cell_type": "code",
   "execution_count": 47,
   "metadata": {},
   "outputs": [
    {
     "data": {
      "text/plain": [
       "(array([6.33251487e-05, 6.07751427e-05, 5.45417947e-05, 4.93001158e-05,\n",
       "        4.66792763e-05, 3.91000918e-05, 3.57000838e-05, 3.10250728e-05,\n",
       "        3.04584048e-05, 2.63500619e-05, 2.61375614e-05, 2.06833819e-05,\n",
       "        2.16750509e-05, 1.91250449e-05, 1.92667119e-05, 1.53708694e-05,\n",
       "        1.26791964e-05, 1.40250329e-05, 1.17583609e-05, 9.13752145e-06,\n",
       "        1.01291904e-05, 8.64168696e-06, 8.14585246e-06, 5.80834697e-06,\n",
       "        7.08334996e-06, 6.58751547e-06, 5.10001197e-06, 4.67501098e-06,\n",
       "        4.46251048e-06, 3.61250848e-06, 3.54167498e-06, 3.11667398e-06,\n",
       "        2.47917249e-06, 2.90417349e-06, 2.55000599e-06, 2.12500499e-06,\n",
       "        2.26667199e-06, 2.12500499e-06, 1.48750349e-06, 1.13333599e-06,\n",
       "        9.20835495e-07, 9.91668995e-07, 7.79168496e-07, 3.54167498e-07,\n",
       "        5.66667997e-07, 9.91668995e-07, 4.25000998e-07, 8.50001996e-07,\n",
       "        4.25000998e-07, 9.20835495e-07, 4.95834498e-07, 4.95834498e-07,\n",
       "        7.08334996e-07, 2.83333999e-07, 4.95834498e-07, 6.37501497e-07,\n",
       "        4.25000998e-07, 1.41666999e-07, 2.12500499e-07, 2.83333999e-07,\n",
       "        4.95834498e-07, 0.00000000e+00, 7.08334996e-08, 7.08334996e-08,\n",
       "        1.41666999e-07, 7.08334996e-08, 1.41666999e-07, 7.08334996e-08,\n",
       "        0.00000000e+00, 0.00000000e+00, 1.41666999e-07, 0.00000000e+00,\n",
       "        1.41666999e-07, 7.08334996e-08, 0.00000000e+00, 7.08334996e-08,\n",
       "        7.08334996e-08, 0.00000000e+00, 0.00000000e+00, 0.00000000e+00,\n",
       "        1.41666999e-07, 0.00000000e+00, 0.00000000e+00, 0.00000000e+00,\n",
       "        0.00000000e+00, 0.00000000e+00, 0.00000000e+00, 0.00000000e+00,\n",
       "        0.00000000e+00, 7.08334996e-08, 0.00000000e+00, 0.00000000e+00,\n",
       "        0.00000000e+00, 0.00000000e+00, 0.00000000e+00, 0.00000000e+00,\n",
       "        0.00000000e+00, 0.00000000e+00, 0.00000000e+00, 7.08334996e-08]),\n",
       " array([1.51529535e-01, 1.41191292e+03, 2.82367431e+03, 4.23543570e+03,\n",
       "        5.64719709e+03, 7.05895849e+03, 8.47071988e+03, 9.88248127e+03,\n",
       "        1.12942427e+04, 1.27060041e+04, 1.41177654e+04, 1.55295268e+04,\n",
       "        1.69412882e+04, 1.83530496e+04, 1.97648110e+04, 2.11765724e+04,\n",
       "        2.25883338e+04, 2.40000952e+04, 2.54118566e+04, 2.68236180e+04,\n",
       "        2.82353794e+04, 2.96471407e+04, 3.10589021e+04, 3.24706635e+04,\n",
       "        3.38824249e+04, 3.52941863e+04, 3.67059477e+04, 3.81177091e+04,\n",
       "        3.95294705e+04, 4.09412319e+04, 4.23529933e+04, 4.37647547e+04,\n",
       "        4.51765160e+04, 4.65882774e+04, 4.80000388e+04, 4.94118002e+04,\n",
       "        5.08235616e+04, 5.22353230e+04, 5.36470844e+04, 5.50588458e+04,\n",
       "        5.64706072e+04, 5.78823686e+04, 5.92941300e+04, 6.07058914e+04,\n",
       "        6.21176527e+04, 6.35294141e+04, 6.49411755e+04, 6.63529369e+04,\n",
       "        6.77646983e+04, 6.91764597e+04, 7.05882211e+04, 7.19999825e+04,\n",
       "        7.34117439e+04, 7.48235053e+04, 7.62352667e+04, 7.76470280e+04,\n",
       "        7.90587894e+04, 8.04705508e+04, 8.18823122e+04, 8.32940736e+04,\n",
       "        8.47058350e+04, 8.61175964e+04, 8.75293578e+04, 8.89411192e+04,\n",
       "        9.03528806e+04, 9.17646420e+04, 9.31764033e+04, 9.45881647e+04,\n",
       "        9.59999261e+04, 9.74116875e+04, 9.88234489e+04, 1.00235210e+05,\n",
       "        1.01646972e+05, 1.03058733e+05, 1.04470494e+05, 1.05882256e+05,\n",
       "        1.07294017e+05, 1.08705779e+05, 1.10117540e+05, 1.11529301e+05,\n",
       "        1.12941063e+05, 1.14352824e+05, 1.15764586e+05, 1.17176347e+05,\n",
       "        1.18588108e+05, 1.19999870e+05, 1.21411631e+05, 1.22823393e+05,\n",
       "        1.24235154e+05, 1.25646915e+05, 1.27058677e+05, 1.28470438e+05,\n",
       "        1.29882200e+05, 1.31293961e+05, 1.32705722e+05, 1.34117484e+05,\n",
       "        1.35529245e+05, 1.36941006e+05, 1.38352768e+05, 1.39764529e+05,\n",
       "        1.41176291e+05]),\n",
       " <BarContainer object of 100 artists>)"
      ]
     },
     "execution_count": 47,
     "metadata": {},
     "output_type": "execute_result"
    },
    {
     "data": {
      "image/png": "[encoded data removed]",
      "text/plain": [
       "<Figure size 432x288 with 1 Axes>"
      ]
     },
     "metadata": {
      "needs_background": "light"
     },
     "output_type": "display_data"
    }
   ],
   "source": [
    "lbd = 1/mean_value\n",
    "\n",
    "Y = np.random.exponential(1/lbd,10000)\n",
    "plt.hist(Y,bins = 100,density = True)"
   ]
  },
  {
   "cell_type": "code",
   "execution_count": null,
   "metadata": {},
   "outputs": [],
   "source": []
  },
  {
   "cell_type": "code",
   "execution_count": 58,
   "metadata": {},
   "outputs": [
    {
     "name": "stdout",
     "output_type": "stream",
     "text": [
      "La valeur moyenne du pic est de 62.61 et appartient à l'intervalle de confiance à 95% suivant : [62.24,62.98] \n",
      " Le quantile à 10% du pic de réanimation est : 39.0\n",
      " Le quantile à 90% du pic de réanimation est : 93.0\n"
     ]
    },
    {
     "data": {
      "image/png": "[encoded data removed]",
      "text/plain": [
       "<Figure size 432x288 with 2 Axes>"
      ]
     },
     "metadata": {
      "needs_background": "light"
     },
     "output_type": "display_data"
    }
   ],
   "source": [
    "# Loi de la date de l'épidémie. \n",
    "\n",
    "mean_day = np.mean(peak_day)\n",
    "var_day  = np.var(peak_day)\n",
    "q_10_day = np.quantile(peak_day, 0.1, axis = None)\n",
    "q_70_day = np.quantile(peak_day, 0.7, axis = None)\n",
    "q_90_day = np.quantile(peak_day, 0.9, axis = None)\n",
    "print(f\"La valeur moyenne du pic est de {round(mean_day,2)} et appartient à l'intervalle de confiance à 95% suivant : [{max(0,round(mean_day-1.96*np.sqrt(var_day/M),2))},{round(mean_day+1.96*np.sqrt(var_day/M),2)}] \")\n",
    "print(f\" Le quantile à 10% du pic de réanimation est : {q_10_day}\")\n",
    "print(f\" Le quantile à 90% du pic de réanimation est : {q_90_day}\")\n",
    "\n",
    "# Compte tenu de la valeur du quantile à 90% nous tronquons donc la liste par soucis de visibilité. \n",
    "\n",
    "fig, axs = plt.subplots(2)\n",
    "fig.suptitle(f\"Distribution du jour du pic sur un échantillon de taille {M}\")\n",
    "axs[0].hist([day for day in peak_day if day < q_90_day], bins = 100, density = True)\n",
    "axs[0].set_title('Quantile à 90 %')\n",
    "axs[1].hist([day for day in peak_day if day < q_70_day], bins = 100, density = True)\n",
    "axs[1].set_title('Quantile à 70 %')\n",
    "plt.subplots_adjust(hspace=0.5)"
   ]
  },
  {
   "cell_type": "code",
   "execution_count": 59,
   "metadata": {},
   "outputs": [
    {
     "data": {
      "text/plain": [
       "(array([0.00208333, 0.        , 0.00208333, 0.        , 0.        ,\n",
       "        0.        , 0.        , 0.        , 0.00625   , 0.        ,\n",
       "        0.00625   , 0.        , 0.01875   , 0.        , 0.01458333,\n",
       "        0.        , 0.02916667, 0.        , 0.03541667, 0.        ,\n",
       "        0.03958333, 0.        , 0.03125   , 0.        , 0.        ,\n",
       "        0.06041667, 0.        , 0.04791667, 0.        , 0.06875   ,\n",
       "        0.        , 0.07083333, 0.        , 0.125     , 0.        ,\n",
       "        0.09791667, 0.        , 0.12083333, 0.        , 0.12291667,\n",
       "        0.        , 0.08541667, 0.        , 0.12083333, 0.        ,\n",
       "        0.12708333, 0.        , 0.12291667, 0.        , 0.        ,\n",
       "        0.13958333, 0.        , 0.09791667, 0.        , 0.06458333,\n",
       "        0.        , 0.06458333, 0.        , 0.06875   , 0.        ,\n",
       "        0.06041667, 0.        , 0.05416667, 0.        , 0.04583333,\n",
       "        0.        , 0.02083333, 0.        , 0.02291667, 0.        ,\n",
       "        0.02916667, 0.        , 0.01666667, 0.        , 0.        ,\n",
       "        0.0125    , 0.        , 0.01041667, 0.        , 0.00208333,\n",
       "        0.        , 0.00208333, 0.        , 0.00833333, 0.        ,\n",
       "        0.00208333, 0.        , 0.        , 0.        , 0.00208333,\n",
       "        0.        , 0.        , 0.        , 0.        , 0.        ,\n",
       "        0.        , 0.        , 0.        , 0.        , 0.00208333]),\n",
       " array([31.  , 31.48, 31.96, 32.44, 32.92, 33.4 , 33.88, 34.36, 34.84,\n",
       "        35.32, 35.8 , 36.28, 36.76, 37.24, 37.72, 38.2 , 38.68, 39.16,\n",
       "        39.64, 40.12, 40.6 , 41.08, 41.56, 42.04, 42.52, 43.  , 43.48,\n",
       "        43.96, 44.44, 44.92, 45.4 , 45.88, 46.36, 46.84, 47.32, 47.8 ,\n",
       "        48.28, 48.76, 49.24, 49.72, 50.2 , 50.68, 51.16, 51.64, 52.12,\n",
       "        52.6 , 53.08, 53.56, 54.04, 54.52, 55.  , 55.48, 55.96, 56.44,\n",
       "        56.92, 57.4 , 57.88, 58.36, 58.84, 59.32, 59.8 , 60.28, 60.76,\n",
       "        61.24, 61.72, 62.2 , 62.68, 63.16, 63.64, 64.12, 64.6 , 65.08,\n",
       "        65.56, 66.04, 66.52, 67.  , 67.48, 67.96, 68.44, 68.92, 69.4 ,\n",
       "        69.88, 70.36, 70.84, 71.32, 71.8 , 72.28, 72.76, 73.24, 73.72,\n",
       "        74.2 , 74.68, 75.16, 75.64, 76.12, 76.6 , 77.08, 77.56, 78.04,\n",
       "        78.52, 79.  ]),\n",
       " <BarContainer object of 100 artists>)"
      ]
     },
     "execution_count": 59,
     "metadata": {},
     "output_type": "execute_result"
    },
    {
     "data": {
      "image/png": "[encoded data removed]",
      "text/plain": [
       "<Figure size 432x288 with 1 Axes>"
      ]
     },
     "metadata": {
      "needs_background": "light"
     },
     "output_type": "display_data"
    }
   ],
   "source": [
    "#x=np.arange(0,max([value for value in peak_day if (value < q_90_day)]), 0.01)\n",
    "\n",
    "#tracées loi de poisson\n",
    "\n",
    "Esp = np.mean([value for value in peak_day if (value < q_70_day)])\n",
    "plt.hist(stats.poisson.rvs(mu = Esp, size = 1000), bins = 100, density = True)"
   ]
  },
  {
   "cell_type": "code",
   "execution_count": null,
   "metadata": {},
   "outputs": [],
   "source": []
  },
  {
   "cell_type": "code",
   "execution_count": null,
   "metadata": {},
   "outputs": [],
   "source": []
  },
  {
   "cell_type": "code",
   "execution_count": null,
   "metadata": {},
   "outputs": [],
   "source": []
  },
  {
   "cell_type": "code",
   "execution_count": null,
   "metadata": {},
   "outputs": [],
   "source": []
  },
  {
   "cell_type": "code",
   "execution_count": null,
   "metadata": {},
   "outputs": [],
   "source": []
  },
  {
   "cell_type": "code",
   "execution_count": 10,
   "metadata": {},
   "outputs": [],
   "source": []
  },
  {
   "cell_type": "markdown",
   "metadata": {},
   "source": [
    "Consider an economy with a risk-free security with a fixed interest\n",
    "rate r and a single risky security paying $\\widetilde{a}$ in the\n",
    "future and for which investors receive private signals, $\\widetilde{S_{i}}$\n",
    "for individual i. To simplify, take r = 0. Formally, we take the CARA-normal\n",
    "assumptions with utility function : $u(x)=-\\rho e^{-\\rho x}$\\\n",
    "\n",
    "\\begin{align*} \n",
    "INSERT Définition\\\\\n",
    "\\end{align*} \n",
    "The Model : \n",
    "\n",
    "We consider two types of rational investor :\n",
    "\n",
    "An informed investor (or insider), receiving the signal $\\widetilde{s}$,\n",
    "whose risk aversion is $\\rho^{1}$ and whose initial portfolio is\n",
    "$z^{1}(0)$\n",
    "An uninformed investor whose risk aversion is $\\rho^{2}$ with initial\n",
    "portfolio $z^{2}(0)$\n",
    "The vector ($\\widetilde{a},\\widetilde{s},\\widetilde{n}$) is normal,\n",
    "the expectation of $\\widetilde{n}$ is zero, and $Var(\\widetilde{a}|s)>0$\n",
    "\n",
    "\\begin{align*} \n",
    "INSERT Theorem\n",
    "\\end{align*} \n",
    "\n",
    "let's denote by $z,z_{0}$ the demand at t=0 for risky and non risky\n",
    "asset\n",
    "\n",
    "the budget constraint give us : \n",
    "\n",
    "\\begin{align*} \n",
    "\\left\\{ \\begin{array}{c}\n",
    "W_{0}=zp+z_{0}p_{0}\\\\\n",
    "W_{1}=z\\tilde{a}+z_{0}p_{0}(1+r)\n",
    "\\end{array}\\right\\}\\end{align*}  wich give us \n",
    "\\begin{align*} \\widetilde{W_{1}}=z\\tilde{a}+(W_{0}-pz)(1+r)\n",
    "\\end{align*} \n",
    "\n",
    "Investissors choose $z$ to maximize their expected utility conditional\n",
    "on the information they receive $E[v_{i}(\\widetilde{W_{1}})|\\widetilde{s_{i}}=s_{i}]$\n",
    "\n",
    "Using the CARA-Normal model, we consider $\\tilde{a}$ as a normal\n",
    "variable.\n",
    "\n",
    "or, \n",
    "\\begin{align*}\n",
    "v_{i}(\\widetilde{W_{1}})=-e^{-\\rho(z\\tilde{a}+(W_{0}-pz)(1+r))}\n",
    "\\end{align*}\n",
    "\n",
    "hypothese : $\\widetilde{s_{i}}$ est gaussien. in this case, the distribution\n",
    "of $\\tilde{a}$, conditional on $\\tilde{s_{i}}=s_{i}$, is also normal\n",
    "\n",
    "then, \n",
    "\n",
    "\\begin{align*} \n",
    "E(v_{i}(\\widetilde{W_{1}})|\\tilde{s_{i}}=s_{i}) &= -E(e^{-\\rho(z\\tilde{a}+(W_{0}-pz)(1+r))}|\\tilde{s_{i}}=s_{i})\\\\\n",
    "&= -e^{-\\rho[z(E(\\widetilde{a}|s_{i})-\\rho\\frac{z^{2}Var(\\widetilde{a}|s_{i})}{2}+(W_{0}-pz)(1+r)]}\n",
    "\\end{align*} \n",
    "\n",
    "The First order condition give us\n",
    "\\begin{align*} \n",
    "\\frac{\\partial}{\\partial z}E[v(\\widetilde{W_{1}})|s_{i}]=0\\iff E(\\widetilde{a}|s_{i})-z\\rho Var(\\widetilde{a}|s_{i})-p(1+r)=0\n",
    "\\end{align*} \n",
    "\n",
    "then,\n",
    "\\begin{align*} \n",
    "z=\\frac{E(\\widetilde{a}|s_{i})-p(1+r)}{\\rho Var(\\widetilde{a}|s_{i})}\n",
    "\\end{align*} \n",
    "\n",
    "And, by usingthe definition and writting the equilibrium :\n",
    "\n",
    "\\begin{align*} \n",
    "\\frac{E(\\tilde{a}|s)-p}{\\rho^{1}Var(\\tilde{x}|s)}+\\frac{E(\\tilde{a}|s)-p}{\\rho^{2}Var(\\tilde{x}|s)}+n-z^{m}=0\n",
    "\\end{align*} \n",
    "\n",
    "which give us the theorem théorème !\\\n",
    "\n",
    "Direct application : \n",
    "\n",
    "Consider an individual entrepreneur who knows more than anyone else\n",
    "about the value of her firm, and decides whether to go public. This\n",
    "raises the issue of regulating insider trading: Would it be better\n",
    "to have an institutional structure that minimizes our entrepreneur\\textquoteright s\n",
    "opportunities to use her insider information on the market, or to\n",
    "simply opt for an uncompromising laissez-faire approach that will\n",
    "allow the (partial) transmission of the information to all agents\n",
    "in the economy through stock price movements?\n",
    "\n",
    "The entrepreneur, agent 1, initially has full ownership of the firm\n",
    "and then puts it up for sale on the stock exchange. The buyers, agent\n",
    "2, do not possess any securities initially. At the time of the exchanges,\n",
    "the entrepreneur has insider information, $\\widetilde{s}$, on the\n",
    "firm\\textquoteright s earnings. Can she capitalize on this information? \n",
    "\n",
    "To simplify the calculations, assume that the market is risk neutral\n",
    "($\\rho^{2}=0$) and denote the entrepreneur\\textquoteright s risk\n",
    "aversion $\\rho$. Three institutional arrangements are considered\n",
    "in turn and compared from the point of view of the entrepreneur. This\n",
    "allows us to identify the strengths and weaknesses of the stock exchange\n",
    "and the role of regulation.\n",
    "\n",
    "-In the absence of a stock exchange, the entrepreneur\\textquoteright s\n",
    "ex ante utility is generated by the payoffs \\~{ }a generated by the\n",
    "firm. It is equal to\\\n",
    "\\begin{align*}\n",
    "U_{0}=-E(e^{-\\rho\\widetilde{a}})=-e^{(-\\rho E(\\widetilde{a})+\\frac{\\rho^{2}Var(\\widetilde{a})}{2}}\n",
    "\\end{align*}\n",
    "\n",
    "-The regulated case, in which the entrepreneur does not enter the market\n",
    "(meaning here that she puts the entire firm up for sale, whatever\n",
    "the price) for example, because insider trading is very severely penalized\n",
    "-- is simple to present. Since the market is risk neutral, the equilibrium\n",
    "price is independent of the information, given by \\\\\n",
    "\\begin{align*}\n",
    "p=E(\\widetilde{a})\n",
    "\\end{align*}\n",
    "\n",
    "The market provides complete insurance to the entrepreneur and her\n",
    "ex ante utility is equal to $U=-exp(-\\rho E(\\widetilde{a}))$ which\n",
    "(to simplify comparisons further on) we can write as\n",
    "\\begin{align*}\n",
    "\\overline{U}=-|U_{0}|exp(-\\frac{\\rho^{2}Var(\\widetilde{a})}{2})\n",
    "\\end{align*}\n",
    "\n",
    "Now consider the case in which the entrepreneur is permitted to be\n",
    "active on the stock exchange, where her behavior is perfectly competitive,\n",
    "and where the price is considered exogenous and entirely beyond her\n",
    "control. According to the previous results, the equilibrium price\n",
    "is given by\\\n",
    "\\begin{align*}\n",
    "\\widetilde{p}=E(\\widetilde{a}|\\widetilde{\\gamma})\\\n",
    "\\end{align*}\n",
    "and the ex ante expectation is written as\\\n",
    "\\begin{align*}\n",
    "U=-|\\overline{U}|\\sqrt{\\frac{Var(\\widetilde{a}|s)}{Var(\\widetilde{a}|\\widetilde{\\gamma})}}e^{-\\frac{\\rho^{2Var[E(\\widetilde{a}|\\widetilde{\\gamma})]}}{2}}\n",
    "\\end{align*}\n",
    "\n"
   ]
  },
  {
   "cell_type": "code",
   "execution_count": null,
   "metadata": {},
   "outputs": [],
   "source": []
  }
 ],
 "metadata": {
  "kernelspec": {
   "display_name": "Python 3",
   "language": "python",
   "name": "python3"
  },
  "language_info": {
   "codemirror_mode": {
    "name": "ipython",
    "version": 3
   },
   "file_extension": ".py",
   "mimetype": "text/x-python",
   "name": "python",
   "nbconvert_exporter": "python",
   "pygments_lexer": "ipython3",
   "version": "3.8.5"
  }
 },
 "nbformat": 4,
 "nbformat_minor": 4
}
