{
 "cells": [
  {
   "cell_type": "code",
   "execution_count": 1,
   "metadata": {},
   "outputs": [],
   "source": [
    "import numpy as np\n",
    "from utils import * \n",
    "from constant import *\n",
    "from datetime import date\n",
    "import matplotlib.pyplot as plt"
   ]
  },
  {
   "cell_type": "code",
   "execution_count": null,
   "metadata": {},
   "outputs": [],
   "source": []
  },
  {
   "cell_type": "code",
   "execution_count": 2,
   "metadata": {},
   "outputs": [],
   "source": [
    "def init_matrix():\n",
    "    Res = np.zeros((N_VARIABLE,T_MAX))\n",
    "    Res[0,0] = S_0\n",
    "    return Res\n",
    "Res = init_matrix()"
   ]
  },
  {
   "cell_type": "code",
   "execution_count": 3,
   "metadata": {},
   "outputs": [],
   "source": [
    "def euler_one_step(S,I_moins,I_plus,R_moins,R_plus_I,H,U,R_plus_H,D,D_R,i,cst):\n",
    "    \n",
    "    S_1 = S-cst['tau'][i]*S*I_moins*deltaT\n",
    "    I_moins_1 = I_moins + (cst['tau'][i]*S*I_moins-cst['lambda_1']*I_moins-(cst['gamma_IR']+cst['gamma_IH']+cst['gamma_IU'])*I_moins)*deltaT\n",
    "    I_plus_1 = I_plus +(cst['lambda_1']*I_moins-(cst['gamma_IR']+cst['gamma_IH']+cst['gamma_IU'])*I_plus)*deltaT\n",
    "    R_moins_1 = R_moins +(cst['gamma_IR']*I_moins-cst['lambda_2']*R_moins)*deltaT\n",
    "    R_plus_I_1 = R_plus_I + (cst['gamma_IR']*I_plus+cst['lambda_2']*R_moins)*deltaT\n",
    "    H_1 = H + (cst['gamma_IH']*(I_moins + I_plus)-(cst['gamma_HR']+cst['gamma_HD']+cst['gamma_HU'])*H)*deltaT\n",
    "    U_1 = U + (cst['gamma_IU']*(I_moins + I_plus)+cst['gamma_HU']*H-(cst['gamma_UR'] + cst['gamma_UD'])*U)*deltaT\n",
    "    R_plus_H_1 = R_plus_H+ (cst['gamma_HR']*H+cst['gamma_UR']*U)*deltaT\n",
    "    D_1 = D + (cst['gamma_UD']*U+cst['gamma_HD']*H)*deltaT  \n",
    "    D_R_1 = D_R +((cst['lambda_1']+cst['gamma_IH']+cst['gamma_IU'])*I_moins-D_R)*deltaT\n",
    "    \n",
    "    \n",
    "    return(S_1,I_moins_1,I_plus_1,R_moins_1,R_plus_I_1,H_1,U_1,R_plus_H_1,D_1,D_R_1)\n",
    "\n",
    "\n",
    "def Resolution_Systeme(set_size,deltaT,S_0,cst):\n",
    "    Res = np.zeros((N_VARIABLE,set_size))\n",
    "    \n",
    "    Res[0,0] = cst['S_0'] \n",
    "    Res[1,0] = cst['I_moins_0']\n",
    "    \n",
    "    for i in range(1,set_size):\n",
    "        Res[:,i] = euler_one_step(Res[0,i-1],Res[1,i-1],Res[2,i-1],Res[3,i-1],Res[4,i-1],Res[5,i-1],Res[6,i-1],Res[7,i-1],Res[8,i-1],Res[9,i-1],i-1,cst)\n",
    "    return(Res)\n"
   ]
  },
  {
   "cell_type": "code",
   "execution_count": 4,
   "metadata": {},
   "outputs": [
    {
     "name": "stdout",
     "output_type": "stream",
     "text": [
      "21\n",
      "33\n"
     ]
    }
   ],
   "source": [
    "cst = init_constant()\n",
    "print(cst['t_0'])\n",
    "print(cst['N'])\n",
    "\n",
    "\n"
   ]
  },
  {
   "cell_type": "code",
   "execution_count": 71,
   "metadata": {},
   "outputs": [
    {
     "name": "stdout",
     "output_type": "stream",
     "text": [
      "26 30\n"
     ]
    },
    {
     "data": {
      "image/png": "[encoded data removed]",
      "text/plain": [
       "<Figure size 432x288 with 1 Axes>"
      ]
     },
     "metadata": {
      "needs_background": "light"
     },
     "output_type": "display_data"
    }
   ],
   "source": [
    "\n",
    "def pic_epidemie(L,cst):\n",
    "    #### L une liste \n",
    "    try :\n",
    "        maximum = np.max(L)\n",
    "        N_jours_pic = L.index(maximum)\n",
    "    except : \n",
    "        print(L)\n",
    "        print(cst)\n",
    "    return (maximum, N_jours_pic)\n",
    "### MC ####\n",
    "MAX = []\n",
    "N_MAX = []\n",
    "for i in range(100):\n",
    "    cst = init_constant()\n",
    "    Resultat = Resolution_Systeme(set_size,deltaT,S_0,cst)\n",
    "    max_patients, N_jours_max = pic_epidemie(list(Resultat[6]),cst)\n",
    "    MAX.append(max_patients)\n",
    "    N_MAX.append([N_jours_max])\n",
    "plt.hist(MAX)\n",
    "#plt.plot(N_MAX)\n",
    "\n",
    "\n",
    "    \n",
    "    \n",
    "    \n"
   ]
  },
  {
   "cell_type": "code",
   "execution_count": 24,
   "metadata": {},
   "outputs": [
    {
     "name": "stdout",
     "output_type": "stream",
     "text": [
      "16 39\n"
     ]
    }
   ],
   "source": [
    "print(cst['t_0'],cst['N'])"
   ]
  },
  {
   "cell_type": "code",
   "execution_count": 12,
   "metadata": {},
   "outputs": [
    {
     "data": {
      "text/plain": [
       "{'S_0': 67000000,\n",
       " 'p_a': 0.48308793015432366,\n",
       " 'p_IH': 0.15592626164395912,\n",
       " 'p_IU': 0.029027954038217736,\n",
       " 'p_HD': 0.13427125187699582,\n",
       " 'p_HU': 0.18430820553126004,\n",
       " 'p_UD': 0.3171138869298152,\n",
       " 'R_0': 3.3954111318743814,\n",
       " 'mu': 0.048356876107699245,\n",
       " 'lambda_1': 0.0005451858507615541,\n",
       " 't_0': 36,\n",
       " 'N': 12,\n",
       " 'N_I': 9,\n",
       " 'N_H': 16,\n",
       " 'N_U': 13,\n",
       " 'I_moins_0': 76,\n",
       " 'lambda_2': 0,\n",
       " 'gamma_IR': 0.12103879435857991,\n",
       " 'gamma_IH': 0.10274154500063536,\n",
       " 'gamma_IU': 0.10955299397411805,\n",
       " 'gamma_HD': 0.008391953242312239,\n",
       " 'gamma_HU': 0.011519262845703752,\n",
       " 'gamma_HR': 0.04258878391198401,\n",
       " 'gamma_UD': 0.02439337591767809,\n",
       " 'gamma_UR': 0.05252970100539884,\n",
       " 'tau_0': 1.6920221503453878e-08,\n",
       " 't': array([ 36,  37,  38,  39,  40,  41,  42,  43,  44,  45,  46,  47,  48,\n",
       "         49,  50,  51,  52,  53,  54,  55,  56,  57,  58,  59,  60,  61,\n",
       "         62,  63,  64,  65,  66,  67,  68,  69,  70,  71,  72,  73,  74,\n",
       "         75,  76,  77,  78,  79,  80,  81,  82,  83,  84,  85,  86,  87,\n",
       "         88,  89,  90,  91,  92,  93,  94,  95,  96,  97,  98,  99, 100,\n",
       "        101, 102, 103, 104, 105, 106, 107, 108, 109, 110, 111, 112, 113,\n",
       "        114, 115, 116, 117, 118, 119, 120, 121, 122, 123, 124, 125, 126,\n",
       "        127, 128, 129, 130, 131, 132, 133, 134, 135]),\n",
       " 'tau': [5.301259419914112e-09,\n",
       "  5.051006561933479e-09,\n",
       "  4.8125672161707564e-09,\n",
       "  4.5853837103897575e-09,\n",
       "  4.368924697998798e-09,\n",
       "  4.162683915314353e-09,\n",
       "  3.966178997489692e-09,\n",
       "  3.778950350339155e-09,\n",
       "  3.6005600754194243e-09,\n",
       "  3.430590945853741e-09,\n",
       "  3.2686454305036752e-09,\n",
       "  3.1143447642061302e-09,\n",
       "  2.967328061901033e-09,\n",
       "  2.82725147457777e-09,\n",
       "  2.6937873850662802e-09,\n",
       "  2.566623641791868e-09,\n",
       "  2.4454628287016308e-09,\n",
       "  2.330021569654945e-09,\n",
       "  2.2200298656511214e-09,\n",
       "  2.1152304633440827e-09,\n",
       "  2.0153782533671317e-09,\n",
       "  1.920239697060579e-09,\n",
       "  1.829592280261447e-09,\n",
       "  1.7432239928777387e-09,\n",
       "  1.6609328330300788e-09,\n",
       "  1.5825263346009979e-09,\n",
       "  1.5078211170868673e-09,\n",
       "  1.436642456699662e-09,\n",
       "  1.3688238777154183e-09,\n",
       "  1.3042067631136272e-09,\n",
       "  1.2426399835968943e-09,\n",
       "  1.1839795441232173e-09,\n",
       "  1.1280882471241648e-09,\n",
       "  1.0748353716212792e-09,\n",
       "  1.0240963674902085e-09,\n",
       "  9.757525641574973e-10,\n",
       "  9.296908930487285e-10,\n",
       "  8.858036231388584e-10,\n",
       "  8.439881089862442e-10,\n",
       "  8.041465506610528e-10,\n",
       "  7.661857650065643e-10,\n",
       "  7.300169676983809e-10,\n",
       "  6.955555655918158e-10,\n",
       "  6.627209588717948e-10,\n",
       "  6.314363525425275e-10,\n",
       "  6.016285768160577e-10,\n",
       "  5.732279159796032e-10,\n",
       "  5.461679453414372e-10,\n",
       "  5.203853758739502e-10,\n",
       "  4.95819906190542e-10,\n",
       "  4.724140815101336e-10,\n",
       "  4.501131592794455e-10,\n",
       "  4.288649811387505e-10,\n",
       "  4.086198509316492e-10,\n",
       "  3.893304184735556e-10,\n",
       "  3.7095156880703956e-10,\n",
       "  3.534403166850174e-10,\n",
       "  3.367557060349997e-10,\n",
       "  3.20858714169261e-10,\n",
       "  3.0571216051689325e-10,\n",
       "  2.9128061966428086e-10,\n",
       "  2.77530338500614e-10,\n",
       "  2.6442915727465605e-10,\n",
       "  2.519464343781289e-10,\n",
       "  2.4005297467979583e-10,\n",
       "  2.2872096124262944e-10,\n",
       "  2.179238902643574e-10,\n",
       "  2.076365090892258e-10,\n",
       "  1.9783475714599746e-10,\n",
       "  1.8849570967404923e-10,\n",
       "  1.7959752410595211e-10,\n",
       "  1.7111938898113142e-10,\n",
       "  1.630414752711244e-10,\n",
       "  1.5534489000259248e-10,\n",
       "  1.4801163206961893e-10,\n",
       "  1.41024550131946e-10,\n",
       "  1.3436730250067948e-10,\n",
       "  1.2802431891764097e-10,\n",
       "  1.2198076413897614e-10,\n",
       "  1.162225032378458e-10,\n",
       "  1.1073606854504866e-10,\n",
       "  1.0550862815025529e-10,\n",
       "  1.005279558901823e-10,\n",
       "  9.578240275351334e-11,\n",
       "  9.126086963568919e-11,\n",
       "  8.695278137984237e-11,\n",
       "  8.284806204316382e-11,\n",
       "  7.893711133085279e-11,\n",
       "  7.521078214253294e-11,\n",
       "  7.16603591786191e-11,\n",
       "  6.827753855659816e-11,\n",
       "  6.505440838955039e-11,\n",
       "  6.198343028148639e-11,\n",
       "  5.905742169622143e-11,\n",
       "  5.6269539158549594e-11,\n",
       "  5.361326224842841e-11,\n",
       "  5.1082378350739097e-11,\n",
       "  4.867096812495398e-11,\n",
       "  4.637339166072741e-11,\n",
       "  4.418427528702986e-11]}"
      ]
     },
     "execution_count": 12,
     "metadata": {},
     "output_type": "execute_result"
    }
   ],
   "source": [
    "init_constant()"
   ]
  },
  {
   "cell_type": "code",
   "execution_count": 8,
   "metadata": {},
   "outputs": [
    {
     "data": {
      "text/plain": [
       "array([ 37,  38,  39,  40,  41,  42,  43,  44,  45,  46,  47,  48,  49,\n",
       "        50,  51,  52,  53,  54,  55,  56,  57,  58,  59,  60,  61,  62,\n",
       "        63,  64,  65,  66,  67,  68,  69,  70,  71,  72,  73,  74,  75,\n",
       "        76,  77,  78,  79,  80,  81,  82,  83,  84,  85,  86,  87,  88,\n",
       "        89,  90,  91,  92,  93,  94,  95,  96,  97,  98,  99, 100, 101,\n",
       "       102, 103, 104, 105, 106, 107, 108, 109, 110, 111, 112, 113, 114,\n",
       "       115, 116, 117, 118, 119, 120, 121, 122, 123, 124, 125, 126, 127,\n",
       "       128, 129, 130, 131, 132, 133, 134, 135, 136])"
      ]
     },
     "execution_count": 8,
     "metadata": {},
     "output_type": "execute_result"
    }
   ],
   "source": [
    "t"
   ]
  },
  {
   "cell_type": "code",
   "execution_count": null,
   "metadata": {},
   "outputs": [],
   "source": []
  }
 ],
 "metadata": {
  "kernelspec": {
   "display_name": "Python 3",
   "language": "python",
   "name": "python3"
  },
  "language_info": {
   "codemirror_mode": {
    "name": "ipython",
    "version": 3
   },
   "file_extension": ".py",
   "mimetype": "text/x-python",
   "name": "python",
   "nbconvert_exporter": "python",
   "pygments_lexer": "ipython3",
   "version": "3.8.5"
  }
 },
 "nbformat": 4,
 "nbformat_minor": 4
}
