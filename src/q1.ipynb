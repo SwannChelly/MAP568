{
 "cells": [
  {
   "cell_type": "code",
   "execution_count": 11,
   "metadata": {},
   "outputs": [],
   "source": [
    "import numpy as np\n",
    "from utils import * \n",
    "from constant import *\n",
    "from datetime import date\n",
    "import matplotlib.pyplot as plt\n",
    "from progressbar import ProgressBar\n",
    "\n",
    "# We can use ProgressBar as follow : \n",
    "# pbar = ProgressBar()\n",
    "# for vent_epoch in pbar(vent_range)"
   ]
  },
  {
   "cell_type": "code",
   "execution_count": 2,
   "metadata": {},
   "outputs": [],
   "source": [
    "def init_matrix():\n",
    "    Res = np.zeros((N_VARIABLE,T_MAX))\n",
    "    Res[0,0] = S_0\n",
    "    return Res\n",
    "Res = init_matrix()"
   ]
  },
  {
   "cell_type": "code",
   "execution_count": 13,
   "metadata": {},
   "outputs": [],
   "source": [
    "def euler_one_step(S,I_moins,I_plus,R_moins,R_plus_I,H,U,R_plus_H,D,D_R,i,cst):\n",
    "    \n",
    "    S_1 = np.max(S-cst['tau'][i]*S*I_moins*deltaT,0)\n",
    "    I_moins_1 = I_moins + (cst['tau'][i]*S*I_moins-cst['lambda_1']*I_moins-(cst['gamma_IR']+cst['gamma_IH']+cst['gamma_IU'])*I_moins)*deltaT\n",
    "    I_plus_1 = I_plus +(cst['lambda_1']*I_moins-(cst['gamma_IR']+cst['gamma_IH']+cst['gamma_IU'])*I_plus)*deltaT\n",
    "    R_moins_1 = R_moins +(cst['gamma_IR']*I_moins-cst['lambda_2']*R_moins)*deltaT\n",
    "    R_plus_I_1 = R_plus_I + (cst['gamma_IR']*I_plus+cst['lambda_2']*R_moins)*deltaT\n",
    "    H_1 = H + (cst['gamma_IH']*(I_moins + I_plus)-(cst['gamma_HR']+cst['gamma_HD']+cst['gamma_HU'])*H)*deltaT\n",
    "    U_1 = U + (cst['gamma_IU']*(I_moins + I_plus)+cst['gamma_HU']*H-(cst['gamma_UR'] + cst['gamma_UD'])*U)*deltaT\n",
    "    R_plus_H_1 = R_plus_H+ (cst['gamma_HR']*H+cst['gamma_UR']*U)*deltaT\n",
    "    D_1 = D + (cst['gamma_UD']*U+cst['gamma_HD']*H)*deltaT  \n",
    "    D_R_1 = D_R +((cst['lambda_1']+cst['gamma_IH']+cst['gamma_IU'])*I_moins-D_R)*deltaT\n",
    "    \n",
    "    \n",
    "    return(S_1,I_moins_1,I_plus_1,R_moins_1,R_plus_I_1,H_1,U_1,R_plus_H_1,D_1,D_R_1)\n",
    "\n",
    "\n",
    "def resolution_system(set_size,deltaT,cst):\n",
    "    Res = np.zeros((N_VARIABLE,set_size))\n",
    "    \n",
    "    Res[0,0] = cst['S_0'] - cst['I_moins_0']\n",
    "    Res[1,0] = cst['I_moins_0']\n",
    "    \n",
    "    for i in range(1,set_size):\n",
    "        Res[:,i] = np.array(euler_one_step(Res[0,i-1],Res[1,i-1],Res[2,i-1],Res[3,i-1],Res[4,i-1],Res[5,i-1],Res[6,i-1],Res[7,i-1],Res[8,i-1],Res[9,i-1],i-1,cst))\n",
    "    return(Res)\n"
   ]
  },
  {
   "cell_type": "code",
   "execution_count": 15,
   "metadata": {},
   "outputs": [
    {
     "name": "stderr",
     "output_type": "stream",
     "text": [
      "100% |########################################################################|\n"
     ]
    }
   ],
   "source": [
    "def Monte_Carlo(M):\n",
    "    pbar = ProgressBar()\n",
    "    peak_value, peak_day = [],[]\n",
    "    for i in pbar(range(M)):\n",
    "        cst = init_constant()\n",
    "        results = resolution_system(set_size,deltaT,cst)\n",
    "        peak_value.append(np.max(list(results[6,:])))\n",
    "        peak_day.append(int(((list(results[6,:])).index(peak_value[-1])*deltaT)))\n",
    "    return peak_value,peak_day\n",
    "M = 1000\n",
    "peak_value,peak_day = Monte_Carlo(M)"
   ]
  },
  {
   "cell_type": "code",
   "execution_count": 24,
   "metadata": {},
   "outputs": [
    {
     "data": {
      "text/plain": [
       "(array([755.,  29.,  15.,   5.,   5.,   4.,   3.,   5.,   6.,   4.,   2.,\n",
       "          4.,   4.,   5.,   3.,   4.,   5.,   1.,   2.,   0.,   1.,   2.,\n",
       "          1.,   5.,   2.,   1.,   6.,   4.,   3.,   1.,   0.,   3.,   2.,\n",
       "          3.,   1.,   2.,   2.,   1.,   1.,   1.,   1.,   1.,   2.,   2.,\n",
       "          2.,   3.,   3.,   2.,   0.,   1.,   0.,   2.,   6.,   1.,   1.,\n",
       "          1.,   1.,   2.,   4.,   1.,   1.,   2.,   4.,   2.,   2.,   1.,\n",
       "          6.,   4.,   5.,   2.,   3.,   2.,   3.,   1.,   0.,   3.,   1.,\n",
       "          1.,   1.,   1.,   2.,   2.,   1.,   4.,   0.,   1.,   0.,   0.,\n",
       "          0.,   1.,   0.,   2.,   0.,   0.,   1.,   1.,   0.,   0.,   0.,\n",
       "          1.]),\n",
       " array([2.56421784e-01, 1.63131584e+05, 3.26262911e+05, 4.89394238e+05,\n",
       "        6.52525565e+05, 8.15656893e+05, 9.78788220e+05, 1.14191955e+06,\n",
       "        1.30505087e+06, 1.46818220e+06, 1.63131353e+06, 1.79444486e+06,\n",
       "        1.95757618e+06, 2.12070751e+06, 2.28383884e+06, 2.44697017e+06,\n",
       "        2.61010149e+06, 2.77323282e+06, 2.93636415e+06, 3.09949547e+06,\n",
       "        3.26262680e+06, 3.42575813e+06, 3.58888946e+06, 3.75202078e+06,\n",
       "        3.91515211e+06, 4.07828344e+06, 4.24141477e+06, 4.40454609e+06,\n",
       "        4.56767742e+06, 4.73080875e+06, 4.89394007e+06, 5.05707140e+06,\n",
       "        5.22020273e+06, 5.38333406e+06, 5.54646538e+06, 5.70959671e+06,\n",
       "        5.87272804e+06, 6.03585937e+06, 6.19899069e+06, 6.36212202e+06,\n",
       "        6.52525335e+06, 6.68838467e+06, 6.85151600e+06, 7.01464733e+06,\n",
       "        7.17777866e+06, 7.34090998e+06, 7.50404131e+06, 7.66717264e+06,\n",
       "        7.83030396e+06, 7.99343529e+06, 8.15656662e+06, 8.31969795e+06,\n",
       "        8.48282927e+06, 8.64596060e+06, 8.80909193e+06, 8.97222326e+06,\n",
       "        9.13535458e+06, 9.29848591e+06, 9.46161724e+06, 9.62474856e+06,\n",
       "        9.78787989e+06, 9.95101122e+06, 1.01141425e+07, 1.02772739e+07,\n",
       "        1.04404052e+07, 1.06035365e+07, 1.07666679e+07, 1.09297992e+07,\n",
       "        1.10929305e+07, 1.12560618e+07, 1.14191932e+07, 1.15823245e+07,\n",
       "        1.17454558e+07, 1.19085871e+07, 1.20717185e+07, 1.22348498e+07,\n",
       "        1.23979811e+07, 1.25611125e+07, 1.27242438e+07, 1.28873751e+07,\n",
       "        1.30505064e+07, 1.32136378e+07, 1.33767691e+07, 1.35399004e+07,\n",
       "        1.37030317e+07, 1.38661631e+07, 1.40292944e+07, 1.41924257e+07,\n",
       "        1.43555571e+07, 1.45186884e+07, 1.46818197e+07, 1.48449510e+07,\n",
       "        1.50080824e+07, 1.51712137e+07, 1.53343450e+07, 1.54974763e+07,\n",
       "        1.56606077e+07, 1.58237390e+07, 1.59868703e+07, 1.61500017e+07,\n",
       "        1.63131330e+07]),\n",
       " <BarContainer object of 100 artists>)"
      ]
     },
     "execution_count": 24,
     "metadata": {},
     "output_type": "execute_result"
    },
    {
     "data": {
      "image/png": "[encoded data removed]",
      "text/plain": [
       "<Figure size 432x288 with 1 Axes>"
      ]
     },
     "metadata": {
      "needs_background": "light"
     },
     "output_type": "display_data"
    }
   ],
   "source": [
    "plt.hist(peak_value,bins = 100)\n"
   ]
  },
  {
   "cell_type": "code",
   "execution_count": 23,
   "metadata": {},
   "outputs": [
    {
     "data": {
      "text/plain": [
       "(array([ 7., 33., 69.,  0., 55., 47., 44.,  0., 28., 18., 30.,  0., 31.,\n",
       "        24., 20.,  0., 28., 17., 16.,  0., 17., 15., 13.,  0., 14., 20.,\n",
       "        17.,  0., 12., 23., 25.,  0., 26., 18., 19.,  0., 20., 16., 22.,\n",
       "         0., 21., 17., 19.,  0., 13.,  6., 17.,  0.,  9., 12., 11.,  0.,\n",
       "        14.,  8., 12.,  0.,  7., 14.,  7.,  0.,  5.,  8.,  2.,  0.,  6.,\n",
       "         3.,  7.,  0.,  7.,  1.,  4.,  0.,  5.,  2.,  3.,  0.,  1.,  4.,\n",
       "         2.,  0.,  0.,  1.,  2.,  0.,  0.,  3.,  0.,  0.,  1.,  1.,  0.,\n",
       "         0.,  0.,  0.,  0.,  0.,  0.,  0.,  0.,  1.]),\n",
       " array([ 5.  ,  5.75,  6.5 ,  7.25,  8.  ,  8.75,  9.5 , 10.25, 11.  ,\n",
       "        11.75, 12.5 , 13.25, 14.  , 14.75, 15.5 , 16.25, 17.  , 17.75,\n",
       "        18.5 , 19.25, 20.  , 20.75, 21.5 , 22.25, 23.  , 23.75, 24.5 ,\n",
       "        25.25, 26.  , 26.75, 27.5 , 28.25, 29.  , 29.75, 30.5 , 31.25,\n",
       "        32.  , 32.75, 33.5 , 34.25, 35.  , 35.75, 36.5 , 37.25, 38.  ,\n",
       "        38.75, 39.5 , 40.25, 41.  , 41.75, 42.5 , 43.25, 44.  , 44.75,\n",
       "        45.5 , 46.25, 47.  , 47.75, 48.5 , 49.25, 50.  , 50.75, 51.5 ,\n",
       "        52.25, 53.  , 53.75, 54.5 , 55.25, 56.  , 56.75, 57.5 , 58.25,\n",
       "        59.  , 59.75, 60.5 , 61.25, 62.  , 62.75, 63.5 , 64.25, 65.  ,\n",
       "        65.75, 66.5 , 67.25, 68.  , 68.75, 69.5 , 70.25, 71.  , 71.75,\n",
       "        72.5 , 73.25, 74.  , 74.75, 75.5 , 76.25, 77.  , 77.75, 78.5 ,\n",
       "        79.25, 80.  ]),\n",
       " <BarContainer object of 100 artists>)"
      ]
     },
     "execution_count": 23,
     "metadata": {},
     "output_type": "execute_result"
    },
    {
     "data": {
      "image/png": "[encoded data removed]",
      "text/plain": [
       "<Figure size 432x288 with 1 Axes>"
      ]
     },
     "metadata": {
      "needs_background": "light"
     },
     "output_type": "display_data"
    }
   ],
   "source": [
    "plt.hist(peak_day,bins = 100)"
   ]
  },
  {
   "cell_type": "code",
   "execution_count": null,
   "metadata": {},
   "outputs": [],
   "source": []
  }
 ],
 "metadata": {
  "kernelspec": {
   "display_name": "Python 3",
   "language": "python",
   "name": "python3"
  },
  "language_info": {
   "codemirror_mode": {
    "name": "ipython",
    "version": 3
   },
   "file_extension": ".py",
   "mimetype": "text/x-python",
   "name": "python",
   "nbconvert_exporter": "python",
   "pygments_lexer": "ipython3",
   "version": "3.8.5"
  }
 },
 "nbformat": 4,
 "nbformat_minor": 4
}
