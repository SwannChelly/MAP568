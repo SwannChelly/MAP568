{
 "cells": [
  {
   "cell_type": "code",
   "execution_count": 1,
   "metadata": {},
   "outputs": [],
   "source": [
    "import numpy as np\n",
    "from utils import * \n",
    "from constant import *\n",
    "from datetime import date"
   ]
  },
  {
   "cell_type": "code",
   "execution_count": 3,
   "metadata": {},
   "outputs": [
    {
     "data": {
      "text/plain": [
       "array([[67000000.,        0.,        0.,        0.,        0.,        0.,\n",
       "               0.,        0.,        0.,        0.],\n",
       "       [       0.,        0.,        0.,        0.,        0.,        0.,\n",
       "               0.,        0.,        0.,        0.],\n",
       "       [       0.,        0.,        0.,        0.,        0.,        0.,\n",
       "               0.,        0.,        0.,        0.],\n",
       "       [       0.,        0.,        0.,        0.,        0.,        0.,\n",
       "               0.,        0.,        0.,        0.],\n",
       "       [       0.,        0.,        0.,        0.,        0.,        0.,\n",
       "               0.,        0.,        0.,        0.],\n",
       "       [       0.,        0.,        0.,        0.,        0.,        0.,\n",
       "               0.,        0.,        0.,        0.],\n",
       "       [       0.,        0.,        0.,        0.,        0.,        0.,\n",
       "               0.,        0.,        0.,        0.],\n",
       "       [       0.,        0.,        0.,        0.,        0.,        0.,\n",
       "               0.,        0.,        0.,        0.],\n",
       "       [       0.,        0.,        0.,        0.,        0.,        0.,\n",
       "               0.,        0.,        0.,        0.],\n",
       "       [       0.,        0.,        0.,        0.,        0.,        0.,\n",
       "               0.,        0.,        0.,        0.]])"
      ]
     },
     "execution_count": 3,
     "metadata": {},
     "output_type": "execute_result"
    }
   ],
   "source": [
    "def init_matrix():\n",
    "    Res = np.zeros((N_VARIABLE,T_MAX))\n",
    "    Res[0,0] = S_0\n",
    "    return Res\n",
    "init_matrix()"
   ]
  },
  {
   "cell_type": "code",
   "execution_count": null,
   "metadata": {},
   "outputs": [],
   "source": []
  },
  {
   "cell_type": "code",
   "execution_count": null,
   "metadata": {},
   "outputs": [],
   "source": []
  }
 ],
 "metadata": {
  "kernelspec": {
   "display_name": "Python 3",
   "language": "python",
   "name": "python3"
  },
  "language_info": {
   "codemirror_mode": {
    "name": "ipython",
    "version": 3
   },
   "file_extension": ".py",
   "mimetype": "text/x-python",
   "name": "python",
   "nbconvert_exporter": "python",
   "pygments_lexer": "ipython3",
   "version": "3.8.5"
  }
 },
 "nbformat": 4,
 "nbformat_minor": 4
}
