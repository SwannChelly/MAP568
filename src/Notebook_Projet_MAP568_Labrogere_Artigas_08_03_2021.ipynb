{
 "cells": [
  {
   "cell_type": "markdown",
   "metadata": {},
   "source": [
    "# Projet de MAP568\n",
    "\n",
    "Elèves :\n",
    "\n",
    "Alexandre Labrogere\n",
    "\n",
    "Hugo Artigas"
   ]
  },
  {
   "cell_type": "markdown",
   "metadata": {},
   "source": [
    "#### Question 1 : Résolution du système"
   ]
  },
  {
   "cell_type": "code",
   "execution_count": 1,
   "metadata": {},
   "outputs": [],
   "source": [
    "import numpy as np\n",
    "import numpy.random as rd\n",
    "import matplotlib.pyplot as plt"
   ]
  },
  {
   "cell_type": "code",
   "execution_count": 2,
   "metadata": {},
   "outputs": [],
   "source": [
    "def convert_float_to_date(P):\n",
    "    for i,p in enumerate(P):\n",
    "\n",
    "        P[i] = np.timedelta64(1,'D')*(p-np.datetime64('2020-02-24').astype('int'))+np.datetime64('2020-02-24')\n",
    "    return P"
   ]
  },
  {
   "cell_type": "code",
   "execution_count": 3,
   "metadata": {},
   "outputs": [],
   "source": [
    "#Définition des paramètres d'entrée\n",
    "S0 = 67*10**(6)\n",
    "lambda2 = 0\n",
    "\n",
    "def Para_entree() :\n",
    "    pa = rd.random()*(0.9 - 0.4)+ 0.4\n",
    "    pih = rd.random()*(0.2 - 0.05)+ 0.05\n",
    "    piu = rd.random()*(0.04 - 0.01)+ 0.01\n",
    "    phd = rd.random()*(0.2 - 0.1)+ 0.1\n",
    "    phu = rd.random()*(0.2 - 0.1)+ 0.1\n",
    "    pud = rd.random()*(0.4 - 0.2)+ 0.2\n",
    "    Ni = rd.random()*(12 - 8)+ 8\n",
    "    Nh = rd.random()*(25 - 15)+ 15\n",
    "    Nu = rd.random()*(20 - 10)+ 10\n",
    "    R0 = rd.random()*(3.4 - 2.9)+ 2.9\n",
    "    mu = rd.random()*(0.08 - 0.01)+ 0.01\n",
    "    N = rd.random()*(np.datetime64('2020-03-15')-np.datetime64('2020-02-24'))+np.datetime64('2020-02-24')\n",
    "    t0 = rd.random()*(np.datetime64('2020-02-24')-np.datetime64('2020-01-25'))+np.datetime64('2020-01-25')\n",
    "    I0moins = rd.random()*(100)+ 1\n",
    "    lambda1 = rd.random()*(10**(-3)-10**(-4))+10**(-4)\n",
    "    \n",
    "    return (pa,pih,piu,phd,phu,pud,Ni,Nh,Nu,R0,mu,N,t0,I0moins,lambda1)"
   ]
  },
  {
   "cell_type": "code",
   "execution_count": 4,
   "metadata": {},
   "outputs": [],
   "source": [
    "# Definition des paramètres du système (les Gamma et Tau contrôlent la propagation de l'épidémie)\n",
    "\n",
    "def Para_systeme(pa,pih,piu,phd,phu,pud,Ni,Nh,Nu,R0,mu,N,t0,I0moins,lambda1):\n",
    "    gammaIR = (pa+(1-pa)*(1-pih-piu))/Ni\n",
    "    gammaIH = (1-pa)*pih/Ni\n",
    "    gammaIU = (1-pa)*piu/Ni\n",
    "    gammaHD = phd/Nh\n",
    "    gammaHU = phu/Nh\n",
    "    gammaHR = (1-phd-phu)/Nh\n",
    "    gammaUD = pud/Nu\n",
    "    gammaUR = (1-pud)/Nu\n",
    "    tau0 = R0*(lambda1+gammaIR+gammaIH+gammaIU)/S0\n",
    "    return(gammaIR,gammaIH,gammaIU,gammaHD,gammaHU,gammaHR,gammaUD,gammaUR,tau0)\n"
   ]
  },
  {
   "cell_type": "code",
   "execution_count": 5,
   "metadata": {},
   "outputs": [],
   "source": [
    "pa,pih,piu,phd,phu,pud,Ni,Nh,Nu,R0,mu,N,t0,I0moins,lambda1 = Para_entree()\n",
    "gammaIR,gammaIH,gammaIU,gammaHD,gammaHU,gammaHR,gammaUD,gammaUR,tau0 = Para_systeme(pa,pih,piu,phd,phu,pud,Ni,Nh,Nu,R0,mu,N,t0,I0moins,lambda1)"
   ]
  },
  {
   "cell_type": "code",
   "execution_count": 6,
   "metadata": {},
   "outputs": [],
   "source": [
    "def tau(n):\n",
    "    return tau0*np.exp(-mu*np.maximum((n-N)/np.timedelta64(1,'D'),0))"
   ]
  },
  {
   "cell_type": "markdown",
   "metadata": {},
   "source": [
    "Pour tester si la fonction tau affiche bien les bons résultats."
   ]
  },
  {
   "cell_type": "code",
   "execution_count": 7,
   "metadata": {},
   "outputs": [
    {
     "name": "stdout",
     "output_type": "stream",
     "text": [
      "2020-03-05 2020-02-08\n"
     ]
    }
   ],
   "source": [
    "N = rd.random()*(np.datetime64('2020-03-15')-np.datetime64('2020-02-24'))+np.datetime64('2020-02-24')\n",
    "t0 = rd.random()*(np.datetime64('2020-02-24')-np.datetime64('2020-01-25'))+np.datetime64('2020-01-25')\n",
    "print(N,t0)"
   ]
  },
  {
   "cell_type": "code",
   "execution_count": 8,
   "metadata": {},
   "outputs": [],
   "source": [
    "def Simulation_epidemie(S0,I0moins,gammaIR,gammaIH,gammaIU,gammaHD,gammaHU,gammaHR,gammaUD,gammaUR,tau0):\n",
    "    X = [[0 for i in range(10)]] #X représente l'ensemble des vecteurs qui regroupent les 10 compartiments du modèle épidémique\n",
    "\n",
    "    #On initialise notre modèle\n",
    "    X[0][0] = S0 \n",
    "    X[0][1] = I0moins\n",
    "\n",
    "    #On utilise une première approche approximée à l'ordre 1 pour résoudre le système d'équation différentielle\n",
    "    periode = np.arange(t0, '2020-08-01', dtype='datetime64[D]')\n",
    "    for n in periode[:-1]:     \n",
    "        Xnew = [0 for i in range(10)]\n",
    "        Xold = X[-1]\n",
    "        Xnew[0] = Xold[0] - tau(n)*Xold[0]*Xold[1]\n",
    "        Xnew[1] = (1-lambda1)*Xold[1] + tau(n)*Xold[0]*Xold[1] - (gammaIR+gammaIH+gammaIU)*Xold[1]\n",
    "        Xnew[2] = Xold[2] + lambda1*Xold[1] - (gammaIR+gammaIH+gammaIU)*Xold[2]\n",
    "        Xnew[3] = (1-lambda2)*Xold[3] + gammaIR*Xold[1]\n",
    "        Xnew[4] = Xold[4] + gammaIR*Xold[2] +lambda2*Xold[3]\n",
    "        Xnew[5] = (1-(gammaHR+gammaHD+gammaHU))*Xold[5] + gammaIH*(Xold[1]+Xold[2])\n",
    "        Xnew[6] = (1-(gammaUR+gammaUD))*Xold[6] + gammaIU*(Xold[1]+Xold[2]) + gammaHU*Xold[5]\n",
    "        Xnew[7] = Xold[7] + gammaHR*Xold[5] + gammaUR*Xold[6]\n",
    "        Xnew[8] = Xold[8] + gammaUD*Xold[6] + gammaHD*Xold[5]\n",
    "        Xnew[9] = (lambda1+gammaIH+gammaIU)*Xold[1]\n",
    "        X.append(Xnew)\n",
    "    return X,periode"
   ]
  },
  {
   "cell_type": "code",
   "execution_count": 9,
   "metadata": {},
   "outputs": [],
   "source": [
    "#On obtient donc tous les compartiments du modèle SEIR pour la période étudiée.\n",
    "def Compartiments_epidemie(X):\n",
    "    S = np.array([x[0] for x in X[:]])\n",
    "    Imoins = np.array([x[1] for x in X[:]])\n",
    "    Iplus = np.array([x[2] for x in X[:]])\n",
    "    Rmoins = np.array([x[3] for x in X[:]])\n",
    "    RplusI = np.array([x[4] for x in X[:]])\n",
    "    H = np.array([x[5] for x in X[:]])\n",
    "    U = np.array([x[6] for x in X[:]])\n",
    "    RplusH = np.array([x[7] for x in X[:]])\n",
    "    D = np.array([x[8] for x in X[:]])\n",
    "    DR = np.array([x[9] for x in X[:]])\n",
    "    return S,Imoins,Iplus,Rmoins,RplusI,H,U,RplusH,D,DR"
   ]
  },
  {
   "cell_type": "code",
   "execution_count": 10,
   "metadata": {},
   "outputs": [
    {
     "data": {
      "text/plain": [
       "<matplotlib.legend.Legend at 0x7fa8633befd0>"
      ]
     },
     "execution_count": 10,
     "metadata": {},
     "output_type": "execute_result"
    },
    {
     "data": {
      "image/png": "[encoded data removed]",
      "text/plain": [
       "<Figure size 432x288 with 1 Axes>"
      ]
     },
     "metadata": {
      "needs_background": "light"
     },
     "output_type": "display_data"
    }
   ],
   "source": [
    "#Simulation épidemie\n",
    "X,periode = Simulation_epidemie(S0,I0moins,gammaIR,gammaIH,gammaIU,gammaHD,gammaHU,gammaHR,gammaUD,gammaUR,tau0)\n",
    "S,Imoins,Iplus,Rmoins,RplusI,H,U,RplusH,D,DR=Compartiments_epidemie(X)\n",
    "\n",
    "#Représentation de la vague épidémique\n",
    "plt.plot(periode,D,label=\"Individus décédés\")\n",
    "plt.plot(periode,H,label=\"Individus à l'hopital\")\n",
    "plt.plot(periode,U,label=\"Individus en soins intensifs\")\n",
    "plt.xlabel(\"Dates de la première vague de l'épidémie\")\n",
    "plt.ylabel(\"Nombre de patients\")\n",
    "plt.title(\"Evolution de l'épidémie\")\n",
    "plt.legend(loc='upper center', bbox_to_anchor=(0.5, -0.15), ncol=2, fancybox=True, shadow=True)"
   ]
  },
  {
   "cell_type": "code",
   "execution_count": 11,
   "metadata": {},
   "outputs": [
    {
     "name": "stdout",
     "output_type": "stream",
     "text": [
      "Date critique de l'épidémie : 2020-05-31 , avec 123125 patients en soins intensifs\n"
     ]
    }
   ],
   "source": [
    "#Post-traitement pic de l'épidémie\n",
    "Umax = int(np.max(U))\n",
    "DateUmax = periode[np.argmax(U)]\n",
    "print(\"Date critique de l'épidémie : \" +str(DateUmax)+\" , avec \"+str(Umax)+\" patients en soins intensifs\")"
   ]
  },
  {
   "cell_type": "markdown",
   "metadata": {},
   "source": [
    "#### Question 2 : loi du pic de l'épidémie par Monte-Carlo"
   ]
  },
  {
   "cell_type": "code",
   "execution_count": 12,
   "metadata": {},
   "outputs": [
    {
     "name": "stdout",
     "output_type": "stream",
     "text": [
      "18676.51974893073\n",
      "[26.270309066797406 55207.790849325575]\n"
     ]
    },
    {
     "data": {
      "text/plain": [
       "(array([4.34187536e-03, 2.06755970e-03, 1.22015143e-03, 9.66802563e-04,\n",
       "        6.66860804e-04, 7.07629586e-04, 5.73675015e-04, 4.97961561e-04,\n",
       "        4.25160163e-04, 4.04775772e-04, 3.98951660e-04, 3.64006989e-04,\n",
       "        3.02853815e-04, 3.26150262e-04, 2.47524752e-04, 2.53348864e-04,\n",
       "        1.80547467e-04, 2.12580082e-04, 2.18404193e-04, 1.63075131e-04,\n",
       "        1.77635411e-04, 1.74723355e-04, 1.16482236e-04, 1.33954572e-04,\n",
       "        1.54338963e-04, 1.33954572e-04, 1.74723355e-04, 1.31042516e-04,\n",
       "        1.39778684e-04, 1.13570181e-04, 1.42690740e-04, 1.36866628e-04,\n",
       "        1.16482236e-04, 9.90099010e-05, 1.28130460e-04, 1.10658125e-04,\n",
       "        7.28013978e-05, 7.86255096e-05, 1.10658125e-04, 1.01921957e-04,\n",
       "        7.57134537e-05, 6.98893419e-05, 7.57134537e-05, 8.44496214e-05,\n",
       "        7.28013978e-05, 6.40652301e-05, 5.82411182e-05, 6.40652301e-05,\n",
       "        7.28013978e-05, 7.57134537e-05, 5.24170064e-05, 4.65928946e-05,\n",
       "        7.57134537e-05, 6.40652301e-05, 4.65928946e-05, 4.07687828e-05,\n",
       "        3.20326150e-05, 3.78567268e-05, 5.82411182e-05, 3.49446709e-05,\n",
       "        7.57134537e-05, 5.82411182e-05, 4.07687828e-05, 6.98893419e-05,\n",
       "        4.65928946e-05, 5.53290623e-05, 5.82411182e-05, 6.40652301e-05,\n",
       "        3.78567268e-05, 4.95049505e-05, 6.11531741e-05, 4.07687828e-05,\n",
       "        4.07687828e-05, 4.07687828e-05, 5.53290623e-05, 4.07687828e-05,\n",
       "        2.62085032e-05, 3.49446709e-05, 4.95049505e-05, 5.53290623e-05,\n",
       "        5.24170064e-05, 3.78567268e-05, 4.36808387e-05, 3.78567268e-05,\n",
       "        3.49446709e-05, 2.03843914e-05, 3.78567268e-05, 3.20326150e-05,\n",
       "        3.78567268e-05, 4.36808387e-05, 3.78567268e-05, 1.74723355e-05,\n",
       "        2.91205591e-05, 4.65928946e-05, 2.62085032e-05, 4.65928946e-05,\n",
       "        2.62085032e-05, 3.78567268e-05, 2.91205591e-05, 3.20326150e-05]),\n",
       " array([0.0, 50.0, 100.0, 150.0, 200.0, 250.0, 300.0, 350.0, 400.0, 450.0,\n",
       "        500.0, 550.0, 600.0, 650.0, 700.0, 750.0, 800.0, 850.0, 900.0,\n",
       "        950.0, 1000.0, 1050.0, 1100.0, 1150.0, 1200.0, 1250.0, 1300.0,\n",
       "        1350.0, 1400.0, 1450.0, 1500.0, 1550.0, 1600.0, 1650.0, 1700.0,\n",
       "        1750.0, 1800.0, 1850.0, 1900.0, 1950.0, 2000.0, 2050.0, 2100.0,\n",
       "        2150.0, 2200.0, 2250.0, 2300.0, 2350.0, 2400.0, 2450.0, 2500.0,\n",
       "        2550.0, 2600.0, 2650.0, 2700.0, 2750.0, 2800.0, 2850.0, 2900.0,\n",
       "        2950.0, 3000.0, 3050.0, 3100.0, 3150.0, 3200.0, 3250.0, 3300.0,\n",
       "        3350.0, 3400.0, 3450.0, 3500.0, 3550.0, 3600.0, 3650.0, 3700.0,\n",
       "        3750.0, 3800.0, 3850.0, 3900.0, 3950.0, 4000.0, 4050.0, 4100.0,\n",
       "        4150.0, 4200.0, 4250.0, 4300.0, 4350.0, 4400.0, 4450.0, 4500.0,\n",
       "        4550.0, 4600.0, 4650.0, 4700.0, 4750.0, 4800.0, 4850.0, 4900.0,\n",
       "        4950.0, 5000.0], dtype=object),\n",
       " <BarContainer object of 100 artists>)"
      ]
     },
     "execution_count": 12,
     "metadata": {},
     "output_type": "execute_result"
    },
    {
     "data": {
      "image/png": "[encoded data removed]",
      "text/plain": [
       "<Figure size 432x288 with 1 Axes>"
      ]
     },
     "metadata": {
      "needs_background": "light"
     },
     "output_type": "display_data"
    }
   ],
   "source": [
    "N=10000 #Taille de l'échantillon\n",
    "U_MC=[]\n",
    "for i in range(N):\n",
    "    pa,pih,piu,phd,phu,pud,Ni,Nh,Nu,R0,mu,N,t0,I0moins,lambda1 = Para_entree()\n",
    "    gammaIR,gammaIH,gammaIU,gammaHD,gammaHU,gammaHR,gammaUD,gammaUR,tau0 = Para_systeme(pa,pih,piu,phd,phu,pud,Ni,Nh,Nu,R0,mu,N,t0,I0moins,lambda1)\n",
    "    X,periode = Simulation_epidemie(S0,I0moins,gammaIR,gammaIH,gammaIU,gammaHD,gammaHU,gammaHR,gammaUD,gammaUR,tau0)\n",
    "    S,Imoins,Iplus,Rmoins,RplusI,H,U,RplusH,D,DR=Compartiments_epidemie(X)\n",
    "    U_MC.append((np.max(U),periode[np.argmax(U)]))\n",
    "Pic_MC=np.array(U_MC)\n",
    "\n",
    "#Loi du nombre maximal de patients en soins intensifs\n",
    "\n",
    "print(np.nanmean(Pic_MC[:,0]))\n",
    "print(np.quantile(Pic_MC[:,0], [0.1, 0.9]))\n",
    "plt.hist(Pic_MC[:,0],bins=100,density=1,range=[0,5000])\n",
    "\n",
    "\n"
   ]
  },
  {
   "cell_type": "code",
   "execution_count": 13,
   "metadata": {},
   "outputs": [
    {
     "name": "stdout",
     "output_type": "stream",
     "text": [
      "La loi de la valeur maximale de l'épidémie suit une loi exponentielle d'espérance 18676.51974893073\n"
     ]
    }
   ],
   "source": [
    "print(\"La loi de la valeur maximale de l'épidémie suit une loi exponentielle d'espérance \" + str(np.mean(Pic_MC[:,0])))"
   ]
  },
  {
   "cell_type": "code",
   "execution_count": 14,
   "metadata": {},
   "outputs": [
    {
     "data": {
      "text/plain": [
       "(array([  5.,  45., 176., 199., 328., 610., 427., 791., 633., 639., 825.,\n",
       "        535., 430., 601., 371., 473., 260., 243., 371., 164., 171., 240.,\n",
       "        164., 174., 109., 126., 143.,  96., 114.,  57.,  61.,  83.,  64.,\n",
       "         33.,  46.,  25.,  48.,  18.,  21.,  28.,  11.,  10.,   7.,   8.,\n",
       "          7.,   5.,   1.,   3.,   0.,   1.]),\n",
       " array([18341.  , 18343.38, 18345.76, 18348.14, 18350.52, 18352.9 ,\n",
       "        18355.28, 18357.66, 18360.04, 18362.42, 18364.8 , 18367.18,\n",
       "        18369.56, 18371.94, 18374.32, 18376.7 , 18379.08, 18381.46,\n",
       "        18383.84, 18386.22, 18388.6 , 18390.98, 18393.36, 18395.74,\n",
       "        18398.12, 18400.5 , 18402.88, 18405.26, 18407.64, 18410.02,\n",
       "        18412.4 , 18414.78, 18417.16, 18419.54, 18421.92, 18424.3 ,\n",
       "        18426.68, 18429.06, 18431.44, 18433.82, 18436.2 , 18438.58,\n",
       "        18440.96, 18443.34, 18445.72, 18448.1 , 18450.48, 18452.86,\n",
       "        18455.24, 18457.62, 18460.  ]),\n",
       " <BarContainer object of 50 artists>)"
      ]
     },
     "execution_count": 14,
     "metadata": {},
     "output_type": "execute_result"
    },
    {
     "data": {
      "image/png": "[encoded data removed]",
      "text/plain": [
       "<Figure size 432x288 with 1 Axes>"
      ]
     },
     "metadata": {
      "needs_background": "light"
     },
     "output_type": "display_data"
    }
   ],
   "source": [
    "#Loi du jour de la date du pic de l'épidémie\n",
    "plt.hist(Pic_MC[:,1],bins = 50)"
   ]
  },
  {
   "cell_type": "code",
   "execution_count": 15,
   "metadata": {},
   "outputs": [
    {
     "name": "stdout",
     "output_type": "stream",
     "text": [
      "La loi de la date du pic  de l'épidémie suit une loi de poisson d'espérance 2020-04-21\n"
     ]
    }
   ],
   "source": [
    "pic = np.zeros_like(Pic_MC[:,1])\n",
    "for i,d in enumerate(Pic_MC[:,1]):\n",
    "    pic[i] = d.astype('float')\n",
    "m = np.mean(pic)\n",
    "mean_date = np.timedelta64(1,'D')*(m-np.datetime64('2020-02-24').astype('int'))+np.datetime64('2020-02-24')\n",
    "print(\"La loi de la date du pic  de l'épidémie suit une loi de poisson d'espérance \" + str(mean_date))"
   ]
  },
  {
   "cell_type": "markdown",
   "metadata": {},
   "source": [
    "#### Question 3: Analyse de la sensisibilité par méthode de Morris"
   ]
  },
  {
   "cell_type": "code",
   "execution_count": 16,
   "metadata": {},
   "outputs": [
    {
     "name": "stdout",
     "output_type": "stream",
     "text": [
      "Requirement already satisfied: SALib in /Users/max/opt/anaconda3/lib/python3.8/site-packages (1.3.12)\n",
      "Requirement already satisfied: scipy in /Users/max/opt/anaconda3/lib/python3.8/site-packages (from SALib) (1.5.2)\n",
      "Requirement already satisfied: pandas in /Users/max/opt/anaconda3/lib/python3.8/site-packages (from SALib) (1.1.3)\n",
      "Requirement already satisfied: numpy in /Users/max/opt/anaconda3/lib/python3.8/site-packages (from SALib) (1.19.2)\n",
      "Requirement already satisfied: matplotlib in /Users/max/opt/anaconda3/lib/python3.8/site-packages (from SALib) (3.3.2)\n",
      "Requirement already satisfied: python-dateutil>=2.7.3 in /Users/max/opt/anaconda3/lib/python3.8/site-packages (from pandas->SALib) (2.8.1)\n",
      "Requirement already satisfied: pytz>=2017.2 in /Users/max/opt/anaconda3/lib/python3.8/site-packages (from pandas->SALib) (2020.1)\n",
      "Requirement already satisfied: kiwisolver>=1.0.1 in /Users/max/opt/anaconda3/lib/python3.8/site-packages (from matplotlib->SALib) (1.3.0)\n",
      "Requirement already satisfied: cycler>=0.10 in /Users/max/opt/anaconda3/lib/python3.8/site-packages (from matplotlib->SALib) (0.10.0)\n",
      "Requirement already satisfied: certifi>=2020.06.20 in /Users/max/opt/anaconda3/lib/python3.8/site-packages (from matplotlib->SALib) (2020.6.20)\n",
      "Requirement already satisfied: pillow>=6.2.0 in /Users/max/opt/anaconda3/lib/python3.8/site-packages (from matplotlib->SALib) (8.0.1)\n",
      "Requirement already satisfied: pyparsing!=2.0.4,!=2.1.2,!=2.1.6,>=2.0.3 in /Users/max/opt/anaconda3/lib/python3.8/site-packages (from matplotlib->SALib) (2.4.7)\n",
      "Requirement already satisfied: six>=1.5 in /Users/max/opt/anaconda3/lib/python3.8/site-packages (from python-dateutil>=2.7.3->pandas->SALib) (1.15.0)\n"
     ]
    }
   ],
   "source": [
    "!pip install SALib"
   ]
  },
  {
   "cell_type": "code",
   "execution_count": 17,
   "metadata": {},
   "outputs": [],
   "source": [
    "import SALib.sample.morris\n",
    "import SALib.analyze.morris"
   ]
  },
  {
   "cell_type": "code",
   "execution_count": 18,
   "metadata": {},
   "outputs": [],
   "source": [
    "def Para_systeme_vector(x):\n",
    "    pa,pih,piu,phd,phu,pud,Ni,Nh,Nu,R0,mu,N,t0,I0moins,lambda1 = x[0],x[1],x[2],x[3],x[4],x[5],x[6],x[7],x[8],x[9],x[10],x[11],x[12],x[13],x[14]\n",
    "    gammaIR = (pa+(1-pa)*(1-pih-piu))/Ni\n",
    "    gammaIH = (1-pa)*pih/Ni\n",
    "    gammaIU = (1-pa)*piu/Ni\n",
    "    gammaHD = phd/Nh\n",
    "    gammaHU = phu/Nh\n",
    "    gammaHR = (1-phd-phu)/Nh\n",
    "    gammaUD = pud/Nu\n",
    "    gammaUR = (1-pud)/Nu\n",
    "    tau0 = R0*(lambda1+gammaIR+gammaIH+gammaIU)/S0\n",
    "    return np.array([I0moins,gammaIR,gammaIH,gammaIU,gammaHD,gammaHU,gammaHR,gammaUD,gammaUR,tau0])"
   ]
  },
  {
   "cell_type": "code",
   "execution_count": 19,
   "metadata": {},
   "outputs": [],
   "source": [
    "def Simulation_epidemie_vector(x,t0,N):\n",
    "    X = [[0 for i in range(10)]] #X représente l'ensemble des vecteurs qui regroupent les 10 compartiments du modèle épidémique\n",
    "    I0moins,gammaIR,gammaIH,gammaIU,gammaHD,gammaHU,gammaHR,gammaUD,gammaUR,tau0 = x[0],x[1],x[2],x[3],x[4],x[5],x[6],x[7],x[8],x[9]\n",
    "    #On initialise notre modèle\n",
    "    X[0][0] = S0 \n",
    "    X[0][1] = I0moins\n",
    "\n",
    "    #On utilise une première approche approximée à l'ordre 1 pour résoudre le système d'équation différentielle\n",
    "    periode = np.arange(t0, np.datetime64('2020-08-01').astype('int'))\n",
    "    for n in periode[:-1]:     \n",
    "        Xnew = [0 for i in range(10)]\n",
    "        Xold = X[-1]\n",
    "        Xnew[0] = Xold[0] - tau(n.astype('float'),N)*Xold[0]*Xold[1]\n",
    "        Xnew[1] = (1-lambda1)*Xold[1] + tau(n.astype('float'),N)*Xold[0]*Xold[1] - (gammaIR+gammaIH+gammaIU)*Xold[1]\n",
    "        Xnew[2] = Xold[2] + lambda1*Xold[1] - (gammaIR+gammaIH+gammaIU)*Xold[2]\n",
    "        Xnew[3] = (1-lambda2)*Xold[3] + gammaIR*Xold[1]\n",
    "        Xnew[4] = Xold[4] + gammaIR*Xold[2] +lambda2*Xold[3]\n",
    "        Xnew[5] = (1-(gammaHR+gammaHD+gammaHU))*Xold[5] + gammaIH*(Xold[1]+Xold[2])\n",
    "        Xnew[6] = (1-(gammaUR+gammaUD))*Xold[6] + gammaIU*(Xold[1]+Xold[2]) + gammaHU*Xold[5]\n",
    "        Xnew[7] = Xold[7] + gammaHR*Xold[5] + gammaUR*Xold[6]\n",
    "        Xnew[8] = Xold[8] + gammaUD*Xold[6] + gammaHD*Xold[5]\n",
    "        Xnew[9] = (lambda1+gammaIH+gammaIU)*Xold[1]\n",
    "        X.append(Xnew)\n",
    "    return X,periode\n",
    "\n",
    "def Compartiments_epidemie_vector(X):\n",
    "    S = np.array([x[0] for x in X[:]])\n",
    "    Imoins = np.array([x[1] for x in X[:]])\n",
    "    Iplus = np.array([x[2] for x in X[:]])\n",
    "    Rmoins = np.array([x[3] for x in X[:]])\n",
    "    RplusI = np.array([x[4] for x in X[:]])\n",
    "    H = np.array([x[5] for x in X[:]])\n",
    "    U = np.array([x[6] for x in X[:]])\n",
    "    RplusH = np.array([x[7] for x in X[:]])\n",
    "    D = np.array([x[8] for x in X[:]])\n",
    "    DR = np.array([x[9] for x in X[:]])\n",
    "    return S,Imoins,Iplus,Rmoins,RplusI,H,U,RplusH,D,DR\n"
   ]
  },
  {
   "cell_type": "code",
   "execution_count": 20,
   "metadata": {},
   "outputs": [],
   "source": [
    "def tau(n,N):\n",
    "    return tau0*np.exp(-mu*np.maximum((n-N),0))"
   ]
  },
  {
   "cell_type": "code",
   "execution_count": 21,
   "metadata": {},
   "outputs": [],
   "source": [
    "problem = {\n",
    "    'num_vars':15,\n",
    "    'names' : ['pa','pih','piu','phd','phu','pud','Ni','Nh','Nu','R0','mu','N','t0','I0moins','lambda1'],\n",
    "    'bounds' : [[0.4,0.9],[0.05,0.2],[0.01,0.04],[0.1,0.2],[0.1,0.2],[0.2,0.4],[8,12],[15,25],[10,20],[2.9,3.4],[0.01,0.08],[np.datetime64('2020-02-24').astype('int'),np.datetime64('2020-03-15').astype('int')],[np.datetime64('2020-01-25').astype('int'),np.datetime64('2020-02-24').astype('int')],[1,100],[10**(-4),10**(-3)]]\n",
    "}\n",
    "\n",
    "def Resolution(parametres):\n",
    "    peak_value = np.zeros(len(parametres))\n",
    "    peak_day = np.zeros(len(parametres))\n",
    "    for i,X in enumerate(parametres):\n",
    "        variables = X\n",
    "        variables[6] = np.round(variables[6])\n",
    "        variables[8] = np.round(variables[8])\n",
    "        variables[13] = np.round(variables[13])\n",
    "        constants = Para_systeme_vector(variables)\n",
    "        t0 = np.round(variables[12])\n",
    "        N = np.round(variables[11])\n",
    "        x,periode = Simulation_epidemie_vector(constants,t0,N)\n",
    "        S,Imoins,Iplus,Rmoins,RplusI,H,U,RplusH,D,DR=Compartiments_epidemie_vector(x)\n",
    "        peak_value[i] = np.max(U)\n",
    "        peak_day[i] = periode[np.argmax(U)]\n",
    "    return peak_value,peak_day"
   ]
  },
  {
   "cell_type": "code",
   "execution_count": 22,
   "metadata": {},
   "outputs": [],
   "source": [
    "X = SALib.sample.morris.sample(problem,100,num_levels=20)\n",
    "peak_value, peak_day = Resolution(X)"
   ]
  },
  {
   "cell_type": "code",
   "execution_count": 23,
   "metadata": {},
   "outputs": [
    {
     "name": "stdout",
     "output_type": "stream",
     "text": [
      "Sensibilité par méthode Morris pour la valeur maximale\n",
      "Parameter                         Mu_Star         Mu    Mu_Star_Conf      Sigma\n",
      "pa                              92045.780 -92045.780       20159.024 100150.795\n",
      "pih                             20450.686  20450.686        4259.648  25002.274\n",
      "piu                             37112.845  37112.845        8672.026  42007.856\n",
      "phd                                 0.000      0.000           0.000      0.000\n",
      "phu                             12297.776  12297.776        3175.693  16643.755\n",
      "pud                                 0.000      0.000           0.000      0.000\n",
      "Ni                              60106.884  60106.884       12346.468  58066.135\n",
      "Nh                               4303.227  -4303.227        1458.381   6631.588\n",
      "Nu                              25096.566  25096.566        6515.970  32371.174\n",
      "R0                                  0.000      0.000           0.000      0.000\n",
      "mu                                  0.000      0.000           0.000      0.000\n",
      "N                               94115.057  94115.057       18515.454  88708.609\n",
      "t0                             150129.955 -150129.955       23519.506 138341.902\n",
      "I0moins                         59955.986  59955.986       10331.513  53893.994\n",
      "lambda1                             0.000      0.000           0.000      0.000\n",
      "Sensibilité par méthode Morris pour la date où on atteint la valeur maximale\n",
      "Parameter                         Mu_Star         Mu    Mu_Star_Conf      Sigma\n",
      "pa                                  0.000      0.000           0.000      0.000\n",
      "pih                                 4.731      4.731           0.280      1.442\n",
      "piu                                 4.788     -4.788           0.377      1.900\n",
      "phd                                 0.000      0.000           0.000      0.000\n",
      "phu                                 2.546      2.546           0.243      1.184\n",
      "pud                                 0.000      0.000           0.000      0.000\n",
      "Ni                                 12.958      8.854           1.397     12.659\n",
      "Nh                                  0.760      0.760           0.197      1.113\n",
      "Nu                                  6.498      6.498           0.181      0.980\n",
      "R0                                  0.000      0.000           0.000      0.000\n",
      "mu                                  0.000      0.000           0.000      0.000\n",
      "N                                  12.008      2.584           1.273     13.482\n",
      "t0                                 25.916     25.916           3.402     18.560\n",
      "I0moins                            12.464    -12.464           1.750      9.850\n",
      "lambda1                             0.000      0.000           0.000      0.000\n"
     ]
    }
   ],
   "source": [
    "print('Sensibilité par méthode Morris pour la valeur maximale')\n",
    "Smorris_value  =SALib.analyze.morris.analyze(problem,X,peak_value,conf_level=0.95,print_to_console=True,num_levels=20)\n",
    "print('Sensibilité par méthode Morris pour la date où on atteint la valeur maximale')\n",
    "Smorris_day  =SALib.analyze.morris.analyze(problem,X,peak_day,conf_level=0.95,print_to_console=True,num_levels=20)\n"
   ]
  },
  {
   "cell_type": "markdown",
   "metadata": {},
   "source": [
    "#### Question 4: Analyse de sensibilité par méthode de Sobol"
   ]
  },
  {
   "cell_type": "code",
   "execution_count": 24,
   "metadata": {
    "tags": []
   },
   "outputs": [
    {
     "name": "stdout",
     "output_type": "stream",
     "text": [
      "Sensibilité (Sobol) pour la valeur maximale\n",
      "Group S1 S1_conf ST ST_conf\n",
      "pa 0.029420 0.191354 0.235558 0.170219\n",
      "pih -0.197276 0.199961 0.359962 0.219368\n",
      "piu -0.194204 0.196643 0.362369 0.162805\n",
      "phd -0.139663 0.173321 0.445752 0.274922\n",
      "phu -0.071844 0.165721 0.544852 0.298031\n",
      "pud -0.184013 0.228520 0.742974 0.415086\n",
      "Ni -0.079175 0.210317 0.755171 0.433148\n",
      "Nh -0.173099 0.243246 0.925753 0.430340\n",
      "Nu -0.274017 0.312568 1.256359 0.594919\n",
      "R0 -0.177961 0.349654 1.305859 0.688227\n",
      "mu -0.183993 0.370056 1.298245 0.642085\n",
      "N -0.088134 0.281864 0.875308 0.310022\n",
      "t0 0.065435 0.515129 1.189661 0.434526\n",
      "I0moins 0.022654 0.449024 1.672324 0.986498\n",
      "lambda1 0.047832 0.463444 1.867556 0.894232\n",
      "\n",
      "Group_1 Group_2 S2 S2_conf\n",
      "pa pih -0.069937 0.485911\n",
      "pa piu -0.040447 0.464362\n",
      "pa phd -0.130972 0.472913\n",
      "pa phu -0.126572 0.502266\n",
      "pa pud -0.048103 0.506589\n",
      "pa Ni -0.180457 0.533522\n",
      "pa Nh -0.027443 0.458302\n",
      "pa Nu 0.161638 0.549852\n",
      "pa R0 0.106347 0.583899\n",
      "pa mu 0.160441 0.615165\n",
      "pa N -0.245679 0.346117\n",
      "pa t0 -0.420902 0.536069\n",
      "pa I0moins -0.523136 0.534480\n",
      "pa lambda1 -0.434322 0.475465\n",
      "pih piu 0.173389 0.493363\n",
      "pih phd 0.107463 0.481470\n",
      "pih phu 0.123312 0.464643\n",
      "pih pud 0.206172 0.482434\n",
      "pih Ni 0.095475 0.487248\n",
      "pih Nh 0.141342 0.370263\n",
      "pih Nu 0.308991 0.371275\n",
      "pih R0 0.158899 0.408565\n",
      "pih mu 0.177276 0.437292\n",
      "pih N -0.033829 0.378865\n",
      "pih t0 -0.198491 0.562515\n",
      "pih I0moins -0.210956 0.553469\n",
      "pih lambda1 -0.138646 0.439483\n",
      "piu phd 0.246247 0.482479\n",
      "piu phu 0.265269 0.476148\n",
      "piu pud 0.319746 0.435764\n",
      "piu Ni 0.197647 0.439845\n",
      "piu Nh 0.242132 0.340952\n",
      "piu Nu 0.371222 0.360580\n",
      "piu R0 0.225199 0.391009\n",
      "piu mu 0.231839 0.441873\n",
      "piu N -0.037506 0.394212\n",
      "piu t0 -0.156733 0.552964\n",
      "piu I0moins -0.167999 0.563181\n",
      "piu lambda1 -0.034514 0.427418\n",
      "phd phu 0.208375 0.415455\n",
      "phd pud 0.291511 0.370935\n",
      "phd Ni 0.151151 0.400707\n",
      "phd Nh 0.235101 0.352275\n",
      "phd Nu 0.321174 0.360604\n",
      "phd R0 0.183769 0.351054\n",
      "phd mu 0.209524 0.370687\n",
      "phd N 0.026525 0.347072\n",
      "phd t0 -0.116715 0.521152\n",
      "phd I0moins -0.179979 0.526922\n",
      "phd lambda1 -0.117367 0.401318\n",
      "phu pud 0.221558 0.365456\n",
      "phu Ni 0.111629 0.373724\n",
      "phu Nh 0.158759 0.298101\n",
      "phu Nu 0.209108 0.286270\n",
      "phu R0 0.051464 0.289879\n",
      "phu mu 0.065312 0.302121\n",
      "phu N -0.004957 0.309044\n",
      "phu t0 -0.142586 0.497501\n",
      "phu I0moins -0.167469 0.475253\n",
      "phu lambda1 -0.057145 0.334117\n",
      "pud Ni 0.183940 0.413614\n",
      "pud Nh 0.244221 0.334528\n",
      "pud Nu 0.312977 0.328222\n",
      "pud R0 0.172912 0.340435\n",
      "pud mu 0.189009 0.350630\n",
      "pud N 0.041319 0.361054\n",
      "pud t0 -0.087446 0.551356\n",
      "pud I0moins -0.122523 0.545565\n",
      "pud lambda1 -0.021434 0.445523\n",
      "Ni Nh 0.083131 0.364330\n",
      "Ni Nu 0.130513 0.343107\n",
      "Ni R0 0.076010 0.323596\n",
      "Ni mu 0.095235 0.305403\n",
      "Ni N -0.060099 0.306447\n",
      "Ni t0 -0.206254 0.495705\n",
      "Ni I0moins -0.261976 0.488472\n",
      "Ni lambda1 -0.242423 0.480213\n",
      "Nh Nu 0.179219 0.366745\n",
      "Nh R0 0.182404 0.355137\n",
      "Nh mu 0.202612 0.343246\n",
      "Nh N 0.070066 0.345547\n",
      "Nh t0 0.018004 0.397316\n",
      "Nh I0moins -0.048009 0.498670\n",
      "Nh lambda1 -0.026391 0.508068\n",
      "Nu R0 0.277556 0.382987\n",
      "Nu mu 0.269998 0.389384\n",
      "Nu N 0.119174 0.380350\n",
      "Nu t0 -0.060182 0.562002\n",
      "Nu I0moins -0.076530 0.550966\n",
      "Nu lambda1 -0.042338 0.553351\n",
      "R0 mu 0.166651 0.542535\n",
      "R0 N 0.101612 0.385124\n",
      "R0 t0 -0.099706 0.620730\n",
      "R0 I0moins -0.122207 0.567833\n",
      "R0 lambda1 -0.162171 0.562010\n",
      "mu N 0.157921 0.403653\n",
      "mu t0 0.011292 0.525509\n",
      "mu I0moins 0.028447 0.470488\n",
      "mu lambda1 -0.071529 0.531676\n",
      "N t0 -0.066952 0.512877\n",
      "N I0moins -0.059175 0.475043\n",
      "N lambda1 -0.118089 0.512631\n",
      "t0 I0moins -0.322213 0.783521\n",
      "t0 lambda1 -0.274277 0.725597\n",
      "I0moins lambda1 -0.156607 0.616908\n",
      "Sensibilité (Sobol) pour la date où on atteint la valeur maximale\n",
      "Group S1 S1_conf ST ST_conf\n",
      "pa 0.000000 0.000000 0.000000 0.000000\n",
      "pih 0.019881 0.024503 0.016294 0.005585\n",
      "piu 0.030010 0.046057 0.022633 0.006376\n",
      "phd 0.000000 0.000000 0.000000 0.000000\n",
      "phu 0.011817 0.022462 0.005446 0.001453\n",
      "pud 0.000000 0.000000 0.000000 0.000000\n",
      "Ni 0.024463 0.124018 0.161017 0.066959\n",
      "Nh 0.000540 0.008644 0.001295 0.000453\n",
      "Nu 0.022848 0.056930 0.038480 0.011283\n",
      "R0 0.000000 0.000000 0.000000 0.000000\n",
      "mu 0.000000 0.000000 0.000000 0.000000\n",
      "N -0.010589 0.084350 0.097449 0.037377\n",
      "t0 0.481704 0.227071 0.727768 0.297018\n",
      "I0moins 0.043031 0.099518 0.130439 0.066300\n",
      "lambda1 0.000000 0.000000 0.000000 0.000000\n",
      "\n",
      "Group_1 Group_2 S2 S2_conf\n",
      "pa pih -0.000000 0.000000\n",
      "pa piu 0.000000 0.000000\n",
      "pa phd 0.000000 0.000000\n",
      "pa phu 0.000000 0.000000\n",
      "pa pud 0.000000 0.000000\n",
      "pa Ni 0.000000 0.000000\n",
      "pa Nh 0.000000 0.000000\n",
      "pa Nu -0.000000 0.000000\n",
      "pa R0 0.000000 0.000000\n",
      "pa mu 0.000000 0.000000\n",
      "pa N -0.000000 0.000000\n",
      "pa t0 0.000000 0.000000\n",
      "pa I0moins -0.000000 0.000000\n",
      "pa lambda1 0.000000 0.000000\n",
      "pih piu -0.007699 0.045717\n",
      "pih phd -0.008592 0.045636\n",
      "pih phu -0.009485 0.045538\n",
      "pih pud -0.008592 0.045636\n",
      "pih Ni 0.002122 0.043017\n",
      "pih Nh -0.009038 0.045465\n",
      "pih Nu -0.005824 0.049667\n",
      "pih R0 -0.008592 0.045636\n",
      "pih mu -0.008592 0.045636\n",
      "pih N -0.009842 0.045808\n",
      "pih t0 -0.024930 0.047216\n",
      "pih I0moins -0.010735 0.049457\n",
      "pih lambda1 -0.008592 0.045636\n",
      "piu phd 0.005162 0.067299\n",
      "piu phu 0.006234 0.067319\n",
      "piu pud 0.005162 0.067299\n",
      "piu Ni 0.005251 0.062336\n",
      "piu Nh 0.005787 0.067044\n",
      "piu Nu 0.001055 0.069418\n",
      "piu R0 0.005162 0.067299\n",
      "piu mu 0.005162 0.067299\n",
      "piu N -0.007248 0.065957\n",
      "piu t0 -0.005016 0.074217\n",
      "piu I0moins 0.001948 0.070724\n",
      "piu lambda1 0.005162 0.067299\n",
      "phd phu 0.000000 0.000000\n",
      "phd pud 0.000000 0.000000\n",
      "phd Ni 0.000000 0.000000\n",
      "phd Nh 0.000000 0.000000\n",
      "phd Nu -0.000000 0.000000\n",
      "phd R0 0.000000 0.000000\n",
      "phd mu 0.000000 0.000000\n",
      "phd N -0.000000 0.000000\n",
      "phd t0 0.000000 0.000000\n",
      "phd I0moins -0.000000 0.000000\n",
      "phd lambda1 0.000000 0.000000\n",
      "phu pud 0.000869 0.030767\n",
      "phu Ni -0.008149 0.030515\n",
      "phu Nh 0.001047 0.030625\n",
      "phu Nu 0.002029 0.032420\n",
      "phu R0 0.000869 0.030767\n",
      "phu mu 0.000869 0.030767\n",
      "phu N -0.001095 0.029870\n",
      "phu t0 -0.000113 0.038014\n",
      "phu I0moins -0.009131 0.032008\n",
      "phu lambda1 0.000869 0.030767\n",
      "pud Ni 0.000000 0.000000\n",
      "pud Nh 0.000000 0.000000\n",
      "pud Nu -0.000000 0.000000\n",
      "pud R0 0.000000 0.000000\n",
      "pud mu 0.000000 0.000000\n",
      "pud N -0.000000 0.000000\n",
      "pud t0 0.000000 0.000000\n",
      "pud I0moins -0.000000 0.000000\n",
      "pud lambda1 0.000000 0.000000\n",
      "Ni Nh 0.135280 0.154775\n",
      "Ni Nu 0.148762 0.161863\n",
      "Ni R0 0.134298 0.155010\n",
      "Ni mu 0.134298 0.155010\n",
      "Ni N 0.124477 0.156064\n",
      "Ni t0 0.092158 0.136663\n",
      "Ni I0moins 0.160279 0.165970\n",
      "Ni lambda1 0.134298 0.155010\n",
      "Nh Nu 0.008843 0.013499\n",
      "Nh R0 0.006879 0.013017\n",
      "Nh mu 0.006879 0.013017\n",
      "Nh N 0.005539 0.012160\n",
      "Nh t0 -0.002674 0.016162\n",
      "Nh I0moins 0.008575 0.013332\n",
      "Nh lambda1 0.006879 0.013017\n",
      "Nu R0 -0.064270 0.069942\n",
      "Nu mu -0.064270 0.069942\n",
      "Nu N -0.061681 0.071500\n",
      "Nu t0 -0.056770 0.093261\n",
      "Nu I0moins -0.043110 0.072303\n",
      "Nu lambda1 -0.064270 0.069942\n",
      "R0 mu 0.000000 0.000000\n",
      "R0 N -0.000000 0.000000\n",
      "R0 t0 0.000000 0.000000\n",
      "R0 I0moins -0.000000 0.000000\n",
      "R0 lambda1 0.000000 0.000000\n",
      "mu N -0.000000 0.000000\n",
      "mu t0 0.000000 0.000000\n",
      "mu I0moins -0.000000 0.000000\n",
      "mu lambda1 0.000000 0.000000\n",
      "N t0 0.003011 0.101978\n",
      "N I0moins -0.018952 0.127279\n",
      "N lambda1 -0.023774 0.133868\n",
      "t0 I0moins 0.256457 0.346519\n",
      "t0 lambda1 0.158784 0.299016\n",
      "I0moins lambda1 0.042601 0.170578\n"
     ]
    }
   ],
   "source": [
    "from SALib.sample import saltelli\n",
    "from SALib.analyze import sobol\n",
    "\n",
    "X = saltelli.sample(problem,100,calc_second_order=True)\n",
    "param_values,peak_day = Resolution(X)\n",
    "print('Sensibilité (Sobol) pour la valeur maximale')\n",
    "Si_peak_value = sobol.analyze(problem,peak_value,print_to_console=True)\n",
    "print('Sensibilité (Sobol) pour la date où on atteint la valeur maximale')\n",
    "Si_peak_value = sobol.analyze(problem,peak_day,print_to_console=True)"
   ]
  },
  {
   "cell_type": "markdown",
   "metadata": {},
   "source": [
    "S1 désigne les indices du premier ordre et ST désigne les indices totaux."
   ]
  },
  {
   "cell_type": "markdown",
   "metadata": {},
   "source": [
    "#### Question  5: Analyse de sensibilité quantitative de : Sobol pour les paramètres dont on a les données"
   ]
  },
  {
   "cell_type": "code",
   "execution_count": 25,
   "metadata": {},
   "outputs": [
    {
     "data": {
      "text/plain": [
       "54"
      ]
     },
     "execution_count": 25,
     "metadata": {},
     "output_type": "execute_result"
    }
   ],
   "source": [
    "np.datetime64('2020-05-11').astype('int') - np.datetime64('2020-03-18').astype('int')"
   ]
  },
  {
   "cell_type": "code",
   "execution_count": 26,
   "metadata": {},
   "outputs": [],
   "source": [
    "def Simulation_epidemie_data(x,t0,N):\n",
    "    X = [[0 for i in range(10)]] #X représente l'ensemble des vecteurs qui regroupent les 10 compartiments du modèle épidémique\n",
    "    I0moins,gammaIR,gammaIH,gammaIU,gammaHD,gammaHU,gammaHR,gammaUD,gammaUR,tau0 = x[0],x[1],x[2],x[3],x[4],x[5],x[6],x[7],x[8],x[9]\n",
    "    #On initialise notre modèle\n",
    "    X[0][0] = S0 \n",
    "    X[0][1] = I0moins\n",
    "\n",
    "    #On utilise une première approche approximée à l'ordre 1 pour résoudre le système d'équation différentielle\n",
    "    periode = np.arange(t0, np.datetime64('2020-05-11').astype('int'))\n",
    "    for n in periode[:-1]:     \n",
    "        Xnew = [0 for i in range(10)]\n",
    "        Xold = X[-1]\n",
    "        Xnew[0] = Xold[0] - tau(n.astype('float'),N)*Xold[0]*Xold[1]\n",
    "        Xnew[1] = (1-lambda1)*Xold[1] + tau(n.astype('float'),N)*Xold[0]*Xold[1] - (gammaIR+gammaIH+gammaIU)*Xold[1]\n",
    "        Xnew[2] = Xold[2] + lambda1*Xold[1] - (gammaIR+gammaIH+gammaIU)*Xold[2]\n",
    "        Xnew[3] = (1-lambda2)*Xold[3] + gammaIR*Xold[1]\n",
    "        Xnew[4] = Xold[4] + gammaIR*Xold[2] +lambda2*Xold[3]\n",
    "        Xnew[5] = (1-(gammaHR+gammaHD+gammaHU))*Xold[5] + gammaIH*(Xold[1]+Xold[2])\n",
    "        Xnew[6] = (1-(gammaUR+gammaUD))*Xold[6] + gammaIU*(Xold[1]+Xold[2]) + gammaHU*Xold[5]\n",
    "        Xnew[7] = Xold[7] + gammaHR*Xold[5] + gammaUR*Xold[6]\n",
    "        Xnew[8] = Xold[8] + gammaUD*Xold[6] + gammaHD*Xold[5]\n",
    "        Xnew[9] = (lambda1+gammaIH+gammaIU)*Xold[1]\n",
    "        X.append(Xnew)\n",
    "    return X[len(X)-54:],periode\n",
    "\n",
    "\n",
    "def Compartiments_epidemie_list(X):\n",
    "    S = [x[0] for x in X[:]]\n",
    "    Imoins = [x[1] for x in X[:]]\n",
    "    Iplus = [x[2] for x in X[:]]\n",
    "    Rmoins = [x[3] for x in X[:]]\n",
    "    RplusI = [x[4] for x in X[:]]\n",
    "    H = [x[5] for x in X[:]]\n",
    "    U = [x[6] for x in X[:]]\n",
    "    RplusH = [x[7] for x in X[:]]\n",
    "    D = [x[8] for x in X[:]]\n",
    "    DR = [x[9] for x in X[:]]\n",
    "    return S,Imoins,Iplus,Rmoins,RplusI,H,U,RplusH,D,DR"
   ]
  },
  {
   "cell_type": "code",
   "execution_count": 27,
   "metadata": {},
   "outputs": [],
   "source": [
    "def Resolution_bis(parametres):\n",
    "    Ht= []\n",
    "    Ut = []\n",
    "    Dt = []\n",
    "    Rt = []\n",
    "    for i,X in enumerate(parametres):\n",
    "        variables = X\n",
    "        variables[6] = np.round(variables[6])\n",
    "        variables[8] = np.round(variables[8])\n",
    "        variables[13] = np.round(variables[13])\n",
    "        constants = Para_systeme_vector(variables)\n",
    "        t0 = np.round(variables[12])\n",
    "        N = np.round(variables[11])\n",
    "        x,periode = Simulation_epidemie_data(constants,t0,N)\n",
    "        S,Imoins,Iplus,Rmoins,RplusI,H,U,RplusH,D,DR=Compartiments_epidemie_list(x)\n",
    "        Ht.append(H)\n",
    "        Ut.append(U)\n",
    "        Dt.append(D)\n",
    "        Rt.append(RplusH)\n",
    "    return Ht, Ut, Dt, Rt"
   ]
  },
  {
   "cell_type": "code",
   "execution_count": 28,
   "metadata": {},
   "outputs": [],
   "source": [
    "X = saltelli.sample(problem,100)\n",
    "H, U, D, RplusH = Resolution_bis(X)\n",
    "H = np.array(H)\n",
    "U = np.array(U)\n",
    "D = np.array(D)\n",
    "RplusH = np.array(RplusH)"
   ]
  },
  {
   "cell_type": "code",
   "execution_count": 29,
   "metadata": {},
   "outputs": [
    {
     "data": {
      "text/plain": [
       "array(['2020-03-18', '2020-03-19', '2020-03-20', '2020-03-21',\n",
       "       '2020-03-22', '2020-03-23', '2020-03-24', '2020-03-25',\n",
       "       '2020-03-26', '2020-03-27', '2020-03-28', '2020-03-29',\n",
       "       '2020-03-30', '2020-03-31', '2020-04-01', '2020-04-02',\n",
       "       '2020-04-03', '2020-04-04', '2020-04-05', '2020-04-06',\n",
       "       '2020-04-07', '2020-04-08', '2020-04-09', '2020-04-10',\n",
       "       '2020-04-11', '2020-04-12', '2020-04-13', '2020-04-14',\n",
       "       '2020-04-15', '2020-04-16', '2020-04-17', '2020-04-18',\n",
       "       '2020-04-19', '2020-04-20', '2020-04-21', '2020-04-22',\n",
       "       '2020-04-23', '2020-04-24', '2020-04-25', '2020-04-26',\n",
       "       '2020-04-27', '2020-04-28', '2020-04-29', '2020-04-30',\n",
       "       '2020-05-01', '2020-05-02', '2020-05-03', '2020-05-04',\n",
       "       '2020-05-05', '2020-05-06', '2020-05-07', '2020-05-08',\n",
       "       '2020-05-09', '2020-05-10'], dtype='datetime64[D]')"
      ]
     },
     "execution_count": 29,
     "metadata": {},
     "output_type": "execute_result"
    }
   ],
   "source": [
    "periode = np.arange(np.datetime64('2020-03-18'), np.datetime64('2020-05-11'))\n",
    "periode"
   ]
  },
  {
   "cell_type": "code",
   "execution_count": 30,
   "metadata": {},
   "outputs": [],
   "source": [
    "pa =[]\n",
    "pih =[]\n",
    "piu =[]\n",
    "phd =[]\n",
    "phu =[]\n",
    "pud =[]\n",
    "Ni =[]\n",
    "Nh =[]\n",
    "Nu =[]\n",
    "R0 =[]\n",
    "mu =[]\n",
    "N =[]\n",
    "t0 =[]\n",
    "I0moins =[]\n",
    "lambda1 =[]\n",
    "pat =[]\n",
    "piht =[]\n",
    "piut =[]\n",
    "phdt =[]\n",
    "phut =[]\n",
    "pudt =[]\n",
    "Nit =[]\n",
    "Nht =[]\n",
    "Nut =[]\n",
    "R0t =[]\n",
    "mut =[]\n",
    "Nt =[]\n",
    "t0t =[]\n",
    "I0moinst =[]\n",
    "lambda1t =[]\n",
    "for i in range(len(H[0])):\n",
    "    h = H[:,i]\n",
    "    Si_H = sobol.analyze(problem,h)\n",
    "    pa.append(Si_H['S1'][0])\n",
    "    pih.append(Si_H['S1'][1])\n",
    "    piu.append(Si_H['S1'][2])\n",
    "    phd.append(Si_H['S1'][3])\n",
    "    phu.append(Si_H['S1'][4])\n",
    "    pud.append(Si_H['S1'][5])\n",
    "    Ni.append(Si_H['S1'][6])\n",
    "    Nh.append(Si_H['S1'][7])\n",
    "    Nu.append(Si_H['S1'][8])\n",
    "    R0.append(Si_H['S1'][9])\n",
    "    mu.append(Si_H['S1'][10])\n",
    "    N.append(Si_H['S1'][11])\n",
    "    t0.append(Si_H['S1'][12])\n",
    "    I0moins.append(Si_H['S1'][13])\n",
    "    lambda1.append(Si_H['S1'][14])\n",
    "    pat.append(Si_H['ST'][0])\n",
    "    piht.append(Si_H['ST'][1])\n",
    "    piut.append(Si_H['ST'][2])\n",
    "    phdt.append(Si_H['ST'][3])\n",
    "    phut.append(Si_H['ST'][4])\n",
    "    pudt.append(Si_H['ST'][5])\n",
    "    Nit.append(Si_H['ST'][6])\n",
    "    Nht.append(Si_H['ST'][7])\n",
    "    Nut.append(Si_H['ST'][8])\n",
    "    R0t.append(Si_H['ST'][9])\n",
    "    mut.append(Si_H['ST'][10])\n",
    "    Nt.append(Si_H['ST'][11])\n",
    "    t0t.append(Si_H['ST'][12])\n",
    "    I0moinst.append(Si_H['ST'][13])\n",
    "    lambda1t.append(Si_H['ST'][14])\n",
    "\n"
   ]
  },
  {
   "cell_type": "code",
   "execution_count": 31,
   "metadata": {},
   "outputs": [
    {
     "data": {
      "image/png": "[encoded data removed]",
      "text/plain": [
       "<Figure size 432x288 with 1 Axes>"
      ]
     },
     "metadata": {
      "needs_background": "light"
     },
     "output_type": "display_data"
    }
   ],
   "source": [
    "plt.plot(periode,pa,label='pa')\n",
    "plt.plot(periode,pih,label='pih')\n",
    "plt.plot(periode,piu,label='piu')\n",
    "plt.plot(periode,phd,label='phd')\n",
    "plt.plot(periode,phu,label='phu')\n",
    "plt.plot(periode,pud,label='pud')\n",
    "plt.plot(periode,Ni,label='Ni')\n",
    "plt.plot(periode,Nh,label='Nh')\n",
    "plt.plot(periode,Nu,label='Nu')\n",
    "plt.plot(periode,R0,label='R0')\n",
    "plt.plot(periode,mu,label='mu')\n",
    "plt.plot(periode,N,label='N')\n",
    "plt.plot(periode,t0,label='t0')\n",
    "plt.plot(periode,I0moins,label='I0moins')\n",
    "plt.plot(periode,lambda1,label='lambda1')\n",
    "plt.title('Evolution pour H des indices de premier ordre sur la péride du jeu de données')\n",
    "plt.legend(loc='upper left', fontsize='x-small')\n",
    "plt.show()"
   ]
  },
  {
   "cell_type": "code",
   "execution_count": 32,
   "metadata": {},
   "outputs": [
    {
     "data": {
      "image/png": "[encoded data removed]",
      "text/plain": [
       "<Figure size 432x288 with 1 Axes>"
      ]
     },
     "metadata": {
      "needs_background": "light"
     },
     "output_type": "display_data"
    }
   ],
   "source": [
    "plt.plot(periode,pat,label='pa')\n",
    "plt.plot(periode,piht,label='pih')\n",
    "plt.plot(periode,piut,label='piu')\n",
    "plt.plot(periode,phdt,label='phd')\n",
    "plt.plot(periode,phut,label='phu')\n",
    "plt.plot(periode,pudt,label='pud')\n",
    "plt.plot(periode,Nit,label='Ni')\n",
    "plt.plot(periode,Nht,label='Nh')\n",
    "plt.plot(periode,Nut,label='Nu')\n",
    "plt.plot(periode,R0t,label='R0')\n",
    "plt.plot(periode,mut,label='mu')\n",
    "plt.plot(periode,Nt,label='N')\n",
    "plt.plot(periode,t0t,label='t0')\n",
    "plt.plot(periode,I0moinst,label='I0moins')\n",
    "plt.plot(periode,lambda1t,label='lambda1')\n",
    "plt.title('Evolution pour H des indices totaux sur la péride du jeu de données')\n",
    "plt.legend(loc='upper left', fontsize='x-small')\n",
    "plt.show()"
   ]
  },
  {
   "cell_type": "code",
   "execution_count": 33,
   "metadata": {},
   "outputs": [],
   "source": [
    "pa =[]\n",
    "pih =[]\n",
    "piu =[]\n",
    "phd =[]\n",
    "phu =[]\n",
    "pud =[]\n",
    "Ni =[]\n",
    "Nh =[]\n",
    "Nu =[]\n",
    "R0 =[]\n",
    "mu =[]\n",
    "N =[]\n",
    "t0 =[]\n",
    "I0moins =[]\n",
    "lambda1 =[]\n",
    "pat =[]\n",
    "piht =[]\n",
    "piut =[]\n",
    "phdt =[]\n",
    "phut =[]\n",
    "pudt =[]\n",
    "Nit =[]\n",
    "Nht =[]\n",
    "Nut =[]\n",
    "R0t =[]\n",
    "mut =[]\n",
    "Nt =[]\n",
    "t0t =[]\n",
    "I0moinst =[]\n",
    "lambda1t =[]\n",
    "for i in range(len(U[0])):\n",
    "    u = U[:,i]\n",
    "    Si_U = sobol.analyze(problem,u)\n",
    "    pa.append(Si_U['S1'][0])\n",
    "    pih.append(Si_U['S1'][1])\n",
    "    piu.append(Si_U['S1'][2])\n",
    "    phd.append(Si_U['S1'][3])\n",
    "    phu.append(Si_U['S1'][4])\n",
    "    pud.append(Si_U['S1'][5])\n",
    "    Ni.append(Si_U['S1'][6])\n",
    "    Nh.append(Si_U['S1'][7])\n",
    "    Nu.append(Si_U['S1'][8])\n",
    "    R0.append(Si_U['S1'][9])\n",
    "    mu.append(Si_U['S1'][10])\n",
    "    N.append(Si_U['S1'][11])\n",
    "    t0.append(Si_U['S1'][12])\n",
    "    I0moins.append(Si_U['S1'][13])\n",
    "    lambda1.append(Si_U['S1'][14])\n",
    "    pat.append(Si_U['ST'][0])\n",
    "    piht.append(Si_U['ST'][1])\n",
    "    piut.append(Si_U['ST'][2])\n",
    "    phdt.append(Si_U['ST'][3])\n",
    "    phut.append(Si_U['ST'][4])\n",
    "    pudt.append(Si_U['ST'][5])\n",
    "    Nit.append(Si_U['ST'][6])\n",
    "    Nht.append(Si_U['ST'][7])\n",
    "    Nut.append(Si_U['ST'][8])\n",
    "    R0t.append(Si_U['ST'][9])\n",
    "    mut.append(Si_U['ST'][10])\n",
    "    Nt.append(Si_U['ST'][11])\n",
    "    t0t.append(Si_U['ST'][12])\n",
    "    I0moinst.append(Si_U['ST'][13])\n",
    "    lambda1t.append(Si_U['ST'][14])"
   ]
  },
  {
   "cell_type": "code",
   "execution_count": 34,
   "metadata": {},
   "outputs": [
    {
     "data": {
      "image/png": "[encoded data removed]",
      "text/plain": [
       "<Figure size 432x288 with 1 Axes>"
      ]
     },
     "metadata": {
      "needs_background": "light"
     },
     "output_type": "display_data"
    }
   ],
   "source": [
    "plt.plot(periode,pa,label='pa')\n",
    "plt.plot(periode,pih,label='pih')\n",
    "plt.plot(periode,piu,label='piu')\n",
    "plt.plot(periode,phd,label='phd')\n",
    "plt.plot(periode,phu,label='phu')\n",
    "plt.plot(periode,pud,label='pud')\n",
    "plt.plot(periode,Ni,label='Ni')\n",
    "plt.plot(periode,Nh,label='Nh')\n",
    "plt.plot(periode,Nu,label='Nu')\n",
    "plt.plot(periode,R0,label='R0')\n",
    "plt.plot(periode,mu,label='mu')\n",
    "plt.plot(periode,N,label='N')\n",
    "plt.plot(periode,t0,label='t0')\n",
    "plt.plot(periode,I0moins,label='I0moins')\n",
    "plt.plot(periode,lambda1,label='lambda1')\n",
    "plt.title('Evolution pour U des indices de premier ordre sur la péride du jeu de données')\n",
    "plt.legend(loc='upper left', fontsize='x-small')\n",
    "plt.show()"
   ]
  },
  {
   "cell_type": "code",
   "execution_count": 35,
   "metadata": {},
   "outputs": [
    {
     "data": {
      "image/png": "[encoded data removed]",
      "text/plain": [
       "<Figure size 432x288 with 1 Axes>"
      ]
     },
     "metadata": {
      "needs_background": "light"
     },
     "output_type": "display_data"
    }
   ],
   "source": [
    "plt.plot(periode,pat,label='pa')\n",
    "plt.plot(periode,piht,label='pih')\n",
    "plt.plot(periode,piut,label='piu')\n",
    "plt.plot(periode,phdt,label='phd')\n",
    "plt.plot(periode,phut,label='phu')\n",
    "plt.plot(periode,pudt,label='pud')\n",
    "plt.plot(periode,Nit,label='Ni')\n",
    "plt.plot(periode,Nht,label='Nh')\n",
    "plt.plot(periode,Nut,label='Nu')\n",
    "plt.plot(periode,R0t,label='R0')\n",
    "plt.plot(periode,mut,label='mu')\n",
    "plt.plot(periode,Nt,label='N')\n",
    "plt.plot(periode,t0t,label='t0')\n",
    "plt.plot(periode,I0moinst,label='I0moins')\n",
    "plt.plot(periode,lambda1t,label='lambda1')\n",
    "plt.title('Evolution pour U des indices totaux sur la péride du jeu de données')\n",
    "plt.legend(loc='upper left', fontsize='x-small')\n",
    "plt.show()"
   ]
  },
  {
   "cell_type": "code",
   "execution_count": 36,
   "metadata": {},
   "outputs": [],
   "source": [
    "pa =[]\n",
    "pih =[]\n",
    "piu =[]\n",
    "phd =[]\n",
    "phu =[]\n",
    "pud =[]\n",
    "Ni =[]\n",
    "Nh =[]\n",
    "Nu =[]\n",
    "R0 =[]\n",
    "mu =[]\n",
    "N =[]\n",
    "t0 =[]\n",
    "I0moins =[]\n",
    "lambda1 =[]\n",
    "pat =[]\n",
    "piht =[]\n",
    "piut =[]\n",
    "phdt =[]\n",
    "phut =[]\n",
    "pudt =[]\n",
    "Nit =[]\n",
    "Nht =[]\n",
    "Nut =[]\n",
    "R0t =[]\n",
    "mut =[]\n",
    "Nt =[]\n",
    "t0t =[]\n",
    "I0moinst =[]\n",
    "lambda1t =[]\n",
    "for i in range(len(D[0])):\n",
    "    d = D[:,i]\n",
    "    Si_D = sobol.analyze(problem,d)\n",
    "    pa.append(Si_D['S1'][0])\n",
    "    pih.append(Si_D['S1'][1])\n",
    "    piu.append(Si_D['S1'][2])\n",
    "    phd.append(Si_D['S1'][3])\n",
    "    phu.append(Si_D['S1'][4])\n",
    "    pud.append(Si_D['S1'][5])\n",
    "    Ni.append(Si_D['S1'][6])\n",
    "    Nh.append(Si_D['S1'][7])\n",
    "    Nu.append(Si_D['S1'][8])\n",
    "    R0.append(Si_D['S1'][9])\n",
    "    mu.append(Si_D['S1'][10])\n",
    "    N.append(Si_D['S1'][11])\n",
    "    t0.append(Si_D['S1'][12])\n",
    "    I0moins.append(Si_D['S1'][13])\n",
    "    lambda1.append(Si_D['S1'][14])\n",
    "    pat.append(Si_D['ST'][0])\n",
    "    piht.append(Si_D['ST'][1])\n",
    "    piut.append(Si_D['ST'][2])\n",
    "    phdt.append(Si_D['ST'][3])\n",
    "    phut.append(Si_D['ST'][4])\n",
    "    pudt.append(Si_D['ST'][5])\n",
    "    Nit.append(Si_D['ST'][6])\n",
    "    Nht.append(Si_D['ST'][7])\n",
    "    Nut.append(Si_D['ST'][8])\n",
    "    R0t.append(Si_D['ST'][9])\n",
    "    mut.append(Si_D['ST'][10])\n",
    "    Nt.append(Si_D['ST'][11])\n",
    "    t0t.append(Si_D['ST'][12])\n",
    "    I0moinst.append(Si_D['ST'][13])\n",
    "    lambda1t.append(Si_D['ST'][14])"
   ]
  },
  {
   "cell_type": "code",
   "execution_count": 37,
   "metadata": {},
   "outputs": [
    {
     "data": {
      "image/png": "[encoded data removed]",
      "text/plain": [
       "<Figure size 432x288 with 1 Axes>"
      ]
     },
     "metadata": {
      "needs_background": "light"
     },
     "output_type": "display_data"
    }
   ],
   "source": [
    "plt.plot(periode,pa,label='pa')\n",
    "plt.plot(periode,pih,label='pih')\n",
    "plt.plot(periode,piu,label='piu')\n",
    "plt.plot(periode,phd,label='phd')\n",
    "plt.plot(periode,phu,label='phu')\n",
    "plt.plot(periode,pud,label='pud')\n",
    "plt.plot(periode,Ni,label='Ni')\n",
    "plt.plot(periode,Nh,label='Nh')\n",
    "plt.plot(periode,Nu,label='Nu')\n",
    "plt.plot(periode,R0,label='R0')\n",
    "plt.plot(periode,mu,label='mu')\n",
    "plt.plot(periode,N,label='N')\n",
    "plt.plot(periode,t0,label='t0')\n",
    "plt.plot(periode,I0moins,label='I0moins')\n",
    "plt.plot(periode,lambda1,label='lambda1')\n",
    "plt.title('Evolution pour D des indices de premier ordre sur la péride du jeu de données')\n",
    "plt.legend(loc='upper left', fontsize='x-small')\n",
    "plt.show()"
   ]
  },
  {
   "cell_type": "code",
   "execution_count": 38,
   "metadata": {},
   "outputs": [
    {
     "data": {
      "image/png": "[encoded data removed]",
      "text/plain": [
       "<Figure size 432x288 with 1 Axes>"
      ]
     },
     "metadata": {
      "needs_background": "light"
     },
     "output_type": "display_data"
    }
   ],
   "source": [
    "plt.plot(periode,pat,label='pa')\n",
    "plt.plot(periode,piht,label='pih')\n",
    "plt.plot(periode,piut,label='piu')\n",
    "plt.plot(periode,phdt,label='phd')\n",
    "plt.plot(periode,phut,label='phu')\n",
    "plt.plot(periode,pudt,label='pud')\n",
    "plt.plot(periode,Nit,label='Ni')\n",
    "plt.plot(periode,Nht,label='Nh')\n",
    "plt.plot(periode,Nut,label='Nu')\n",
    "plt.plot(periode,R0t,label='R0')\n",
    "plt.plot(periode,mut,label='mu')\n",
    "plt.plot(periode,Nt,label='N')\n",
    "plt.plot(periode,t0t,label='t0')\n",
    "plt.plot(periode,I0moinst,label='I0moins')\n",
    "plt.plot(periode,lambda1t,label='lambda1')\n",
    "plt.title('Evolution pour D des indices totaux sur la péride du jeu de données')\n",
    "plt.legend(loc='upper left', fontsize='x-small')\n",
    "plt.show()"
   ]
  },
  {
   "cell_type": "code",
   "execution_count": 39,
   "metadata": {},
   "outputs": [],
   "source": [
    "pa =[]\n",
    "pih =[]\n",
    "piu =[]\n",
    "phd =[]\n",
    "phu =[]\n",
    "pud =[]\n",
    "Ni =[]\n",
    "Nh =[]\n",
    "Nu =[]\n",
    "R0 =[]\n",
    "mu =[]\n",
    "N =[]\n",
    "t0 =[]\n",
    "I0moins =[]\n",
    "lambda1 =[]\n",
    "pat =[]\n",
    "piht =[]\n",
    "piut =[]\n",
    "phdt =[]\n",
    "phut =[]\n",
    "pudt =[]\n",
    "Nit =[]\n",
    "Nht =[]\n",
    "Nut =[]\n",
    "R0t =[]\n",
    "mut =[]\n",
    "Nt =[]\n",
    "t0t =[]\n",
    "I0moinst =[]\n",
    "lambda1t =[]\n",
    "for i in range(len(RplusH[0])):\n",
    "    r = RplusH[:,i]\n",
    "    Si_R = sobol.analyze(problem,r)\n",
    "    pa.append(Si_R['S1'][0])\n",
    "    pih.append(Si_R['S1'][1])\n",
    "    piu.append(Si_R['S1'][2])\n",
    "    phd.append(Si_R['S1'][3])\n",
    "    phu.append(Si_R['S1'][4])\n",
    "    pud.append(Si_R['S1'][5])\n",
    "    Ni.append(Si_R['S1'][6])\n",
    "    Nh.append(Si_R['S1'][7])\n",
    "    Nu.append(Si_R['S1'][8])\n",
    "    R0.append(Si_R['S1'][9])\n",
    "    mu.append(Si_R['S1'][10])\n",
    "    N.append(Si_R['S1'][11])\n",
    "    t0.append(Si_R['S1'][12])\n",
    "    I0moins.append(Si_R['S1'][13])\n",
    "    lambda1.append(Si_R['S1'][14])\n",
    "    pat.append(Si_R['ST'][0])\n",
    "    piht.append(Si_R['ST'][1])\n",
    "    piut.append(Si_R['ST'][2])\n",
    "    phdt.append(Si_R['ST'][3])\n",
    "    phut.append(Si_R['ST'][4])\n",
    "    pudt.append(Si_R['ST'][5])\n",
    "    Nit.append(Si_R['ST'][6])\n",
    "    Nht.append(Si_R['ST'][7])\n",
    "    Nut.append(Si_R['ST'][8])\n",
    "    R0t.append(Si_R['ST'][9])\n",
    "    mut.append(Si_R['ST'][10])\n",
    "    Nt.append(Si_R['ST'][11])\n",
    "    t0t.append(Si_R['ST'][12])\n",
    "    I0moinst.append(Si_R['ST'][13])\n",
    "    lambda1t.append(Si_R['ST'][14])"
   ]
  },
  {
   "cell_type": "code",
   "execution_count": 40,
   "metadata": {},
   "outputs": [
    {
     "data": {
      "image/png": "[encoded data removed]",
      "text/plain": [
       "<Figure size 432x288 with 1 Axes>"
      ]
     },
     "metadata": {
      "needs_background": "light"
     },
     "output_type": "display_data"
    }
   ],
   "source": [
    "plt.plot(periode,pa,label='pa')\n",
    "plt.plot(periode,pih,label='pih')\n",
    "plt.plot(periode,piu,label='piu')\n",
    "plt.plot(periode,phd,label='phd')\n",
    "plt.plot(periode,phu,label='phu')\n",
    "plt.plot(periode,pud,label='pud')\n",
    "plt.plot(periode,Ni,label='Ni')\n",
    "plt.plot(periode,Nh,label='Nh')\n",
    "plt.plot(periode,Nu,label='Nu')\n",
    "plt.plot(periode,R0,label='R0')\n",
    "plt.plot(periode,mu,label='mu')\n",
    "plt.plot(periode,N,label='N')\n",
    "plt.plot(periode,t0,label='t0')\n",
    "plt.plot(periode,I0moins,label='I0moins')\n",
    "plt.plot(periode,lambda1,label='lambda1')\n",
    "plt.title('Evolution pour RplusH des indices de premier ordre sur la péride du jeu de données')\n",
    "plt.legend(loc='upper left', fontsize='x-small')\n",
    "plt.show()"
   ]
  },
  {
   "cell_type": "code",
   "execution_count": 41,
   "metadata": {},
   "outputs": [
    {
     "data": {
      "image/png": "[encoded data removed]",
      "text/plain": [
       "<Figure size 432x288 with 1 Axes>"
      ]
     },
     "metadata": {
      "needs_background": "light"
     },
     "output_type": "display_data"
    }
   ],
   "source": [
    "plt.plot(periode,pat,label='pa')\n",
    "plt.plot(periode,piht,label='pih')\n",
    "plt.plot(periode,piut,label='piu')\n",
    "plt.plot(periode,phdt,label='phd')\n",
    "plt.plot(periode,phut,label='phu')\n",
    "plt.plot(periode,pudt,label='pud')\n",
    "plt.plot(periode,Nit,label='Ni')\n",
    "plt.plot(periode,Nht,label='Nh')\n",
    "plt.plot(periode,Nut,label='Nu')\n",
    "plt.plot(periode,R0t,label='R0')\n",
    "plt.plot(periode,mut,label='mu')\n",
    "plt.plot(periode,Nt,label='N')\n",
    "plt.plot(periode,t0t,label='t0')\n",
    "plt.plot(periode,I0moinst,label='I0moins')\n",
    "plt.plot(periode,lambda1t,label='lambda1')\n",
    "plt.title('Evolution pour RplusH des indices totaux sur la péride du jeu de données')\n",
    "plt.legend(loc='upper left', fontsize='x-small')\n",
    "plt.show()"
   ]
  },
  {
   "cell_type": "markdown",
   "metadata": {},
   "source": [
    "#### Question 6: "
   ]
  },
  {
   "cell_type": "code",
   "execution_count": 42,
   "metadata": {},
   "outputs": [
    {
     "ename": "FileNotFoundError",
     "evalue": "[Errno 2] No such file or directory: 'donnees-hospitalieres-covid19-18_03-11_05.csv'",
     "output_type": "error",
     "traceback": [
      "\u001b[0;31m---------------------------------------------------------------------------\u001b[0m",
      "\u001b[0;31mFileNotFoundError\u001b[0m                         Traceback (most recent call last)",
      "\u001b[0;32m<ipython-input-42-cef951b6b921>\u001b[0m in \u001b[0;36m<module>\u001b[0;34m\u001b[0m\n\u001b[1;32m      1\u001b[0m \u001b[0;32mimport\u001b[0m \u001b[0mpandas\u001b[0m \u001b[0;32mas\u001b[0m \u001b[0mpd\u001b[0m\u001b[0;34m\u001b[0m\u001b[0;34m\u001b[0m\u001b[0m\n\u001b[0;32m----> 2\u001b[0;31m \u001b[0mdata\u001b[0m \u001b[0;34m=\u001b[0m \u001b[0mpd\u001b[0m\u001b[0;34m.\u001b[0m\u001b[0mread_csv\u001b[0m\u001b[0;34m(\u001b[0m\u001b[0;34m'donnees-hospitalieres-covid19-18_03-11_05.csv'\u001b[0m\u001b[0;34m,\u001b[0m\u001b[0msep\u001b[0m\u001b[0;34m=\u001b[0m\u001b[0;34m';'\u001b[0m\u001b[0;34m,\u001b[0m\u001b[0mencoding\u001b[0m\u001b[0;34m=\u001b[0m\u001b[0;34m'unicode_escape'\u001b[0m\u001b[0;34m)\u001b[0m\u001b[0;34m\u001b[0m\u001b[0;34m\u001b[0m\u001b[0m\n\u001b[0m\u001b[1;32m      3\u001b[0m \u001b[0mdf\u001b[0m \u001b[0;34m=\u001b[0m \u001b[0mdata\u001b[0m\u001b[0;34m.\u001b[0m\u001b[0mcopy\u001b[0m\u001b[0;34m(\u001b[0m\u001b[0;34m)\u001b[0m\u001b[0;34m\u001b[0m\u001b[0;34m\u001b[0m\u001b[0m\n\u001b[1;32m      4\u001b[0m \u001b[0mdf\u001b[0m\u001b[0;34m.\u001b[0m\u001b[0mdrop\u001b[0m\u001b[0;34m(\u001b[0m\u001b[0;36m55\u001b[0m\u001b[0;34m,\u001b[0m\u001b[0;36m0\u001b[0m\u001b[0;34m,\u001b[0m\u001b[0minplace\u001b[0m\u001b[0;34m=\u001b[0m\u001b[0;32mTrue\u001b[0m\u001b[0;34m)\u001b[0m\u001b[0;34m\u001b[0m\u001b[0;34m\u001b[0m\u001b[0m\n\u001b[1;32m      5\u001b[0m \u001b[0mplt\u001b[0m\u001b[0;34m.\u001b[0m\u001b[0mplot\u001b[0m\u001b[0;34m(\u001b[0m\u001b[0mdf\u001b[0m\u001b[0;34m[\u001b[0m\u001b[0;34m'Jour'\u001b[0m\u001b[0;34m]\u001b[0m\u001b[0;34m,\u001b[0m\u001b[0mdf\u001b[0m\u001b[0;34m[\u001b[0m\u001b[0;34m'Somme de hosp'\u001b[0m\u001b[0;34m]\u001b[0m\u001b[0;34m,\u001b[0m\u001b[0mlabel\u001b[0m\u001b[0;34m=\u001b[0m\u001b[0;34m'hosp'\u001b[0m\u001b[0;34m)\u001b[0m\u001b[0;34m\u001b[0m\u001b[0;34m\u001b[0m\u001b[0m\n",
      "\u001b[0;32m~/opt/anaconda3/lib/python3.8/site-packages/pandas/io/parsers.py\u001b[0m in \u001b[0;36mread_csv\u001b[0;34m(filepath_or_buffer, sep, delimiter, header, names, index_col, usecols, squeeze, prefix, mangle_dupe_cols, dtype, engine, converters, true_values, false_values, skipinitialspace, skiprows, skipfooter, nrows, na_values, keep_default_na, na_filter, verbose, skip_blank_lines, parse_dates, infer_datetime_format, keep_date_col, date_parser, dayfirst, cache_dates, iterator, chunksize, compression, thousands, decimal, lineterminator, quotechar, quoting, doublequote, escapechar, comment, encoding, dialect, error_bad_lines, warn_bad_lines, delim_whitespace, low_memory, memory_map, float_precision)\u001b[0m\n\u001b[1;32m    684\u001b[0m     )\n\u001b[1;32m    685\u001b[0m \u001b[0;34m\u001b[0m\u001b[0m\n\u001b[0;32m--> 686\u001b[0;31m     \u001b[0;32mreturn\u001b[0m \u001b[0m_read\u001b[0m\u001b[0;34m(\u001b[0m\u001b[0mfilepath_or_buffer\u001b[0m\u001b[0;34m,\u001b[0m \u001b[0mkwds\u001b[0m\u001b[0;34m)\u001b[0m\u001b[0;34m\u001b[0m\u001b[0;34m\u001b[0m\u001b[0m\n\u001b[0m\u001b[1;32m    687\u001b[0m \u001b[0;34m\u001b[0m\u001b[0m\n\u001b[1;32m    688\u001b[0m \u001b[0;34m\u001b[0m\u001b[0m\n",
      "\u001b[0;32m~/opt/anaconda3/lib/python3.8/site-packages/pandas/io/parsers.py\u001b[0m in \u001b[0;36m_read\u001b[0;34m(filepath_or_buffer, kwds)\u001b[0m\n\u001b[1;32m    450\u001b[0m \u001b[0;34m\u001b[0m\u001b[0m\n\u001b[1;32m    451\u001b[0m     \u001b[0;31m# Create the parser.\u001b[0m\u001b[0;34m\u001b[0m\u001b[0;34m\u001b[0m\u001b[0;34m\u001b[0m\u001b[0m\n\u001b[0;32m--> 452\u001b[0;31m     \u001b[0mparser\u001b[0m \u001b[0;34m=\u001b[0m \u001b[0mTextFileReader\u001b[0m\u001b[0;34m(\u001b[0m\u001b[0mfp_or_buf\u001b[0m\u001b[0;34m,\u001b[0m \u001b[0;34m**\u001b[0m\u001b[0mkwds\u001b[0m\u001b[0;34m)\u001b[0m\u001b[0;34m\u001b[0m\u001b[0;34m\u001b[0m\u001b[0m\n\u001b[0m\u001b[1;32m    453\u001b[0m \u001b[0;34m\u001b[0m\u001b[0m\n\u001b[1;32m    454\u001b[0m     \u001b[0;32mif\u001b[0m \u001b[0mchunksize\u001b[0m \u001b[0;32mor\u001b[0m \u001b[0miterator\u001b[0m\u001b[0;34m:\u001b[0m\u001b[0;34m\u001b[0m\u001b[0;34m\u001b[0m\u001b[0m\n",
      "\u001b[0;32m~/opt/anaconda3/lib/python3.8/site-packages/pandas/io/parsers.py\u001b[0m in \u001b[0;36m__init__\u001b[0;34m(self, f, engine, **kwds)\u001b[0m\n\u001b[1;32m    944\u001b[0m             \u001b[0mself\u001b[0m\u001b[0;34m.\u001b[0m\u001b[0moptions\u001b[0m\u001b[0;34m[\u001b[0m\u001b[0;34m\"has_index_names\"\u001b[0m\u001b[0;34m]\u001b[0m \u001b[0;34m=\u001b[0m \u001b[0mkwds\u001b[0m\u001b[0;34m[\u001b[0m\u001b[0;34m\"has_index_names\"\u001b[0m\u001b[0;34m]\u001b[0m\u001b[0;34m\u001b[0m\u001b[0;34m\u001b[0m\u001b[0m\n\u001b[1;32m    945\u001b[0m \u001b[0;34m\u001b[0m\u001b[0m\n\u001b[0;32m--> 946\u001b[0;31m         \u001b[0mself\u001b[0m\u001b[0;34m.\u001b[0m\u001b[0m_make_engine\u001b[0m\u001b[0;34m(\u001b[0m\u001b[0mself\u001b[0m\u001b[0;34m.\u001b[0m\u001b[0mengine\u001b[0m\u001b[0;34m)\u001b[0m\u001b[0;34m\u001b[0m\u001b[0;34m\u001b[0m\u001b[0m\n\u001b[0m\u001b[1;32m    947\u001b[0m \u001b[0;34m\u001b[0m\u001b[0m\n\u001b[1;32m    948\u001b[0m     \u001b[0;32mdef\u001b[0m \u001b[0mclose\u001b[0m\u001b[0;34m(\u001b[0m\u001b[0mself\u001b[0m\u001b[0;34m)\u001b[0m\u001b[0;34m:\u001b[0m\u001b[0;34m\u001b[0m\u001b[0;34m\u001b[0m\u001b[0m\n",
      "\u001b[0;32m~/opt/anaconda3/lib/python3.8/site-packages/pandas/io/parsers.py\u001b[0m in \u001b[0;36m_make_engine\u001b[0;34m(self, engine)\u001b[0m\n\u001b[1;32m   1176\u001b[0m     \u001b[0;32mdef\u001b[0m \u001b[0m_make_engine\u001b[0m\u001b[0;34m(\u001b[0m\u001b[0mself\u001b[0m\u001b[0;34m,\u001b[0m \u001b[0mengine\u001b[0m\u001b[0;34m=\u001b[0m\u001b[0;34m\"c\"\u001b[0m\u001b[0;34m)\u001b[0m\u001b[0;34m:\u001b[0m\u001b[0;34m\u001b[0m\u001b[0;34m\u001b[0m\u001b[0m\n\u001b[1;32m   1177\u001b[0m         \u001b[0;32mif\u001b[0m \u001b[0mengine\u001b[0m \u001b[0;34m==\u001b[0m \u001b[0;34m\"c\"\u001b[0m\u001b[0;34m:\u001b[0m\u001b[0;34m\u001b[0m\u001b[0;34m\u001b[0m\u001b[0m\n\u001b[0;32m-> 1178\u001b[0;31m             \u001b[0mself\u001b[0m\u001b[0;34m.\u001b[0m\u001b[0m_engine\u001b[0m \u001b[0;34m=\u001b[0m \u001b[0mCParserWrapper\u001b[0m\u001b[0;34m(\u001b[0m\u001b[0mself\u001b[0m\u001b[0;34m.\u001b[0m\u001b[0mf\u001b[0m\u001b[0;34m,\u001b[0m \u001b[0;34m**\u001b[0m\u001b[0mself\u001b[0m\u001b[0;34m.\u001b[0m\u001b[0moptions\u001b[0m\u001b[0;34m)\u001b[0m\u001b[0;34m\u001b[0m\u001b[0;34m\u001b[0m\u001b[0m\n\u001b[0m\u001b[1;32m   1179\u001b[0m         \u001b[0;32melse\u001b[0m\u001b[0;34m:\u001b[0m\u001b[0;34m\u001b[0m\u001b[0;34m\u001b[0m\u001b[0m\n\u001b[1;32m   1180\u001b[0m             \u001b[0;32mif\u001b[0m \u001b[0mengine\u001b[0m \u001b[0;34m==\u001b[0m \u001b[0;34m\"python\"\u001b[0m\u001b[0;34m:\u001b[0m\u001b[0;34m\u001b[0m\u001b[0;34m\u001b[0m\u001b[0m\n",
      "\u001b[0;32m~/opt/anaconda3/lib/python3.8/site-packages/pandas/io/parsers.py\u001b[0m in \u001b[0;36m__init__\u001b[0;34m(self, src, **kwds)\u001b[0m\n\u001b[1;32m   1989\u001b[0m         \u001b[0;32mif\u001b[0m \u001b[0mkwds\u001b[0m\u001b[0;34m.\u001b[0m\u001b[0mget\u001b[0m\u001b[0;34m(\u001b[0m\u001b[0;34m\"compression\"\u001b[0m\u001b[0;34m)\u001b[0m \u001b[0;32mis\u001b[0m \u001b[0;32mNone\u001b[0m \u001b[0;32mand\u001b[0m \u001b[0mencoding\u001b[0m\u001b[0;34m:\u001b[0m\u001b[0;34m\u001b[0m\u001b[0;34m\u001b[0m\u001b[0m\n\u001b[1;32m   1990\u001b[0m             \u001b[0;32mif\u001b[0m \u001b[0misinstance\u001b[0m\u001b[0;34m(\u001b[0m\u001b[0msrc\u001b[0m\u001b[0;34m,\u001b[0m \u001b[0mstr\u001b[0m\u001b[0;34m)\u001b[0m\u001b[0;34m:\u001b[0m\u001b[0;34m\u001b[0m\u001b[0;34m\u001b[0m\u001b[0m\n\u001b[0;32m-> 1991\u001b[0;31m                 \u001b[0msrc\u001b[0m \u001b[0;34m=\u001b[0m \u001b[0mopen\u001b[0m\u001b[0;34m(\u001b[0m\u001b[0msrc\u001b[0m\u001b[0;34m,\u001b[0m \u001b[0;34m\"rb\"\u001b[0m\u001b[0;34m)\u001b[0m\u001b[0;34m\u001b[0m\u001b[0;34m\u001b[0m\u001b[0m\n\u001b[0m\u001b[1;32m   1992\u001b[0m                 \u001b[0mself\u001b[0m\u001b[0;34m.\u001b[0m\u001b[0mhandles\u001b[0m\u001b[0;34m.\u001b[0m\u001b[0mappend\u001b[0m\u001b[0;34m(\u001b[0m\u001b[0msrc\u001b[0m\u001b[0;34m)\u001b[0m\u001b[0;34m\u001b[0m\u001b[0;34m\u001b[0m\u001b[0m\n\u001b[1;32m   1993\u001b[0m \u001b[0;34m\u001b[0m\u001b[0m\n",
      "\u001b[0;31mFileNotFoundError\u001b[0m: [Errno 2] No such file or directory: 'donnees-hospitalieres-covid19-18_03-11_05.csv'"
     ]
    }
   ],
   "source": [
    "import pandas as pd\n",
    "data = pd.read_csv('donnees-hospitalieres-covid19-18_03-11_05.csv',sep=';',encoding='unicode_escape')\n",
    "df = data.copy()\n",
    "df.drop(55,0,inplace=True)\n",
    "plt.plot(df['Jour'],df['Somme de hosp'],label='hosp')\n",
    "plt.plot(df['Jour'],df['Somme de rea'],label='rea')\n",
    "plt.plot(df['Jour'],df['Somme de rad'],label='gueri apres hosp')\n",
    "plt.plot(df['Jour'],df['Somme de dc'],label='dc')\n",
    "plt.legend()\n",
    "plt.show()"
   ]
  },
  {
   "cell_type": "code",
   "execution_count": null,
   "metadata": {},
   "outputs": [],
   "source": [
    "data = pd.read_csv('open_stats_coronavirus.csv',sep=';')\n",
    "dfm = data.copy()\n",
    "dfm.drop('code',1,inplace=True)\n",
    "dfm.drop('nom',1,inplace=True)\n",
    "dfm.drop('source',1,inplace=True)\n",
    "dfm"
   ]
  },
  {
   "cell_type": "code",
   "execution_count": null,
   "metadata": {},
   "outputs": [],
   "source": [
    "df['jour'] = dfm['date']\n",
    "df.drop('Jour',1,inplace=True)\n",
    "for i,x in enumerate(df['jour']):\n",
    "     df['jour'][i] = np.datetime64(x).astype('float')\n",
    "df['cas'] = dfm['cas']\n",
    "for i in range(1,len(df['cas'])):\n",
    "    df['cas'][len(df['cas'])-i] = df['cas'][len(df['cas'])-i] - df['cas'][len(df['cas'])-i-1]\n",
    "df['cas'][0] = df['cas'][1]\n",
    "df"
   ]
  },
  {
   "cell_type": "code",
   "execution_count": null,
   "metadata": {},
   "outputs": [],
   "source": [
    "plt.plot(df['jour'],df['Somme de hosp'],label='hosp')\n",
    "plt.plot(df['jour'],df['Somme de rea'],label='rea')\n",
    "plt.plot(df['jour'],df['Somme de rad'],label='gueri apres hosp')\n",
    "plt.plot(df['jour'],df['Somme de dc'],label='dc')\n",
    "plt.plot(df['jour'],df['cas'],label='nouveau cas quotidien')\n",
    "plt.legend()\n",
    "plt.show()"
   ]
  },
  {
   "cell_type": "markdown",
   "metadata": {},
   "source": [
    "Question 7)"
   ]
  },
  {
   "cell_type": "code",
   "execution_count": null,
   "metadata": {},
   "outputs": [],
   "source": [
    "dfc = df.copy()\n",
    "dfc['Somme de hosp'].astype('float')\n",
    "dfc['Somme de rea'].astype('float')\n",
    "dfc['Somme de rad'].astype('float')\n",
    "dfc['Somme de dc'].astype('float')\n",
    "dfc['cas'].astype('float')\n",
    "dfc"
   ]
  },
  {
   "cell_type": "code",
   "execution_count": null,
   "metadata": {},
   "outputs": [],
   "source": [
    "def Para_entree_vector() :\n",
    "    pa = rd.random()*(0.9 - 0.4)+ 0.4\n",
    "    pih = rd.random()*(0.2 - 0.05)+ 0.05\n",
    "    piu = rd.random()*(0.04 - 0.01)+ 0.01\n",
    "    phd = rd.random()*(0.2 - 0.1)+ 0.1\n",
    "    phu = rd.random()*(0.2 - 0.1)+ 0.1\n",
    "    pud = rd.random()*(0.4 - 0.2)+ 0.2\n",
    "    Ni = rd.random()*(12 - 8)+ 8\n",
    "    Nh = rd.random()*(25 - 15)+ 15\n",
    "    Nu = rd.random()*(20 - 10)+ 10\n",
    "    R0 = rd.random()*(3.4 - 2.9)+ 2.9\n",
    "    mu = rd.random()*(0.08 - 0.01)+ 0.01\n",
    "    N = (rd.random()*(np.datetime64('2020-03-15')-np.datetime64('2020-02-24'))+np.datetime64('2020-02-24')).astype('float')\n",
    "    t0 = (rd.random()*(np.datetime64('2020-02-24')-np.datetime64('2020-01-25'))+np.datetime64('2020-01-25')).astype('float')\n",
    "    I0moins = rd.random()*(25 - 15)+ 1\n",
    "    lambda1 = rd.random()*(10**(-3)-10**(-4))+10**(-4)\n",
    "    \n",
    "    return np.array([pa,pih,piu,phd,phu,pud,Ni,Nh,Nu,R0,mu,N,t0,I0moins,lambda1])"
   ]
  },
  {
   "cell_type": "code",
   "execution_count": null,
   "metadata": {},
   "outputs": [],
   "source": [
    "x0 = Para_entree_vector()"
   ]
  },
  {
   "cell_type": "code",
   "execution_count": null,
   "metadata": {},
   "outputs": [],
   "source": [
    "x0[12] =x0[12].astype('float')\n",
    "x0[11] =x0[11].astype('float')\n",
    "pa,pih,piu,phd,phu,pud,Ni,Nh,Nu,R0,mu,N,t0,I0moins,lambda1 = x0[0],x0[1],x0[2],x0[3],x0[4],x0[5],x0[6],x0[7],x0[8],x0[9],x0[10],x0[11],x0[12],x0[13],x0[14]"
   ]
  },
  {
   "cell_type": "code",
   "execution_count": null,
   "metadata": {},
   "outputs": [],
   "source": [
    "t0 = x0[12]\n",
    "print(t0)\n",
    "index = int(np.datetime64('2020-03-18').astype('float')-t0)\n",
    "index"
   ]
  },
  {
   "cell_type": "code",
   "execution_count": null,
   "metadata": {},
   "outputs": [],
   "source": [
    "def Para_systeme_vector(x):\n",
    "    pa,pih,piu,phd,phu,pud,Ni,Nh,Nu,R0,mu,N,t0,I0moins,lambda1 = x[0],x[1],x[2],x[3],x[4],x[5],x[6],x[7],x[8],x[9],x[10],x[11],x[12],x[13],x[14]\n",
    "    gammaIR = (pa+(1-pa)*(1-pih-piu))/Ni\n",
    "    gammaIH = (1-pa)*pih/Ni\n",
    "    gammaIU = (1-pa)*piu/Ni\n",
    "    gammaHD = phd/Nh\n",
    "    gammaHU = phu/Nh\n",
    "    gammaHR = (1-phd-phu)/Nh\n",
    "    gammaUD = pud/Nu\n",
    "    gammaUR = (1-pud)/Nu\n",
    "    tau0 = R0*(lambda1+gammaIR+gammaIH+gammaIU)/S0\n",
    "    return np.array([I0moins,gammaIR,gammaIH,gammaIU,gammaHD,gammaHU,gammaHR,gammaUD,gammaUR,tau0])"
   ]
  },
  {
   "cell_type": "code",
   "execution_count": null,
   "metadata": {},
   "outputs": [],
   "source": [
    "def Simulation_epidemie_vector(x):\n",
    "    X = [[0 for i in range(10)]] #X représente l'ensemble des vecteurs qui regroupent les 10 compartiments du modèle épidémique\n",
    "    I0moins,gammaIR,gammaIH,gammaIU,gammaHD,gammaHU,gammaHR,gammaUD,gammaUR,tau0 = x[0],x[1],x[2],x[3],x[4],x[5],x[6],x[7],x[8],x[9]\n",
    "    #On initialise notre modèle\n",
    "    X[0][0] = S0 \n",
    "    X[0][1] = I0moins\n",
    "\n",
    "    #On utilise une première approche approximée à l'ordre 1 pour résoudre le système d'équation différentielle\n",
    "    periode = np.arange(t0, np.datetime64('2020-08-01').astype('float'))\n",
    "    for n in periode[:-1]:     \n",
    "        Xnew = [0 for i in range(10)]\n",
    "        Xold = X[-1]\n",
    "        Xnew[0] = Xold[0] - tau(n)*Xold[0]*Xold[1]\n",
    "        Xnew[1] = (1-lambda1)*Xold[1] + tau(n.astype('float'))*Xold[0]*Xold[1] - (gammaIR+gammaIH+gammaIU)*Xold[1]\n",
    "        Xnew[2] = Xold[2] + lambda1*Xold[1] - (gammaIR+gammaIH+gammaIU)*Xold[2]\n",
    "        Xnew[3] = (1-lambda2)*Xold[3] + gammaIR*Xold[1]\n",
    "        Xnew[4] = Xold[4] + gammaIR*Xold[2] +lambda2*Xold[3]\n",
    "        Xnew[5] = (1-(gammaHR+gammaHD+gammaHU))*Xold[5] + gammaIH*(Xold[1]+Xold[2])\n",
    "        Xnew[6] = (1-(gammaUR+gammaUD))*Xold[6] + gammaIU*(Xold[1]+Xold[2]) + gammaHU*Xold[5]\n",
    "        Xnew[7] = Xold[7] + gammaHR*Xold[5] + gammaUR*Xold[6]\n",
    "        Xnew[8] = Xold[8] + gammaUD*Xold[6] + gammaHD*Xold[5]\n",
    "        Xnew[9] = (lambda1+gammaIH+gammaIU)*Xold[1]\n",
    "        X.append(Xnew)\n",
    "    return X,periode"
   ]
  },
  {
   "cell_type": "code",
   "execution_count": null,
   "metadata": {},
   "outputs": [],
   "source": [
    "def Compartiments_epidemie_vector(X):\n",
    "    S = np.array([x[0] for x in X[:]])\n",
    "    Imoins = np.array([x[1] for x in X[:]])\n",
    "    Iplus = np.array([x[2] for x in X[:]])\n",
    "    Rmoins = np.array([x[3] for x in X[:]])\n",
    "    RplusI = np.array([x[4] for x in X[:]])\n",
    "    H = np.array([x[5] for x in X[:]])\n",
    "    U = np.array([x[6] for x in X[:]])\n",
    "    RplusH = np.array([x[7] for x in X[:]])\n",
    "    D = np.array([x[8] for x in X[:]])\n",
    "    DR = np.array([x[9] for x in X[:]])\n",
    "    return S,Imoins,Iplus,Rmoins,RplusI,H,U,RplusH,D,DR"
   ]
  },
  {
   "cell_type": "code",
   "execution_count": null,
   "metadata": {},
   "outputs": [],
   "source": [
    "c = df['cas'].to_numpy()\n",
    "c"
   ]
  },
  {
   "cell_type": "code",
   "execution_count": null,
   "metadata": {},
   "outputs": [],
   "source": [
    "n = len(df['jour'])\n",
    "n"
   ]
  },
  {
   "cell_type": "code",
   "execution_count": null,
   "metadata": {},
   "outputs": [],
   "source": [
    "def tau(n):\n",
    "    return tau0*np.exp(-mu*np.maximum((n-N),0))"
   ]
  },
  {
   "cell_type": "code",
   "execution_count": null,
   "metadata": {},
   "outputs": [],
   "source": [
    "def eps(x):\n",
    "    a , p = Simulation_epidemie_vector(Para_systeme_vector(x))\n",
    "    S,Imoins,Iplus,Rmoins,RplusI,H,U,RplusH,D,DR = Compartiments_epidemie_vector(a)\n",
    "    DR = DR[index:index+n]\n",
    "    H = H[index:index+n]\n",
    "    U = U[index:index+n]\n",
    "    D = D[index:index+n]\n",
    "    R = RplusH[index:index+n]\n",
    "    fdr = (DR-df['cas'])/np.sqrt(DR)\n",
    "    fh = (H-df['Somme de hosp'].astype('float').to_numpy())/np.sqrt(H)\n",
    "    fu = (U-df['Somme de rea'].astype('float').to_numpy())/np.sqrt(U)\n",
    "    fd = (D-df['Somme de dc'].astype('float').to_numpy())/np.sqrt(D)\n",
    "    fr = (R-df['Somme de rad'].astype('float').to_numpy())/np.sqrt(R)\n",
    "    return np.sum(fdr**2+fh**2+fu**2+fd**2+fr**2)"
   ]
  },
  {
   "cell_type": "code",
   "execution_count": null,
   "metadata": {},
   "outputs": [],
   "source": [
    "eps(x0)"
   ]
  },
  {
   "cell_type": "code",
   "execution_count": null,
   "metadata": {},
   "outputs": [],
   "source": [
    "from scipy.optimize import minimize\n",
    "bnds = ((0.4, 0.9), (0.05, 0.2),(0.01,0.04),(0.1, 0.2), (0.1, 0.2),(0.2,0.4),(8, 12), (15,25),(10,20),(2.9, 3.4), (0.01, 0.08),(np.datetime64('2020-02-24').astype('int'),np.datetime64('2020-03-15').astype('int')),(np.datetime64('2020-01-25').astype('int'),np.datetime64('2020-02-24').astype('int')), (1, 100),(10**(-4),10**(-3)))\n",
    "x_star = minimize(eps,x0, bounds=bnds)\n",
    "\n",
    "x_star"
   ]
  },
  {
   "cell_type": "code",
   "execution_count": null,
   "metadata": {},
   "outputs": [],
   "source": [
    "xbest = x_star.__getitem__('x')\n",
    "xbest\n",
    "\n",
    "#Simulation épidemie\n",
    "X,periode = Simulation_epidemie_vector(Para_systeme_vector(xbest))\n",
    "S,Imoins,Iplus,Rmoins,RplusI,H,U,RplusH,D,DR=Compartiments_epidemie_vector(X)\n",
    "\n",
    "#Représentation de la vague épidémique\n",
    "plt.plot(periode,D,label=\"Individus décédés\")\n",
    "plt.plot(periode,H,label=\"Individus à l'hopital\")\n",
    "plt.plot(periode,U,label=\"Individus en soins intensifs\")\n",
    "plt.xlabel(\"Dates de la première vague de l'épidémie\")\n",
    "plt.ylabel(\"Nombre de patients\")\n",
    "plt.title(\"Evolution de l'épidémie\")\n",
    "plt.legend(loc='upper center', bbox_to_anchor=(0.5, -0.15), ncol=2, fancybox=True, shadow=True)"
   ]
  },
  {
   "cell_type": "markdown",
   "metadata": {},
   "source": [
    "#### Question 8\n",
    "\n",
    "Pour obtenir les valeurs $\\sigma^*$ qui maximisent la vraisemblance, on annule les dérivées partielles $\\frac{\\partial{\\ln(p(data/x,\\sigma))}}{\\partial{\\sigma_C}}$ , pour $C \\in \\{DR,H,U,D,R\\}$.\n",
    "\n",
    "Pour $C=DR$, $\\frac{\\partial{\\ln(p(data/x,\\sigma))}}{\\partial{\\sigma_{DR}}} = \\frac{-n_{DR}}{\\sigma_{DR}} + \\overset{n_{DR}}{\\underset{i=1}{\\sum}}\\frac{f_{DR}(x,s_i)^2}{\\sigma_{DR}^3}$,\n",
    "on en déduit alors ${\\sigma^*_{DR}}^2=\\sum_i{f_{DR}(x,s_i)^2/n_{DR}}$\n",
    "\n",
    "Pour $C \\in \\{H,U,D,R\\}$ on obtient par la même méthode ${\\sigma^*_{C}}^2=\\sum_i{f_{C}(x,t_i)^2/n_{C}}$"
   ]
  },
  {
   "cell_type": "markdown",
   "metadata": {},
   "source": [
    "#### Question 9\n",
    "\n",
    "Dans l'approche plug-in, on fixe les paramètres $\\sigma$ aux valeurs $\\sigma^*$ maximisant la vraisemblance et calculées précédemment. \n",
    "On applique alors le théorème de Bayes et on obtient une expression implicite de la loi a posteriori des paramètres: \n",
    "\n",
    "$\\mathbb{P}(x/data)=\\frac{\\mathbb{P}(x,data)}{\\mathbb{P}(data)} = \\frac{\\mathbb{P}(data/x,\\sigma^*)\\times \\mathbb{P_0}(x)}{\\mathbb{P}(data)}$, avec $\\mathbb{P_0}$ loi a priori du paramètre $x \\in \\mathbb{R}^{15}$ et $\\mathbb{P}(data)=\\int_x{\\mathbb{P}(data/x,\\sigma^*)\\times \\mathbb{P_0}(x) \\times dx}$, une constante de normalisation implicite.\n",
    "\n",
    "Dans le cas full-bayésien, on suit la même méthode mais les $\\sigma$ suivent une loi non-informative de Jeffreys, et on obtient le même type d'expression de la loi a posteriori."
   ]
  },
  {
   "cell_type": "code",
   "execution_count": null,
   "metadata": {},
   "outputs": [],
   "source": []
  }
 ],
 "metadata": {
  "kernelspec": {
   "display_name": "Python 3",
   "language": "python",
   "name": "python3"
  },
  "language_info": {
   "codemirror_mode": {
    "name": "ipython",
    "version": 3
   },
   "file_extension": ".py",
   "mimetype": "text/x-python",
   "name": "python",
   "nbconvert_exporter": "python",
   "pygments_lexer": "ipython3",
   "version": "3.8.5"
  }
 },
 "nbformat": 4,
 "nbformat_minor": 4
}
