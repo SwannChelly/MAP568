{
 "cells": [
  {
   "cell_type": "markdown",
   "metadata": {},
   "source": [
    "# Projet de MAP568\n",
    "\n",
    "Elèves :\n",
    "\n",
    "Alexandre Labrogere\n",
    "\n",
    "Hugo Artigas"
   ]
  },
  {
   "cell_type": "markdown",
   "metadata": {},
   "source": [
    "#### Question 1 : Résolution du système"
   ]
  },
  {
   "cell_type": "code",
   "execution_count": 1,
   "metadata": {},
   "outputs": [],
   "source": [
    "import numpy as np\n",
    "import numpy.random as rd\n",
    "import matplotlib.pyplot as plt"
   ]
  },
  {
   "cell_type": "code",
   "execution_count": 2,
   "metadata": {},
   "outputs": [],
   "source": [
    "def convert_float_to_date(P):\n",
    "    for i,p in enumerate(P):\n",
    "\n",
    "        P[i] = np.timedelta64(1,'D')*(p-np.datetime64('2020-02-24').astype('int'))+np.datetime64('2020-02-24')\n",
    "    return P"
   ]
  },
  {
   "cell_type": "code",
   "execution_count": 3,
   "metadata": {},
   "outputs": [],
   "source": [
    "#Définition des paramètres d'entrée\n",
    "S0 = 67*10**(6)\n",
    "lambda2 = 0\n",
    "\n",
    "def Para_entree() :\n",
    "    pa = rd.random()*(0.9 - 0.4)+ 0.4\n",
    "    pih = rd.random()*(0.2 - 0.05)+ 0.05\n",
    "    piu = rd.random()*(0.04 - 0.01)+ 0.01\n",
    "    phd = rd.random()*(0.2 - 0.1)+ 0.1\n",
    "    phu = rd.random()*(0.2 - 0.1)+ 0.1\n",
    "    pud = rd.random()*(0.4 - 0.2)+ 0.2\n",
    "    Ni = rd.random()*(12 - 8)+ 8\n",
    "    Nh = rd.random()*(25 - 15)+ 15\n",
    "    Nu = rd.random()*(20 - 10)+ 10\n",
    "    R0 = rd.random()*(3.4 - 2.9)+ 2.9\n",
    "    mu = rd.random()*(0.08 - 0.01)+ 0.01\n",
    "    N = rd.random()*(np.datetime64('2020-03-15')-np.datetime64('2020-02-24'))+np.datetime64('2020-02-24')\n",
    "    t0 = rd.random()*(np.datetime64('2020-02-24')-np.datetime64('2020-01-25'))+np.datetime64('2020-01-25')\n",
    "    I0moins = rd.random()*(100)+ 1\n",
    "    lambda1 = rd.random()*(10**(-3)-10**(-4))+10**(-4)\n",
    "    \n",
    "    return (pa,pih,piu,phd,phu,pud,Ni,Nh,Nu,R0,mu,N,t0,I0moins,lambda1)"
   ]
  },
  {
   "cell_type": "code",
   "execution_count": 4,
   "metadata": {},
   "outputs": [],
   "source": [
    "# Definition des paramètres du système (les Gamma et Tau contrôlent la propagation de l'épidémie)\n",
    "\n",
    "def Para_systeme(pa,pih,piu,phd,phu,pud,Ni,Nh,Nu,R0,mu,N,t0,I0moins,lambda1):\n",
    "    gammaIR = (pa+(1-pa)*(1-pih-piu))/Ni\n",
    "    gammaIH = (1-pa)*pih/Ni\n",
    "    gammaIU = (1-pa)*piu/Ni\n",
    "    gammaHD = phd/Nh\n",
    "    gammaHU = phu/Nh\n",
    "    gammaHR = (1-phd-phu)/Nh\n",
    "    gammaUD = pud/Nu\n",
    "    gammaUR = (1-pud)/Nu\n",
    "    tau0 = R0*(lambda1+gammaIR+gammaIH+gammaIU)/S0\n",
    "    return(gammaIR,gammaIH,gammaIU,gammaHD,gammaHU,gammaHR,gammaUD,gammaUR,tau0)\n"
   ]
  },
  {
   "cell_type": "code",
   "execution_count": 5,
   "metadata": {},
   "outputs": [],
   "source": [
    "pa,pih,piu,phd,phu,pud,Ni,Nh,Nu,R0,mu,N,t0,I0moins,lambda1 = Para_entree()\n",
    "gammaIR,gammaIH,gammaIU,gammaHD,gammaHU,gammaHR,gammaUD,gammaUR,tau0 = Para_systeme(pa,pih,piu,phd,phu,pud,Ni,Nh,Nu,R0,mu,N,t0,I0moins,lambda1)"
   ]
  },
  {
   "cell_type": "code",
   "execution_count": 6,
   "metadata": {},
   "outputs": [],
   "source": [
    "def tau(n):\n",
    "    return tau0*np.exp(-mu*np.maximum((n-N)/np.timedelta64(1,'D'),0))"
   ]
  },
  {
   "cell_type": "markdown",
   "metadata": {},
   "source": [
    "Pour tester si la fonction tau affiche bien les bons résultats."
   ]
  },
  {
   "cell_type": "code",
   "execution_count": 7,
   "metadata": {},
   "outputs": [
    {
     "name": "stdout",
     "output_type": "stream",
     "text": [
      "2020-02-26 2020-02-01\n"
     ]
    }
   ],
   "source": [
    "N = rd.random()*(np.datetime64('2020-03-15')-np.datetime64('2020-02-24'))+np.datetime64('2020-02-24')\n",
    "t0 = rd.random()*(np.datetime64('2020-02-24')-np.datetime64('2020-01-25'))+np.datetime64('2020-01-25')\n",
    "print(N,t0)"
   ]
  },
  {
   "cell_type": "code",
   "execution_count": 8,
   "metadata": {},
   "outputs": [],
   "source": [
    "def Simulation_epidemie(S0,I0moins,gammaIR,gammaIH,gammaIU,gammaHD,gammaHU,gammaHR,gammaUD,gammaUR,tau0):\n",
    "    X = [[0 for i in range(10)]] #X représente l'ensemble des vecteurs qui regroupent les 10 compartiments du modèle épidémique\n",
    "\n",
    "    #On initialise notre modèle\n",
    "    X[0][0] = S0 \n",
    "    X[0][1] = I0moins\n",
    "\n",
    "    #On utilise une première approche approximée à l'ordre 1 pour résoudre le système d'équation différentielle\n",
    "    periode = np.arange(t0, '2020-08-01', dtype='datetime64[D]')\n",
    "    for n in periode[:-1]:     \n",
    "        Xnew = [0 for i in range(10)]\n",
    "        Xold = X[-1]\n",
    "        Xnew[0] = Xold[0] - tau(n)*Xold[0]*Xold[1]\n",
    "        Xnew[1] = (1-lambda1)*Xold[1] + tau(n)*Xold[0]*Xold[1] - (gammaIR+gammaIH+gammaIU)*Xold[1]\n",
    "        Xnew[2] = Xold[2] + lambda1*Xold[1] - (gammaIR+gammaIH+gammaIU)*Xold[2]\n",
    "        Xnew[3] = (1-lambda2)*Xold[3] + gammaIR*Xold[1]\n",
    "        Xnew[4] = Xold[4] + gammaIR*Xold[2] +lambda2*Xold[3]\n",
    "        Xnew[5] = (1-(gammaHR+gammaHD+gammaHU))*Xold[5] + gammaIH*(Xold[1]+Xold[2])\n",
    "        Xnew[6] = (1-(gammaUR+gammaUD))*Xold[6] + gammaIU*(Xold[1]+Xold[2]) + gammaHU*Xold[5]\n",
    "        Xnew[7] = Xold[7] + gammaHR*Xold[5] + gammaUR*Xold[6]\n",
    "        Xnew[8] = Xold[8] + gammaUD*Xold[6] + gammaHD*Xold[5]\n",
    "        Xnew[9] = (lambda1+gammaIH+gammaIU)*Xold[1]\n",
    "        X.append(Xnew)\n",
    "    return X,periode"
   ]
  },
  {
   "cell_type": "code",
   "execution_count": 9,
   "metadata": {},
   "outputs": [],
   "source": [
    "#On obtient donc tous les compartiments du modèle SEIR pour la période étudiée.\n",
    "def Compartiments_epidemie(X):\n",
    "    S = np.array([x[0] for x in X[:]])\n",
    "    Imoins = np.array([x[1] for x in X[:]])\n",
    "    Iplus = np.array([x[2] for x in X[:]])\n",
    "    Rmoins = np.array([x[3] for x in X[:]])\n",
    "    RplusI = np.array([x[4] for x in X[:]])\n",
    "    H = np.array([x[5] for x in X[:]])\n",
    "    U = np.array([x[6] for x in X[:]])\n",
    "    RplusH = np.array([x[7] for x in X[:]])\n",
    "    D = np.array([x[8] for x in X[:]])\n",
    "    DR = np.array([x[9] for x in X[:]])\n",
    "    return S,Imoins,Iplus,Rmoins,RplusI,H,U,RplusH,D,DR"
   ]
  },
  {
   "cell_type": "code",
   "execution_count": 10,
   "metadata": {},
   "outputs": [
    {
     "data": {
      "text/plain": [
       "<matplotlib.legend.Legend at 0x7faeb0483d90>"
      ]
     },
     "execution_count": 10,
     "metadata": {},
     "output_type": "execute_result"
    },
    {
     "data": {
      "image/png": "[encoded data removed]",
      "text/plain": [
       "<Figure size 432x288 with 1 Axes>"
      ]
     },
     "metadata": {
      "needs_background": "light"
     },
     "output_type": "display_data"
    }
   ],
   "source": [
    "#Simulation épidemie\n",
    "X,periode = Simulation_epidemie(S0,I0moins,gammaIR,gammaIH,gammaIU,gammaHD,gammaHU,gammaHR,gammaUD,gammaUR,tau0)\n",
    "S,Imoins,Iplus,Rmoins,RplusI,H,U,RplusH,D,DR=Compartiments_epidemie(X)\n",
    "\n",
    "#Représentation de la vague épidémique\n",
    "plt.plot(periode,D,label=\"Individus décédés\")\n",
    "plt.plot(periode,H,label=\"Individus à l'hopital\")\n",
    "plt.plot(periode,U,label=\"Individus en soins intensifs\")\n",
    "plt.xlabel(\"Dates de la première vague de l'épidémie\")\n",
    "plt.ylabel(\"Nombre de patients\")\n",
    "plt.title(\"Evolution de l'épidémie\")\n",
    "plt.legend(loc='upper center', bbox_to_anchor=(0.5, -0.15), ncol=2, fancybox=True, shadow=True)"
   ]
  },
  {
   "cell_type": "code",
   "execution_count": 43,
   "metadata": {},
   "outputs": [
    {
     "ename": "IndexError",
     "evalue": "index 68116 is out of bounds for axis 0 with size 54",
     "output_type": "error",
     "traceback": [
      "\u001b[0;31m---------------------------------------------------------------------------\u001b[0m",
      "\u001b[0;31mIndexError\u001b[0m                                Traceback (most recent call last)",
      "\u001b[0;32m<ipython-input-43-114627c03cbd>\u001b[0m in \u001b[0;36m<module>\u001b[0;34m\u001b[0m\n\u001b[1;32m      1\u001b[0m \u001b[0;31m#Post-traitement pic de l'épidémie\u001b[0m\u001b[0;34m\u001b[0m\u001b[0;34m\u001b[0m\u001b[0;34m\u001b[0m\u001b[0m\n\u001b[1;32m      2\u001b[0m \u001b[0mUmax\u001b[0m \u001b[0;34m=\u001b[0m \u001b[0mint\u001b[0m\u001b[0;34m(\u001b[0m\u001b[0mnp\u001b[0m\u001b[0;34m.\u001b[0m\u001b[0mmax\u001b[0m\u001b[0;34m(\u001b[0m\u001b[0mU\u001b[0m\u001b[0;34m)\u001b[0m\u001b[0;34m)\u001b[0m\u001b[0;34m\u001b[0m\u001b[0;34m\u001b[0m\u001b[0m\n\u001b[0;32m----> 3\u001b[0;31m \u001b[0mDateUmax\u001b[0m \u001b[0;34m=\u001b[0m \u001b[0mperiode\u001b[0m\u001b[0;34m[\u001b[0m\u001b[0mnp\u001b[0m\u001b[0;34m.\u001b[0m\u001b[0margmax\u001b[0m\u001b[0;34m(\u001b[0m\u001b[0mU\u001b[0m\u001b[0;34m)\u001b[0m\u001b[0;34m]\u001b[0m\u001b[0;34m\u001b[0m\u001b[0;34m\u001b[0m\u001b[0m\n\u001b[0m\u001b[1;32m      4\u001b[0m \u001b[0mprint\u001b[0m\u001b[0;34m(\u001b[0m\u001b[0;34m\"Date critique de l'épidémie : \"\u001b[0m \u001b[0;34m+\u001b[0m\u001b[0mstr\u001b[0m\u001b[0;34m(\u001b[0m\u001b[0mDateUmax\u001b[0m\u001b[0;34m)\u001b[0m\u001b[0;34m+\u001b[0m\u001b[0;34m\" , avec \"\u001b[0m\u001b[0;34m+\u001b[0m\u001b[0mstr\u001b[0m\u001b[0;34m(\u001b[0m\u001b[0mUmax\u001b[0m\u001b[0;34m)\u001b[0m\u001b[0;34m+\u001b[0m\u001b[0;34m\" patients en soins intensifs\"\u001b[0m\u001b[0;34m)\u001b[0m\u001b[0;34m\u001b[0m\u001b[0;34m\u001b[0m\u001b[0m\n",
      "\u001b[0;31mIndexError\u001b[0m: index 68116 is out of bounds for axis 0 with size 54"
     ]
    }
   ],
   "source": [
    "#Post-traitement pic de l'épidémie\n",
    "Umax = int(np.max(U))\n",
    "DateUmax = periode[np.argmax(U)]\n",
    "print(\"Date critique de l'épidémie : \" +str(DateUmax)+\" , avec \"+str(Umax)+\" patients en soins intensifs\")"
   ]
  },
  {
   "cell_type": "markdown",
   "metadata": {},
   "source": [
    "#### Question 2 : loi du pic de l'épidémie par Monte-Carlo"
   ]
  },
  {
   "cell_type": "code",
   "execution_count": 12,
   "metadata": {},
   "outputs": [
    {
     "name": "stdout",
     "output_type": "stream",
     "text": [
      "19313.50582306604\n",
      "[26.761245179666574 56826.93855650074]\n"
     ]
    },
    {
     "data": {
      "text/plain": [
       "(array([4.28861200e-03, 1.88640974e-03, 1.26340191e-03, 9.24369748e-04,\n",
       "        7.41813967e-04, 6.92552883e-04, 5.67951318e-04, 5.38974210e-04,\n",
       "        4.57838308e-04, 4.02781802e-04, 3.94088670e-04, 3.44827586e-04,\n",
       "        2.37612286e-04, 2.95566502e-04, 2.89771081e-04, 2.05737467e-04,\n",
       "        1.85453492e-04, 2.40509997e-04, 1.99942046e-04, 1.97044335e-04,\n",
       "        1.68067227e-04, 1.82555781e-04, 1.76760359e-04, 1.56476384e-04,\n",
       "        1.56476384e-04, 1.30396986e-04, 1.21703854e-04, 1.53578673e-04,\n",
       "        1.21703854e-04, 1.70964938e-04, 1.15908432e-04, 1.59374094e-04,\n",
       "        8.98290351e-05, 1.13010722e-04, 7.82381918e-05, 9.56244567e-05,\n",
       "        9.56244567e-05, 7.24427702e-05, 1.30396986e-04, 9.56244567e-05,\n",
       "        7.53404810e-05, 8.11359026e-05, 1.10113011e-04, 6.08519270e-05,\n",
       "        7.53404810e-05, 7.53404810e-05, 6.95450594e-05, 6.95450594e-05,\n",
       "        5.79542162e-05, 7.53404810e-05, 7.53404810e-05, 9.27267459e-05,\n",
       "        7.53404810e-05, 6.08519270e-05, 8.69313243e-05, 4.34656621e-05,\n",
       "        5.79542162e-05, 9.56244567e-05, 5.79542162e-05, 4.34656621e-05,\n",
       "        6.37496378e-05, 3.18748189e-05, 5.79542162e-05, 6.08519270e-05,\n",
       "        5.50565054e-05, 3.76702405e-05, 6.95450594e-05, 6.66473486e-05,\n",
       "        3.76702405e-05, 3.76702405e-05, 4.05679513e-05, 4.05679513e-05,\n",
       "        3.76702405e-05, 6.37496378e-05, 3.76702405e-05, 3.76702405e-05,\n",
       "        2.89771081e-05, 4.05679513e-05, 3.18748189e-05, 2.89771081e-05,\n",
       "        3.76702405e-05, 5.21587946e-05, 4.92610837e-05, 5.21587946e-05,\n",
       "        4.05679513e-05, 5.21587946e-05, 4.05679513e-05, 1.73862649e-05,\n",
       "        2.89771081e-05, 3.47725297e-05, 3.76702405e-05, 2.89771081e-05,\n",
       "        2.60793973e-05, 4.05679513e-05, 3.47725297e-05, 3.76702405e-05,\n",
       "        2.31816865e-05, 3.18748189e-05, 2.60793973e-05, 2.02839757e-05]),\n",
       " array([0.0, 50.0, 100.0, 150.0, 200.0, 250.0, 300.0, 350.0, 400.0, 450.0,\n",
       "        500.0, 550.0, 600.0, 650.0, 700.0, 750.0, 800.0, 850.0, 900.0,\n",
       "        950.0, 1000.0, 1050.0, 1100.0, 1150.0, 1200.0, 1250.0, 1300.0,\n",
       "        1350.0, 1400.0, 1450.0, 1500.0, 1550.0, 1600.0, 1650.0, 1700.0,\n",
       "        1750.0, 1800.0, 1850.0, 1900.0, 1950.0, 2000.0, 2050.0, 2100.0,\n",
       "        2150.0, 2200.0, 2250.0, 2300.0, 2350.0, 2400.0, 2450.0, 2500.0,\n",
       "        2550.0, 2600.0, 2650.0, 2700.0, 2750.0, 2800.0, 2850.0, 2900.0,\n",
       "        2950.0, 3000.0, 3050.0, 3100.0, 3150.0, 3200.0, 3250.0, 3300.0,\n",
       "        3350.0, 3400.0, 3450.0, 3500.0, 3550.0, 3600.0, 3650.0, 3700.0,\n",
       "        3750.0, 3800.0, 3850.0, 3900.0, 3950.0, 4000.0, 4050.0, 4100.0,\n",
       "        4150.0, 4200.0, 4250.0, 4300.0, 4350.0, 4400.0, 4450.0, 4500.0,\n",
       "        4550.0, 4600.0, 4650.0, 4700.0, 4750.0, 4800.0, 4850.0, 4900.0,\n",
       "        4950.0, 5000.0], dtype=object),\n",
       " <BarContainer object of 100 artists>)"
      ]
     },
     "execution_count": 12,
     "metadata": {},
     "output_type": "execute_result"
    },
    {
     "data": {
      "image/png": "[encoded data removed]",
      "text/plain": [
       "<Figure size 432x288 with 1 Axes>"
      ]
     },
     "metadata": {
      "needs_background": "light"
     },
     "output_type": "display_data"
    }
   ],
   "source": [
    "N=10000 #Taille de l'échantillon\n",
    "U_MC=[]\n",
    "for i in range(N):\n",
    "    pa,pih,piu,phd,phu,pud,Ni,Nh,Nu,R0,mu,N,t0,I0moins,lambda1 = Para_entree()\n",
    "    gammaIR,gammaIH,gammaIU,gammaHD,gammaHU,gammaHR,gammaUD,gammaUR,tau0 = Para_systeme(pa,pih,piu,phd,phu,pud,Ni,Nh,Nu,R0,mu,N,t0,I0moins,lambda1)\n",
    "    X,periode = Simulation_epidemie(S0,I0moins,gammaIR,gammaIH,gammaIU,gammaHD,gammaHU,gammaHR,gammaUD,gammaUR,tau0)\n",
    "    S,Imoins,Iplus,Rmoins,RplusI,H,U,RplusH,D,DR=Compartiments_epidemie(X)\n",
    "    U_MC.append((np.max(U),periode[np.argmax(U)]))\n",
    "Pic_MC=np.array(U_MC)\n",
    "\n",
    "#Loi du nombre maximal de patients en soins intensifs\n",
    "\n",
    "print(np.nanmean(Pic_MC[:,0]))\n",
    "print(np.quantile(Pic_MC[:,0], [0.1, 0.9]))\n",
    "plt.hist(Pic_MC[:,0],bins=100,density=1,range=[0,5000])\n",
    "\n",
    "\n"
   ]
  },
  {
   "cell_type": "code",
   "execution_count": 13,
   "metadata": {},
   "outputs": [
    {
     "name": "stdout",
     "output_type": "stream",
     "text": [
      "La loi de la valeur maximale de l'épidémie suit une loi exponentielle d'espérance 19313.50582306604\n"
     ]
    }
   ],
   "source": [
    "print(\"La loi de la valeur maximale de l'épidémie suit une loi exponentielle d'espérance \" + str(np.mean(Pic_MC[:,0])))"
   ]
  },
  {
   "cell_type": "code",
   "execution_count": 14,
   "metadata": {},
   "outputs": [
    {
     "data": {
      "text/plain": [
       "(array([ 10.,  38.,  94., 289., 284., 354., 459., 779., 562., 620., 925.,\n",
       "        586., 512., 416., 555., 334., 285., 421., 242., 202., 193., 221.,\n",
       "        166., 138., 139., 205., 116.,  98., 127.,  78.,  71.,  53.,  70.,\n",
       "         47.,  52.,  59.,  35.,  30.,  23.,  24.,  25.,  14.,  21.,   9.,\n",
       "          4.,   4.,   4.,   5.,   1.,   1.]),\n",
       " array([18341.  , 18343.28, 18345.56, 18347.84, 18350.12, 18352.4 ,\n",
       "        18354.68, 18356.96, 18359.24, 18361.52, 18363.8 , 18366.08,\n",
       "        18368.36, 18370.64, 18372.92, 18375.2 , 18377.48, 18379.76,\n",
       "        18382.04, 18384.32, 18386.6 , 18388.88, 18391.16, 18393.44,\n",
       "        18395.72, 18398.  , 18400.28, 18402.56, 18404.84, 18407.12,\n",
       "        18409.4 , 18411.68, 18413.96, 18416.24, 18418.52, 18420.8 ,\n",
       "        18423.08, 18425.36, 18427.64, 18429.92, 18432.2 , 18434.48,\n",
       "        18436.76, 18439.04, 18441.32, 18443.6 , 18445.88, 18448.16,\n",
       "        18450.44, 18452.72, 18455.  ]),\n",
       " <BarContainer object of 50 artists>)"
      ]
     },
     "execution_count": 14,
     "metadata": {},
     "output_type": "execute_result"
    },
    {
     "data": {
      "image/png": "[encoded data removed]",
      "text/plain": [
       "<Figure size 432x288 with 1 Axes>"
      ]
     },
     "metadata": {
      "needs_background": "light"
     },
     "output_type": "display_data"
    }
   ],
   "source": [
    "#Loi du jour de la date du pic de l'épidémie\n",
    "plt.hist(Pic_MC[:,1],bins = 50)"
   ]
  },
  {
   "cell_type": "code",
   "execution_count": 15,
   "metadata": {},
   "outputs": [
    {
     "name": "stdout",
     "output_type": "stream",
     "text": [
      "La loi de la date du pic  de l'épidémie suit une loi de poisson d'espérance 2020-04-21\n"
     ]
    }
   ],
   "source": [
    "pic = np.zeros_like(Pic_MC[:,1])\n",
    "for i,d in enumerate(Pic_MC[:,1]):\n",
    "    pic[i] = d.astype('float')\n",
    "m = np.mean(pic)\n",
    "mean_date = np.timedelta64(1,'D')*(m-np.datetime64('2020-02-24').astype('int'))+np.datetime64('2020-02-24')\n",
    "print(\"La loi de la date du pic  de l'épidémie suit une loi de poisson d'espérance \" + str(mean_date))"
   ]
  },
  {
   "cell_type": "markdown",
   "metadata": {},
   "source": [
    "#### Question 3: Analyse de la sensisibilité par méthode de Morris"
   ]
  },
  {
   "cell_type": "code",
   "execution_count": 16,
   "metadata": {},
   "outputs": [
    {
     "name": "stdout",
     "output_type": "stream",
     "text": [
      "Requirement already satisfied: SALib in /Users/max/opt/anaconda3/lib/python3.8/site-packages (1.3.12)\n",
      "Requirement already satisfied: pandas in /Users/max/opt/anaconda3/lib/python3.8/site-packages (from SALib) (1.1.3)\n",
      "Requirement already satisfied: scipy in /Users/max/opt/anaconda3/lib/python3.8/site-packages (from SALib) (1.5.2)\n",
      "Requirement already satisfied: numpy in /Users/max/opt/anaconda3/lib/python3.8/site-packages (from SALib) (1.19.2)\n",
      "Requirement already satisfied: matplotlib in /Users/max/opt/anaconda3/lib/python3.8/site-packages (from SALib) (3.3.2)\n",
      "Requirement already satisfied: python-dateutil>=2.7.3 in /Users/max/opt/anaconda3/lib/python3.8/site-packages (from pandas->SALib) (2.8.1)\n",
      "Requirement already satisfied: pytz>=2017.2 in /Users/max/opt/anaconda3/lib/python3.8/site-packages (from pandas->SALib) (2020.1)\n",
      "Requirement already satisfied: kiwisolver>=1.0.1 in /Users/max/opt/anaconda3/lib/python3.8/site-packages (from matplotlib->SALib) (1.3.0)\n",
      "Requirement already satisfied: pillow>=6.2.0 in /Users/max/opt/anaconda3/lib/python3.8/site-packages (from matplotlib->SALib) (8.0.1)\n",
      "Requirement already satisfied: cycler>=0.10 in /Users/max/opt/anaconda3/lib/python3.8/site-packages (from matplotlib->SALib) (0.10.0)\n",
      "Requirement already satisfied: pyparsing!=2.0.4,!=2.1.2,!=2.1.6,>=2.0.3 in /Users/max/opt/anaconda3/lib/python3.8/site-packages (from matplotlib->SALib) (2.4.7)\n",
      "Requirement already satisfied: certifi>=2020.06.20 in /Users/max/opt/anaconda3/lib/python3.8/site-packages (from matplotlib->SALib) (2020.6.20)\n",
      "Requirement already satisfied: six>=1.5 in /Users/max/opt/anaconda3/lib/python3.8/site-packages (from python-dateutil>=2.7.3->pandas->SALib) (1.15.0)\n"
     ]
    }
   ],
   "source": [
    "!pip install SALib"
   ]
  },
  {
   "cell_type": "code",
   "execution_count": 17,
   "metadata": {},
   "outputs": [],
   "source": [
    "import SALib.sample.morris\n",
    "import SALib.analyze.morris"
   ]
  },
  {
   "cell_type": "code",
   "execution_count": 18,
   "metadata": {},
   "outputs": [],
   "source": [
    "def Para_systeme_vector(x):\n",
    "    pa,pih,piu,phd,phu,pud,Ni,Nh,Nu,R0,mu,N,t0,I0moins,lambda1 = x[0],x[1],x[2],x[3],x[4],x[5],x[6],x[7],x[8],x[9],x[10],x[11],x[12],x[13],x[14]\n",
    "    gammaIR = (pa+(1-pa)*(1-pih-piu))/Ni\n",
    "    gammaIH = (1-pa)*pih/Ni\n",
    "    gammaIU = (1-pa)*piu/Ni\n",
    "    gammaHD = phd/Nh\n",
    "    gammaHU = phu/Nh\n",
    "    gammaHR = (1-phd-phu)/Nh\n",
    "    gammaUD = pud/Nu\n",
    "    gammaUR = (1-pud)/Nu\n",
    "    tau0 = R0*(lambda1+gammaIR+gammaIH+gammaIU)/S0\n",
    "    return np.array([I0moins,gammaIR,gammaIH,gammaIU,gammaHD,gammaHU,gammaHR,gammaUD,gammaUR,tau0])"
   ]
  },
  {
   "cell_type": "code",
   "execution_count": 19,
   "metadata": {},
   "outputs": [],
   "source": [
    "def Simulation_epidemie_vector(x,t0,N):\n",
    "    X = [[0 for i in range(10)]] #X représente l'ensemble des vecteurs qui regroupent les 10 compartiments du modèle épidémique\n",
    "    I0moins,gammaIR,gammaIH,gammaIU,gammaHD,gammaHU,gammaHR,gammaUD,gammaUR,tau0 = x[0],x[1],x[2],x[3],x[4],x[5],x[6],x[7],x[8],x[9]\n",
    "    #On initialise notre modèle\n",
    "    X[0][0] = S0 \n",
    "    X[0][1] = I0moins\n",
    "\n",
    "    #On utilise une première approche approximée à l'ordre 1 pour résoudre le système d'équation différentielle\n",
    "    periode = np.arange(t0, np.datetime64('2020-08-01').astype('int'))\n",
    "    for n in periode[:-1]:     \n",
    "        Xnew = [0 for i in range(10)]\n",
    "        Xold = X[-1]\n",
    "        Xnew[0] = Xold[0] - tau(n.astype('float'),N)*Xold[0]*Xold[1]\n",
    "        Xnew[1] = (1-lambda1)*Xold[1] + tau(n.astype('float'),N)*Xold[0]*Xold[1] - (gammaIR+gammaIH+gammaIU)*Xold[1]\n",
    "        Xnew[2] = Xold[2] + lambda1*Xold[1] - (gammaIR+gammaIH+gammaIU)*Xold[2]\n",
    "        Xnew[3] = (1-lambda2)*Xold[3] + gammaIR*Xold[1]\n",
    "        Xnew[4] = Xold[4] + gammaIR*Xold[2] +lambda2*Xold[3]\n",
    "        Xnew[5] = (1-(gammaHR+gammaHD+gammaHU))*Xold[5] + gammaIH*(Xold[1]+Xold[2])\n",
    "        Xnew[6] = (1-(gammaUR+gammaUD))*Xold[6] + gammaIU*(Xold[1]+Xold[2]) + gammaHU*Xold[5]\n",
    "        Xnew[7] = Xold[7] + gammaHR*Xold[5] + gammaUR*Xold[6]\n",
    "        Xnew[8] = Xold[8] + gammaUD*Xold[6] + gammaHD*Xold[5]\n",
    "        Xnew[9] = (lambda1+gammaIH+gammaIU)*Xold[1]\n",
    "        X.append(Xnew)\n",
    "    return X,periode\n",
    "\n",
    "def Compartiments_epidemie_vector(X):\n",
    "    S = np.array([x[0] for x in X[:]])\n",
    "    Imoins = np.array([x[1] for x in X[:]])\n",
    "    Iplus = np.array([x[2] for x in X[:]])\n",
    "    Rmoins = np.array([x[3] for x in X[:]])\n",
    "    RplusI = np.array([x[4] for x in X[:]])\n",
    "    H = np.array([x[5] for x in X[:]])\n",
    "    U = np.array([x[6] for x in X[:]])\n",
    "    RplusH = np.array([x[7] for x in X[:]])\n",
    "    D = np.array([x[8] for x in X[:]])\n",
    "    DR = np.array([x[9] for x in X[:]])\n",
    "    return S,Imoins,Iplus,Rmoins,RplusI,H,U,RplusH,D,DR\n"
   ]
  },
  {
   "cell_type": "code",
   "execution_count": 20,
   "metadata": {},
   "outputs": [],
   "source": [
    "def tau(n,N):\n",
    "    return tau0*np.exp(-mu*np.maximum((n-N),0))"
   ]
  },
  {
   "cell_type": "code",
   "execution_count": 21,
   "metadata": {},
   "outputs": [],
   "source": [
    "problem = {\n",
    "    'num_vars':15,\n",
    "    'names' : ['pa','pih','piu','phd','phu','pud','Ni','Nh','Nu','R0','mu','N','t0','I0moins','lambda1'],\n",
    "    'bounds' : [[0.4,0.9],[0.05,0.2],[0.01,0.04],[0.1,0.2],[0.1,0.2],[0.2,0.4],[8,12],[15,25],[10,20],[2.9,3.4],[0.01,0.08],[np.datetime64('2020-02-24').astype('int'),np.datetime64('2020-03-15').astype('int')],[np.datetime64('2020-01-25').astype('int'),np.datetime64('2020-02-24').astype('int')],[1,100],[10**(-4),10**(-3)]]\n",
    "}\n",
    "\n",
    "def Resolution(parametres):\n",
    "    peak_value = np.zeros(len(parametres))\n",
    "    peak_day = np.zeros(len(parametres))\n",
    "    for i,X in enumerate(parametres):\n",
    "        variables = X\n",
    "        variables[6] = np.round(variables[6])\n",
    "        variables[8] = np.round(variables[8])\n",
    "        variables[13] = np.round(variables[13])\n",
    "        constants = Para_systeme_vector(variables)\n",
    "        t0 = np.round(variables[12])\n",
    "        N = np.round(variables[11])\n",
    "        x,periode = Simulation_epidemie_vector(constants,t0,N)\n",
    "        S,Imoins,Iplus,Rmoins,RplusI,H,U,RplusH,D,DR=Compartiments_epidemie_vector(x)\n",
    "        peak_value[i] = np.max(U)\n",
    "        peak_day[i] = periode[np.argmax(U)]\n",
    "    return peak_value,peak_day"
   ]
  },
  {
   "cell_type": "code",
   "execution_count": 22,
   "metadata": {},
   "outputs": [],
   "source": [
    "X = SALib.sample.morris.sample(problem,100,num_levels=20)\n",
    "peak_value, peak_day = Resolution(X)"
   ]
  },
  {
   "cell_type": "code",
   "execution_count": 23,
   "metadata": {},
   "outputs": [
    {
     "name": "stdout",
     "output_type": "stream",
     "text": [
      "Sensibilité par méthode Morris pour la valeur maximale\n",
      "Parameter                         Mu_Star         Mu    Mu_Star_Conf      Sigma\n",
      "pa                              80826.704 -80826.704       20122.000 111587.103\n",
      "pih                             25992.973  25992.973        8141.193  38990.661\n",
      "piu                             50780.307  50780.307       15034.028  70108.790\n",
      "phd                                 0.000      0.000           0.000      0.000\n",
      "phu                             11424.408  11424.408        3702.048  18946.856\n",
      "pud                                 0.000      0.000           0.000      0.000\n",
      "Ni                              52804.849  52804.849       13110.174  58870.905\n",
      "Nh                               5081.806  -5081.806        1595.871   7783.930\n",
      "Nu                              24626.351  24626.351        5961.873  31005.239\n",
      "R0                                  0.000      0.000           0.000      0.000\n",
      "mu                                  0.000      0.000           0.000      0.000\n",
      "N                              107853.311 107853.311       20887.607 111926.972\n",
      "t0                             165185.644 -165185.644       31034.000 159916.018\n",
      "I0moins                         57259.366  57259.366       13831.990  69040.892\n",
      "lambda1                             0.000      0.000           0.000      0.000\n",
      "Sensibilité par méthode Morris pour la date où on atteint la valeur maximale\n",
      "Parameter                         Mu_Star         Mu    Mu_Star_Conf      Sigma\n",
      "pa                                  0.000      0.000           0.000      0.000\n",
      "pih                                 4.408      4.408           0.258      1.374\n",
      "piu                                 4.750     -4.750           0.321      1.861\n",
      "phd                                 0.000      0.000           0.000      0.000\n",
      "phu                                 2.432      2.432           0.214      0.939\n",
      "pud                                 0.000      0.000           0.000      0.000\n",
      "Ni                                  9.766      8.246           0.878      7.337\n",
      "Nh                                  0.494      0.494           0.174      0.838\n",
      "Nu                                  5.985      5.985           0.137      0.733\n",
      "R0                                  0.000      0.000           0.000      0.000\n",
      "mu                                  0.000      0.000           0.000      0.000\n",
      "N                                  12.825      8.265           1.298     11.945\n",
      "t0                                 16.929     16.929           2.931     14.665\n",
      "I0moins                             6.194     -6.194           1.120      6.108\n",
      "lambda1                             0.000      0.000           0.000      0.000\n"
     ]
    }
   ],
   "source": [
    "print('Sensibilité par méthode Morris pour la valeur maximale')\n",
    "Smorris_value  =SALib.analyze.morris.analyze(problem,X,peak_value,conf_level=0.95,print_to_console=True,num_levels=20)\n",
    "print('Sensibilité par méthode Morris pour la date où on atteint la valeur maximale')\n",
    "Smorris_day  =SALib.analyze.morris.analyze(problem,X,peak_day,conf_level=0.95,print_to_console=True,num_levels=20)\n"
   ]
  },
  {
   "cell_type": "markdown",
   "metadata": {},
   "source": [
    "#### Question 4: Analyse de sensibilité par méthode de Sobol"
   ]
  },
  {
   "cell_type": "code",
   "execution_count": 24,
   "metadata": {
    "tags": []
   },
   "outputs": [
    {
     "name": "stdout",
     "output_type": "stream",
     "text": [
      "Sensibilité (Sobol) pour la valeur maximale\n",
      "Group S1 S1_conf ST ST_conf\n",
      "pa 0.045240 0.089817 0.124989 0.111299\n",
      "pih -0.126294 0.393471 0.473353 0.249725\n",
      "piu -0.168697 0.403770 0.593007 0.311174\n",
      "phd -0.139284 0.411527 0.648836 0.329584\n",
      "phu -0.059634 0.478747 0.831837 0.355187\n",
      "pud -0.063257 0.523886 1.098065 0.569864\n",
      "Ni -0.049372 0.557958 1.125897 0.579847\n",
      "Nh 0.068400 0.598844 1.117558 0.661565\n",
      "Nu 0.045908 0.541076 0.945203 0.461507\n",
      "R0 -0.110758 0.430703 0.998555 0.539648\n",
      "mu -0.083611 0.458574 1.058334 0.509422\n",
      "N -0.090326 0.468138 1.057529 0.488218\n",
      "t0 -0.102743 0.490984 1.257970 0.900320\n",
      "I0moins -0.080552 0.529651 1.440866 0.988141\n",
      "lambda1 0.044258 0.615805 1.616329 0.948530\n",
      "\n",
      "Group_1 Group_2 S2 S2_conf\n",
      "pa pih -0.071749 0.236311\n",
      "pa piu -0.037139 0.263862\n",
      "pa phd -0.136523 0.286322\n",
      "pa phu -0.169765 0.341755\n",
      "pa pud 0.012742 0.415651\n",
      "pa Ni 0.125869 0.460610\n",
      "pa Nh -0.057435 0.384858\n",
      "pa Nu -0.132574 0.359479\n",
      "pa R0 0.104498 0.418011\n",
      "pa mu 0.079573 0.433595\n",
      "pa N 0.116349 0.403781\n",
      "pa t0 0.206613 0.588276\n",
      "pa I0moins 0.282699 0.622782\n",
      "pa lambda1 0.092046 0.645709\n",
      "pih piu 0.080977 0.505469\n",
      "pih phd -0.020859 0.549214\n",
      "pih phu -0.056868 0.600577\n",
      "pih pud 0.114497 0.629715\n",
      "pih Ni 0.325738 0.684771\n",
      "pih Nh 0.138551 0.654687\n",
      "pih Nu 0.029939 0.630029\n",
      "pih R0 0.277962 0.571991\n",
      "pih mu 0.288967 0.582935\n",
      "pih N 0.327001 0.568276\n",
      "pih t0 0.367608 0.690379\n",
      "pih I0moins 0.669381 0.911875\n",
      "pih lambda1 0.471894 0.953148\n",
      "piu phd 0.002616 0.571272\n",
      "piu phu -0.026639 0.624035\n",
      "piu pud 0.058320 0.631787\n",
      "piu Ni 0.255627 0.653975\n",
      "piu Nh 0.118957 0.681083\n",
      "piu Nu 0.048241 0.660915\n",
      "piu R0 0.215003 0.558357\n",
      "piu mu 0.244401 0.548668\n",
      "piu N 0.266283 0.535436\n",
      "piu t0 0.225301 0.534034\n",
      "piu I0moins 0.490320 0.759768\n",
      "piu lambda1 0.346271 0.820531\n",
      "phd phu -0.096218 0.655016\n",
      "phd pud -0.040479 0.685604\n",
      "phd Ni 0.170107 0.700229\n",
      "phd Nh 0.021551 0.722528\n",
      "phd Nu -0.054106 0.698508\n",
      "phd R0 0.126087 0.586205\n",
      "phd mu 0.147889 0.577412\n",
      "phd N 0.164171 0.568965\n",
      "phd t0 0.106461 0.568963\n",
      "phd I0moins 0.347492 0.761397\n",
      "phd lambda1 0.201576 0.818388\n",
      "phu pud -0.139048 0.717656\n",
      "phu Ni 0.117739 0.749663\n",
      "phu Nh -0.041907 0.746810\n",
      "phu Nu -0.125392 0.734556\n",
      "phu R0 0.021702 0.644832\n",
      "phu mu 0.046053 0.628546\n",
      "phu N 0.104029 0.609649\n",
      "phu t0 0.066704 0.601079\n",
      "phu I0moins 0.313040 0.836740\n",
      "phu lambda1 0.131169 0.884309\n",
      "pud Ni 0.091925 0.793159\n",
      "pud Nh -0.061963 0.779924\n",
      "pud Nu -0.109015 0.757899\n",
      "pud R0 0.025194 0.659008\n",
      "pud mu 0.034024 0.662413\n",
      "pud N 0.077335 0.646984\n",
      "pud t0 0.037599 0.634537\n",
      "pud I0moins 0.233077 0.794469\n",
      "pud lambda1 0.028341 0.849845\n",
      "Ni Nh -0.221837 1.020667\n",
      "Ni Nu -0.237015 0.938493\n",
      "Ni R0 -0.040168 0.738406\n",
      "Ni mu -0.025148 0.729090\n",
      "Ni N -0.022156 0.767119\n",
      "Ni t0 -0.059229 0.759801\n",
      "Ni I0moins 0.125436 0.893470\n",
      "Ni lambda1 -0.037352 0.937619\n",
      "Nh Nu -0.335123 0.974772\n",
      "Nh R0 -0.153744 0.773975\n",
      "Nh mu -0.168725 0.757300\n",
      "Nh N -0.193034 0.820733\n",
      "Nh t0 -0.207001 0.815439\n",
      "Nh I0moins -0.085006 0.872527\n",
      "Nh lambda1 -0.188840 0.907852\n",
      "Nu R0 -0.021609 0.680086\n",
      "Nu mu -0.104820 0.678256\n",
      "Nu N -0.128764 0.729001\n",
      "Nu t0 -0.151656 0.725398\n",
      "Nu I0moins 0.006101 0.755430\n",
      "Nu lambda1 -0.109646 0.796985\n",
      "R0 mu 0.112431 0.541842\n",
      "R0 N 0.082943 0.583079\n",
      "R0 t0 0.073792 0.578939\n",
      "R0 I0moins 0.090041 0.601321\n",
      "R0 lambda1 -0.069245 0.677253\n",
      "mu N 0.050278 0.602158\n",
      "mu t0 0.025966 0.603938\n",
      "mu I0moins 0.117815 0.620473\n",
      "mu lambda1 0.002639 0.697196\n",
      "N t0 0.084687 0.577736\n",
      "N I0moins 0.188068 0.599930\n",
      "N lambda1 0.016442 0.680193\n",
      "t0 I0moins 0.281379 0.542708\n",
      "t0 lambda1 0.123723 0.618724\n",
      "I0moins lambda1 0.113958 0.584351\n",
      "Sensibilité (Sobol) pour la date où on atteint la valeur maximale\n",
      "Group S1 S1_conf ST ST_conf\n",
      "pa 0.000000 0.000000 0.000000 0.000000\n",
      "pih 0.021383 0.034217 0.022495 0.008596\n",
      "piu 0.028057 0.046452 0.034896 0.010261\n",
      "phd 0.000000 0.000000 0.000000 0.000000\n",
      "phu 0.012730 0.026937 0.009661 0.002509\n",
      "pud 0.000000 0.000000 0.000000 0.000000\n",
      "Ni 0.064431 0.130761 0.156453 0.061340\n",
      "Nh -0.006242 0.009427 0.001802 0.000630\n",
      "Nu 0.029046 0.062008 0.051839 0.017859\n",
      "R0 0.000000 0.000000 0.000000 0.000000\n",
      "mu 0.000000 0.000000 0.000000 0.000000\n",
      "N 0.047893 0.129725 0.199496 0.068152\n",
      "t0 0.354355 0.223579 0.615936 0.283661\n",
      "I0moins -0.006079 0.075827 0.092863 0.045165\n",
      "lambda1 0.000000 0.000000 0.000000 0.000000\n",
      "\n",
      "Group_1 Group_2 S2 S2_conf\n",
      "pa pih -0.000000 0.000000\n",
      "pa piu 0.000000 0.000000\n",
      "pa phd 0.000000 0.000000\n",
      "pa phu 0.000000 0.000000\n",
      "pa pud 0.000000 0.000000\n",
      "pa Ni 0.000000 0.000000\n",
      "pa Nh 0.000000 0.000000\n",
      "pa Nu -0.000000 0.000000\n",
      "pa R0 0.000000 0.000000\n",
      "pa mu 0.000000 0.000000\n",
      "pa N -0.000000 0.000000\n",
      "pa t0 0.000000 0.000000\n",
      "pa I0moins 0.000000 0.000000\n",
      "pa lambda1 0.000000 0.000000\n",
      "pih piu -0.000104 0.058416\n",
      "pih phd -0.006593 0.057172\n",
      "pih phu -0.012505 0.057071\n",
      "pih pud -0.006593 0.057172\n",
      "pih Ni -0.001690 0.057275\n",
      "pih Nh -0.007458 0.057317\n",
      "pih Nu -0.003709 0.060294\n",
      "pih R0 -0.006593 0.057172\n",
      "pih mu -0.006593 0.057172\n",
      "pih N -0.000537 0.061176\n",
      "pih t0 -0.016687 0.059842\n",
      "pih I0moins -0.005151 0.061897\n",
      "pih lambda1 -0.006593 0.057172\n",
      "piu phd 0.010012 0.069440\n",
      "piu phu 0.008714 0.069748\n",
      "piu pud 0.010012 0.069440\n",
      "piu Ni 0.010012 0.069453\n",
      "piu Nh 0.011742 0.068678\n",
      "piu Nu -0.000226 0.071734\n",
      "piu R0 0.010012 0.069440\n",
      "piu mu 0.010012 0.069440\n",
      "piu N -0.009022 0.068314\n",
      "piu t0 0.018664 0.074584\n",
      "piu I0moins 0.005253 0.072191\n",
      "piu lambda1 0.010012 0.069440\n",
      "phd phu 0.000000 0.000000\n",
      "phd pud 0.000000 0.000000\n",
      "phd Ni 0.000000 0.000000\n",
      "phd Nh 0.000000 0.000000\n",
      "phd Nu -0.000000 0.000000\n",
      "phd R0 0.000000 0.000000\n",
      "phd mu 0.000000 0.000000\n",
      "phd N -0.000000 0.000000\n",
      "phd t0 0.000000 0.000000\n",
      "phd I0moins 0.000000 0.000000\n",
      "phd lambda1 0.000000 0.000000\n",
      "phu pud -0.004325 0.041331\n",
      "phu Ni -0.013842 0.040500\n",
      "phu Nh -0.005190 0.040998\n",
      "phu Nu -0.005190 0.041805\n",
      "phu R0 -0.004325 0.041331\n",
      "phu mu -0.004325 0.041331\n",
      "phu N -0.003315 0.040027\n",
      "phu t0 0.002597 0.045574\n",
      "phu I0moins -0.012256 0.041090\n",
      "phu lambda1 -0.004325 0.041331\n",
      "pud Ni 0.000000 0.000000\n",
      "pud Nh 0.000000 0.000000\n",
      "pud Nu -0.000000 0.000000\n",
      "pud R0 0.000000 0.000000\n",
      "pud mu 0.000000 0.000000\n",
      "pud N -0.000000 0.000000\n",
      "pud t0 0.000000 0.000000\n",
      "pud I0moins 0.000000 0.000000\n",
      "pud lambda1 0.000000 0.000000\n",
      "Ni Nh 0.106897 0.171137\n",
      "Ni Nu 0.115981 0.178301\n",
      "Ni R0 0.102859 0.170803\n",
      "Ni mu 0.102859 0.170803\n",
      "Ni N 0.106032 0.188687\n",
      "Ni t0 0.065512 0.154571\n",
      "Ni I0moins 0.128238 0.181056\n",
      "Ni lambda1 0.102859 0.170803\n",
      "Nh Nu 0.010835 0.013357\n",
      "Nh R0 0.010403 0.012708\n",
      "Nh mu 0.010403 0.012708\n",
      "Nh N 0.012277 0.013685\n",
      "Nh t0 0.008384 0.017144\n",
      "Nh I0moins 0.014728 0.012692\n",
      "Nh lambda1 0.010403 0.012708\n",
      "Nu R0 -0.062438 0.069155\n",
      "Nu mu -0.062438 0.069155\n",
      "Nu N -0.065610 0.075014\n",
      "Nu t0 -0.044557 0.103487\n",
      "Nu I0moins -0.047297 0.068287\n",
      "Nu lambda1 -0.062438 0.069155\n",
      "R0 mu 0.000000 0.000000\n",
      "R0 N -0.000000 0.000000\n",
      "R0 t0 0.000000 0.000000\n",
      "R0 I0moins 0.000000 0.000000\n",
      "R0 lambda1 0.000000 0.000000\n",
      "mu N -0.000000 0.000000\n",
      "mu t0 0.000000 0.000000\n",
      "mu I0moins 0.000000 0.000000\n",
      "mu lambda1 0.000000 0.000000\n",
      "N t0 0.071727 0.144367\n",
      "N I0moins -0.014070 0.162048\n",
      "N lambda1 -0.014070 0.161797\n",
      "t0 I0moins 0.211341 0.273403\n",
      "t0 lambda1 0.092090 0.256978\n",
      "I0moins lambda1 0.024043 0.189660\n"
     ]
    }
   ],
   "source": [
    "from SALib.sample import saltelli\n",
    "from SALib.analyze import sobol\n",
    "\n",
    "X = saltelli.sample(problem,100,calc_second_order=True)\n",
    "param_values,peak_day = Resolution(X)\n",
    "print('Sensibilité (Sobol) pour la valeur maximale')\n",
    "Si_peak_value = sobol.analyze(problem,peak_value,print_to_console=True)\n",
    "print('Sensibilité (Sobol) pour la date où on atteint la valeur maximale')\n",
    "Si_peak_value = sobol.analyze(problem,peak_day,print_to_console=True)"
   ]
  },
  {
   "cell_type": "markdown",
   "metadata": {},
   "source": [
    "S1 désigne les indices du premier ordre et ST désigne les indices totaux."
   ]
  },
  {
   "cell_type": "markdown",
   "metadata": {},
   "source": [
    "#### Question  5: Analyse de sensibilité quantitative de : Sobol pour les paramètres dont on a les données"
   ]
  },
  {
   "cell_type": "code",
   "execution_count": 25,
   "metadata": {},
   "outputs": [
    {
     "data": {
      "text/plain": [
       "54"
      ]
     },
     "execution_count": 25,
     "metadata": {},
     "output_type": "execute_result"
    }
   ],
   "source": [
    "np.datetime64('2020-05-11').astype('int') - np.datetime64('2020-03-18').astype('int')"
   ]
  },
  {
   "cell_type": "code",
   "execution_count": 26,
   "metadata": {},
   "outputs": [],
   "source": [
    "def Simulation_epidemie_data(x,t0,N):\n",
    "    X = [[0 for i in range(10)]] #X représente l'ensemble des vecteurs qui regroupent les 10 compartiments du modèle épidémique\n",
    "    I0moins,gammaIR,gammaIH,gammaIU,gammaHD,gammaHU,gammaHR,gammaUD,gammaUR,tau0 = x[0],x[1],x[2],x[3],x[4],x[5],x[6],x[7],x[8],x[9]\n",
    "    #On initialise notre modèle\n",
    "    X[0][0] = S0 \n",
    "    X[0][1] = I0moins\n",
    "\n",
    "    #On utilise une première approche approximée à l'ordre 1 pour résoudre le système d'équation différentielle\n",
    "    periode = np.arange(t0, np.datetime64('2020-05-11').astype('int'))\n",
    "    for n in periode[:-1]:     \n",
    "        Xnew = [0 for i in range(10)]\n",
    "        Xold = X[-1]\n",
    "        Xnew[0] = Xold[0] - tau(n.astype('float'),N)*Xold[0]*Xold[1]\n",
    "        Xnew[1] = (1-lambda1)*Xold[1] + tau(n.astype('float'),N)*Xold[0]*Xold[1] - (gammaIR+gammaIH+gammaIU)*Xold[1]\n",
    "        Xnew[2] = Xold[2] + lambda1*Xold[1] - (gammaIR+gammaIH+gammaIU)*Xold[2]\n",
    "        Xnew[3] = (1-lambda2)*Xold[3] + gammaIR*Xold[1]\n",
    "        Xnew[4] = Xold[4] + gammaIR*Xold[2] +lambda2*Xold[3]\n",
    "        Xnew[5] = (1-(gammaHR+gammaHD+gammaHU))*Xold[5] + gammaIH*(Xold[1]+Xold[2])\n",
    "        Xnew[6] = (1-(gammaUR+gammaUD))*Xold[6] + gammaIU*(Xold[1]+Xold[2]) + gammaHU*Xold[5]\n",
    "        Xnew[7] = Xold[7] + gammaHR*Xold[5] + gammaUR*Xold[6]\n",
    "        Xnew[8] = Xold[8] + gammaUD*Xold[6] + gammaHD*Xold[5]\n",
    "        Xnew[9] = (lambda1+gammaIH+gammaIU)*Xold[1]\n",
    "        X.append(Xnew)\n",
    "    return X[len(X)-54:],periode\n",
    "\n",
    "\n",
    "def Compartiments_epidemie_list(X):\n",
    "    S = [x[0] for x in X[:]]\n",
    "    Imoins = [x[1] for x in X[:]]\n",
    "    Iplus = [x[2] for x in X[:]]\n",
    "    Rmoins = [x[3] for x in X[:]]\n",
    "    RplusI = [x[4] for x in X[:]]\n",
    "    H = [x[5] for x in X[:]]\n",
    "    U = [x[6] for x in X[:]]\n",
    "    RplusH = [x[7] for x in X[:]]\n",
    "    D = [x[8] for x in X[:]]\n",
    "    DR = [x[9] for x in X[:]]\n",
    "    return S,Imoins,Iplus,Rmoins,RplusI,H,U,RplusH,D,DR"
   ]
  },
  {
   "cell_type": "code",
   "execution_count": 27,
   "metadata": {},
   "outputs": [],
   "source": [
    "def Resolution_bis(parametres):\n",
    "    Ht= []\n",
    "    Ut = []\n",
    "    Dt = []\n",
    "    Rt = []\n",
    "    for i,X in enumerate(parametres):\n",
    "        variables = X\n",
    "        variables[6] = np.round(variables[6])\n",
    "        variables[8] = np.round(variables[8])\n",
    "        variables[13] = np.round(variables[13])\n",
    "        constants = Para_systeme_vector(variables)\n",
    "        t0 = np.round(variables[12])\n",
    "        N = np.round(variables[11])\n",
    "        x,periode = Simulation_epidemie_data(constants,t0,N)\n",
    "        S,Imoins,Iplus,Rmoins,RplusI,H,U,RplusH,D,DR=Compartiments_epidemie_list(x)\n",
    "        Ht.append(H)\n",
    "        Ut.append(U)\n",
    "        Dt.append(D)\n",
    "        Rt.append(RplusH)\n",
    "    return Ht, Ut, Dt, Rt\n",
    "\n",
    "def Resolution(parametres):\n",
    "    peak_value = np.zeros(len(parametres))\n",
    "    peak_day = np.zeros(len(parametres))\n",
    "    for i,X in enumerate(parametres):\n",
    "        variables = X\n",
    "        variables[6] = np.round(variables[6])\n",
    "        variables[8] = np.round(variables[8])\n",
    "        variables[13] = np.round(variables[13])\n",
    "        constants = Para_systeme_vector(variables)\n",
    "        t0 = np.round(variables[12])\n",
    "        N = np.round(variables[11])\n",
    "        x,periode = Simulation_epidemie_vector(constants,t0,N)\n",
    "        S,Imoins,Iplus,Rmoins,RplusI,H,U,RplusH,D,DR=Compartiments_epidemie_vector(x)\n",
    "        peak_value[i] = np.max(U)\n",
    "        peak_day[i] = periode[np.argmax(U)]\n",
    "    return peak_value,peak_day"
   ]
  },
  {
   "cell_type": "code",
   "execution_count": 28,
   "metadata": {},
   "outputs": [],
   "source": [
    "X = saltelli.sample(problem,100)\n",
    "H, U, D, RplusH = Resolution_bis(X)\n",
    "H = np.array(H)\n",
    "U = np.array(U)\n",
    "D = np.array(D)\n",
    "RplusH = np.array(RplusH)"
   ]
  },
  {
   "cell_type": "code",
   "execution_count": 29,
   "metadata": {},
   "outputs": [
    {
     "data": {
      "text/plain": [
       "array(['2020-03-18', '2020-03-19', '2020-03-20', '2020-03-21',\n",
       "       '2020-03-22', '2020-03-23', '2020-03-24', '2020-03-25',\n",
       "       '2020-03-26', '2020-03-27', '2020-03-28', '2020-03-29',\n",
       "       '2020-03-30', '2020-03-31', '2020-04-01', '2020-04-02',\n",
       "       '2020-04-03', '2020-04-04', '2020-04-05', '2020-04-06',\n",
       "       '2020-04-07', '2020-04-08', '2020-04-09', '2020-04-10',\n",
       "       '2020-04-11', '2020-04-12', '2020-04-13', '2020-04-14',\n",
       "       '2020-04-15', '2020-04-16', '2020-04-17', '2020-04-18',\n",
       "       '2020-04-19', '2020-04-20', '2020-04-21', '2020-04-22',\n",
       "       '2020-04-23', '2020-04-24', '2020-04-25', '2020-04-26',\n",
       "       '2020-04-27', '2020-04-28', '2020-04-29', '2020-04-30',\n",
       "       '2020-05-01', '2020-05-02', '2020-05-03', '2020-05-04',\n",
       "       '2020-05-05', '2020-05-06', '2020-05-07', '2020-05-08',\n",
       "       '2020-05-09', '2020-05-10'], dtype='datetime64[D]')"
      ]
     },
     "execution_count": 29,
     "metadata": {},
     "output_type": "execute_result"
    }
   ],
   "source": [
    "periode = np.arange(np.datetime64('2020-03-18'), np.datetime64('2020-05-11'))\n",
    "periode"
   ]
  },
  {
   "cell_type": "code",
   "execution_count": 30,
   "metadata": {},
   "outputs": [],
   "source": [
    "pa =[]\n",
    "pih =[]\n",
    "piu =[]\n",
    "phd =[]\n",
    "phu =[]\n",
    "pud =[]\n",
    "Ni =[]\n",
    "Nh =[]\n",
    "Nu =[]\n",
    "R0 =[]\n",
    "mu =[]\n",
    "N =[]\n",
    "t0 =[]\n",
    "I0moins =[]\n",
    "lambda1 =[]\n",
    "pat =[]\n",
    "piht =[]\n",
    "piut =[]\n",
    "phdt =[]\n",
    "phut =[]\n",
    "pudt =[]\n",
    "Nit =[]\n",
    "Nht =[]\n",
    "Nut =[]\n",
    "R0t =[]\n",
    "mut =[]\n",
    "Nt =[]\n",
    "t0t =[]\n",
    "I0moinst =[]\n",
    "lambda1t =[]\n",
    "for i in range(len(H[0])):\n",
    "    h = H[:,i]\n",
    "    Si_H = sobol.analyze(problem,h)\n",
    "    pa.append(Si_H['S1'][0])\n",
    "    pih.append(Si_H['S1'][1])\n",
    "    piu.append(Si_H['S1'][2])\n",
    "    phd.append(Si_H['S1'][3])\n",
    "    phu.append(Si_H['S1'][4])\n",
    "    pud.append(Si_H['S1'][5])\n",
    "    Ni.append(Si_H['S1'][6])\n",
    "    Nh.append(Si_H['S1'][7])\n",
    "    Nu.append(Si_H['S1'][8])\n",
    "    R0.append(Si_H['S1'][9])\n",
    "    mu.append(Si_H['S1'][10])\n",
    "    N.append(Si_H['S1'][11])\n",
    "    t0.append(Si_H['S1'][12])\n",
    "    I0moins.append(Si_H['S1'][13])\n",
    "    lambda1.append(Si_H['S1'][14])\n",
    "    pat.append(Si_H['ST'][0])\n",
    "    piht.append(Si_H['ST'][1])\n",
    "    piut.append(Si_H['ST'][2])\n",
    "    phdt.append(Si_H['ST'][3])\n",
    "    phut.append(Si_H['ST'][4])\n",
    "    pudt.append(Si_H['ST'][5])\n",
    "    Nit.append(Si_H['ST'][6])\n",
    "    Nht.append(Si_H['ST'][7])\n",
    "    Nut.append(Si_H['ST'][8])\n",
    "    R0t.append(Si_H['ST'][9])\n",
    "    mut.append(Si_H['ST'][10])\n",
    "    Nt.append(Si_H['ST'][11])\n",
    "    t0t.append(Si_H['ST'][12])\n",
    "    I0moinst.append(Si_H['ST'][13])\n",
    "    lambda1t.append(Si_H['ST'][14])\n",
    "\n"
   ]
  },
  {
   "cell_type": "code",
   "execution_count": 44,
   "metadata": {},
   "outputs": [
    {
     "data": {
      "image/png": "[encoded data removed]",
      "text/plain": [
       "<Figure size 432x288 with 1 Axes>"
      ]
     },
     "metadata": {
      "needs_background": "light"
     },
     "output_type": "display_data"
    }
   ],
   "source": [
    "plt.plot(periode,pa,label='pa')\n",
    "plt.plot(periode,pih,label='pih')\n",
    "plt.plot(periode,piu,label='piu')\n",
    "plt.plot(periode,phd,label='phd')\n",
    "plt.plot(periode,phu,label='phu')\n",
    "plt.plot(periode,pud,label='pud')\n",
    "plt.plot(periode,Ni,label='Ni')\n",
    "plt.plot(periode,Nh,label='Nh')\n",
    "plt.plot(periode,Nu,label='Nu')\n",
    "plt.plot(periode,R0,label='R0')\n",
    "plt.plot(periode,mu,label='mu')\n",
    "plt.plot(periode,N,label='N')\n",
    "plt.plot(periode,t0,label='t0')\n",
    "plt.plot(periode,I0moins,label='I0moins')\n",
    "plt.plot(periode,lambda1,label='lambda1')\n",
    "plt.title('Evolution pour H des indices de premier ordre sur la péride du jeu de données')\n",
    "plt.legend(loc='upper left', fontsize='x-small')\n",
    "plt.show()"
   ]
  },
  {
   "cell_type": "code",
   "execution_count": 32,
   "metadata": {},
   "outputs": [
    {
     "data": {
      "image/png": "[encoded data removed]",
      "text/plain": [
       "<Figure size 432x288 with 1 Axes>"
      ]
     },
     "metadata": {
      "needs_background": "light"
     },
     "output_type": "display_data"
    }
   ],
   "source": [
    "plt.plot(periode,pat,label='pa')\n",
    "plt.plot(periode,piht,label='pih')\n",
    "plt.plot(periode,piut,label='piu')\n",
    "plt.plot(periode,phdt,label='phd')\n",
    "plt.plot(periode,phut,label='phu')\n",
    "plt.plot(periode,pudt,label='pud')\n",
    "plt.plot(periode,Nit,label='Ni')\n",
    "plt.plot(periode,Nht,label='Nh')\n",
    "plt.plot(periode,Nut,label='Nu')\n",
    "plt.plot(periode,R0t,label='R0')\n",
    "plt.plot(periode,mut,label='mu')\n",
    "plt.plot(periode,Nt,label='N')\n",
    "plt.plot(periode,t0t,label='t0')\n",
    "plt.plot(periode,I0moinst,label='I0moins')\n",
    "plt.plot(periode,lambda1t,label='lambda1')\n",
    "plt.title('Evolution pour H des indices totaux sur la péride du jeu de données')\n",
    "plt.legend(loc='upper left', fontsize='x-small')\n",
    "plt.show()"
   ]
  },
  {
   "cell_type": "code",
   "execution_count": 33,
   "metadata": {},
   "outputs": [],
   "source": [
    "pa =[]\n",
    "pih =[]\n",
    "piu =[]\n",
    "phd =[]\n",
    "phu =[]\n",
    "pud =[]\n",
    "Ni =[]\n",
    "Nh =[]\n",
    "Nu =[]\n",
    "R0 =[]\n",
    "mu =[]\n",
    "N =[]\n",
    "t0 =[]\n",
    "I0moins =[]\n",
    "lambda1 =[]\n",
    "pat =[]\n",
    "piht =[]\n",
    "piut =[]\n",
    "phdt =[]\n",
    "phut =[]\n",
    "pudt =[]\n",
    "Nit =[]\n",
    "Nht =[]\n",
    "Nut =[]\n",
    "R0t =[]\n",
    "mut =[]\n",
    "Nt =[]\n",
    "t0t =[]\n",
    "I0moinst =[]\n",
    "lambda1t =[]\n",
    "for i in range(len(U[0])):\n",
    "    u = U[:,i]\n",
    "    Si_U = sobol.analyze(problem,u)\n",
    "    pa.append(Si_U['S1'][0])\n",
    "    pih.append(Si_U['S1'][1])\n",
    "    piu.append(Si_U['S1'][2])\n",
    "    phd.append(Si_U['S1'][3])\n",
    "    phu.append(Si_U['S1'][4])\n",
    "    pud.append(Si_U['S1'][5])\n",
    "    Ni.append(Si_U['S1'][6])\n",
    "    Nh.append(Si_U['S1'][7])\n",
    "    Nu.append(Si_U['S1'][8])\n",
    "    R0.append(Si_U['S1'][9])\n",
    "    mu.append(Si_U['S1'][10])\n",
    "    N.append(Si_U['S1'][11])\n",
    "    t0.append(Si_U['S1'][12])\n",
    "    I0moins.append(Si_U['S1'][13])\n",
    "    lambda1.append(Si_U['S1'][14])\n",
    "    pat.append(Si_U['ST'][0])\n",
    "    piht.append(Si_U['ST'][1])\n",
    "    piut.append(Si_U['ST'][2])\n",
    "    phdt.append(Si_U['ST'][3])\n",
    "    phut.append(Si_U['ST'][4])\n",
    "    pudt.append(Si_U['ST'][5])\n",
    "    Nit.append(Si_U['ST'][6])\n",
    "    Nht.append(Si_U['ST'][7])\n",
    "    Nut.append(Si_U['ST'][8])\n",
    "    R0t.append(Si_U['ST'][9])\n",
    "    mut.append(Si_U['ST'][10])\n",
    "    Nt.append(Si_U['ST'][11])\n",
    "    t0t.append(Si_U['ST'][12])\n",
    "    I0moinst.append(Si_U['ST'][13])\n",
    "    lambda1t.append(Si_U['ST'][14])"
   ]
  },
  {
   "cell_type": "code",
   "execution_count": 34,
   "metadata": {},
   "outputs": [
    {
     "data": {
      "image/png": "[encoded data removed]",
      "text/plain": [
       "<Figure size 432x288 with 1 Axes>"
      ]
     },
     "metadata": {
      "needs_background": "light"
     },
     "output_type": "display_data"
    }
   ],
   "source": [
    "plt.plot(periode,pa,label='pa')\n",
    "plt.plot(periode,pih,label='pih')\n",
    "plt.plot(periode,piu,label='piu')\n",
    "plt.plot(periode,phd,label='phd')\n",
    "plt.plot(periode,phu,label='phu')\n",
    "plt.plot(periode,pud,label='pud')\n",
    "plt.plot(periode,Ni,label='Ni')\n",
    "plt.plot(periode,Nh,label='Nh')\n",
    "plt.plot(periode,Nu,label='Nu')\n",
    "plt.plot(periode,R0,label='R0')\n",
    "plt.plot(periode,mu,label='mu')\n",
    "plt.plot(periode,N,label='N')\n",
    "plt.plot(periode,t0,label='t0')\n",
    "plt.plot(periode,I0moins,label='I0moins')\n",
    "plt.plot(periode,lambda1,label='lambda1')\n",
    "plt.title('Evolution pour U des indices de premier ordre sur la péride du jeu de données')\n",
    "plt.legend(loc='upper left', fontsize='x-small')\n",
    "plt.show()"
   ]
  },
  {
   "cell_type": "code",
   "execution_count": 35,
   "metadata": {},
   "outputs": [
    {
     "data": {
      "image/png": "[encoded data removed]",
      "text/plain": [
       "<Figure size 432x288 with 1 Axes>"
      ]
     },
     "metadata": {
      "needs_background": "light"
     },
     "output_type": "display_data"
    }
   ],
   "source": [
    "plt.plot(periode,pat,label='pa')\n",
    "plt.plot(periode,piht,label='pih')\n",
    "plt.plot(periode,piut,label='piu')\n",
    "plt.plot(periode,phdt,label='phd')\n",
    "plt.plot(periode,phut,label='phu')\n",
    "plt.plot(periode,pudt,label='pud')\n",
    "plt.plot(periode,Nit,label='Ni')\n",
    "plt.plot(periode,Nht,label='Nh')\n",
    "plt.plot(periode,Nut,label='Nu')\n",
    "plt.plot(periode,R0t,label='R0')\n",
    "plt.plot(periode,mut,label='mu')\n",
    "plt.plot(periode,Nt,label='N')\n",
    "plt.plot(periode,t0t,label='t0')\n",
    "plt.plot(periode,I0moinst,label='I0moins')\n",
    "plt.plot(periode,lambda1t,label='lambda1')\n",
    "plt.title('Evolution pour U des indices totaux sur la péride du jeu de données')\n",
    "plt.legend(loc='upper left', fontsize='x-small')\n",
    "plt.show()"
   ]
  },
  {
   "cell_type": "code",
   "execution_count": 36,
   "metadata": {},
   "outputs": [],
   "source": [
    "pa =[]\n",
    "pih =[]\n",
    "piu =[]\n",
    "phd =[]\n",
    "phu =[]\n",
    "pud =[]\n",
    "Ni =[]\n",
    "Nh =[]\n",
    "Nu =[]\n",
    "R0 =[]\n",
    "mu =[]\n",
    "N =[]\n",
    "t0 =[]\n",
    "I0moins =[]\n",
    "lambda1 =[]\n",
    "pat =[]\n",
    "piht =[]\n",
    "piut =[]\n",
    "phdt =[]\n",
    "phut =[]\n",
    "pudt =[]\n",
    "Nit =[]\n",
    "Nht =[]\n",
    "Nut =[]\n",
    "R0t =[]\n",
    "mut =[]\n",
    "Nt =[]\n",
    "t0t =[]\n",
    "I0moinst =[]\n",
    "lambda1t =[]\n",
    "for i in range(len(D[0])):\n",
    "    d = D[:,i]\n",
    "    Si_D = sobol.analyze(problem,d)\n",
    "    pa.append(Si_D['S1'][0])\n",
    "    pih.append(Si_D['S1'][1])\n",
    "    piu.append(Si_D['S1'][2])\n",
    "    phd.append(Si_D['S1'][3])\n",
    "    phu.append(Si_D['S1'][4])\n",
    "    pud.append(Si_D['S1'][5])\n",
    "    Ni.append(Si_D['S1'][6])\n",
    "    Nh.append(Si_D['S1'][7])\n",
    "    Nu.append(Si_D['S1'][8])\n",
    "    R0.append(Si_D['S1'][9])\n",
    "    mu.append(Si_D['S1'][10])\n",
    "    N.append(Si_D['S1'][11])\n",
    "    t0.append(Si_D['S1'][12])\n",
    "    I0moins.append(Si_D['S1'][13])\n",
    "    lambda1.append(Si_D['S1'][14])\n",
    "    pat.append(Si_D['ST'][0])\n",
    "    piht.append(Si_D['ST'][1])\n",
    "    piut.append(Si_D['ST'][2])\n",
    "    phdt.append(Si_D['ST'][3])\n",
    "    phut.append(Si_D['ST'][4])\n",
    "    pudt.append(Si_D['ST'][5])\n",
    "    Nit.append(Si_D['ST'][6])\n",
    "    Nht.append(Si_D['ST'][7])\n",
    "    Nut.append(Si_D['ST'][8])\n",
    "    R0t.append(Si_D['ST'][9])\n",
    "    mut.append(Si_D['ST'][10])\n",
    "    Nt.append(Si_D['ST'][11])\n",
    "    t0t.append(Si_D['ST'][12])\n",
    "    I0moinst.append(Si_D['ST'][13])\n",
    "    lambda1t.append(Si_D['ST'][14])"
   ]
  },
  {
   "cell_type": "code",
   "execution_count": 37,
   "metadata": {},
   "outputs": [
    {
     "data": {
      "image/png": "[encoded data removed]",
      "text/plain": [
       "<Figure size 432x288 with 1 Axes>"
      ]
     },
     "metadata": {
      "needs_background": "light"
     },
     "output_type": "display_data"
    }
   ],
   "source": [
    "plt.plot(periode,pa,label='pa')\n",
    "plt.plot(periode,pih,label='pih')\n",
    "plt.plot(periode,piu,label='piu')\n",
    "plt.plot(periode,phd,label='phd')\n",
    "plt.plot(periode,phu,label='phu')\n",
    "plt.plot(periode,pud,label='pud')\n",
    "plt.plot(periode,Ni,label='Ni')\n",
    "plt.plot(periode,Nh,label='Nh')\n",
    "plt.plot(periode,Nu,label='Nu')\n",
    "plt.plot(periode,R0,label='R0')\n",
    "plt.plot(periode,mu,label='mu')\n",
    "plt.plot(periode,N,label='N')\n",
    "plt.plot(periode,t0,label='t0')\n",
    "plt.plot(periode,I0moins,label='I0moins')\n",
    "plt.plot(periode,lambda1,label='lambda1')\n",
    "plt.title('Evolution pour D des indices de premier ordre sur la péride du jeu de données')\n",
    "plt.legend(loc='upper left', fontsize='x-small')\n",
    "plt.show()"
   ]
  },
  {
   "cell_type": "code",
   "execution_count": 38,
   "metadata": {},
   "outputs": [
    {
     "data": {
      "image/png": "[encoded data removed]",
      "text/plain": [
       "<Figure size 432x288 with 1 Axes>"
      ]
     },
     "metadata": {
      "needs_background": "light"
     },
     "output_type": "display_data"
    }
   ],
   "source": [
    "plt.plot(periode,pat,label='pa')\n",
    "plt.plot(periode,piht,label='pih')\n",
    "plt.plot(periode,piut,label='piu')\n",
    "plt.plot(periode,phdt,label='phd')\n",
    "plt.plot(periode,phut,label='phu')\n",
    "plt.plot(periode,pudt,label='pud')\n",
    "plt.plot(periode,Nit,label='Ni')\n",
    "plt.plot(periode,Nht,label='Nh')\n",
    "plt.plot(periode,Nut,label='Nu')\n",
    "plt.plot(periode,R0t,label='R0')\n",
    "plt.plot(periode,mut,label='mu')\n",
    "plt.plot(periode,Nt,label='N')\n",
    "plt.plot(periode,t0t,label='t0')\n",
    "plt.plot(periode,I0moinst,label='I0moins')\n",
    "plt.plot(periode,lambda1t,label='lambda1')\n",
    "plt.title('Evolution pour D des indices totaux sur la péride du jeu de données')\n",
    "plt.legend(loc='upper left', fontsize='x-small')\n",
    "plt.show()"
   ]
  },
  {
   "cell_type": "code",
   "execution_count": 39,
   "metadata": {},
   "outputs": [],
   "source": [
    "pa =[]\n",
    "pih =[]\n",
    "piu =[]\n",
    "phd =[]\n",
    "phu =[]\n",
    "pud =[]\n",
    "Ni =[]\n",
    "Nh =[]\n",
    "Nu =[]\n",
    "R0 =[]\n",
    "mu =[]\n",
    "N =[]\n",
    "t0 =[]\n",
    "I0moins =[]\n",
    "lambda1 =[]\n",
    "pat =[]\n",
    "piht =[]\n",
    "piut =[]\n",
    "phdt =[]\n",
    "phut =[]\n",
    "pudt =[]\n",
    "Nit =[]\n",
    "Nht =[]\n",
    "Nut =[]\n",
    "R0t =[]\n",
    "mut =[]\n",
    "Nt =[]\n",
    "t0t =[]\n",
    "I0moinst =[]\n",
    "lambda1t =[]\n",
    "for i in range(len(RplusH[0])):\n",
    "    r = RplusH[:,i]\n",
    "    Si_R = sobol.analyze(problem,r)\n",
    "    pa.append(Si_R['S1'][0])\n",
    "    pih.append(Si_R['S1'][1])\n",
    "    piu.append(Si_R['S1'][2])\n",
    "    phd.append(Si_R['S1'][3])\n",
    "    phu.append(Si_R['S1'][4])\n",
    "    pud.append(Si_R['S1'][5])\n",
    "    Ni.append(Si_R['S1'][6])\n",
    "    Nh.append(Si_R['S1'][7])\n",
    "    Nu.append(Si_R['S1'][8])\n",
    "    R0.append(Si_R['S1'][9])\n",
    "    mu.append(Si_R['S1'][10])\n",
    "    N.append(Si_R['S1'][11])\n",
    "    t0.append(Si_R['S1'][12])\n",
    "    I0moins.append(Si_R['S1'][13])\n",
    "    lambda1.append(Si_R['S1'][14])\n",
    "    pat.append(Si_R['ST'][0])\n",
    "    piht.append(Si_R['ST'][1])\n",
    "    piut.append(Si_R['ST'][2])\n",
    "    phdt.append(Si_R['ST'][3])\n",
    "    phut.append(Si_R['ST'][4])\n",
    "    pudt.append(Si_R['ST'][5])\n",
    "    Nit.append(Si_R['ST'][6])\n",
    "    Nht.append(Si_R['ST'][7])\n",
    "    Nut.append(Si_R['ST'][8])\n",
    "    R0t.append(Si_R['ST'][9])\n",
    "    mut.append(Si_R['ST'][10])\n",
    "    Nt.append(Si_R['ST'][11])\n",
    "    t0t.append(Si_R['ST'][12])\n",
    "    I0moinst.append(Si_R['ST'][13])\n",
    "    lambda1t.append(Si_R['ST'][14])"
   ]
  },
  {
   "cell_type": "code",
   "execution_count": 40,
   "metadata": {},
   "outputs": [
    {
     "data": {
      "image/png": "[encoded data removed]",
      "text/plain": [
       "<Figure size 432x288 with 1 Axes>"
      ]
     },
     "metadata": {
      "needs_background": "light"
     },
     "output_type": "display_data"
    }
   ],
   "source": [
    "plt.plot(periode,pa,label='pa')\n",
    "plt.plot(periode,pih,label='pih')\n",
    "plt.plot(periode,piu,label='piu')\n",
    "plt.plot(periode,phd,label='phd')\n",
    "plt.plot(periode,phu,label='phu')\n",
    "plt.plot(periode,pud,label='pud')\n",
    "plt.plot(periode,Ni,label='Ni')\n",
    "plt.plot(periode,Nh,label='Nh')\n",
    "plt.plot(periode,Nu,label='Nu')\n",
    "plt.plot(periode,R0,label='R0')\n",
    "plt.plot(periode,mu,label='mu')\n",
    "plt.plot(periode,N,label='N')\n",
    "plt.plot(periode,t0,label='t0')\n",
    "plt.plot(periode,I0moins,label='I0moins')\n",
    "plt.plot(periode,lambda1,label='lambda1')\n",
    "plt.title('Evolution pour RplusH des indices de premier ordre sur la péride du jeu de données')\n",
    "plt.legend(loc='upper left', fontsize='x-small')\n",
    "plt.show()"
   ]
  },
  {
   "cell_type": "code",
   "execution_count": 41,
   "metadata": {},
   "outputs": [
    {
     "data": {
      "image/png": "[encoded data removed]",
      "text/plain": [
       "<Figure size 432x288 with 1 Axes>"
      ]
     },
     "metadata": {
      "needs_background": "light"
     },
     "output_type": "display_data"
    }
   ],
   "source": [
    "plt.plot(periode,pat,label='pa')\n",
    "plt.plot(periode,piht,label='pih')\n",
    "plt.plot(periode,piut,label='piu')\n",
    "plt.plot(periode,phdt,label='phd')\n",
    "plt.plot(periode,phut,label='phu')\n",
    "plt.plot(periode,pudt,label='pud')\n",
    "plt.plot(periode,Nit,label='Ni')\n",
    "plt.plot(periode,Nht,label='Nh')\n",
    "plt.plot(periode,Nut,label='Nu')\n",
    "plt.plot(periode,R0t,label='R0')\n",
    "plt.plot(periode,mut,label='mu')\n",
    "plt.plot(periode,Nt,label='N')\n",
    "plt.plot(periode,t0t,label='t0')\n",
    "plt.plot(periode,I0moinst,label='I0moins')\n",
    "plt.plot(periode,lambda1t,label='lambda1')\n",
    "plt.title('Evolution pour RplusH des indices totaux sur la péride du jeu de données')\n",
    "plt.legend(loc='upper left', fontsize='x-small')\n",
    "plt.show()"
   ]
  },
  {
   "cell_type": "markdown",
   "metadata": {},
   "source": [
    "#### Question 6: "
   ]
  },
  {
   "cell_type": "code",
   "execution_count": 42,
   "metadata": {},
   "outputs": [
    {
     "ename": "FileNotFoundError",
     "evalue": "[Errno 2] No such file or directory: 'donnees-hospitalieres-covid19-18_03-11_05.csv'",
     "output_type": "error",
     "traceback": [
      "\u001b[0;31m---------------------------------------------------------------------------\u001b[0m",
      "\u001b[0;31mFileNotFoundError\u001b[0m                         Traceback (most recent call last)",
      "\u001b[0;32m<ipython-input-42-cef951b6b921>\u001b[0m in \u001b[0;36m<module>\u001b[0;34m\u001b[0m\n\u001b[1;32m      1\u001b[0m \u001b[0;32mimport\u001b[0m \u001b[0mpandas\u001b[0m \u001b[0;32mas\u001b[0m \u001b[0mpd\u001b[0m\u001b[0;34m\u001b[0m\u001b[0;34m\u001b[0m\u001b[0m\n\u001b[0;32m----> 2\u001b[0;31m \u001b[0mdata\u001b[0m \u001b[0;34m=\u001b[0m \u001b[0mpd\u001b[0m\u001b[0;34m.\u001b[0m\u001b[0mread_csv\u001b[0m\u001b[0;34m(\u001b[0m\u001b[0;34m'donnees-hospitalieres-covid19-18_03-11_05.csv'\u001b[0m\u001b[0;34m,\u001b[0m\u001b[0msep\u001b[0m\u001b[0;34m=\u001b[0m\u001b[0;34m';'\u001b[0m\u001b[0;34m,\u001b[0m\u001b[0mencoding\u001b[0m\u001b[0;34m=\u001b[0m\u001b[0;34m'unicode_escape'\u001b[0m\u001b[0;34m)\u001b[0m\u001b[0;34m\u001b[0m\u001b[0;34m\u001b[0m\u001b[0m\n\u001b[0m\u001b[1;32m      3\u001b[0m \u001b[0mdf\u001b[0m \u001b[0;34m=\u001b[0m \u001b[0mdata\u001b[0m\u001b[0;34m.\u001b[0m\u001b[0mcopy\u001b[0m\u001b[0;34m(\u001b[0m\u001b[0;34m)\u001b[0m\u001b[0;34m\u001b[0m\u001b[0;34m\u001b[0m\u001b[0m\n\u001b[1;32m      4\u001b[0m \u001b[0mdf\u001b[0m\u001b[0;34m.\u001b[0m\u001b[0mdrop\u001b[0m\u001b[0;34m(\u001b[0m\u001b[0;36m55\u001b[0m\u001b[0;34m,\u001b[0m\u001b[0;36m0\u001b[0m\u001b[0;34m,\u001b[0m\u001b[0minplace\u001b[0m\u001b[0;34m=\u001b[0m\u001b[0;32mTrue\u001b[0m\u001b[0;34m)\u001b[0m\u001b[0;34m\u001b[0m\u001b[0;34m\u001b[0m\u001b[0m\n\u001b[1;32m      5\u001b[0m \u001b[0mplt\u001b[0m\u001b[0;34m.\u001b[0m\u001b[0mplot\u001b[0m\u001b[0;34m(\u001b[0m\u001b[0mdf\u001b[0m\u001b[0;34m[\u001b[0m\u001b[0;34m'Jour'\u001b[0m\u001b[0;34m]\u001b[0m\u001b[0;34m,\u001b[0m\u001b[0mdf\u001b[0m\u001b[0;34m[\u001b[0m\u001b[0;34m'Somme de hosp'\u001b[0m\u001b[0;34m]\u001b[0m\u001b[0;34m,\u001b[0m\u001b[0mlabel\u001b[0m\u001b[0;34m=\u001b[0m\u001b[0;34m'hosp'\u001b[0m\u001b[0;34m)\u001b[0m\u001b[0;34m\u001b[0m\u001b[0;34m\u001b[0m\u001b[0m\n",
      "\u001b[0;32m~/opt/anaconda3/lib/python3.8/site-packages/pandas/io/parsers.py\u001b[0m in \u001b[0;36mread_csv\u001b[0;34m(filepath_or_buffer, sep, delimiter, header, names, index_col, usecols, squeeze, prefix, mangle_dupe_cols, dtype, engine, converters, true_values, false_values, skipinitialspace, skiprows, skipfooter, nrows, na_values, keep_default_na, na_filter, verbose, skip_blank_lines, parse_dates, infer_datetime_format, keep_date_col, date_parser, dayfirst, cache_dates, iterator, chunksize, compression, thousands, decimal, lineterminator, quotechar, quoting, doublequote, escapechar, comment, encoding, dialect, error_bad_lines, warn_bad_lines, delim_whitespace, low_memory, memory_map, float_precision)\u001b[0m\n\u001b[1;32m    684\u001b[0m     )\n\u001b[1;32m    685\u001b[0m \u001b[0;34m\u001b[0m\u001b[0m\n\u001b[0;32m--> 686\u001b[0;31m     \u001b[0;32mreturn\u001b[0m \u001b[0m_read\u001b[0m\u001b[0;34m(\u001b[0m\u001b[0mfilepath_or_buffer\u001b[0m\u001b[0;34m,\u001b[0m \u001b[0mkwds\u001b[0m\u001b[0;34m)\u001b[0m\u001b[0;34m\u001b[0m\u001b[0;34m\u001b[0m\u001b[0m\n\u001b[0m\u001b[1;32m    687\u001b[0m \u001b[0;34m\u001b[0m\u001b[0m\n\u001b[1;32m    688\u001b[0m \u001b[0;34m\u001b[0m\u001b[0m\n",
      "\u001b[0;32m~/opt/anaconda3/lib/python3.8/site-packages/pandas/io/parsers.py\u001b[0m in \u001b[0;36m_read\u001b[0;34m(filepath_or_buffer, kwds)\u001b[0m\n\u001b[1;32m    450\u001b[0m \u001b[0;34m\u001b[0m\u001b[0m\n\u001b[1;32m    451\u001b[0m     \u001b[0;31m# Create the parser.\u001b[0m\u001b[0;34m\u001b[0m\u001b[0;34m\u001b[0m\u001b[0;34m\u001b[0m\u001b[0m\n\u001b[0;32m--> 452\u001b[0;31m     \u001b[0mparser\u001b[0m \u001b[0;34m=\u001b[0m \u001b[0mTextFileReader\u001b[0m\u001b[0;34m(\u001b[0m\u001b[0mfp_or_buf\u001b[0m\u001b[0;34m,\u001b[0m \u001b[0;34m**\u001b[0m\u001b[0mkwds\u001b[0m\u001b[0;34m)\u001b[0m\u001b[0;34m\u001b[0m\u001b[0;34m\u001b[0m\u001b[0m\n\u001b[0m\u001b[1;32m    453\u001b[0m \u001b[0;34m\u001b[0m\u001b[0m\n\u001b[1;32m    454\u001b[0m     \u001b[0;32mif\u001b[0m \u001b[0mchunksize\u001b[0m \u001b[0;32mor\u001b[0m \u001b[0miterator\u001b[0m\u001b[0;34m:\u001b[0m\u001b[0;34m\u001b[0m\u001b[0;34m\u001b[0m\u001b[0m\n",
      "\u001b[0;32m~/opt/anaconda3/lib/python3.8/site-packages/pandas/io/parsers.py\u001b[0m in \u001b[0;36m__init__\u001b[0;34m(self, f, engine, **kwds)\u001b[0m\n\u001b[1;32m    944\u001b[0m             \u001b[0mself\u001b[0m\u001b[0;34m.\u001b[0m\u001b[0moptions\u001b[0m\u001b[0;34m[\u001b[0m\u001b[0;34m\"has_index_names\"\u001b[0m\u001b[0;34m]\u001b[0m \u001b[0;34m=\u001b[0m \u001b[0mkwds\u001b[0m\u001b[0;34m[\u001b[0m\u001b[0;34m\"has_index_names\"\u001b[0m\u001b[0;34m]\u001b[0m\u001b[0;34m\u001b[0m\u001b[0;34m\u001b[0m\u001b[0m\n\u001b[1;32m    945\u001b[0m \u001b[0;34m\u001b[0m\u001b[0m\n\u001b[0;32m--> 946\u001b[0;31m         \u001b[0mself\u001b[0m\u001b[0;34m.\u001b[0m\u001b[0m_make_engine\u001b[0m\u001b[0;34m(\u001b[0m\u001b[0mself\u001b[0m\u001b[0;34m.\u001b[0m\u001b[0mengine\u001b[0m\u001b[0;34m)\u001b[0m\u001b[0;34m\u001b[0m\u001b[0;34m\u001b[0m\u001b[0m\n\u001b[0m\u001b[1;32m    947\u001b[0m \u001b[0;34m\u001b[0m\u001b[0m\n\u001b[1;32m    948\u001b[0m     \u001b[0;32mdef\u001b[0m \u001b[0mclose\u001b[0m\u001b[0;34m(\u001b[0m\u001b[0mself\u001b[0m\u001b[0;34m)\u001b[0m\u001b[0;34m:\u001b[0m\u001b[0;34m\u001b[0m\u001b[0;34m\u001b[0m\u001b[0m\n",
      "\u001b[0;32m~/opt/anaconda3/lib/python3.8/site-packages/pandas/io/parsers.py\u001b[0m in \u001b[0;36m_make_engine\u001b[0;34m(self, engine)\u001b[0m\n\u001b[1;32m   1176\u001b[0m     \u001b[0;32mdef\u001b[0m \u001b[0m_make_engine\u001b[0m\u001b[0;34m(\u001b[0m\u001b[0mself\u001b[0m\u001b[0;34m,\u001b[0m \u001b[0mengine\u001b[0m\u001b[0;34m=\u001b[0m\u001b[0;34m\"c\"\u001b[0m\u001b[0;34m)\u001b[0m\u001b[0;34m:\u001b[0m\u001b[0;34m\u001b[0m\u001b[0;34m\u001b[0m\u001b[0m\n\u001b[1;32m   1177\u001b[0m         \u001b[0;32mif\u001b[0m \u001b[0mengine\u001b[0m \u001b[0;34m==\u001b[0m \u001b[0;34m\"c\"\u001b[0m\u001b[0;34m:\u001b[0m\u001b[0;34m\u001b[0m\u001b[0;34m\u001b[0m\u001b[0m\n\u001b[0;32m-> 1178\u001b[0;31m             \u001b[0mself\u001b[0m\u001b[0;34m.\u001b[0m\u001b[0m_engine\u001b[0m \u001b[0;34m=\u001b[0m \u001b[0mCParserWrapper\u001b[0m\u001b[0;34m(\u001b[0m\u001b[0mself\u001b[0m\u001b[0;34m.\u001b[0m\u001b[0mf\u001b[0m\u001b[0;34m,\u001b[0m \u001b[0;34m**\u001b[0m\u001b[0mself\u001b[0m\u001b[0;34m.\u001b[0m\u001b[0moptions\u001b[0m\u001b[0;34m)\u001b[0m\u001b[0;34m\u001b[0m\u001b[0;34m\u001b[0m\u001b[0m\n\u001b[0m\u001b[1;32m   1179\u001b[0m         \u001b[0;32melse\u001b[0m\u001b[0;34m:\u001b[0m\u001b[0;34m\u001b[0m\u001b[0;34m\u001b[0m\u001b[0m\n\u001b[1;32m   1180\u001b[0m             \u001b[0;32mif\u001b[0m \u001b[0mengine\u001b[0m \u001b[0;34m==\u001b[0m \u001b[0;34m\"python\"\u001b[0m\u001b[0;34m:\u001b[0m\u001b[0;34m\u001b[0m\u001b[0;34m\u001b[0m\u001b[0m\n",
      "\u001b[0;32m~/opt/anaconda3/lib/python3.8/site-packages/pandas/io/parsers.py\u001b[0m in \u001b[0;36m__init__\u001b[0;34m(self, src, **kwds)\u001b[0m\n\u001b[1;32m   1989\u001b[0m         \u001b[0;32mif\u001b[0m \u001b[0mkwds\u001b[0m\u001b[0;34m.\u001b[0m\u001b[0mget\u001b[0m\u001b[0;34m(\u001b[0m\u001b[0;34m\"compression\"\u001b[0m\u001b[0;34m)\u001b[0m \u001b[0;32mis\u001b[0m \u001b[0;32mNone\u001b[0m \u001b[0;32mand\u001b[0m \u001b[0mencoding\u001b[0m\u001b[0;34m:\u001b[0m\u001b[0;34m\u001b[0m\u001b[0;34m\u001b[0m\u001b[0m\n\u001b[1;32m   1990\u001b[0m             \u001b[0;32mif\u001b[0m \u001b[0misinstance\u001b[0m\u001b[0;34m(\u001b[0m\u001b[0msrc\u001b[0m\u001b[0;34m,\u001b[0m \u001b[0mstr\u001b[0m\u001b[0;34m)\u001b[0m\u001b[0;34m:\u001b[0m\u001b[0;34m\u001b[0m\u001b[0;34m\u001b[0m\u001b[0m\n\u001b[0;32m-> 1991\u001b[0;31m                 \u001b[0msrc\u001b[0m \u001b[0;34m=\u001b[0m \u001b[0mopen\u001b[0m\u001b[0;34m(\u001b[0m\u001b[0msrc\u001b[0m\u001b[0;34m,\u001b[0m \u001b[0;34m\"rb\"\u001b[0m\u001b[0;34m)\u001b[0m\u001b[0;34m\u001b[0m\u001b[0;34m\u001b[0m\u001b[0m\n\u001b[0m\u001b[1;32m   1992\u001b[0m                 \u001b[0mself\u001b[0m\u001b[0;34m.\u001b[0m\u001b[0mhandles\u001b[0m\u001b[0;34m.\u001b[0m\u001b[0mappend\u001b[0m\u001b[0;34m(\u001b[0m\u001b[0msrc\u001b[0m\u001b[0;34m)\u001b[0m\u001b[0;34m\u001b[0m\u001b[0;34m\u001b[0m\u001b[0m\n\u001b[1;32m   1993\u001b[0m \u001b[0;34m\u001b[0m\u001b[0m\n",
      "\u001b[0;31mFileNotFoundError\u001b[0m: [Errno 2] No such file or directory: 'donnees-hospitalieres-covid19-18_03-11_05.csv'"
     ]
    }
   ],
   "source": [
    "import pandas as pd\n",
    "data = pd.read_csv('donnees-hospitalieres-covid19-18_03-11_05.csv',sep=';',encoding='unicode_escape')\n",
    "df = data.copy()\n",
    "df.drop(55,0,inplace=True)\n",
    "plt.plot(df['Jour'],df['Somme de hosp'],label='hosp')\n",
    "plt.plot(df['Jour'],df['Somme de rea'],label='rea')\n",
    "plt.plot(df['Jour'],df['Somme de rad'],label='gueri apres hosp')\n",
    "plt.plot(df['Jour'],df['Somme de dc'],label='dc')\n",
    "plt.legend()\n",
    "plt.show()"
   ]
  },
  {
   "cell_type": "code",
   "execution_count": null,
   "metadata": {},
   "outputs": [],
   "source": [
    "data = pd.read_csv('open_stats_coronavirus.csv',sep=';')\n",
    "dfm = data.copy()\n",
    "dfm.drop('code',1,inplace=True)\n",
    "dfm.drop('nom',1,inplace=True)\n",
    "dfm.drop('source',1,inplace=True)\n",
    "dfm"
   ]
  },
  {
   "cell_type": "code",
   "execution_count": null,
   "metadata": {},
   "outputs": [],
   "source": [
    "df['jour'] = dfm['date']\n",
    "df.drop('Jour',1,inplace=True)\n",
    "for i,x in enumerate(df['jour']):\n",
    "     df['jour'][i] = np.datetime64(x).astype('float')\n",
    "df['cas'] = dfm['cas']\n",
    "for i in range(1,len(df['cas'])):\n",
    "    df['cas'][len(df['cas'])-i] = df['cas'][len(df['cas'])-i] - df['cas'][len(df['cas'])-i-1]\n",
    "df['cas'][0] = df['cas'][1]\n",
    "df"
   ]
  },
  {
   "cell_type": "code",
   "execution_count": null,
   "metadata": {},
   "outputs": [],
   "source": [
    "plt.plot(df['jour'],df['Somme de hosp'],label='hosp')\n",
    "plt.plot(df['jour'],df['Somme de rea'],label='rea')\n",
    "plt.plot(df['jour'],df['Somme de rad'],label='gueri apres hosp')\n",
    "plt.plot(df['jour'],df['Somme de dc'],label='dc')\n",
    "plt.plot(df['jour'],df['cas'],label='nouveau cas quotidien')\n",
    "plt.legend()\n",
    "plt.show()"
   ]
  },
  {
   "cell_type": "markdown",
   "metadata": {},
   "source": [
    "Question 7)"
   ]
  },
  {
   "cell_type": "code",
   "execution_count": null,
   "metadata": {},
   "outputs": [],
   "source": [
    "dfc = df.copy()\n",
    "dfc['Somme de hosp'].astype('float')\n",
    "dfc['Somme de rea'].astype('float')\n",
    "dfc['Somme de rad'].astype('float')\n",
    "dfc['Somme de dc'].astype('float')\n",
    "dfc['cas'].astype('float')\n",
    "dfc"
   ]
  },
  {
   "cell_type": "code",
   "execution_count": null,
   "metadata": {},
   "outputs": [],
   "source": [
    "def Para_entree_vector() :\n",
    "    pa = rd.random()*(0.9 - 0.4)+ 0.4\n",
    "    pih = rd.random()*(0.2 - 0.05)+ 0.05\n",
    "    piu = rd.random()*(0.04 - 0.01)+ 0.01\n",
    "    phd = rd.random()*(0.2 - 0.1)+ 0.1\n",
    "    phu = rd.random()*(0.2 - 0.1)+ 0.1\n",
    "    pud = rd.random()*(0.4 - 0.2)+ 0.2\n",
    "    Ni = rd.random()*(12 - 8)+ 8\n",
    "    Nh = rd.random()*(25 - 15)+ 15\n",
    "    Nu = rd.random()*(20 - 10)+ 10\n",
    "    R0 = rd.random()*(3.4 - 2.9)+ 2.9\n",
    "    mu = rd.random()*(0.08 - 0.01)+ 0.01\n",
    "    N = (rd.random()*(np.datetime64('2020-03-15')-np.datetime64('2020-02-24'))+np.datetime64('2020-02-24')).astype('float')\n",
    "    t0 = (rd.random()*(np.datetime64('2020-02-24')-np.datetime64('2020-01-25'))+np.datetime64('2020-01-25')).astype('float')\n",
    "    I0moins = rd.random()*(25 - 15)+ 1\n",
    "    lambda1 = rd.random()*(10**(-3)-10**(-4))+10**(-4)\n",
    "    \n",
    "    return np.array([pa,pih,piu,phd,phu,pud,Ni,Nh,Nu,R0,mu,N,t0,I0moins,lambda1])"
   ]
  },
  {
   "cell_type": "code",
   "execution_count": null,
   "metadata": {},
   "outputs": [],
   "source": [
    "x0 = Para_entree_vector()"
   ]
  },
  {
   "cell_type": "code",
   "execution_count": null,
   "metadata": {},
   "outputs": [],
   "source": [
    "x0[12] =x0[12].astype('float')\n",
    "x0[11] =x0[11].astype('float')\n",
    "pa,pih,piu,phd,phu,pud,Ni,Nh,Nu,R0,mu,N,t0,I0moins,lambda1 = x0[0],x0[1],x0[2],x0[3],x0[4],x0[5],x0[6],x0[7],x0[8],x0[9],x0[10],x0[11],x0[12],x0[13],x0[14]"
   ]
  },
  {
   "cell_type": "code",
   "execution_count": null,
   "metadata": {},
   "outputs": [],
   "source": [
    "t0 = x0[12]\n",
    "print(t0)\n",
    "index = int(np.datetime64('2020-03-18').astype('float')-t0)\n",
    "index"
   ]
  },
  {
   "cell_type": "code",
   "execution_count": null,
   "metadata": {},
   "outputs": [],
   "source": [
    "def Para_systeme_vector(x):\n",
    "    pa,pih,piu,phd,phu,pud,Ni,Nh,Nu,R0,mu,N,t0,I0moins,lambda1 = x[0],x[1],x[2],x[3],x[4],x[5],x[6],x[7],x[8],x[9],x[10],x[11],x[12],x[13],x[14]\n",
    "    gammaIR = (pa+(1-pa)*(1-pih-piu))/Ni\n",
    "    gammaIH = (1-pa)*pih/Ni\n",
    "    gammaIU = (1-pa)*piu/Ni\n",
    "    gammaHD = phd/Nh\n",
    "    gammaHU = phu/Nh\n",
    "    gammaHR = (1-phd-phu)/Nh\n",
    "    gammaUD = pud/Nu\n",
    "    gammaUR = (1-pud)/Nu\n",
    "    tau0 = R0*(lambda1+gammaIR+gammaIH+gammaIU)/S0\n",
    "    return np.array([I0moins,gammaIR,gammaIH,gammaIU,gammaHD,gammaHU,gammaHR,gammaUD,gammaUR,tau0])"
   ]
  },
  {
   "cell_type": "code",
   "execution_count": null,
   "metadata": {},
   "outputs": [],
   "source": [
    "def Simulation_epidemie_vector(x):\n",
    "    X = [[0 for i in range(10)]] #X représente l'ensemble des vecteurs qui regroupent les 10 compartiments du modèle épidémique\n",
    "    I0moins,gammaIR,gammaIH,gammaIU,gammaHD,gammaHU,gammaHR,gammaUD,gammaUR,tau0 = x[0],x[1],x[2],x[3],x[4],x[5],x[6],x[7],x[8],x[9]\n",
    "    #On initialise notre modèle\n",
    "    X[0][0] = S0 \n",
    "    X[0][1] = I0moins\n",
    "\n",
    "    #On utilise une première approche approximée à l'ordre 1 pour résoudre le système d'équation différentielle\n",
    "    periode = np.arange(t0, np.datetime64('2020-08-01').astype('float'))\n",
    "    for n in periode[:-1]:     \n",
    "        Xnew = [0 for i in range(10)]\n",
    "        Xold = X[-1]\n",
    "        Xnew[0] = Xold[0] - tau(n)*Xold[0]*Xold[1]\n",
    "        Xnew[1] = (1-lambda1)*Xold[1] + tau(n.astype('float'))*Xold[0]*Xold[1] - (gammaIR+gammaIH+gammaIU)*Xold[1]\n",
    "        Xnew[2] = Xold[2] + lambda1*Xold[1] - (gammaIR+gammaIH+gammaIU)*Xold[2]\n",
    "        Xnew[3] = (1-lambda2)*Xold[3] + gammaIR*Xold[1]\n",
    "        Xnew[4] = Xold[4] + gammaIR*Xold[2] +lambda2*Xold[3]\n",
    "        Xnew[5] = (1-(gammaHR+gammaHD+gammaHU))*Xold[5] + gammaIH*(Xold[1]+Xold[2])\n",
    "        Xnew[6] = (1-(gammaUR+gammaUD))*Xold[6] + gammaIU*(Xold[1]+Xold[2]) + gammaHU*Xold[5]\n",
    "        Xnew[7] = Xold[7] + gammaHR*Xold[5] + gammaUR*Xold[6]\n",
    "        Xnew[8] = Xold[8] + gammaUD*Xold[6] + gammaHD*Xold[5]\n",
    "        Xnew[9] = (lambda1+gammaIH+gammaIU)*Xold[1]\n",
    "        X.append(Xnew)\n",
    "    return X,periode"
   ]
  },
  {
   "cell_type": "code",
   "execution_count": null,
   "metadata": {},
   "outputs": [],
   "source": [
    "def Compartiments_epidemie_vector(X):\n",
    "    S = np.array([x[0] for x in X[:]])\n",
    "    Imoins = np.array([x[1] for x in X[:]])\n",
    "    Iplus = np.array([x[2] for x in X[:]])\n",
    "    Rmoins = np.array([x[3] for x in X[:]])\n",
    "    RplusI = np.array([x[4] for x in X[:]])\n",
    "    H = np.array([x[5] for x in X[:]])\n",
    "    U = np.array([x[6] for x in X[:]])\n",
    "    RplusH = np.array([x[7] for x in X[:]])\n",
    "    D = np.array([x[8] for x in X[:]])\n",
    "    DR = np.array([x[9] for x in X[:]])\n",
    "    return S,Imoins,Iplus,Rmoins,RplusI,H,U,RplusH,D,DR"
   ]
  },
  {
   "cell_type": "code",
   "execution_count": null,
   "metadata": {},
   "outputs": [],
   "source": [
    "c = df['cas'].to_numpy()\n",
    "c"
   ]
  },
  {
   "cell_type": "code",
   "execution_count": null,
   "metadata": {},
   "outputs": [],
   "source": [
    "n = len(df['jour'])\n",
    "n"
   ]
  },
  {
   "cell_type": "code",
   "execution_count": null,
   "metadata": {},
   "outputs": [],
   "source": [
    "def tau(n):\n",
    "    return tau0*np.exp(-mu*np.maximum((n-N),0))"
   ]
  },
  {
   "cell_type": "code",
   "execution_count": null,
   "metadata": {},
   "outputs": [],
   "source": [
    "def eps(x):\n",
    "    a , p = Simulation_epidemie_vector(Para_systeme_vector(x))\n",
    "    S,Imoins,Iplus,Rmoins,RplusI,H,U,RplusH,D,DR = Compartiments_epidemie_vector(a)\n",
    "    DR = DR[index:index+n]\n",
    "    H = H[index:index+n]\n",
    "    U = U[index:index+n]\n",
    "    D = D[index:index+n]\n",
    "    R = RplusH[index:index+n]\n",
    "    fdr = (DR-df['cas'])/np.sqrt(DR)\n",
    "    fh = (H-df['Somme de hosp'].astype('float').to_numpy())/np.sqrt(H)\n",
    "    fu = (U-df['Somme de rea'].astype('float').to_numpy())/np.sqrt(U)\n",
    "    fd = (D-df['Somme de dc'].astype('float').to_numpy())/np.sqrt(D)\n",
    "    fr = (R-df['Somme de rad'].astype('float').to_numpy())/np.sqrt(R)\n",
    "    return np.sum(fdr**2+fh**2+fu**2+fd**2+fr**2)"
   ]
  },
  {
   "cell_type": "code",
   "execution_count": null,
   "metadata": {},
   "outputs": [],
   "source": [
    "eps(x0)"
   ]
  },
  {
   "cell_type": "code",
   "execution_count": null,
   "metadata": {},
   "outputs": [],
   "source": [
    "from scipy.optimize import minimize\n",
    "bnds = ((0.4, 0.9), (0.05, 0.2),(0.01,0.04),(0.1, 0.2), (0.1, 0.2),(0.2,0.4),(8, 12), (15,25),(10,20),(2.9, 3.4), (0.01, 0.08),(np.datetime64('2020-02-24').astype('int'),np.datetime64('2020-03-15').astype('int')),(np.datetime64('2020-01-25').astype('int'),np.datetime64('2020-02-24').astype('int')), (1, 100),(10**(-4),10**(-3)))\n",
    "x_star = minimize(eps,x0, bounds=bnds)\n",
    "\n",
    "x_star"
   ]
  },
  {
   "cell_type": "code",
   "execution_count": null,
   "metadata": {},
   "outputs": [],
   "source": [
    "xbest = x_star.__getitem__('x')\n",
    "xbest\n",
    "\n",
    "#Simulation épidemie\n",
    "X,periode = Simulation_epidemie_vector(Para_systeme_vector(xbest))\n",
    "S,Imoins,Iplus,Rmoins,RplusI,H,U,RplusH,D,DR=Compartiments_epidemie_vector(X)\n",
    "\n",
    "#Représentation de la vague épidémique\n",
    "plt.plot(periode,D,label=\"Individus décédés\")\n",
    "plt.plot(periode,H,label=\"Individus à l'hopital\")\n",
    "plt.plot(periode,U,label=\"Individus en soins intensifs\")\n",
    "plt.xlabel(\"Dates de la première vague de l'épidémie\")\n",
    "plt.ylabel(\"Nombre de patients\")\n",
    "plt.title(\"Evolution de l'épidémie\")\n",
    "plt.legend(loc='upper center', bbox_to_anchor=(0.5, -0.15), ncol=2, fancybox=True, shadow=True)"
   ]
  },
  {
   "cell_type": "markdown",
   "metadata": {},
   "source": [
    "#### Question 8\n",
    "\n",
    "Pour obtenir les valeurs $\\sigma^*$ qui maximisent la vraisemblance, on annule les dérivées partielles $\\frac{\\partial{\\ln(p(data/x,\\sigma))}}{\\partial{\\sigma_C}}$ , pour $C \\in \\{DR,H,U,D,R\\}$.\n",
    "\n",
    "Pour $C=DR$, $\\frac{\\partial{\\ln(p(data/x,\\sigma))}}{\\partial{\\sigma_{DR}}} = \\frac{-n_{DR}}{\\sigma_{DR}} + \\overset{n_{DR}}{\\underset{i=1}{\\sum}}\\frac{f_{DR}(x,s_i)^2}{\\sigma_{DR}^3}$,\n",
    "on en déduit alors ${\\sigma^*_{DR}}^2=\\sum_i{f_{DR}(x,s_i)^2/n_{DR}}$\n",
    "\n",
    "Pour $C \\in \\{H,U,D,R\\}$ on obtient par la même méthode ${\\sigma^*_{C}}^2=\\sum_i{f_{C}(x,t_i)^2/n_{C}}$"
   ]
  },
  {
   "cell_type": "markdown",
   "metadata": {},
   "source": [
    "#### Question 9\n",
    "\n",
    "Dans l'approche plug-in, on fixe les paramètres $\\sigma$ aux valeurs $\\sigma^*$ maximisant la vraisemblance et calculées précédemment. \n",
    "On applique alors le théorème de Bayes et on obtient une expression implicite de la loi a posteriori des paramètres: \n",
    "\n",
    "$\\mathbb{P}(x/data)=\\frac{\\mathbb{P}(x,data)}{\\mathbb{P}(data)} = \\frac{\\mathbb{P}(data/x,\\sigma^*)\\times \\mathbb{P_0}(x)}{\\mathbb{P}(data)}$, avec $\\mathbb{P_0}$ loi a priori du paramètre $x \\in \\mathbb{R}^{15}$ et $\\mathbb{P}(data)=\\int_x{\\mathbb{P}(data/x,\\sigma^*)\\times \\mathbb{P_0}(x) \\times dx}$, une constante de normalisation implicite.\n",
    "\n",
    "Dans le cas full-bayésien, on suit la même méthode mais les $\\sigma$ suivent une loi non-informative de Jeffreys, et on obtient le même type d'expression de la loi a posteriori."
   ]
  },
  {
   "cell_type": "code",
   "execution_count": null,
   "metadata": {},
   "outputs": [],
   "source": []
  }
 ],
 "metadata": {
  "kernelspec": {
   "display_name": "Python 3",
   "language": "python",
   "name": "python3"
  },
  "language_info": {
   "codemirror_mode": {
    "name": "ipython",
    "version": 3
   },
   "file_extension": ".py",
   "mimetype": "text/x-python",
   "name": "python",
   "nbconvert_exporter": "python",
   "pygments_lexer": "ipython3",
   "version": "3.8.5"
  }
 },
 "nbformat": 4,
 "nbformat_minor": 4
}
